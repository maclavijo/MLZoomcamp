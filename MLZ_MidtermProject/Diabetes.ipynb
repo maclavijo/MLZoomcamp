{
 "cells": [
  {
   "cell_type": "code",
   "execution_count": 68,
   "id": "d48f96fa",
   "metadata": {},
   "outputs": [],
   "source": [
    "import warnings\n",
    "warnings.filterwarnings(\"ignore\")\n",
    "\n",
    "import pandas as pd\n",
    "import numpy as np\n",
    "import seaborn as sns\n",
    "from IPython.display import display\n",
    "import matplotlib.pyplot as plt\n",
    "\n",
    "from sklearn.model_selection import train_test_split\n",
    "from sklearn.model_selection import RepeatedStratifiedKFold\n",
    "from sklearn.model_selection import cross_validate\n",
    "\n",
    "\n",
    "from sklearn.tree import DecisionTreeClassifier\n",
    "from sklearn.linear_model import LogisticRegression\n",
    "from sklearn.pipeline import make_pipeline\n",
    "from sklearn.metrics import roc_auc_score, mean_squared_error\n",
    "from sklearn.preprocessing import OneHotEncoder, StandardScaler\n",
    "\n",
    "from sklearn.metrics import confusion_matrix, ConfusionMatrixDisplay, classification_report\n",
    "from imblearn.metrics import classification_report_imbalanced\n",
    "from imblearn.pipeline import Pipeline\n",
    "\n",
    "from sklearn.ensemble import RandomForestClassifier\n",
    "\n",
    "import xgboost as xgb\n",
    "from imblearn.under_sampling import NearMiss"
   ]
  },
  {
   "cell_type": "markdown",
   "id": "77f2cb00",
   "metadata": {},
   "source": [
    "### Read unbalanced data (Multiclass)"
   ]
  },
  {
   "cell_type": "code",
   "execution_count": null,
   "id": "93f28e86",
   "metadata": {},
   "outputs": [],
   "source": [
    "file = 'Datasets/diabetes_012_health_indicators_BRFSS2015.csv'\n",
    "df = pd.read_csv(file)\n",
    "df"
   ]
  },
  {
   "cell_type": "code",
   "execution_count": null,
   "id": "dd1333ae",
   "metadata": {},
   "outputs": [],
   "source": [
    "df.columns = df.columns.str.lower().str.replace('_012','')"
   ]
  },
  {
   "cell_type": "code",
   "execution_count": null,
   "id": "a187c2b7",
   "metadata": {},
   "outputs": [],
   "source": [
    "df.columns"
   ]
  },
  {
   "cell_type": "code",
   "execution_count": null,
   "id": "7f51a35d",
   "metadata": {},
   "outputs": [],
   "source": [
    "df.info()"
   ]
  },
  {
   "cell_type": "markdown",
   "id": "f7c813d6",
   "metadata": {},
   "source": [
    "### DecisionTree Classifier"
   ]
  },
  {
   "cell_type": "markdown",
   "id": "d5035606",
   "metadata": {},
   "source": [
    "### Multiclass Imbalanced data - Manually balanced"
   ]
  },
  {
   "cell_type": "code",
   "execution_count": null,
   "id": "b4779628",
   "metadata": {},
   "outputs": [],
   "source": [
    "def getRandomDF(df, value, n, state):\n",
    "    return df[df.diabetes==value].sample(n=n, random_state=state)"
   ]
  },
  {
   "cell_type": "code",
   "execution_count": null,
   "id": "fb40a569",
   "metadata": {},
   "outputs": [],
   "source": [
    "dfs = {}\n",
    "size = df.diabetes.value_counts()[1.0]\n",
    "print(f'Size: {size}')\n",
    "\n",
    "# Data for diabetes == 1\n",
    "df1 = df[df.diabetes==1].sample(n=size)\n",
    "\n",
    "# Get 10 random balanced dataframes. \n",
    "# The most imbalanced class (1) determines the total number of samples 4,361 * 3 = 13,893\n",
    "for i in range(0,10):\n",
    "    df0 = getRandomDF(df, 0, size, i)\n",
    "    #df2 = getRandomDF(df, 2, size, i)\n",
    "    dfs[i] = pd.concat([df0, df1])"
   ]
  },
  {
   "cell_type": "markdown",
   "id": "d65e6957",
   "metadata": {},
   "source": [
    "#### List of models"
   ]
  },
  {
   "cell_type": "code",
   "execution_count": null,
   "id": "3e96bd6e",
   "metadata": {},
   "outputs": [],
   "source": [
    "models = [DecisionTreeClassifier(),\n",
    "         RandomForestClassifier()]"
   ]
  },
  {
   "cell_type": "code",
   "execution_count": null,
   "id": "b7fd8480",
   "metadata": {
    "scrolled": true
   },
   "outputs": [],
   "source": [
    "for i,j in dfs.items():\n",
    "    model = make_pipeline(DecisionTreeClassifier(max_depth=10))\n",
    "    \n",
    "    target = j.diabetes\n",
    "    data = j.drop(columns=['diabetes'])\n",
    "    \n",
    "    dfTrainFull, dfTest, yTrainFull, yTest = train_test_split(data, target, test_size=0.2, random_state=i)\n",
    "    dfTrain, dfVal, yTrain, yVal = train_test_split(data, target, test_size=0.25, random_state=i)\n",
    "    model.fit(dfTrain, yTrain)\n",
    "    #yValPred = model.predict_proba(dfVal)[:,1]\n",
    "    yValPred = model.predict(dfVal)#[:,1]\n",
    "    #yValPred = np.argmax(resdfVal, axis=1)\n",
    "    print(f'Val prediction: {yValPred}')\n",
    "    print(f'Val RMSE: {mean_squared_error(yVal, yValPred,squared=False)}')\n",
    "    print(f'Val AUC: {roc_auc_score(yVal,yValPred)}')\n",
    "    \n",
    "    yTestPred = model.predict(dfTest)#[:,1]\n",
    "    #yValPred = np.argmax(resdfVal, axis=1)\n",
    "    print(f'Test prediction: {yTestPred}')\n",
    "    print(f'Test RMSE: {mean_squared_error(yTest, yTestPred,squared=False)}')\n",
    "    print(f'Test AUC: {roc_auc_score(yTest, yTestPred)}')\n",
    "\n",
    "    #yTrainPred = model.predict_proba(dfTrain)[:,1]\n",
    "    yTrainPred = model.predict(dfTrain)#[:,1]\n",
    "    #yTrainPred = np.argmax(resdfValPred, axis=1)\n",
    "    print(f'Train prediction: {yTrainPred}')\n",
    "    print(f'Train RMSE: {mean_squared_error(yTrain, yTrainPred,squared=False)}')\n",
    "    print(f'Train AUC: {roc_auc_score(yTrain,yTrainPred)}')\n",
    "    \n",
    "    cm = confusion_matrix(yVal, yValPred)\n",
    "    cmprob = np.round(100 * cm / len(yVal), 1)\n",
    "    cm_display = ConfusionMatrixDisplay(cm, display_labels=['0', '1']).plot()\n",
    "    cm_display = ConfusionMatrixDisplay(cmprob, display_labels=['0', '1']).plot()\n",
    "    \n",
    "    print(classification_report(yVal, yValPred))\n",
    "    print(classification_report_imbalanced(yVal, yValPred))"
   ]
  },
  {
   "cell_type": "code",
   "execution_count": null,
   "id": "f2b82060",
   "metadata": {},
   "outputs": [],
   "source": [
    "target = df.diabetes\n",
    "data = df.drop(columns=['diabetes'])\n",
    "\n",
    "dfTrainFull, dfTest, yTrainFull, yTest = train_test_split(data, target, test_size=0.2, random_state=11)\n",
    "dfTrain, dfVal, yTrain, yVal = train_test_split(data, target, test_size=0.25, random_state=11)\n",
    "\n",
    "\n",
    "yValPred = model.predict(dfVal)#[:,1]\n",
    "#yValPred = np.argmax(resdfVal, axis=1)\n",
    "print(f'Val prediction: {yValPred}')\n",
    "print(f'Val RMSE: {mean_squared_error(yVal, yValPred,squared=False)}')\n",
    "print(f'Val AUC: {roc_auc_score(yVal,yValPred)}')\n",
    "\n",
    "yTestPred = model.predict(dfTest)#[:,1]\n",
    "#yValPred = np.argmax(resdfVal, axis=1)\n",
    "print(f'Test prediction: {yTestPred}')\n",
    "print(f'Test RMSE: {mean_squared_error(yTest, yTestPred,squared=False)}')\n",
    "print(f'Test AUC: {roc_auc_score(yTest, yTestPred)}')\n",
    "print(classification_report(yVal, yValPred))\n",
    "print(classification_report_imbalanced(yVal, yValPred))"
   ]
  },
  {
   "cell_type": "code",
   "execution_count": null,
   "id": "90f80d22",
   "metadata": {},
   "outputs": [],
   "source": [
    "for i,j in dfs.items():\n",
    "    model = make_pipeline(RandomForestClassifier(n_estimators=10, random_state=1, max_depth=7))\n",
    "    \n",
    "    target = j.diabetes\n",
    "    data = j.drop(columns=['diabetes'])\n",
    "    \n",
    "    dfTrainFull, dfTest, yTrainFull, yTest = train_test_split(data, target, test_size=0.2, random_state=i)\n",
    "    dfTrain, dfVal, yTrain, yVal = train_test_split(data, target, test_size=0.25, random_state=i)\n",
    "    model.fit(dfTrain, yTrain)\n",
    "    #yValPred = model.predict_proba(dfVal)[:,1]\n",
    "    yValPred = model.predict(dfVal)#[:,1]\n",
    "    #yValPred = np.argmax(resdfVal, axis=1)\n",
    "    print(f'Val prediction: {yValPred}')\n",
    "    print(f'Val RMSE: {mean_squared_error(yVal, yValPred,squared=False)}')\n",
    "    print(f'Val AUC: {roc_auc_score(yVal,yValPred)}')\n",
    "\n",
    "    #yTrainPred = model.predict_proba(dfTrain)[:,1]\n",
    "    yTrainPred = model.predict(dfTrain)#[:,1]\n",
    "    #yTrainPred = np.argmax(resdfValPred, axis=1)\n",
    "    print(f'Train prediction: {yTrainPred}')\n",
    "    print(f'Train RMSE: {mean_squared_error(yTrain, yTrainPred,squared=False)}')\n",
    "    print(f'Train AUC: {roc_auc_score(yTrain,yTrainPred)}')\n",
    "    \n",
    "    cm = confusion_matrix(yVal, yValPred)\n",
    "    cmprob = np.round(100 * cm / len(yVal), 1)\n",
    "    cm_display = ConfusionMatrixDisplay(cm, display_labels=['0', '1']).plot()\n",
    "    cm_display = ConfusionMatrixDisplay(cmprob, display_labels=['0', '1']).plot()\n",
    "    \n",
    "    print(classification_report(yVal, yValPred))\n",
    "    print(classification_report_imbalanced(yVal, yValPred))"
   ]
  },
  {
   "cell_type": "code",
   "execution_count": null,
   "id": "1558be2e",
   "metadata": {},
   "outputs": [],
   "source": [
    "target = df.diabetes\n",
    "data = df.drop(columns=['diabetes'])\n",
    "\n",
    "dfTrainFull, dfTest, yTrainFull, yTest = train_test_split(data, target, test_size=0.2, random_state=11)\n",
    "dfTrain, dfVal, yTrain, yVal = train_test_split(data, target, test_size=0.25, random_state=11)\n",
    "\n",
    "yValPred = model.predict(dfVal)#[:,1]\n",
    "#yValPred = np.argmax(resdfVal, axis=1)\n",
    "print(f'Val prediction: {yValPred}')\n",
    "print(f'Val RMSE: {mean_squared_error(yVal, yValPred,squared=False)}')\n",
    "print(f'Val AUC: {roc_auc_score(yVal,yValPred)}')\n",
    "\n",
    "yTestPred = model.predict(dfTest)#[:,1]\n",
    "#yValPred = np.argmax(resdfVal, axis=1)\n",
    "print(f'Test prediction: {yTestPred}')\n",
    "print(f'Test RMSE: {mean_squared_error(yTest, yTestPred,squared=False)}')\n",
    "print(f'Test AUC: {roc_auc_score(yTest, yTestPred)}')\n",
    "print(classification_report(yVal, yValPred))\n",
    "print(classification_report_imbalanced(yVal, yValPred))"
   ]
  },
  {
   "cell_type": "code",
   "execution_count": null,
   "id": "b523040e",
   "metadata": {},
   "outputs": [],
   "source": [
    "for i,j in dfs.items():\n",
    "    model = make_pipeline(LogisticRegression(max_iter=1000))\n",
    "    \n",
    "    target = j.diabetes\n",
    "    data = j.drop(columns=['diabetes'])\n",
    "    \n",
    "    dfTrainFull, dfTest, yTrainFull, yTest = train_test_split(data, target, test_size=0.2, random_state=i)\n",
    "    dfTrain, dfVal, yTrain, yVal = train_test_split(data, target, test_size=0.25, random_state=i)\n",
    "    model.fit(dfTrain, yTrain)\n",
    "    #yValPred = model.predict_proba(dfVal)[:,1]\n",
    "    yValPred = model.predict(dfVal)#[:,1]\n",
    "    #yValPred = np.argmax(resdfVal, axis=1)\n",
    "    print(f'Val prediction: {yValPred}')\n",
    "    print(f'Val RMSE: {mean_squared_error(yVal, yValPred,squared=False)}')\n",
    "    print(f'Val AUC: {roc_auc_score(yVal,yValPred)}')\n",
    "\n",
    "    #yTrainPred = model.predict_proba(dfTrain)[:,1]\n",
    "    yTrainPred = model.predict(dfTrain)#[:,1]\n",
    "    #yTrainPred = np.argmax(resdfValPred, axis=1)\n",
    "    print(f'Train prediction: {yTrainPred}')\n",
    "    print(f'Train RMSE: {mean_squared_error(yTrain, yTrainPred,squared=False)}')\n",
    "    print(f'Train AUC: {roc_auc_score(yTrain,yTrainPred)}')\n",
    "    \n",
    "    cm = confusion_matrix(yVal, yValPred)\n",
    "    cmprob = np.round(100 * cm / len(yVal), 1)\n",
    "    cm_display = ConfusionMatrixDisplay(cm, display_labels=['0', '1']).plot()\n",
    "    cm_display = ConfusionMatrixDisplay(cmprob, display_labels=['0', '1']).plot()\n",
    "    \n",
    "    print(classification_report(yVal, yValPred))\n",
    "    print(classification_report_imbalanced(yVal, yValPred))"
   ]
  },
  {
   "cell_type": "code",
   "execution_count": null,
   "id": "9cfac6f6",
   "metadata": {},
   "outputs": [],
   "source": [
    "target = df.diabetes\n",
    "data = df.drop(columns=['diabetes'])\n",
    "dfTrainFull, dfTest, yTrainFull, yTest = train_test_split(data, target, test_size=0.2, random_state=11)\n",
    "dfTrain, dfVal, yTrain, yVal = train_test_split(data, target, test_size=0.25, random_state=11)\n",
    "\n",
    "yTestPred = model.predict(dfTest)\n",
    "yTestPred"
   ]
  },
  {
   "cell_type": "code",
   "execution_count": null,
   "id": "4083486e",
   "metadata": {},
   "outputs": [],
   "source": [
    "print(f'Val prediction: {yTestPred}')\n",
    "print(f'Val RMSE: {mean_squared_error(yTest, yTestPred,squared=False)}')\n",
    "print(f'Val AUC: {roc_auc_score(yTest, yTestPred)}')\n",
    "print(classification_report(yTest, yTestPred))\n",
    "print(classification_report_imbalanced(yTest, yTestPred))"
   ]
  },
  {
   "cell_type": "code",
   "execution_count": null,
   "id": "3a57cb23",
   "metadata": {},
   "outputs": [],
   "source": []
  },
  {
   "cell_type": "code",
   "execution_count": null,
   "id": "aa433adc",
   "metadata": {},
   "outputs": [],
   "source": []
  },
  {
   "cell_type": "code",
   "execution_count": null,
   "id": "4271d815",
   "metadata": {},
   "outputs": [],
   "source": []
  },
  {
   "cell_type": "code",
   "execution_count": null,
   "id": "84edd611",
   "metadata": {},
   "outputs": [],
   "source": []
  },
  {
   "cell_type": "code",
   "execution_count": null,
   "id": "2f2bae67",
   "metadata": {},
   "outputs": [],
   "source": []
  },
  {
   "cell_type": "code",
   "execution_count": null,
   "id": "dc033f6f",
   "metadata": {},
   "outputs": [],
   "source": [
    "for i,j in dfs.items():\n",
    "    \n",
    "    target = j.diabetes\n",
    "    data = j.drop(columns=['diabetes'])\n",
    "    \n",
    "    dfTrainFull, dfTest, yTrainFull, yTest = train_test_split(data, target, test_size=0.2, random_state=i)\n",
    "    dfTrain, dfVal, yTrain, yVal = train_test_split(data, target, test_size=0.25, random_state=i)\n",
    "    \n",
    "        \n",
    "    dTrain = xgb.DMatrix(dfTrain, yTrain)#, enable_categorical=True)\n",
    "    dVal = xgb.DMatrix(dfVal, yVal)#, enable_categorical=True)\n",
    "    xgbParams = {\n",
    "    'eta': 0.1,\n",
    "    'max_depth': 10,\n",
    "    'min_child_weight': 1,\n",
    "    \n",
    "    'objective': 'binary:logistic',\n",
    "    'nthreads': 8,\n",
    "    \n",
    "    'seed': 1,\n",
    "    'verbosity': 1,\n",
    "    }\n",
    "\n",
    "    model = xgb.train(xgbParams, dTrain, num_boost_round=10)\n",
    "    \n",
    "    yValPred = model.predict(dVal)\n",
    "    \n",
    "    #roc_auc_score(yVal, yValPred)\n",
    "    \n",
    "    #model.fit(dfTrain, yTrain)\n",
    "    #yValPred = model.predict_proba(dfVal)[:,1]\n",
    "    #yValPred = model.predict(dfVal)#[:,1]\n",
    "    #yValPred = np.argmax(resdfVal, axis=1)\n",
    "    print(f'Val prediction: {yValPred}')\n",
    "    print(f'Val RMSE: {mean_squared_error(yVal, yValPred,squared=False)}')\n",
    "    print(f'Val AUC: {roc_auc_score(yVal,yValPred)}')\n",
    "\n",
    "    #yTrainPred = model.predict_proba(dfTrain)[:,1]\n",
    "    #yTrainPred = model.predict(dfTrain)#[:,1]\n",
    "    yTrainPred = model.predict(dTrain)\n",
    "    #yTrainPred = np.argmax(resdfValPred, axis=1)\n",
    "    print(f'Train prediction: {yTrainPred}')\n",
    "    print(f'Train RMSE: {mean_squared_error(yTrain, yTrainPred,squared=False)}')\n",
    "    print(f'Train AUC: {roc_auc_score(yTrain,yTrainPred)}')\n",
    "    \n",
    "    cm = confusion_matrix(yVal, (yValPred > 0.5).astype(int))\n",
    "    cmprob = np.round(100 * cm / len(yVal), 1)\n",
    "    cm_display = ConfusionMatrixDisplay(cm, display_labels=['0', '1']).plot()\n",
    "    cm_display = ConfusionMatrixDisplay(cmprob, display_labels=['0', '1']).plot()\n",
    "    \n",
    "    print(classification_report(yVal, (yValPred > 0.5).astype(int)))\n",
    "    print(classification_report_imbalanced(yVal, (yValPred > 0.5).astype(int)))\n"
   ]
  },
  {
   "cell_type": "code",
   "execution_count": null,
   "id": "d6b57bb7",
   "metadata": {},
   "outputs": [],
   "source": [
    "(yValPred > 0.5)*1.0"
   ]
  },
  {
   "cell_type": "code",
   "execution_count": null,
   "id": "ec5b5faf",
   "metadata": {},
   "outputs": [],
   "source": [
    "target = df.diabetes\n",
    "data = df.drop(columns=['diabetes'])\n",
    "\n",
    "dfTrainFull, dfTest, yTrainFull, yTest = train_test_split(data, target, test_size=0.2, random_state=11)\n",
    "dfTrain, dfVal, yTrain, yVal = train_test_split(data, target, test_size=0.25, random_state=11)\n",
    "dTrain = xgb.DMatrix(dfTrain, yTrain)#, enable_categorical=True)\n",
    "dVal = xgb.DMatrix(dfVal, yVal)#, enable_categorical=True)\n",
    "dTest = xgb.DMatrix(dfTest, yTest)#, enable_categorical=True)\n",
    "\n",
    "model = xgb.train(xgbParams, dTrain, num_boost_round=10)\n",
    "    \n",
    "yValPred = model.predict(dVal)#yValPred = np.argmax(resdfVal, axis=1)\n",
    "    \n",
    "print(f'Val prediction: {yValPred}')\n",
    "print(f'Val RMSE: {mean_squared_error(yVal, yValPred,squared=False)}')\n",
    "print(f'Val AUC: {roc_auc_score(yVal,yValPred)}')\n",
    "\n",
    "yTestPred = model.predict(dTest)#[:,1]\n",
    "#yValPred = np.argmax(resdfVal, axis=1)\n",
    "print(f'Test prediction: {yTestPred}')\n",
    "print(f'Test RMSE: {mean_squared_error(yTest, yTestPred,squared=False)}')\n",
    "print(f'Test AUC: {roc_auc_score(yTest, yTestPred)}')\n",
    "print(classification_report(yVal, (yValPred>0.5).astype(int)))\n",
    "print(classification_report_imbalanced(yVal, (yValPred>0.5).astype(int)))"
   ]
  },
  {
   "cell_type": "code",
   "execution_count": null,
   "id": "26834479",
   "metadata": {},
   "outputs": [],
   "source": []
  },
  {
   "cell_type": "code",
   "execution_count": null,
   "id": "b01ddd8a",
   "metadata": {},
   "outputs": [],
   "source": []
  },
  {
   "cell_type": "code",
   "execution_count": null,
   "id": "fdee1baa",
   "metadata": {},
   "outputs": [],
   "source": []
  },
  {
   "cell_type": "code",
   "execution_count": null,
   "id": "c6df76f1",
   "metadata": {},
   "outputs": [],
   "source": []
  },
  {
   "cell_type": "code",
   "execution_count": null,
   "id": "b79d64bf",
   "metadata": {},
   "outputs": [],
   "source": []
  },
  {
   "cell_type": "markdown",
   "id": "8b3e0d04",
   "metadata": {},
   "source": [
    "### Random Forest"
   ]
  },
  {
   "cell_type": "code",
   "execution_count": null,
   "id": "84592a7f",
   "metadata": {
    "scrolled": true
   },
   "outputs": [],
   "source": [
    "RF = make_pipeline(RandomForestClassifier(n_estimators=10, random_state=1, max_depth=6))\n",
    "RF.fit(dfTrain, yTrain)"
   ]
  },
  {
   "cell_type": "code",
   "execution_count": null,
   "id": "ef839b84",
   "metadata": {},
   "outputs": [],
   "source": [
    "yValPred = RF.predict_proba(dfVal)[:,1]"
   ]
  },
  {
   "cell_type": "code",
   "execution_count": null,
   "id": "1f7e3e90",
   "metadata": {
    "scrolled": true
   },
   "outputs": [],
   "source": [
    "roc_auc_score(yVal, yValPred)"
   ]
  },
  {
   "cell_type": "code",
   "execution_count": null,
   "id": "898d5395",
   "metadata": {},
   "outputs": [],
   "source": [
    "print(classification_report(yVal, RF.predict(dfVal)))\n",
    "print(classification_report_imbalanced(yVal, RF.predict(dfVal)))"
   ]
  },
  {
   "cell_type": "code",
   "execution_count": null,
   "id": "6381dbce",
   "metadata": {},
   "outputs": [],
   "source": [
    "for param in RF.get_params():\n",
    "    print(param)"
   ]
  },
  {
   "cell_type": "markdown",
   "id": "6fc09014",
   "metadata": {},
   "source": [
    "### All imbalanced data"
   ]
  },
  {
   "cell_type": "code",
   "execution_count": null,
   "id": "8ffc696d",
   "metadata": {},
   "outputs": [],
   "source": [
    "dfTrainFull, dfTest, yTrainFull, yTest = train_test_split(data, target, test_size=0.2, random_state=11)\n",
    "dfTrain, dfVal, yTrain, yVal = train_test_split(data, target, test_size=0.25, random_state=11)"
   ]
  },
  {
   "cell_type": "code",
   "execution_count": null,
   "id": "7d85fbd7",
   "metadata": {},
   "outputs": [],
   "source": [
    "# creating the model\n",
    "from sklearn.pipeline import make_pipeline\n",
    "#model = make_pipeline(preprocessor, DecisionTreeClassifier(max_depth=10, max_leaf_nodes=30))\n",
    "model = make_pipeline(DecisionTreeClassifier(max_depth=10, max_leaf_nodes=30))\n",
    "\n",
    "\n",
    "model.fit(dfTrain, yTrain)"
   ]
  },
  {
   "cell_type": "code",
   "execution_count": null,
   "id": "6d20deff",
   "metadata": {},
   "outputs": [],
   "source": [
    "resdfVal = model.predict_proba(dfVal)#[:,1]\n",
    "yValPred = np.argmax(resdfVal, axis=1)\n",
    "print(f'Val prediction: {yValPred}')\n",
    "print(f'Val RMSE: {mean_squared_error(yVal, yValPred,squared=False)}')\n",
    "\n",
    "resdfValPred = model.predict_proba(dfTrain)#[:,1]\n",
    "yTrainPred = np.argmax(resdfValPred, axis=1)\n",
    "print(f'Train prediction: {yTrainPred}')\n",
    "print(f'Val RMSE: {mean_squared_error(yTrain, yTrainPred,squared=False)}')"
   ]
  },
  {
   "cell_type": "code",
   "execution_count": null,
   "id": "1bc6ad71",
   "metadata": {},
   "outputs": [],
   "source": []
  },
  {
   "cell_type": "code",
   "execution_count": null,
   "id": "4ab5b6f1",
   "metadata": {},
   "outputs": [],
   "source": [
    "cm = confusion_matrix(yVal, yValPred)\n",
    "cmprob = np.round(100 * cm / len(yVal), 1)\n",
    "cm_display = ConfusionMatrixDisplay(cm, display_labels=['0', '1']).plot()\n",
    "cm_display = ConfusionMatrixDisplay(cmprob, display_labels=['0', '1']).plot()\n",
    "print(classification_report_imbalanced(yVal, model.predict(dfVal)))\n",
    "#tn, fp, fn, tp = cm.ravel()\n",
    "#print(tn, fp, fn, tp)\n",
    "#print(cm)"
   ]
  },
  {
   "cell_type": "code",
   "execution_count": null,
   "id": "121f6cc5",
   "metadata": {},
   "outputs": [],
   "source": [
    "print(classification_report(yVal, yValPred))"
   ]
  },
  {
   "cell_type": "code",
   "execution_count": null,
   "id": "ef03b300",
   "metadata": {},
   "outputs": [],
   "source": [
    "import seaborn as sns\n",
    "corr = df.corr()\n",
    "#sns.set_theme()\n",
    "plt.figure(figsize=(20,20))\n",
    "sns.heatmap(corr, cmap=\"Blues\", annot=True)"
   ]
  },
  {
   "cell_type": "code",
   "execution_count": null,
   "id": "94bf6761",
   "metadata": {},
   "outputs": [],
   "source": [
    "corr = df[numericalCols + ['diabetes']].corr()\n",
    "#sns.set_theme()\n",
    "plt.figure(figsize=(20,20))\n",
    "sns.heatmap(corr, cmap=\"Blues\", annot=True)"
   ]
  },
  {
   "cell_type": "code",
   "execution_count": null,
   "id": "7daa947f",
   "metadata": {},
   "outputs": [],
   "source": []
  },
  {
   "cell_type": "markdown",
   "id": "7093cf25",
   "metadata": {},
   "source": [
    "### Binary Unbalanced Data"
   ]
  },
  {
   "cell_type": "code",
   "execution_count": 130,
   "id": "ada4e074",
   "metadata": {},
   "outputs": [],
   "source": [
    "def binaryBalancedData():\n",
    "    file = 'Datasets/diabetes_binary_health_indicators_BRFSS2015.csv'\n",
    "    df = pd.read_csv(file)\n",
    "    df.drop_duplicates(inplace=True)\n",
    "\n",
    "    df.columns = df.columns.str.lower().str.replace('diabetes_binary','diabetes')\n",
    "\n",
    "    target = df.diabetes\n",
    "    data = df.drop(columns=['diabetes'])\n",
    "\n",
    "    dfTrainFull, dfTest, yTrainFull, yTest = train_test_split(data, target, test_size=0.2, random_state=11)\n",
    "    dfTrain, dfVal, yTrain, yVal = train_test_split(data, target, test_size=0.25, random_state=11)\n",
    "    return df, dfTrainFull, yTrainFull, dfTrain, yTrain, dfVal,yVal, dfTest, yTest\n"
   ]
  },
  {
   "cell_type": "code",
   "execution_count": 131,
   "id": "53f1631a",
   "metadata": {},
   "outputs": [
    {
     "data": {
      "text/html": [
       "<div>\n",
       "<style scoped>\n",
       "    .dataframe tbody tr th:only-of-type {\n",
       "        vertical-align: middle;\n",
       "    }\n",
       "\n",
       "    .dataframe tbody tr th {\n",
       "        vertical-align: top;\n",
       "    }\n",
       "\n",
       "    .dataframe thead th {\n",
       "        text-align: right;\n",
       "    }\n",
       "</style>\n",
       "<table border=\"1\" class=\"dataframe\">\n",
       "  <thead>\n",
       "    <tr style=\"text-align: right;\">\n",
       "      <th></th>\n",
       "      <th>diabetes</th>\n",
       "      <th>highbp</th>\n",
       "      <th>highchol</th>\n",
       "      <th>cholcheck</th>\n",
       "      <th>bmi</th>\n",
       "      <th>smoker</th>\n",
       "      <th>stroke</th>\n",
       "      <th>heartdiseaseorattack</th>\n",
       "      <th>physactivity</th>\n",
       "      <th>fruits</th>\n",
       "      <th>...</th>\n",
       "      <th>anyhealthcare</th>\n",
       "      <th>nodocbccost</th>\n",
       "      <th>genhlth</th>\n",
       "      <th>menthlth</th>\n",
       "      <th>physhlth</th>\n",
       "      <th>diffwalk</th>\n",
       "      <th>sex</th>\n",
       "      <th>age</th>\n",
       "      <th>education</th>\n",
       "      <th>income</th>\n",
       "    </tr>\n",
       "  </thead>\n",
       "  <tbody>\n",
       "    <tr>\n",
       "      <th>0</th>\n",
       "      <td>0.0</td>\n",
       "      <td>1.0</td>\n",
       "      <td>1.0</td>\n",
       "      <td>1.0</td>\n",
       "      <td>40.0</td>\n",
       "      <td>1.0</td>\n",
       "      <td>0.0</td>\n",
       "      <td>0.0</td>\n",
       "      <td>0.0</td>\n",
       "      <td>0.0</td>\n",
       "      <td>...</td>\n",
       "      <td>1.0</td>\n",
       "      <td>0.0</td>\n",
       "      <td>5.0</td>\n",
       "      <td>18.0</td>\n",
       "      <td>15.0</td>\n",
       "      <td>1.0</td>\n",
       "      <td>0.0</td>\n",
       "      <td>9.0</td>\n",
       "      <td>4.0</td>\n",
       "      <td>3.0</td>\n",
       "    </tr>\n",
       "    <tr>\n",
       "      <th>1</th>\n",
       "      <td>0.0</td>\n",
       "      <td>0.0</td>\n",
       "      <td>0.0</td>\n",
       "      <td>0.0</td>\n",
       "      <td>25.0</td>\n",
       "      <td>1.0</td>\n",
       "      <td>0.0</td>\n",
       "      <td>0.0</td>\n",
       "      <td>1.0</td>\n",
       "      <td>0.0</td>\n",
       "      <td>...</td>\n",
       "      <td>0.0</td>\n",
       "      <td>1.0</td>\n",
       "      <td>3.0</td>\n",
       "      <td>0.0</td>\n",
       "      <td>0.0</td>\n",
       "      <td>0.0</td>\n",
       "      <td>0.0</td>\n",
       "      <td>7.0</td>\n",
       "      <td>6.0</td>\n",
       "      <td>1.0</td>\n",
       "    </tr>\n",
       "    <tr>\n",
       "      <th>2</th>\n",
       "      <td>0.0</td>\n",
       "      <td>1.0</td>\n",
       "      <td>1.0</td>\n",
       "      <td>1.0</td>\n",
       "      <td>28.0</td>\n",
       "      <td>0.0</td>\n",
       "      <td>0.0</td>\n",
       "      <td>0.0</td>\n",
       "      <td>0.0</td>\n",
       "      <td>1.0</td>\n",
       "      <td>...</td>\n",
       "      <td>1.0</td>\n",
       "      <td>1.0</td>\n",
       "      <td>5.0</td>\n",
       "      <td>30.0</td>\n",
       "      <td>30.0</td>\n",
       "      <td>1.0</td>\n",
       "      <td>0.0</td>\n",
       "      <td>9.0</td>\n",
       "      <td>4.0</td>\n",
       "      <td>8.0</td>\n",
       "    </tr>\n",
       "    <tr>\n",
       "      <th>3</th>\n",
       "      <td>0.0</td>\n",
       "      <td>1.0</td>\n",
       "      <td>0.0</td>\n",
       "      <td>1.0</td>\n",
       "      <td>27.0</td>\n",
       "      <td>0.0</td>\n",
       "      <td>0.0</td>\n",
       "      <td>0.0</td>\n",
       "      <td>1.0</td>\n",
       "      <td>1.0</td>\n",
       "      <td>...</td>\n",
       "      <td>1.0</td>\n",
       "      <td>0.0</td>\n",
       "      <td>2.0</td>\n",
       "      <td>0.0</td>\n",
       "      <td>0.0</td>\n",
       "      <td>0.0</td>\n",
       "      <td>0.0</td>\n",
       "      <td>11.0</td>\n",
       "      <td>3.0</td>\n",
       "      <td>6.0</td>\n",
       "    </tr>\n",
       "    <tr>\n",
       "      <th>4</th>\n",
       "      <td>0.0</td>\n",
       "      <td>1.0</td>\n",
       "      <td>1.0</td>\n",
       "      <td>1.0</td>\n",
       "      <td>24.0</td>\n",
       "      <td>0.0</td>\n",
       "      <td>0.0</td>\n",
       "      <td>0.0</td>\n",
       "      <td>1.0</td>\n",
       "      <td>1.0</td>\n",
       "      <td>...</td>\n",
       "      <td>1.0</td>\n",
       "      <td>0.0</td>\n",
       "      <td>2.0</td>\n",
       "      <td>3.0</td>\n",
       "      <td>0.0</td>\n",
       "      <td>0.0</td>\n",
       "      <td>0.0</td>\n",
       "      <td>11.0</td>\n",
       "      <td>5.0</td>\n",
       "      <td>4.0</td>\n",
       "    </tr>\n",
       "  </tbody>\n",
       "</table>\n",
       "<p>5 rows × 22 columns</p>\n",
       "</div>"
      ],
      "text/plain": [
       "   diabetes  highbp  highchol  cholcheck   bmi  smoker  stroke  \\\n",
       "0       0.0     1.0       1.0        1.0  40.0     1.0     0.0   \n",
       "1       0.0     0.0       0.0        0.0  25.0     1.0     0.0   \n",
       "2       0.0     1.0       1.0        1.0  28.0     0.0     0.0   \n",
       "3       0.0     1.0       0.0        1.0  27.0     0.0     0.0   \n",
       "4       0.0     1.0       1.0        1.0  24.0     0.0     0.0   \n",
       "\n",
       "   heartdiseaseorattack  physactivity  fruits  ...  anyhealthcare  \\\n",
       "0                   0.0           0.0     0.0  ...            1.0   \n",
       "1                   0.0           1.0     0.0  ...            0.0   \n",
       "2                   0.0           0.0     1.0  ...            1.0   \n",
       "3                   0.0           1.0     1.0  ...            1.0   \n",
       "4                   0.0           1.0     1.0  ...            1.0   \n",
       "\n",
       "   nodocbccost  genhlth  menthlth  physhlth  diffwalk  sex   age  education  \\\n",
       "0          0.0      5.0      18.0      15.0       1.0  0.0   9.0        4.0   \n",
       "1          1.0      3.0       0.0       0.0       0.0  0.0   7.0        6.0   \n",
       "2          1.0      5.0      30.0      30.0       1.0  0.0   9.0        4.0   \n",
       "3          0.0      2.0       0.0       0.0       0.0  0.0  11.0        3.0   \n",
       "4          0.0      2.0       3.0       0.0       0.0  0.0  11.0        5.0   \n",
       "\n",
       "   income  \n",
       "0     3.0  \n",
       "1     1.0  \n",
       "2     8.0  \n",
       "3     6.0  \n",
       "4     4.0  \n",
       "\n",
       "[5 rows x 22 columns]"
      ]
     },
     "execution_count": 131,
     "metadata": {},
     "output_type": "execute_result"
    }
   ],
   "source": [
    "df, dfTrainFull, yTrainFull, dfTrain, yTrain, dfVal,yVal, dfTest, yTest = binaryBalancedData()\n",
    "df.head()"
   ]
  },
  {
   "cell_type": "markdown",
   "id": "e7ff5d6c",
   "metadata": {},
   "source": [
    "### EDA"
   ]
  },
  {
   "cell_type": "code",
   "execution_count": null,
   "id": "d231f401",
   "metadata": {},
   "outputs": [],
   "source": [
    "#sns.set_theme()\n",
    "corr_matrix = df.corr().abs()\n",
    "plt.figure(figsize=(17,17))\n",
    "\n",
    "_ = sns.heatmap(corr_matrix, cmap=\"Blues\", annot=True)"
   ]
  },
  {
   "cell_type": "code",
   "execution_count": null,
   "id": "044f735b",
   "metadata": {},
   "outputs": [],
   "source": []
  },
  {
   "cell_type": "code",
   "execution_count": null,
   "id": "d7815f00",
   "metadata": {},
   "outputs": [],
   "source": []
  },
  {
   "cell_type": "code",
   "execution_count": null,
   "id": "8d678450",
   "metadata": {},
   "outputs": [],
   "source": []
  },
  {
   "cell_type": "code",
   "execution_count": null,
   "id": "aa8d05eb",
   "metadata": {},
   "outputs": [],
   "source": []
  },
  {
   "cell_type": "code",
   "execution_count": null,
   "id": "f7af4927",
   "metadata": {},
   "outputs": [],
   "source": []
  },
  {
   "cell_type": "code",
   "execution_count": null,
   "id": "776e7e40",
   "metadata": {},
   "outputs": [],
   "source": []
  },
  {
   "cell_type": "code",
   "execution_count": null,
   "id": "fb8653d8",
   "metadata": {},
   "outputs": [],
   "source": []
  },
  {
   "cell_type": "markdown",
   "id": "61434576",
   "metadata": {},
   "source": [
    "### Preprocessing"
   ]
  },
  {
   "cell_type": "code",
   "execution_count": null,
   "id": "a18645d3",
   "metadata": {},
   "outputs": [],
   "source": [
    "categoricalCols = ['highbp', 'highchol', 'cholcheck','smoker',\n",
    "       'stroke', 'heartdiseaseorattack', 'physactivity', 'fruits', 'veggies',\n",
    "       'hvyalcoholconsump', 'anyhealthcare', 'nodocbccost', 'genhlth','diffwalk', 'sex', 'education']\n",
    "\n",
    "numericalCols = ['bmi', 'menthlth', 'physhlth', 'income']"
   ]
  },
  {
   "cell_type": "code",
   "execution_count": null,
   "id": "cbf2502d",
   "metadata": {},
   "outputs": [],
   "source": [
    "#dfTrain.income = np.log1p(dfTrain.income)"
   ]
  },
  {
   "cell_type": "code",
   "execution_count": null,
   "id": "0f5b826e",
   "metadata": {},
   "outputs": [],
   "source": [
    "# creating preprocesors\n",
    "from sklearn.preprocessing import OneHotEncoder, StandardScaler\n",
    "catPreprocessor = OneHotEncoder(handle_unknown=\"ignore\")\n",
    "numPreprocessor = StandardScaler()\n",
    "\n",
    "# Transforming the data\n",
    "from sklearn.compose import ColumnTransformer\n",
    "preprocessor = ColumnTransformer([\n",
    "    #('one-hot-encoder', catPreprocessor, categoricalCols)],remainder=\"passthrough\")\n",
    "    #('one-hot-encoder', catPreprocessor, categoricalCols),('standard_scaler', numPreprocessor, numericalCols)])\n",
    "    ], remainder=\"passthrough\")\n"
   ]
  },
  {
   "cell_type": "markdown",
   "id": "954fb5d8",
   "metadata": {},
   "source": [
    "### DecisionTreeClassifier"
   ]
  },
  {
   "cell_type": "code",
   "execution_count": 139,
   "id": "7738a1a4",
   "metadata": {},
   "outputs": [
    {
     "data": {
      "text/html": [
       "<style>#sk-container-id-33 {color: black;background-color: white;}#sk-container-id-33 pre{padding: 0;}#sk-container-id-33 div.sk-toggleable {background-color: white;}#sk-container-id-33 label.sk-toggleable__label {cursor: pointer;display: block;width: 100%;margin-bottom: 0;padding: 0.3em;box-sizing: border-box;text-align: center;}#sk-container-id-33 label.sk-toggleable__label-arrow:before {content: \"▸\";float: left;margin-right: 0.25em;color: #696969;}#sk-container-id-33 label.sk-toggleable__label-arrow:hover:before {color: black;}#sk-container-id-33 div.sk-estimator:hover label.sk-toggleable__label-arrow:before {color: black;}#sk-container-id-33 div.sk-toggleable__content {max-height: 0;max-width: 0;overflow: hidden;text-align: left;background-color: #f0f8ff;}#sk-container-id-33 div.sk-toggleable__content pre {margin: 0.2em;color: black;border-radius: 0.25em;background-color: #f0f8ff;}#sk-container-id-33 input.sk-toggleable__control:checked~div.sk-toggleable__content {max-height: 200px;max-width: 100%;overflow: auto;}#sk-container-id-33 input.sk-toggleable__control:checked~label.sk-toggleable__label-arrow:before {content: \"▾\";}#sk-container-id-33 div.sk-estimator input.sk-toggleable__control:checked~label.sk-toggleable__label {background-color: #d4ebff;}#sk-container-id-33 div.sk-label input.sk-toggleable__control:checked~label.sk-toggleable__label {background-color: #d4ebff;}#sk-container-id-33 input.sk-hidden--visually {border: 0;clip: rect(1px 1px 1px 1px);clip: rect(1px, 1px, 1px, 1px);height: 1px;margin: -1px;overflow: hidden;padding: 0;position: absolute;width: 1px;}#sk-container-id-33 div.sk-estimator {font-family: monospace;background-color: #f0f8ff;border: 1px dotted black;border-radius: 0.25em;box-sizing: border-box;margin-bottom: 0.5em;}#sk-container-id-33 div.sk-estimator:hover {background-color: #d4ebff;}#sk-container-id-33 div.sk-parallel-item::after {content: \"\";width: 100%;border-bottom: 1px solid gray;flex-grow: 1;}#sk-container-id-33 div.sk-label:hover label.sk-toggleable__label {background-color: #d4ebff;}#sk-container-id-33 div.sk-serial::before {content: \"\";position: absolute;border-left: 1px solid gray;box-sizing: border-box;top: 0;bottom: 0;left: 50%;z-index: 0;}#sk-container-id-33 div.sk-serial {display: flex;flex-direction: column;align-items: center;background-color: white;padding-right: 0.2em;padding-left: 0.2em;position: relative;}#sk-container-id-33 div.sk-item {position: relative;z-index: 1;}#sk-container-id-33 div.sk-parallel {display: flex;align-items: stretch;justify-content: center;background-color: white;position: relative;}#sk-container-id-33 div.sk-item::before, #sk-container-id-33 div.sk-parallel-item::before {content: \"\";position: absolute;border-left: 1px solid gray;box-sizing: border-box;top: 0;bottom: 0;left: 50%;z-index: -1;}#sk-container-id-33 div.sk-parallel-item {display: flex;flex-direction: column;z-index: 1;position: relative;background-color: white;}#sk-container-id-33 div.sk-parallel-item:first-child::after {align-self: flex-end;width: 50%;}#sk-container-id-33 div.sk-parallel-item:last-child::after {align-self: flex-start;width: 50%;}#sk-container-id-33 div.sk-parallel-item:only-child::after {width: 0;}#sk-container-id-33 div.sk-dashed-wrapped {border: 1px dashed gray;margin: 0 0.4em 0.5em 0.4em;box-sizing: border-box;padding-bottom: 0.4em;background-color: white;}#sk-container-id-33 div.sk-label label {font-family: monospace;font-weight: bold;display: inline-block;line-height: 1.2em;}#sk-container-id-33 div.sk-label-container {text-align: center;}#sk-container-id-33 div.sk-container {/* jupyter's `normalize.less` sets `[hidden] { display: none; }` but bootstrap.min.css set `[hidden] { display: none !important; }` so we also need the `!important` here to be able to override the default hidden behavior on the sphinx rendered scikit-learn.org. See: https://github.com/scikit-learn/scikit-learn/issues/21755 */display: inline-block !important;position: relative;}#sk-container-id-33 div.sk-text-repr-fallback {display: none;}</style><div id=\"sk-container-id-33\" class=\"sk-top-container\"><div class=\"sk-text-repr-fallback\"><pre>Pipeline(steps=[(&#x27;decisiontreeclassifier&#x27;,\n",
       "                 DecisionTreeClassifier(class_weight=&#x27;balanced&#x27;, max_depth=10,\n",
       "                                        max_leaf_nodes=30, random_state=1))])</pre><b>In a Jupyter environment, please rerun this cell to show the HTML representation or trust the notebook. <br />On GitHub, the HTML representation is unable to render, please try loading this page with nbviewer.org.</b></div><div class=\"sk-container\" hidden><div class=\"sk-item sk-dashed-wrapped\"><div class=\"sk-label-container\"><div class=\"sk-label sk-toggleable\"><input class=\"sk-toggleable__control sk-hidden--visually\" id=\"sk-estimator-id-66\" type=\"checkbox\" ><label for=\"sk-estimator-id-66\" class=\"sk-toggleable__label sk-toggleable__label-arrow\">Pipeline</label><div class=\"sk-toggleable__content\"><pre>Pipeline(steps=[(&#x27;decisiontreeclassifier&#x27;,\n",
       "                 DecisionTreeClassifier(class_weight=&#x27;balanced&#x27;, max_depth=10,\n",
       "                                        max_leaf_nodes=30, random_state=1))])</pre></div></div></div><div class=\"sk-serial\"><div class=\"sk-item\"><div class=\"sk-estimator sk-toggleable\"><input class=\"sk-toggleable__control sk-hidden--visually\" id=\"sk-estimator-id-67\" type=\"checkbox\" ><label for=\"sk-estimator-id-67\" class=\"sk-toggleable__label sk-toggleable__label-arrow\">DecisionTreeClassifier</label><div class=\"sk-toggleable__content\"><pre>DecisionTreeClassifier(class_weight=&#x27;balanced&#x27;, max_depth=10, max_leaf_nodes=30,\n",
       "                       random_state=1)</pre></div></div></div></div></div></div></div>"
      ],
      "text/plain": [
       "Pipeline(steps=[('decisiontreeclassifier',\n",
       "                 DecisionTreeClassifier(class_weight='balanced', max_depth=10,\n",
       "                                        max_leaf_nodes=30, random_state=1))])"
      ]
     },
     "execution_count": 139,
     "metadata": {},
     "output_type": "execute_result"
    }
   ],
   "source": [
    "# creating the model\n",
    "from sklearn.pipeline import make_pipeline\n",
    "model = make_pipeline(DecisionTreeClassifier(max_depth=10, max_leaf_nodes=30, class_weight='balanced', random_state=1))#, max_features=15))\n",
    "\n",
    "model.fit(dfTrain, yTrain)"
   ]
  },
  {
   "cell_type": "code",
   "execution_count": 140,
   "id": "98ba1c83",
   "metadata": {},
   "outputs": [
    {
     "name": "stdout",
     "output_type": "stream",
     "text": [
      "Val prediction: [0.76492545 0.23550522 0.23481697 ... 0.13810323 0.59792012 0.52306325]\n",
      "Val RMSE: 0.43900125249456257\n",
      "Val AUC: 0.7872181285107089\n",
      "Test prediction: [0.76492545 0.23550522 0.23481697 ... 0.75656199 0.21912672 0.37415281]\n",
      "Test RMSE: 0.4389887029064536\n",
      "Test AUC: 0.787082461225546\n",
      "Train prediction: [0.09063127 0.3840313  0.85463542 ... 0.3840313  0.23550522 0.3243022 ]\n",
      "Train RMSE: 0.43812599341626657\n",
      "Train AUC: 0.7914235165147991\n",
      "              precision    recall  f1-score   support\n",
      "\n",
      "         0.0       0.94      0.71      0.81     48590\n",
      "         1.0       0.31      0.73      0.44      8779\n",
      "\n",
      "    accuracy                           0.72     57369\n",
      "   macro avg       0.62      0.72      0.62     57369\n",
      "weighted avg       0.84      0.72      0.75     57369\n",
      "\n",
      "                   pre       rec       spe        f1       geo       iba       sup\n",
      "\n",
      "        0.0       0.94      0.71      0.73      0.81      0.72      0.52     48590\n",
      "        1.0       0.31      0.73      0.71      0.44      0.72      0.52      8779\n",
      "\n",
      "avg / total       0.84      0.72      0.72      0.75      0.72      0.52     57369\n",
      "\n"
     ]
    }
   ],
   "source": [
    "\n",
    "yValPred = model.predict_proba(dfVal)[:,1]\n",
    "print(f'Val prediction: {yValPred}')\n",
    "print(f'Val RMSE: {mean_squared_error(yVal, yValPred,squared=False)}')\n",
    "auc = roc_auc_score(yVal, yValPred)\n",
    "print(f'Val AUC: {auc}')\n",
    "\n",
    "yTestpred=model.predict_proba(dfTest)[:,1]\n",
    "print(f'Test prediction: {yTestpred}')\n",
    "print(f'Test RMSE: {mean_squared_error(yTest, yTestpred,squared=False)}')\n",
    "print(f'Test AUC: {roc_auc_score(yTest, yTestpred)}')\n",
    "\n",
    "yTrainPred = model.predict_proba(dfTrain)[:,1]\n",
    "print(f'Train prediction: {yTrainPred}')\n",
    "print(f'Train RMSE: {mean_squared_error(yTrain, yTrainPred,squared=False)}')\n",
    "auc = roc_auc_score(yTrain, yTrainPred)\n",
    "print(f'Train AUC: {auc}')\n",
    "\n",
    "print(classification_report(yVal, model.predict(dfVal)))\n",
    "print(classification_report_imbalanced(yVal, model.predict(dfVal)))"
   ]
  },
  {
   "cell_type": "markdown",
   "id": "47fd4ab0",
   "metadata": {},
   "source": [
    "### Logistic Regression"
   ]
  },
  {
   "cell_type": "code",
   "execution_count": 141,
   "id": "4bdfa6a1",
   "metadata": {},
   "outputs": [
    {
     "data": {
      "text/html": [
       "<style>#sk-container-id-34 {color: black;background-color: white;}#sk-container-id-34 pre{padding: 0;}#sk-container-id-34 div.sk-toggleable {background-color: white;}#sk-container-id-34 label.sk-toggleable__label {cursor: pointer;display: block;width: 100%;margin-bottom: 0;padding: 0.3em;box-sizing: border-box;text-align: center;}#sk-container-id-34 label.sk-toggleable__label-arrow:before {content: \"▸\";float: left;margin-right: 0.25em;color: #696969;}#sk-container-id-34 label.sk-toggleable__label-arrow:hover:before {color: black;}#sk-container-id-34 div.sk-estimator:hover label.sk-toggleable__label-arrow:before {color: black;}#sk-container-id-34 div.sk-toggleable__content {max-height: 0;max-width: 0;overflow: hidden;text-align: left;background-color: #f0f8ff;}#sk-container-id-34 div.sk-toggleable__content pre {margin: 0.2em;color: black;border-radius: 0.25em;background-color: #f0f8ff;}#sk-container-id-34 input.sk-toggleable__control:checked~div.sk-toggleable__content {max-height: 200px;max-width: 100%;overflow: auto;}#sk-container-id-34 input.sk-toggleable__control:checked~label.sk-toggleable__label-arrow:before {content: \"▾\";}#sk-container-id-34 div.sk-estimator input.sk-toggleable__control:checked~label.sk-toggleable__label {background-color: #d4ebff;}#sk-container-id-34 div.sk-label input.sk-toggleable__control:checked~label.sk-toggleable__label {background-color: #d4ebff;}#sk-container-id-34 input.sk-hidden--visually {border: 0;clip: rect(1px 1px 1px 1px);clip: rect(1px, 1px, 1px, 1px);height: 1px;margin: -1px;overflow: hidden;padding: 0;position: absolute;width: 1px;}#sk-container-id-34 div.sk-estimator {font-family: monospace;background-color: #f0f8ff;border: 1px dotted black;border-radius: 0.25em;box-sizing: border-box;margin-bottom: 0.5em;}#sk-container-id-34 div.sk-estimator:hover {background-color: #d4ebff;}#sk-container-id-34 div.sk-parallel-item::after {content: \"\";width: 100%;border-bottom: 1px solid gray;flex-grow: 1;}#sk-container-id-34 div.sk-label:hover label.sk-toggleable__label {background-color: #d4ebff;}#sk-container-id-34 div.sk-serial::before {content: \"\";position: absolute;border-left: 1px solid gray;box-sizing: border-box;top: 0;bottom: 0;left: 50%;z-index: 0;}#sk-container-id-34 div.sk-serial {display: flex;flex-direction: column;align-items: center;background-color: white;padding-right: 0.2em;padding-left: 0.2em;position: relative;}#sk-container-id-34 div.sk-item {position: relative;z-index: 1;}#sk-container-id-34 div.sk-parallel {display: flex;align-items: stretch;justify-content: center;background-color: white;position: relative;}#sk-container-id-34 div.sk-item::before, #sk-container-id-34 div.sk-parallel-item::before {content: \"\";position: absolute;border-left: 1px solid gray;box-sizing: border-box;top: 0;bottom: 0;left: 50%;z-index: -1;}#sk-container-id-34 div.sk-parallel-item {display: flex;flex-direction: column;z-index: 1;position: relative;background-color: white;}#sk-container-id-34 div.sk-parallel-item:first-child::after {align-self: flex-end;width: 50%;}#sk-container-id-34 div.sk-parallel-item:last-child::after {align-self: flex-start;width: 50%;}#sk-container-id-34 div.sk-parallel-item:only-child::after {width: 0;}#sk-container-id-34 div.sk-dashed-wrapped {border: 1px dashed gray;margin: 0 0.4em 0.5em 0.4em;box-sizing: border-box;padding-bottom: 0.4em;background-color: white;}#sk-container-id-34 div.sk-label label {font-family: monospace;font-weight: bold;display: inline-block;line-height: 1.2em;}#sk-container-id-34 div.sk-label-container {text-align: center;}#sk-container-id-34 div.sk-container {/* jupyter's `normalize.less` sets `[hidden] { display: none; }` but bootstrap.min.css set `[hidden] { display: none !important; }` so we also need the `!important` here to be able to override the default hidden behavior on the sphinx rendered scikit-learn.org. See: https://github.com/scikit-learn/scikit-learn/issues/21755 */display: inline-block !important;position: relative;}#sk-container-id-34 div.sk-text-repr-fallback {display: none;}</style><div id=\"sk-container-id-34\" class=\"sk-top-container\"><div class=\"sk-text-repr-fallback\"><pre>Pipeline(steps=[(&#x27;logisticregression&#x27;, LogisticRegression(max_iter=1000))])</pre><b>In a Jupyter environment, please rerun this cell to show the HTML representation or trust the notebook. <br />On GitHub, the HTML representation is unable to render, please try loading this page with nbviewer.org.</b></div><div class=\"sk-container\" hidden><div class=\"sk-item sk-dashed-wrapped\"><div class=\"sk-label-container\"><div class=\"sk-label sk-toggleable\"><input class=\"sk-toggleable__control sk-hidden--visually\" id=\"sk-estimator-id-68\" type=\"checkbox\" ><label for=\"sk-estimator-id-68\" class=\"sk-toggleable__label sk-toggleable__label-arrow\">Pipeline</label><div class=\"sk-toggleable__content\"><pre>Pipeline(steps=[(&#x27;logisticregression&#x27;, LogisticRegression(max_iter=1000))])</pre></div></div></div><div class=\"sk-serial\"><div class=\"sk-item\"><div class=\"sk-estimator sk-toggleable\"><input class=\"sk-toggleable__control sk-hidden--visually\" id=\"sk-estimator-id-69\" type=\"checkbox\" ><label for=\"sk-estimator-id-69\" class=\"sk-toggleable__label sk-toggleable__label-arrow\">LogisticRegression</label><div class=\"sk-toggleable__content\"><pre>LogisticRegression(max_iter=1000)</pre></div></div></div></div></div></div></div>"
      ],
      "text/plain": [
       "Pipeline(steps=[('logisticregression', LogisticRegression(max_iter=1000))])"
      ]
     },
     "execution_count": 141,
     "metadata": {},
     "output_type": "execute_result"
    }
   ],
   "source": [
    "#model = make_pipeline(preprocessor, LogisticRegression(max_iter=1000))    \n",
    "model = make_pipeline(LogisticRegression(max_iter=1000))    \n",
    "\n",
    "#model.fit(dfTrain[0:size], yTrain[0:size])\n",
    "model.fit(dfTrain, yTrain)"
   ]
  },
  {
   "cell_type": "code",
   "execution_count": 142,
   "id": "5c9daead",
   "metadata": {},
   "outputs": [
    {
     "name": "stdout",
     "output_type": "stream",
     "text": [
      "Val prediction: [0.32836431 0.03614557 0.05623626 ... 0.0066333  0.1487338  0.07059396]\n",
      "Val RMSE: 0.32921806350171035\n",
      "Val AUC: 0.8048232605071866\n",
      "Test prediction: [0.32836431 0.03614557 0.05623626 ... 0.30218395 0.02385572 0.15486137]\n",
      "Test RMSE: 0.3284483726897193\n",
      "Test AUC: 0.8060589757196356\n",
      "Train prediction: [0.05464351 0.13056155 0.83010945 ... 0.07981735 0.06893521 0.32454013]\n",
      "Val RMSE: 0.3287494133537253\n",
      "Train AUC: 0.807791166915627\n",
      "              precision    recall  f1-score   support\n",
      "\n",
      "         0.0       0.86      0.98      0.92     48590\n",
      "         1.0       0.55      0.15      0.24      8779\n",
      "\n",
      "    accuracy                           0.85     57369\n",
      "   macro avg       0.71      0.56      0.58     57369\n",
      "weighted avg       0.82      0.85      0.81     57369\n",
      "\n",
      "                   pre       rec       spe        f1       geo       iba       sup\n",
      "\n",
      "        0.0       0.86      0.98      0.15      0.92      0.39      0.16     48590\n",
      "        1.0       0.55      0.15      0.98      0.24      0.39      0.14      8779\n",
      "\n",
      "avg / total       0.82      0.85      0.28      0.81      0.39      0.16     57369\n",
      "\n"
     ]
    }
   ],
   "source": [
    "yValPredProba = model.predict_proba(dfVal)[:,1]\n",
    "yValPred = model.predict(dfVal)\n",
    "print(f'Val prediction: {yValPredProba}')\n",
    "print(f'Val RMSE: {mean_squared_error(yVal, yValPredProba,squared=False)}')\n",
    "auc = roc_auc_score(yVal, yValPredProba)\n",
    "print(f'Val AUC: {auc}')\n",
    "\n",
    "yTestpred=model.predict_proba(dfTest)[:,1]\n",
    "print(f'Test prediction: {yTestpred}')\n",
    "print(f'Test RMSE: {mean_squared_error(yTest, yTestpred,squared=False)}')\n",
    "print(f'Test AUC: {roc_auc_score(yTest, yTestpred)}')\n",
    "\n",
    "\n",
    "yTrainPredProba = model.predict_proba(dfTrain)[:,1]\n",
    "yTrainPred = model.predict(dfTrain)\n",
    "print(f'Train prediction: {yTrainPredProba}')\n",
    "print(f'Val RMSE: {mean_squared_error(yTrain, yTrainPredProba,squared=False)}')\n",
    "auc = roc_auc_score(yTrain, yTrainPredProba)\n",
    "print(f'Train AUC: {auc}')\n",
    "\n",
    "print(classification_report(yVal, yValPred))\n",
    "print(classification_report_imbalanced(yVal, model.predict(dfVal)))"
   ]
  },
  {
   "cell_type": "markdown",
   "id": "ecc1d90a",
   "metadata": {},
   "source": [
    "### Logistic Regression 2"
   ]
  },
  {
   "cell_type": "code",
   "execution_count": 143,
   "id": "0171e815",
   "metadata": {},
   "outputs": [
    {
     "data": {
      "text/html": [
       "<style>#sk-container-id-35 {color: black;background-color: white;}#sk-container-id-35 pre{padding: 0;}#sk-container-id-35 div.sk-toggleable {background-color: white;}#sk-container-id-35 label.sk-toggleable__label {cursor: pointer;display: block;width: 100%;margin-bottom: 0;padding: 0.3em;box-sizing: border-box;text-align: center;}#sk-container-id-35 label.sk-toggleable__label-arrow:before {content: \"▸\";float: left;margin-right: 0.25em;color: #696969;}#sk-container-id-35 label.sk-toggleable__label-arrow:hover:before {color: black;}#sk-container-id-35 div.sk-estimator:hover label.sk-toggleable__label-arrow:before {color: black;}#sk-container-id-35 div.sk-toggleable__content {max-height: 0;max-width: 0;overflow: hidden;text-align: left;background-color: #f0f8ff;}#sk-container-id-35 div.sk-toggleable__content pre {margin: 0.2em;color: black;border-radius: 0.25em;background-color: #f0f8ff;}#sk-container-id-35 input.sk-toggleable__control:checked~div.sk-toggleable__content {max-height: 200px;max-width: 100%;overflow: auto;}#sk-container-id-35 input.sk-toggleable__control:checked~label.sk-toggleable__label-arrow:before {content: \"▾\";}#sk-container-id-35 div.sk-estimator input.sk-toggleable__control:checked~label.sk-toggleable__label {background-color: #d4ebff;}#sk-container-id-35 div.sk-label input.sk-toggleable__control:checked~label.sk-toggleable__label {background-color: #d4ebff;}#sk-container-id-35 input.sk-hidden--visually {border: 0;clip: rect(1px 1px 1px 1px);clip: rect(1px, 1px, 1px, 1px);height: 1px;margin: -1px;overflow: hidden;padding: 0;position: absolute;width: 1px;}#sk-container-id-35 div.sk-estimator {font-family: monospace;background-color: #f0f8ff;border: 1px dotted black;border-radius: 0.25em;box-sizing: border-box;margin-bottom: 0.5em;}#sk-container-id-35 div.sk-estimator:hover {background-color: #d4ebff;}#sk-container-id-35 div.sk-parallel-item::after {content: \"\";width: 100%;border-bottom: 1px solid gray;flex-grow: 1;}#sk-container-id-35 div.sk-label:hover label.sk-toggleable__label {background-color: #d4ebff;}#sk-container-id-35 div.sk-serial::before {content: \"\";position: absolute;border-left: 1px solid gray;box-sizing: border-box;top: 0;bottom: 0;left: 50%;z-index: 0;}#sk-container-id-35 div.sk-serial {display: flex;flex-direction: column;align-items: center;background-color: white;padding-right: 0.2em;padding-left: 0.2em;position: relative;}#sk-container-id-35 div.sk-item {position: relative;z-index: 1;}#sk-container-id-35 div.sk-parallel {display: flex;align-items: stretch;justify-content: center;background-color: white;position: relative;}#sk-container-id-35 div.sk-item::before, #sk-container-id-35 div.sk-parallel-item::before {content: \"\";position: absolute;border-left: 1px solid gray;box-sizing: border-box;top: 0;bottom: 0;left: 50%;z-index: -1;}#sk-container-id-35 div.sk-parallel-item {display: flex;flex-direction: column;z-index: 1;position: relative;background-color: white;}#sk-container-id-35 div.sk-parallel-item:first-child::after {align-self: flex-end;width: 50%;}#sk-container-id-35 div.sk-parallel-item:last-child::after {align-self: flex-start;width: 50%;}#sk-container-id-35 div.sk-parallel-item:only-child::after {width: 0;}#sk-container-id-35 div.sk-dashed-wrapped {border: 1px dashed gray;margin: 0 0.4em 0.5em 0.4em;box-sizing: border-box;padding-bottom: 0.4em;background-color: white;}#sk-container-id-35 div.sk-label label {font-family: monospace;font-weight: bold;display: inline-block;line-height: 1.2em;}#sk-container-id-35 div.sk-label-container {text-align: center;}#sk-container-id-35 div.sk-container {/* jupyter's `normalize.less` sets `[hidden] { display: none; }` but bootstrap.min.css set `[hidden] { display: none !important; }` so we also need the `!important` here to be able to override the default hidden behavior on the sphinx rendered scikit-learn.org. See: https://github.com/scikit-learn/scikit-learn/issues/21755 */display: inline-block !important;position: relative;}#sk-container-id-35 div.sk-text-repr-fallback {display: none;}</style><div id=\"sk-container-id-35\" class=\"sk-top-container\"><div class=\"sk-text-repr-fallback\"><pre>Pipeline(steps=[(&#x27;standardscaler&#x27;, StandardScaler()),\n",
       "                (&#x27;logisticregression&#x27;,\n",
       "                 LogisticRegression(class_weight=&#x27;balanced&#x27;, max_iter=1000))])</pre><b>In a Jupyter environment, please rerun this cell to show the HTML representation or trust the notebook. <br />On GitHub, the HTML representation is unable to render, please try loading this page with nbviewer.org.</b></div><div class=\"sk-container\" hidden><div class=\"sk-item sk-dashed-wrapped\"><div class=\"sk-label-container\"><div class=\"sk-label sk-toggleable\"><input class=\"sk-toggleable__control sk-hidden--visually\" id=\"sk-estimator-id-70\" type=\"checkbox\" ><label for=\"sk-estimator-id-70\" class=\"sk-toggleable__label sk-toggleable__label-arrow\">Pipeline</label><div class=\"sk-toggleable__content\"><pre>Pipeline(steps=[(&#x27;standardscaler&#x27;, StandardScaler()),\n",
       "                (&#x27;logisticregression&#x27;,\n",
       "                 LogisticRegression(class_weight=&#x27;balanced&#x27;, max_iter=1000))])</pre></div></div></div><div class=\"sk-serial\"><div class=\"sk-item\"><div class=\"sk-estimator sk-toggleable\"><input class=\"sk-toggleable__control sk-hidden--visually\" id=\"sk-estimator-id-71\" type=\"checkbox\" ><label for=\"sk-estimator-id-71\" class=\"sk-toggleable__label sk-toggleable__label-arrow\">StandardScaler</label><div class=\"sk-toggleable__content\"><pre>StandardScaler()</pre></div></div></div><div class=\"sk-item\"><div class=\"sk-estimator sk-toggleable\"><input class=\"sk-toggleable__control sk-hidden--visually\" id=\"sk-estimator-id-72\" type=\"checkbox\" ><label for=\"sk-estimator-id-72\" class=\"sk-toggleable__label sk-toggleable__label-arrow\">LogisticRegression</label><div class=\"sk-toggleable__content\"><pre>LogisticRegression(class_weight=&#x27;balanced&#x27;, max_iter=1000)</pre></div></div></div></div></div></div></div>"
      ],
      "text/plain": [
       "Pipeline(steps=[('standardscaler', StandardScaler()),\n",
       "                ('logisticregression',\n",
       "                 LogisticRegression(class_weight='balanced', max_iter=1000))])"
      ]
     },
     "execution_count": 143,
     "metadata": {},
     "output_type": "execute_result"
    }
   ],
   "source": [
    "#model = make_pipeline(preprocessor, LogisticRegression(max_iter=1000))    \n",
    "model = make_pipeline(StandardScaler(), LogisticRegression(max_iter=1000, class_weight='balanced'))    \n",
    "\n",
    "#model.fit(dfTrain[0:size], yTrain[0:size])\n",
    "model.fit(dfTrain, yTrain)"
   ]
  },
  {
   "cell_type": "code",
   "execution_count": 144,
   "id": "72d9504d",
   "metadata": {},
   "outputs": [
    {
     "name": "stdout",
     "output_type": "stream",
     "text": [
      "Val prediction: [1. 0. 0. ... 0. 0. 0.]\n",
      "Val RMSE: 0.5316426775766061\n",
      "Val AUC: 0.8051752084485885\n",
      "Test prediction: [0.73456695 0.14275147 0.22900159 ... 0.71930781 0.10887026 0.52733347]\n",
      "Test RMSE: 0.4279123400349472\n",
      "Test AUC: 0.8064084877711433\n",
      "Train prediction: [0. 0. 1. ... 0. 0. 1.]\n",
      "Train RMSE: 0.5309403721159544\n",
      "Train AUC: 0.8082597546883606\n",
      "              precision    recall  f1-score   support\n",
      "\n",
      "         0.0       0.94      0.71      0.81     48590\n",
      "         1.0       0.32      0.75      0.45      8779\n",
      "\n",
      "    accuracy                           0.72     57369\n",
      "   macro avg       0.63      0.73      0.63     57369\n",
      "weighted avg       0.84      0.72      0.75     57369\n",
      "\n",
      "                   pre       rec       spe        f1       geo       iba       sup\n",
      "\n",
      "        0.0       0.94      0.71      0.75      0.81      0.73      0.53     48590\n",
      "        1.0       0.32      0.75      0.71      0.45      0.73      0.53      8779\n",
      "\n",
      "avg / total       0.84      0.72      0.74      0.75      0.73      0.53     57369\n",
      "\n"
     ]
    }
   ],
   "source": [
    "yValPredProba = model.predict_proba(dfVal)[:,1]\n",
    "yValPred = model.predict(dfVal)\n",
    "print(f'Val prediction: {yValPred}')\n",
    "print(f'Val RMSE: {mean_squared_error(yVal, yValPred,squared=False)}')\n",
    "auc = roc_auc_score(yVal, yValPredProba)\n",
    "print(f'Val AUC: {auc}')\n",
    "\n",
    "yTestpred=model.predict_proba(dfTest)[:,1]\n",
    "print(f'Test prediction: {yTestpred}')\n",
    "print(f'Test RMSE: {mean_squared_error(yTest, yTestpred,squared=False)}')\n",
    "print(f'Test AUC: {roc_auc_score(yTest, yTestpred)}')\n",
    "\n",
    "yTrainPredProba = model.predict_proba(dfTrain)[:,1]\n",
    "yTrainPred = model.predict(dfTrain)\n",
    "print(f'Train prediction: {yTrainPred}')\n",
    "print(f'Train RMSE: {mean_squared_error(yTrain, yTrainPred,squared=False)}')\n",
    "auc = roc_auc_score(yTrain, yTrainPredProba)\n",
    "print(f'Train AUC: {auc}')\n",
    "\n",
    "print(classification_report(yVal, yValPred))\n",
    "print(classification_report_imbalanced(yVal, model.predict(dfVal)))"
   ]
  },
  {
   "cell_type": "markdown",
   "id": "3d26fb7c",
   "metadata": {},
   "source": [
    "### Logistic regression 3"
   ]
  },
  {
   "cell_type": "code",
   "execution_count": 145,
   "id": "a4cc7df8",
   "metadata": {},
   "outputs": [
    {
     "data": {
      "text/plain": [
       "fit_time                 0.286674\n",
       "score_time               0.086401\n",
       "test_f1                  0.234267\n",
       "train_f1                 0.234382\n",
       "test_recall              0.149948\n",
       "train_recall             0.149944\n",
       "test_precision           0.535447\n",
       "train_precision          0.536531\n",
       "test_precision_micro     0.849942\n",
       "train_precision_micro    0.850043\n",
       "test_accuracy            0.849942\n",
       "train_accuracy           0.850043\n",
       "test_roc_auc             0.807119\n",
       "train_roc_auc            0.807335\n",
       "dtype: float64"
      ]
     },
     "execution_count": 145,
     "metadata": {},
     "output_type": "execute_result"
    }
   ],
   "source": [
    "steps = [ ('scale', StandardScaler()), ('model', LogisticRegression(max_iter=1000,class_weight='balanced'))]\n",
    "#StandardScaler().fit(dfTrainFull)\n",
    "pipeline = make_pipeline(StandardScaler(), LogisticRegression())\n",
    "#Pipeline(steps=steps)\n",
    "# evaluate pipeline\n",
    "cv = RepeatedStratifiedKFold(n_splits=5, n_repeats=2)\n",
    "scores = pd.DataFrame.from_dict( cross_validate(pipeline, dfTrainFull, yTrainFull, cv=cv,\n",
    "                         scoring=('f1', \n",
    "                                  'recall' , \n",
    "                                  'precision', \n",
    "                                  'precision_micro',\n",
    "                                  'accuracy', \n",
    "                                  'roc_auc'),\n",
    "                         return_train_score=True))\n",
    "                                \n",
    "scores = scores.mean(axis=0)     \n",
    "scores"
   ]
  },
  {
   "cell_type": "code",
   "execution_count": 146,
   "id": "2336a7dc",
   "metadata": {},
   "outputs": [
    {
     "name": "stdout",
     "output_type": "stream",
     "text": [
      "Val prediction: [0. 1. 0. ... 1. 0. 0.]\n",
      "Val RMSE: 0.41977392527163065\n",
      "Val AUC: 0.7238333465276791\n",
      "Test prediction: [0.73456695 0.14275147 0.22900159 ... 0.71930781 0.10887026 0.52733347]\n",
      "Test RMSE: 0.4279123400349472\n",
      "Test AUC: 0.8064084877711433\n",
      "Train prediction: [0. 0. 1. ... 0. 0. 0.]\n",
      "Train RMSE: 0.41816764789915706\n",
      "Train AUC: 0.7238333465276791\n",
      "0.7238333465276791\n",
      "              precision    recall  f1-score   support\n",
      "\n",
      "         0.0       0.85      0.96      0.90     48590\n",
      "         1.0       0.28      0.09      0.14      8779\n",
      "\n",
      "    accuracy                           0.82     57369\n",
      "   macro avg       0.57      0.52      0.52     57369\n",
      "weighted avg       0.77      0.82      0.79     57369\n",
      "\n",
      "                   pre       rec       spe        f1       geo       iba       sup\n",
      "\n",
      "        0.0       0.94      0.71      0.75      0.81      0.73      0.53     48590\n",
      "        1.0       0.32      0.75      0.71      0.45      0.73      0.53      8779\n",
      "\n",
      "avg / total       0.84      0.72      0.74      0.75      0.73      0.53     57369\n",
      "\n"
     ]
    }
   ],
   "source": [
    "pipeline.steps[0][1].fit(dfTrain)\n",
    "pipeline.steps[1][1].fit(dfVal, yVal)\n",
    "\n",
    "yValPredProba = pipeline.predict_proba(dfVal)[:,1]\n",
    "yValPred = pipeline.predict(dfVal)\n",
    "print(f'Val prediction: {yValPred}')\n",
    "print(f'Val RMSE: {mean_squared_error(yVal, yValPred,squared=False)}')\n",
    "auc = roc_auc_score(yVal, yValPredProba)\n",
    "print(f'Val AUC: {auc}')\n",
    "\n",
    "yTestpred=model.predict_proba(dfTest)[:,1]\n",
    "print(f'Test prediction: {yTestpred}')\n",
    "print(f'Test RMSE: {mean_squared_error(yTest, yTestpred,squared=False)}')\n",
    "print(f'Test AUC: {roc_auc_score(yTest, yTestpred)}')\n",
    "\n",
    "yTrainPredProba = pipeline.predict_proba(dfTrain)[:,1]\n",
    "yTrainPred = pipeline.predict(dfTrain)\n",
    "print(f'Train prediction: {yTrainPred}')\n",
    "print(f'Train RMSE: {mean_squared_error(yTrain, yTrainPred,squared=False)}')\n",
    "print(f'Train AUC: {auc}')\n",
    "print(auc)\n",
    "\n",
    "print(classification_report(yVal, yValPred))\n",
    "\n",
    "print(classification_report_imbalanced(yVal, model.predict(dfVal)))"
   ]
  },
  {
   "cell_type": "code",
   "execution_count": null,
   "id": "961ceb17",
   "metadata": {},
   "outputs": [],
   "source": []
  },
  {
   "cell_type": "code",
   "execution_count": null,
   "id": "04a5cac4",
   "metadata": {},
   "outputs": [],
   "source": []
  },
  {
   "cell_type": "code",
   "execution_count": null,
   "id": "8ea3d6d6",
   "metadata": {},
   "outputs": [],
   "source": []
  },
  {
   "cell_type": "code",
   "execution_count": null,
   "id": "fe92efed",
   "metadata": {},
   "outputs": [],
   "source": []
  },
  {
   "cell_type": "code",
   "execution_count": null,
   "id": "f913b3b9",
   "metadata": {},
   "outputs": [],
   "source": []
  },
  {
   "cell_type": "markdown",
   "id": "58e1eb14",
   "metadata": {},
   "source": [
    "### Random Forest"
   ]
  },
  {
   "cell_type": "code",
   "execution_count": 166,
   "id": "7c1db222",
   "metadata": {
    "scrolled": true
   },
   "outputs": [
    {
     "data": {
      "text/html": [
       "<style>#sk-container-id-45 {color: black;background-color: white;}#sk-container-id-45 pre{padding: 0;}#sk-container-id-45 div.sk-toggleable {background-color: white;}#sk-container-id-45 label.sk-toggleable__label {cursor: pointer;display: block;width: 100%;margin-bottom: 0;padding: 0.3em;box-sizing: border-box;text-align: center;}#sk-container-id-45 label.sk-toggleable__label-arrow:before {content: \"▸\";float: left;margin-right: 0.25em;color: #696969;}#sk-container-id-45 label.sk-toggleable__label-arrow:hover:before {color: black;}#sk-container-id-45 div.sk-estimator:hover label.sk-toggleable__label-arrow:before {color: black;}#sk-container-id-45 div.sk-toggleable__content {max-height: 0;max-width: 0;overflow: hidden;text-align: left;background-color: #f0f8ff;}#sk-container-id-45 div.sk-toggleable__content pre {margin: 0.2em;color: black;border-radius: 0.25em;background-color: #f0f8ff;}#sk-container-id-45 input.sk-toggleable__control:checked~div.sk-toggleable__content {max-height: 200px;max-width: 100%;overflow: auto;}#sk-container-id-45 input.sk-toggleable__control:checked~label.sk-toggleable__label-arrow:before {content: \"▾\";}#sk-container-id-45 div.sk-estimator input.sk-toggleable__control:checked~label.sk-toggleable__label {background-color: #d4ebff;}#sk-container-id-45 div.sk-label input.sk-toggleable__control:checked~label.sk-toggleable__label {background-color: #d4ebff;}#sk-container-id-45 input.sk-hidden--visually {border: 0;clip: rect(1px 1px 1px 1px);clip: rect(1px, 1px, 1px, 1px);height: 1px;margin: -1px;overflow: hidden;padding: 0;position: absolute;width: 1px;}#sk-container-id-45 div.sk-estimator {font-family: monospace;background-color: #f0f8ff;border: 1px dotted black;border-radius: 0.25em;box-sizing: border-box;margin-bottom: 0.5em;}#sk-container-id-45 div.sk-estimator:hover {background-color: #d4ebff;}#sk-container-id-45 div.sk-parallel-item::after {content: \"\";width: 100%;border-bottom: 1px solid gray;flex-grow: 1;}#sk-container-id-45 div.sk-label:hover label.sk-toggleable__label {background-color: #d4ebff;}#sk-container-id-45 div.sk-serial::before {content: \"\";position: absolute;border-left: 1px solid gray;box-sizing: border-box;top: 0;bottom: 0;left: 50%;z-index: 0;}#sk-container-id-45 div.sk-serial {display: flex;flex-direction: column;align-items: center;background-color: white;padding-right: 0.2em;padding-left: 0.2em;position: relative;}#sk-container-id-45 div.sk-item {position: relative;z-index: 1;}#sk-container-id-45 div.sk-parallel {display: flex;align-items: stretch;justify-content: center;background-color: white;position: relative;}#sk-container-id-45 div.sk-item::before, #sk-container-id-45 div.sk-parallel-item::before {content: \"\";position: absolute;border-left: 1px solid gray;box-sizing: border-box;top: 0;bottom: 0;left: 50%;z-index: -1;}#sk-container-id-45 div.sk-parallel-item {display: flex;flex-direction: column;z-index: 1;position: relative;background-color: white;}#sk-container-id-45 div.sk-parallel-item:first-child::after {align-self: flex-end;width: 50%;}#sk-container-id-45 div.sk-parallel-item:last-child::after {align-self: flex-start;width: 50%;}#sk-container-id-45 div.sk-parallel-item:only-child::after {width: 0;}#sk-container-id-45 div.sk-dashed-wrapped {border: 1px dashed gray;margin: 0 0.4em 0.5em 0.4em;box-sizing: border-box;padding-bottom: 0.4em;background-color: white;}#sk-container-id-45 div.sk-label label {font-family: monospace;font-weight: bold;display: inline-block;line-height: 1.2em;}#sk-container-id-45 div.sk-label-container {text-align: center;}#sk-container-id-45 div.sk-container {/* jupyter's `normalize.less` sets `[hidden] { display: none; }` but bootstrap.min.css set `[hidden] { display: none !important; }` so we also need the `!important` here to be able to override the default hidden behavior on the sphinx rendered scikit-learn.org. See: https://github.com/scikit-learn/scikit-learn/issues/21755 */display: inline-block !important;position: relative;}#sk-container-id-45 div.sk-text-repr-fallback {display: none;}</style><div id=\"sk-container-id-45\" class=\"sk-top-container\"><div class=\"sk-text-repr-fallback\"><pre>Pipeline(steps=[(&#x27;randomforestclassifier&#x27;,\n",
       "                 RandomForestClassifier(max_depth=6, max_features=7,\n",
       "                                        n_estimators=10, random_state=1))])</pre><b>In a Jupyter environment, please rerun this cell to show the HTML representation or trust the notebook. <br />On GitHub, the HTML representation is unable to render, please try loading this page with nbviewer.org.</b></div><div class=\"sk-container\" hidden><div class=\"sk-item sk-dashed-wrapped\"><div class=\"sk-label-container\"><div class=\"sk-label sk-toggleable\"><input class=\"sk-toggleable__control sk-hidden--visually\" id=\"sk-estimator-id-91\" type=\"checkbox\" ><label for=\"sk-estimator-id-91\" class=\"sk-toggleable__label sk-toggleable__label-arrow\">Pipeline</label><div class=\"sk-toggleable__content\"><pre>Pipeline(steps=[(&#x27;randomforestclassifier&#x27;,\n",
       "                 RandomForestClassifier(max_depth=6, max_features=7,\n",
       "                                        n_estimators=10, random_state=1))])</pre></div></div></div><div class=\"sk-serial\"><div class=\"sk-item\"><div class=\"sk-estimator sk-toggleable\"><input class=\"sk-toggleable__control sk-hidden--visually\" id=\"sk-estimator-id-92\" type=\"checkbox\" ><label for=\"sk-estimator-id-92\" class=\"sk-toggleable__label sk-toggleable__label-arrow\">RandomForestClassifier</label><div class=\"sk-toggleable__content\"><pre>RandomForestClassifier(max_depth=6, max_features=7, n_estimators=10,\n",
       "                       random_state=1)</pre></div></div></div></div></div></div></div>"
      ],
      "text/plain": [
       "Pipeline(steps=[('randomforestclassifier',\n",
       "                 RandomForestClassifier(max_depth=6, max_features=7,\n",
       "                                        n_estimators=10, random_state=1))])"
      ]
     },
     "execution_count": 166,
     "metadata": {},
     "output_type": "execute_result"
    }
   ],
   "source": [
    "model = make_pipeline(RandomForestClassifier(n_estimators=10, random_state=1, max_depth=6, max_features=7))\n",
    "model.fit(dfTrain, yTrain)"
   ]
  },
  {
   "cell_type": "code",
   "execution_count": 167,
   "id": "e04a46e6",
   "metadata": {},
   "outputs": [
    {
     "name": "stdout",
     "output_type": "stream",
     "text": [
      "Val prediction: [0. 1. 0. ... 1. 0. 0.]\n",
      "Val RMSE: 0.41977392527163065\n",
      "Val AUC: 0.7238333465276791\n",
      "Test prediction: [0.36083025 0.11424163 0.0544386  ... 0.30122158 0.02557839 0.07643468]\n",
      "Test RMSE: 0.32818126745514126\n",
      "Test AUC: 0.8024548350693672\n",
      "Train prediction: [0. 0. 1. ... 0. 0. 0.]\n",
      "Train RMSE: 0.41816764789915706\n",
      "Train AUC: 0.7238333465276791\n",
      "              precision    recall  f1-score   support\n",
      "\n",
      "         0.0       0.85      1.00      0.92     48590\n",
      "         1.0       0.73      0.02      0.03      8779\n",
      "\n",
      "    accuracy                           0.85     57369\n",
      "   macro avg       0.79      0.51      0.48     57369\n",
      "weighted avg       0.83      0.85      0.78     57369\n",
      "\n",
      "                   pre       rec       spe        f1       geo       iba       sup\n",
      "\n",
      "        0.0       0.85      1.00      0.02      0.92      0.13      0.02     48590\n",
      "        1.0       0.73      0.02      1.00      0.03      0.13      0.02      8779\n",
      "\n",
      "avg / total       0.83      0.85      0.17      0.78      0.13      0.02     57369\n",
      "\n"
     ]
    }
   ],
   "source": [
    "#yValPred = RF.predict_proba(dfVal)[:,1]\n",
    "\n",
    "#roc_auc_score(yVal, yValPred)\n",
    "\n",
    "yValPredProba = pipeline.predict_proba(dfVal)[:,1]\n",
    "yValPred = pipeline.predict(dfVal)\n",
    "print(f'Val prediction: {yValPred}')\n",
    "print(f'Val RMSE: {mean_squared_error(yVal, yValPred,squared=False)}')\n",
    "auc = roc_auc_score(yVal, yValPredProba)\n",
    "print(f'Val AUC: {auc}')\n",
    "\n",
    "yTestpred=model.predict_proba(dfTest)[:,1]\n",
    "print(f'Test prediction: {yTestpred}')\n",
    "print(f'Test RMSE: {mean_squared_error(yTest, yTestpred,squared=False)}')\n",
    "print(f'Test AUC: {roc_auc_score(yTest, yTestpred)}')\n",
    "\n",
    "yTrainPredProba = pipeline.predict_proba(dfTrain)[:,1]\n",
    "yTrainPred = pipeline.predict(dfTrain)\n",
    "print(f'Train prediction: {yTrainPred}')\n",
    "print(f'Train RMSE: {mean_squared_error(yTrain, yTrainPred,squared=False)}')\n",
    "print(f'Train AUC: {auc}')\n",
    "\n",
    "\n",
    "\n",
    "print(classification_report(yVal, RF.predict(dfVal)))\n",
    "print(classification_report_imbalanced(yVal, RF.predict(dfVal)))"
   ]
  },
  {
   "cell_type": "markdown",
   "id": "441eb2f7",
   "metadata": {},
   "source": [
    "### XGBoost"
   ]
  },
  {
   "cell_type": "code",
   "execution_count": 188,
   "id": "c39b9d6b",
   "metadata": {},
   "outputs": [
    {
     "name": "stdout",
     "output_type": "stream",
     "text": [
      "[20:27:26] WARNING: C:/Users/administrator/workspace/xgboost-win64_release_1.6.0/src/learner.cc:627: \n",
      "Parameters: { \"nthreads\" } might not be used.\n",
      "\n",
      "  This could be a false alarm, with some parameters getting used by language bindings but\n",
      "  then being mistakenly passed down to XGBoost core, or some parameter actually being used\n",
      "  but getting flagged wrongly here. Please open an issue if you find any such cases.\n",
      "\n",
      "\n",
      "Val prediction: [0.43330303 0.32844946 0.31655034 ... 0.30759525 0.36391407 0.3321923 ]\n",
      "Val RMSE: 0.3985668144356123\n",
      "Val AUC: 0.8041150417863017\n",
      "Test prediction: [0.43330303 0.32844946 0.31655034 ... 0.44576657 0.3108867  0.34801254]\n",
      "Test RMSE: 0.3983859239882089\n",
      "Test AUC: 0.8038139011755767\n",
      "Train prediction: [0.3097919  0.32611153 0.6250678  ... 0.3224524  0.32575548 0.36065608]\n",
      "Train RMSE: 0.39542749891800716\n",
      "Train AUC: 0.8323507586733755\n",
      "              precision    recall  f1-score   support\n",
      "\n",
      "         0.0       0.86      0.98      0.92     48590\n",
      "         1.0       0.57      0.14      0.22      8779\n",
      "\n",
      "    accuracy                           0.85     57369\n",
      "   macro avg       0.72      0.56      0.57     57369\n",
      "weighted avg       0.82      0.85      0.81     57369\n",
      "\n",
      "                   pre       rec       spe        f1       geo       iba       sup\n",
      "\n",
      "        0.0       0.86      0.98      0.14      0.92      0.37      0.14     48590\n",
      "        1.0       0.57      0.14      0.98      0.22      0.37      0.12      8779\n",
      "\n",
      "avg / total       0.82      0.85      0.27      0.81      0.37      0.14     57369\n",
      "\n"
     ]
    }
   ],
   "source": [
    "dTrain = xgb.DMatrix(dfTrain, yTrain)#, enable_categorical=True)\n",
    "dVal = xgb.DMatrix(dfVal, yVal)#, enable_categorical=True)\n",
    "dTest = xgb.DMatrix(dfTest, yTest)#, enable_categorical=True)\n",
    "xgbParams = {\n",
    "'eta': 0.05,\n",
    "'max_depth': 10,\n",
    "'min_child_weight': 1,\n",
    "\n",
    "'objective': 'binary:logistic',\n",
    "'nthreads': 8,\n",
    "\n",
    "'seed': 1,\n",
    "'verbosity': 1,\n",
    "}\n",
    "\n",
    "model = xgb.train(xgbParams, dTrain, num_boost_round=10)\n",
    "\n",
    "yValPred = model.predict(dVal)\n",
    "\n",
    "#roc_auc_score(yVal, yValPred)\n",
    "\n",
    "#model.fit(dfTrain, yTrain)\n",
    "#yValPred = model.predict_proba(dfVal)[:,1]\n",
    "#yValPred = model.predict(dfVal)#[:,1]\n",
    "#yValPred = np.argmax(resdfVal, axis=1)\n",
    "print(f'Val prediction: {yValPred}')\n",
    "print(f'Val RMSE: {mean_squared_error(yVal, yValPred,squared=False)}')\n",
    "print(f'Val AUC: {roc_auc_score(yVal,yValPred)}')\n",
    "\n",
    "yTestpred = model.predict(dTest)\n",
    "print(f'Test prediction: {yTestpred}')\n",
    "print(f'Test RMSE: {mean_squared_error(yTest, yTestpred,squared=False)}')\n",
    "print(f'Test AUC: {roc_auc_score(yTest, yTestpred)}')\n",
    "\n",
    "#yTrainPred = model.predict_proba(dfTrain)[:,1]\n",
    "#yTrainPred = model.predict(dfTrain)#[:,1]\n",
    "yTrainPred = model.predict(dTrain)\n",
    "#yTrainPred = np.argmax(resdfValPred, axis=1)\n",
    "print(f'Train prediction: {yTrainPred}')\n",
    "print(f'Train RMSE: {mean_squared_error(yTrain, yTrainPred,squared=False)}')\n",
    "print(f'Train AUC: {roc_auc_score(yTrain,yTrainPred)}')\n",
    "\n",
    "print(classification_report(yVal, (yValPred > 0.5).astype(int)))\n",
    "print(classification_report_imbalanced(yVal, (yValPred > 0.5).astype(int)))"
   ]
  },
  {
   "cell_type": "code",
   "execution_count": 189,
   "id": "8b38c023",
   "metadata": {},
   "outputs": [
    {
     "data": {
      "image/png": "[encoded data removed]",
      "text/plain": [
       "<Figure size 432x288 with 2 Axes>"
      ]
     },
     "metadata": {
      "needs_background": "light"
     },
     "output_type": "display_data"
    },
    {
     "data": {
      "image/png": "[encoded data removed]",
      "text/plain": [
       "<Figure size 432x288 with 2 Axes>"
      ]
     },
     "metadata": {
      "needs_background": "light"
     },
     "output_type": "display_data"
    }
   ],
   "source": [
    "cm = confusion_matrix(yVal, (yValPred > 0.5).astype(int))\n",
    "cmprob = np.round(100 * cm / len(yVal), 1)\n",
    "cm_display = ConfusionMatrixDisplay(cm, display_labels=['0', '1']).plot()\n",
    "cm_display = ConfusionMatrixDisplay(cmprob, display_labels=['0', '1']).plot()"
   ]
  },
  {
   "cell_type": "code",
   "execution_count": null,
   "id": "48cd015b",
   "metadata": {},
   "outputs": [],
   "source": []
  },
  {
   "cell_type": "code",
   "execution_count": null,
   "id": "650511cd",
   "metadata": {},
   "outputs": [],
   "source": []
  },
  {
   "cell_type": "code",
   "execution_count": null,
   "id": "5463ab87",
   "metadata": {},
   "outputs": [],
   "source": []
  },
  {
   "cell_type": "code",
   "execution_count": null,
   "id": "59b2ac97",
   "metadata": {},
   "outputs": [],
   "source": [
    "# creating preprocesors\n",
    "from sklearn.preprocessing import OneHotEncoder, StandardScaler\n",
    "catPreprocessor = OneHotEncoder(handle_unknown=\"ignore\")\n",
    "numPreprocessor = StandardScaler()\n",
    "\n",
    "# Transforming the data\n",
    "from sklearn.compose import ColumnTransformer\n",
    "preprocessor = ColumnTransformer([\n",
    "    ('one-hot-encoder', catPreprocessor, categoricalCols)],remainder=\"passthrough\")\n",
    "    #('one-hot-encoder', catPreprocessor, categoricalCols),\n",
    "    #('standard_scaler', numPreprocessor, numericalCols)])\n",
    "    \n"
   ]
  },
  {
   "cell_type": "code",
   "execution_count": null,
   "id": "0c08e9da",
   "metadata": {},
   "outputs": [],
   "source": [
    "# creating the model\n",
    "from sklearn.pipeline import make_pipeline\n",
    "model = make_pipeline(preprocessor, DecisionTreeClassifier(max_depth=10, max_leaf_nodes=30))\n",
    "\n",
    "model.fit(dfTrain, yTrain)"
   ]
  },
  {
   "cell_type": "code",
   "execution_count": null,
   "id": "62423f39",
   "metadata": {},
   "outputs": [],
   "source": []
  },
  {
   "cell_type": "code",
   "execution_count": null,
   "id": "d4e998e9",
   "metadata": {},
   "outputs": [],
   "source": []
  },
  {
   "cell_type": "code",
   "execution_count": null,
   "id": "6642b07b",
   "metadata": {},
   "outputs": [],
   "source": []
  },
  {
   "cell_type": "code",
   "execution_count": null,
   "id": "96e527c1",
   "metadata": {},
   "outputs": [],
   "source": []
  },
  {
   "cell_type": "markdown",
   "id": "5e1977fa",
   "metadata": {},
   "source": [
    "### UnderSampling"
   ]
  },
  {
   "cell_type": "code",
   "execution_count": 174,
   "id": "e1852653",
   "metadata": {},
   "outputs": [
    {
     "data": {
      "text/plain": [
       "((70194, 21), (70194,))"
      ]
     },
     "execution_count": 174,
     "metadata": {},
     "output_type": "execute_result"
    }
   ],
   "source": [
    "df, _,_,_,_,_,_,_,_ = binaryBalancedData()\n",
    "target = df.diabetes\n",
    "data = df.drop(columns=['diabetes'])\n",
    "#nm = NearMiss()\n",
    "nm = NearMiss(version = 1 , n_neighbors = 5)\n",
    "\n",
    "X_res, y_res = nm.fit_resample(data, target)\n",
    "X_res.shape, y_res.shape"
   ]
  },
  {
   "cell_type": "code",
   "execution_count": 175,
   "id": "c24fdf14",
   "metadata": {},
   "outputs": [],
   "source": [
    "X_trainFull , X_test , Y_trainFull , Y_test = train_test_split(X_res,y_res, test_size=0.2 , random_state=42)\n",
    "X_train , X_val , Y_train , Y_val = train_test_split(X_res,y_res, test_size=0.25 , random_state=42)\n",
    "\n",
    "from sklearn.preprocessing import StandardScaler\n",
    "scalar = StandardScaler()\n",
    "X_train = scalar.fit_transform(X_train)\n",
    "X_test = scalar.fit_transform(X_test)\n",
    "X_val = scalar.fit_transform(X_val)"
   ]
  },
  {
   "cell_type": "code",
   "execution_count": 176,
   "id": "f54126ba",
   "metadata": {},
   "outputs": [
    {
     "name": "stdout",
     "output_type": "stream",
     "text": [
      "Training set score: 0.8482\n",
      "Test set score: 0.8453\n"
     ]
    }
   ],
   "source": [
    "lg = LogisticRegression(max_iter = 1200)\n",
    "lg.fit(X_train , Y_train)\n",
    "\n",
    "# make predictions on test set\n",
    "y_pred=lg.predict(X_val)\n",
    "\n",
    "print('Training set score: {:.4f}'.format(lg.score(X_train, Y_train)))\n",
    "\n",
    "print('Test set score: {:.4f}'.format(lg.score(X_val, Y_val)))"
   ]
  },
  {
   "cell_type": "code",
   "execution_count": 177,
   "id": "4595da55",
   "metadata": {},
   "outputs": [
    {
     "name": "stdout",
     "output_type": "stream",
     "text": [
      "Val prediction: [0. 0. 1. ... 1. 0. 0.]\n",
      "Val RMSE: 0.39333150149291435\n",
      "Val AUC: 0.8455082222409083\n",
      "#######\n",
      "Test prediction: [0. 0. 1. ... 0. 0. 0.]\n",
      "Test RMSE: 0.3932437461937661\n",
      "Test AUC: 0.8454454077423313\n",
      "#######\n",
      "Train prediction: [0. 1. 1. ... 1. 0. 0.]\n",
      "Train RMSE: 0.38967586394831966\n",
      "Train AUC: 0.8480900236654181\n",
      "              precision    recall  f1-score   support\n",
      "\n",
      "         0.0       0.80      0.93      0.86      8751\n",
      "         1.0       0.91      0.76      0.83      8798\n",
      "\n",
      "    accuracy                           0.85     17549\n",
      "   macro avg       0.85      0.85      0.84     17549\n",
      "weighted avg       0.85      0.85      0.84     17549\n",
      "\n",
      "                   pre       rec       spe        f1       geo       iba       sup\n",
      "\n",
      "        0.0       0.80      0.93      0.76      0.86      0.84      0.72      8751\n",
      "        1.0       0.91      0.76      0.93      0.83      0.84      0.70      8798\n",
      "\n",
      "avg / total       0.85      0.85      0.85      0.84      0.84      0.71     17549\n",
      "\n"
     ]
    },
    {
     "data": {
      "image/png": "[encoded data removed]",
      "text/plain": [
       "<Figure size 432x288 with 2 Axes>"
      ]
     },
     "metadata": {
      "needs_background": "light"
     },
     "output_type": "display_data"
    },
    {
     "data": {
      "image/png": "[encoded data removed]",
      "text/plain": [
       "<Figure size 432x288 with 2 Axes>"
      ]
     },
     "metadata": {
      "needs_background": "light"
     },
     "output_type": "display_data"
    }
   ],
   "source": [
    "y_pred=lg.predict(X_val)\n",
    "print(f'Val prediction: {y_pred}')\n",
    "print(f'Val RMSE: {mean_squared_error(Y_val, y_pred,squared=False)}')\n",
    "print(f'Val AUC: {roc_auc_score(Y_val,y_pred)}')\n",
    "print('#######')\n",
    "y_Testpred=lg.predict(X_test)\n",
    "print(f'Test prediction: {y_Testpred}')\n",
    "print(f'Test RMSE: {mean_squared_error(Y_test, y_Testpred,squared=False)}')\n",
    "print(f'Test AUC: {roc_auc_score(Y_test, y_Testpred)}')\n",
    "print('#######')\n",
    "y_predTrain=lg.predict(X_train)\n",
    "print(f'Train prediction: {y_predTrain}')\n",
    "print(f'Train RMSE: {mean_squared_error(Y_train, y_predTrain,squared=False)}')\n",
    "print(f'Train AUC: {roc_auc_score(Y_train,y_predTrain)}')\n",
    "\n",
    "cm = confusion_matrix(Y_val, y_pred)\n",
    "cmprob = np.round(100 * cm / len(Y_val), 1)\n",
    "cm_display = ConfusionMatrixDisplay(cm, display_labels=['0', '1']).plot()\n",
    "cm_display = ConfusionMatrixDisplay(cmprob, display_labels=['0', '1']).plot()\n",
    "\n",
    "print(classification_report(Y_val, y_pred))\n",
    "print(classification_report_imbalanced(Y_val, y_pred))"
   ]
  },
  {
   "cell_type": "code",
   "execution_count": 178,
   "id": "662b21e6",
   "metadata": {},
   "outputs": [
    {
     "name": "stdout",
     "output_type": "stream",
     "text": [
      "Val prediction: [1. 1. 1. ... 1. 1. 1.]\n",
      "Val RMSE: 0.9203114168264745\n",
      "Val AUC: 0.5\n",
      "#######\n",
      "Test prediction: [1. 1. 1. ... 1. 1. 1.]\n",
      "Test RMSE: 0.9206566525956482\n",
      "Test AUC: 0.5\n",
      "#######\n",
      "Train prediction: [1. 1. 1. ... 1. 1. 1.]\n",
      "Train RMSE: 0.9203704272555423\n",
      "Train AUC: 0.5\n",
      "              precision    recall  f1-score   support\n",
      "\n",
      "         0.0       0.00      0.00      0.00     48590\n",
      "         1.0       0.15      1.00      0.27      8779\n",
      "\n",
      "    accuracy                           0.15     57369\n",
      "   macro avg       0.08      0.50      0.13     57369\n",
      "weighted avg       0.02      0.15      0.04     57369\n",
      "\n",
      "                   pre       rec       spe        f1       geo       iba       sup\n",
      "\n",
      "        0.0       0.00      0.00      1.00      0.00      0.00      0.00     48590\n",
      "        1.0       0.15      1.00      0.00      0.27      0.00      0.00      8779\n",
      "\n",
      "avg / total       0.02      0.15      0.85      0.04      0.00      0.00     57369\n",
      "\n"
     ]
    },
    {
     "data": {
      "image/png": "[encoded data removed]",
      "text/plain": [
       "<Figure size 432x288 with 2 Axes>"
      ]
     },
     "metadata": {
      "needs_background": "light"
     },
     "output_type": "display_data"
    },
    {
     "data": {
      "image/png": "[encoded data removed]",
      "text/plain": [
       "<Figure size 432x288 with 2 Axes>"
      ]
     },
     "metadata": {
      "needs_background": "light"
     },
     "output_type": "display_data"
    }
   ],
   "source": [
    "y_pred=lg.predict(dfVal)\n",
    "print(f'Val prediction: {y_pred}')\n",
    "print(f'Val RMSE: {mean_squared_error(yVal, y_pred,squared=False)}')\n",
    "print(f'Val AUC: {roc_auc_score(yVal, y_pred)}')\n",
    "print('#######')\n",
    "y_Testpred=lg.predict(dfTest)\n",
    "print(f'Test prediction: {y_Testpred}')\n",
    "print(f'Test RMSE: {mean_squared_error(yTest, y_Testpred,squared=False)}')\n",
    "print(f'Test AUC: {roc_auc_score(yTest, y_Testpred)}')\n",
    "print('#######')\n",
    "y_predTrain=lg.predict(dfTrain)\n",
    "print(f'Train prediction: {y_predTrain}')\n",
    "print(f'Train RMSE: {mean_squared_error(yTrain, y_predTrain,squared=False)}')\n",
    "print(f'Train AUC: {roc_auc_score(yTrain,y_predTrain)}')\n",
    "\n",
    "cm = confusion_matrix(yVal, y_pred)\n",
    "cmprob = np.round(100 * cm / len(yVal), 1)\n",
    "cm_display = ConfusionMatrixDisplay(cm, display_labels=['0', '1']).plot()\n",
    "cm_display = ConfusionMatrixDisplay(cmprob, display_labels=['0', '1']).plot()\n",
    "\n",
    "print(classification_report(yVal, y_pred))\n",
    "print(classification_report_imbalanced(yVal, y_pred))"
   ]
  },
  {
   "cell_type": "code",
   "execution_count": null,
   "id": "e08ca551",
   "metadata": {},
   "outputs": [],
   "source": []
  },
  {
   "cell_type": "code",
   "execution_count": null,
   "id": "8ecf6a37",
   "metadata": {},
   "outputs": [],
   "source": []
  },
  {
   "cell_type": "code",
   "execution_count": null,
   "id": "495c3053",
   "metadata": {},
   "outputs": [],
   "source": []
  },
  {
   "cell_type": "code",
   "execution_count": null,
   "id": "ecd15141",
   "metadata": {},
   "outputs": [],
   "source": []
  },
  {
   "cell_type": "code",
   "execution_count": null,
   "id": "509a1acd",
   "metadata": {},
   "outputs": [],
   "source": []
  },
  {
   "cell_type": "code",
   "execution_count": 179,
   "id": "1e5b4800",
   "metadata": {},
   "outputs": [],
   "source": [
    "from imblearn.under_sampling import RandomUnderSampler\n",
    "from imblearn.over_sampling import RandomOverSampler"
   ]
  },
  {
   "cell_type": "code",
   "execution_count": 180,
   "id": "a93a45d8",
   "metadata": {},
   "outputs": [
    {
     "data": {
      "text/plain": [
       "((70194, 21), (70194,))"
      ]
     },
     "execution_count": 180,
     "metadata": {},
     "output_type": "execute_result"
    }
   ],
   "source": [
    "target = df.diabetes\n",
    "data = df.drop(columns=['diabetes'])\n",
    "#nm = NearMiss()\n",
    "nm = RandomUnderSampler(random_state=0)\n",
    "\n",
    "X_res, y_res = nm.fit_resample(data, target)\n",
    "X_res.shape, y_res.shape"
   ]
  },
  {
   "cell_type": "code",
   "execution_count": 181,
   "id": "445fe658",
   "metadata": {},
   "outputs": [],
   "source": [
    "X_trainFull , X_test , Y_trainFull , Y_test = train_test_split(X_res,y_res, test_size=0.2 , random_state=42)\n",
    "X_train , X_val , Y_train , Y_val = train_test_split(X_res,y_res, test_size=0.25 , random_state=42)\n",
    "\n",
    "from sklearn.preprocessing import StandardScaler\n",
    "scalar = StandardScaler()\n",
    "X_train = scalar.fit_transform(X_train)\n",
    "X_test = scalar.fit_transform(X_test)\n",
    "X_val = scalar.fit_transform(X_val)"
   ]
  },
  {
   "cell_type": "code",
   "execution_count": 182,
   "id": "71b2acfd",
   "metadata": {},
   "outputs": [
    {
     "name": "stdout",
     "output_type": "stream",
     "text": [
      "Training set score: 0.7323\n",
      "Test set score: 0.7295\n"
     ]
    }
   ],
   "source": [
    "lg = LogisticRegression(max_iter = 1200)\n",
    "lg.fit(X_train , Y_train)\n",
    "\n",
    "# make predictions on test set\n",
    "y_pred=lg.predict(X_val)\n",
    "\n",
    "print('Training set score: {:.4f}'.format(lg.score(X_train, Y_train)))\n",
    "\n",
    "print('Test set score: {:.4f}'.format(lg.score(X_val, Y_val)))"
   ]
  },
  {
   "cell_type": "code",
   "execution_count": 183,
   "id": "510a795c",
   "metadata": {},
   "outputs": [
    {
     "name": "stdout",
     "output_type": "stream",
     "text": [
      "Val prediction: [0. 1. 0. ... 1. 0. 0.]\n",
      "Val RMSE: 0.5200958984409823\n",
      "Val AUC: 0.7294435275009911\n",
      "Test prediction: [0. 1. 0. ... 1. 0. 1.]\n",
      "Test RMSE: 0.5199900276841342\n",
      "Test AUC: 0.7295869261834254\n",
      "Train prediction: [0. 1. 1. ... 1. 0. 1.]\n",
      "Train RMSE: 0.5174144682731103\n",
      "Train AUC: 0.7323008105892883\n",
      "              precision    recall  f1-score   support\n",
      "\n",
      "         0.0       0.74      0.71      0.72      8751\n",
      "         1.0       0.72      0.75      0.74      8798\n",
      "\n",
      "    accuracy                           0.73     17549\n",
      "   macro avg       0.73      0.73      0.73     17549\n",
      "weighted avg       0.73      0.73      0.73     17549\n",
      "\n",
      "                   pre       rec       spe        f1       geo       iba       sup\n",
      "\n",
      "        0.0       0.74      0.71      0.75      0.72      0.73      0.53      8751\n",
      "        1.0       0.72      0.75      0.71      0.74      0.73      0.53      8798\n",
      "\n",
      "avg / total       0.73      0.73      0.73      0.73      0.73      0.53     17549\n",
      "\n"
     ]
    },
    {
     "data": {
      "image/png": "[encoded data removed]",
      "text/plain": [
       "<Figure size 432x288 with 2 Axes>"
      ]
     },
     "metadata": {
      "needs_background": "light"
     },
     "output_type": "display_data"
    },
    {
     "data": {
      "image/png": "[encoded data removed]",
      "text/plain": [
       "<Figure size 432x288 with 2 Axes>"
      ]
     },
     "metadata": {
      "needs_background": "light"
     },
     "output_type": "display_data"
    }
   ],
   "source": [
    "y_pred=lg.predict(X_val)\n",
    "print(f'Val prediction: {y_pred}')\n",
    "print(f'Val RMSE: {mean_squared_error(Y_val, y_pred,squared=False)}')\n",
    "print(f'Val AUC: {roc_auc_score(Y_val,y_pred)}')\n",
    "\n",
    "y_predTest=lg.predict(X_test)\n",
    "print(f'Test prediction: {y_predTest}')\n",
    "print(f'Test RMSE: {mean_squared_error(Y_test, y_predTest,squared=False)}')\n",
    "print(f'Test AUC: {roc_auc_score(Y_test, y_predTest)}') \n",
    "\n",
    "y_predTrain=lg.predict(X_train)\n",
    "print(f'Train prediction: {y_predTrain}')\n",
    "print(f'Train RMSE: {mean_squared_error(Y_train, y_predTrain,squared=False)}')\n",
    "print(f'Train AUC: {roc_auc_score(Y_train,y_predTrain)}')\n",
    "\n",
    "cm = confusion_matrix(Y_val, y_pred)\n",
    "cmprob = np.round(100 * cm / len(Y_val), 1)\n",
    "cm_display = ConfusionMatrixDisplay(cm, display_labels=['0', '1']).plot()\n",
    "cm_display = ConfusionMatrixDisplay(cmprob, display_labels=['0', '1']).plot()\n",
    "\n",
    "print(classification_report(Y_val, y_pred))\n",
    "print(classification_report_imbalanced(Y_val, y_pred))"
   ]
  },
  {
   "cell_type": "code",
   "execution_count": 184,
   "id": "611cad55",
   "metadata": {},
   "outputs": [
    {
     "name": "stdout",
     "output_type": "stream",
     "text": [
      "Val prediction: [1. 1. 1. ... 1. 1. 1.]\n",
      "Val RMSE: 0.9203114168264745\n",
      "Val AUC: 0.5\n",
      "#######\n",
      "Test prediction: [1. 1. 1. ... 1. 1. 1.]\n",
      "Test RMSE: 0.9206566525956482\n",
      "Test AUC: 0.5\n",
      "#######\n",
      "Train prediction: [1. 1. 1. ... 1. 1. 1.]\n",
      "Train RMSE: 0.9203704272555423\n",
      "Train AUC: 0.5\n",
      "              precision    recall  f1-score   support\n",
      "\n",
      "         0.0       0.00      0.00      0.00     48590\n",
      "         1.0       0.15      1.00      0.27      8779\n",
      "\n",
      "    accuracy                           0.15     57369\n",
      "   macro avg       0.08      0.50      0.13     57369\n",
      "weighted avg       0.02      0.15      0.04     57369\n",
      "\n",
      "                   pre       rec       spe        f1       geo       iba       sup\n",
      "\n",
      "        0.0       0.00      0.00      1.00      0.00      0.00      0.00     48590\n",
      "        1.0       0.15      1.00      0.00      0.27      0.00      0.00      8779\n",
      "\n",
      "avg / total       0.02      0.15      0.85      0.04      0.00      0.00     57369\n",
      "\n"
     ]
    },
    {
     "data": {
      "image/png": "[encoded data removed]",
      "text/plain": [
       "<Figure size 432x288 with 2 Axes>"
      ]
     },
     "metadata": {
      "needs_background": "light"
     },
     "output_type": "display_data"
    },
    {
     "data": {
      "image/png": "[encoded data removed]",
      "text/plain": [
       "<Figure size 432x288 with 2 Axes>"
      ]
     },
     "metadata": {
      "needs_background": "light"
     },
     "output_type": "display_data"
    }
   ],
   "source": [
    "y_pred=lg.predict(dfVal)\n",
    "print(f'Val prediction: {y_pred}')\n",
    "print(f'Val RMSE: {mean_squared_error(yVal, y_pred,squared=False)}')\n",
    "print(f'Val AUC: {roc_auc_score(yVal, y_pred)}')\n",
    "print('#######')\n",
    "y_Testpred=lg.predict(dfTest)\n",
    "print(f'Test prediction: {y_Testpred}')\n",
    "print(f'Test RMSE: {mean_squared_error(yTest, y_Testpred,squared=False)}')\n",
    "print(f'Test AUC: {roc_auc_score(yTest, y_Testpred)}')\n",
    "print('#######')\n",
    "y_predTrain=lg.predict(dfTrain)\n",
    "print(f'Train prediction: {y_predTrain}')\n",
    "print(f'Train RMSE: {mean_squared_error(yTrain, y_predTrain,squared=False)}')\n",
    "print(f'Train AUC: {roc_auc_score(yTrain,y_predTrain)}')\n",
    "\n",
    "cm = confusion_matrix(yVal, y_pred)\n",
    "cmprob = np.round(100 * cm / len(yVal), 1)\n",
    "cm_display = ConfusionMatrixDisplay(cm, display_labels=['0', '1']).plot()\n",
    "cm_display = ConfusionMatrixDisplay(cmprob, display_labels=['0', '1']).plot()\n",
    "\n",
    "print(classification_report(yVal, y_pred))\n",
    "print(classification_report_imbalanced(yVal, y_pred))"
   ]
  },
  {
   "cell_type": "code",
   "execution_count": null,
   "id": "c86a39e5",
   "metadata": {},
   "outputs": [],
   "source": []
  },
  {
   "cell_type": "code",
   "execution_count": null,
   "id": "c8bb9ce0",
   "metadata": {},
   "outputs": [],
   "source": []
  },
  {
   "cell_type": "code",
   "execution_count": null,
   "id": "c1b6bd7d",
   "metadata": {},
   "outputs": [],
   "source": []
  },
  {
   "cell_type": "code",
   "execution_count": null,
   "id": "3dcf38ef",
   "metadata": {},
   "outputs": [],
   "source": []
  },
  {
   "cell_type": "code",
   "execution_count": null,
   "id": "e9c0800e",
   "metadata": {},
   "outputs": [],
   "source": [
    "from sklearn.datasets import load_iris\n",
    ">>> from sklearn.ensemble import RandomForestClassifier\n",
    ">>> from sklearn.svm import LinearSVC\n",
    ">>> from sklearn.linear_model import LogisticRegression\n",
    ">>> from sklearn.preprocessing import StandardScaler\n",
    ">>> from sklearn.pipeline import make_pipeline\n",
    ">>> from sklearn.ensemble import StackingClassifier\n",
    ">>> X, y = load_iris(return_X_y=True)"
   ]
  },
  {
   "cell_type": "code",
   "execution_count": null,
   "id": "7fce19ca",
   "metadata": {},
   "outputs": [],
   "source": [
    "estimators = [\n",
    "...     ('rf', RandomForestClassifier(n_estimators=10, random_state=42)),\n",
    "...     ('svr', make_pipeline(StandardScaler(),\n",
    "...                           LinearSVC(random_state=42)))\n",
    "... ]"
   ]
  },
  {
   "cell_type": "code",
   "execution_count": null,
   "id": "9d62d7c4",
   "metadata": {},
   "outputs": [],
   "source": [
    "estimators = [\n",
    "...     ('rf1', RandomForestClassifier(n_estimators=10, max_depth=20, random_state=42)),\n",
    "...     ('rf2', RandomForestClassifier(n_estimators=10, max_depth=3, random_state=45))\n",
    "... ]"
   ]
  },
  {
   "cell_type": "code",
   "execution_count": null,
   "id": "224c0777",
   "metadata": {},
   "outputs": [],
   "source": [
    "clf = StackingClassifier(\n",
    "...     #estimators=estimators, final_estimator=LogisticRegression()\n",
    "        estimators=estimators, final_estimator=RandomForestClassifier()\n",
    "... )"
   ]
  },
  {
   "cell_type": "code",
   "execution_count": null,
   "id": "e46144b2",
   "metadata": {},
   "outputs": [],
   "source": [
    "from sklearn.model_selection import train_test_split\n",
    ">>> X_train, X_test, y_train, y_test = train_test_split(\n",
    "...     X, y, stratify=y, random_state=42\n",
    "... )\n",
    ">>> clf.fit(X_train, y_train).score(X_test, y_test)"
   ]
  },
  {
   "cell_type": "code",
   "execution_count": null,
   "id": "748fe253",
   "metadata": {},
   "outputs": [],
   "source": [
    "clf.get_params"
   ]
  },
  {
   "cell_type": "code",
   "execution_count": null,
   "id": "5ab040d7",
   "metadata": {},
   "outputs": [],
   "source": []
  },
  {
   "cell_type": "code",
   "execution_count": null,
   "id": "4c67388e",
   "metadata": {},
   "outputs": [],
   "source": [
    "from sklearn.svm import SVC\n",
    ">>> from sklearn.ensemble import BaggingClassifier\n",
    ">>> from sklearn.datasets import make_classification\n",
    ">>> X, y = make_classification(n_samples=100, n_features=4,\n",
    "...                            n_informative=2, n_redundant=0,\n",
    "...                            random_state=0, shuffle=False)\n",
    ">>> clf = BaggingClassifier(base_estimator=SVC(),\n",
    "...                         n_estimators=10, random_state=0).fit(X, y)\n",
    ">>> clf.predict([[0, 0, 0, 0]])"
   ]
  },
  {
   "cell_type": "code",
   "execution_count": null,
   "id": "7aa41bee",
   "metadata": {},
   "outputs": [],
   "source": [
    "pd.DataFrame(y).value_counts()"
   ]
  },
  {
   "cell_type": "code",
   "execution_count": null,
   "id": "dc02bf0a",
   "metadata": {},
   "outputs": [],
   "source": []
  },
  {
   "cell_type": "code",
   "execution_count": null,
   "id": "fc0221f2",
   "metadata": {},
   "outputs": [],
   "source": [
    "from pandas_profiling import ProfileReport\n",
    "ProfileReport(data)"
   ]
  },
  {
   "cell_type": "code",
   "execution_count": null,
   "id": "3ffd3687",
   "metadata": {},
   "outputs": [],
   "source": []
  },
  {
   "cell_type": "code",
   "execution_count": null,
   "id": "b03a45eb",
   "metadata": {},
   "outputs": [],
   "source": []
  },
  {
   "cell_type": "code",
   "execution_count": null,
   "id": "5e5e684f",
   "metadata": {},
   "outputs": [],
   "source": []
  },
  {
   "cell_type": "code",
   "execution_count": null,
   "id": "a3184e55",
   "metadata": {},
   "outputs": [],
   "source": []
  },
  {
   "cell_type": "code",
   "execution_count": null,
   "id": "ed641845",
   "metadata": {},
   "outputs": [],
   "source": []
  },
  {
   "cell_type": "code",
   "execution_count": null,
   "id": "544e7550",
   "metadata": {},
   "outputs": [],
   "source": [
    "steps = [ ('scale', StandardScaler()), ('model', LogisticRegression())]\n",
    "pipeline = Pipeline(steps=steps)\n",
    "# evaluate pipeline\n",
    "cv = RepeatedStratifiedKFold(n_splits=10, n_repeats=2)\n",
    "scores = pd.DataFrame.from_dict( cross_validate(pipeline, dfTrainFull, yTrainFull, cv=cv,\n",
    "                         scoring=('f1', \n",
    "                                  'recall' , \n",
    "                                  'precision', \n",
    "                                  'precision_micro',\n",
    "                                  'accuracy', \n",
    "                                  'roc_auc'),\n",
    "                         return_train_score=True))\n",
    "                                \n",
    "scores = scores.mean(axis=0)     \n",
    "scores"
   ]
  },
  {
   "cell_type": "code",
   "execution_count": null,
   "id": "6e403ab7",
   "metadata": {},
   "outputs": [],
   "source": []
  },
  {
   "cell_type": "code",
   "execution_count": null,
   "id": "70dcf862",
   "metadata": {},
   "outputs": [],
   "source": [
    "from sklearn.metrics import roc_curve, RocCurveDisplay\n",
    "\n",
    "fig, ax = plt.subplots(figsize=(8, 8))\n",
    "fpr, tpr, _ = roc_curve(yVal.values, yValPredProba)\n",
    "roc_display1 = RocCurveDisplay(fpr=fpr, tpr=tpr).plot(ax=ax)\n",
    "#fpr2, tpr2, _ = roc_curve(yVal, targetRand)\n",
    "#roc_display2 = RocCurveDisplay(fpr=fpr2, tpr=tpr2).plot(ax=ax)\n",
    "\n",
    "plt.show()"
   ]
  }
 ],
 "metadata": {
  "kernelspec": {
   "display_name": "Python 3 (ipykernel)",
   "language": "python",
   "name": "python3"
  },
  "language_info": {
   "codemirror_mode": {
    "name": "ipython",
    "version": 3
   },
   "file_extension": ".py",
   "mimetype": "text/x-python",
   "name": "python",
   "nbconvert_exporter": "python",
   "pygments_lexer": "ipython3",
   "version": "3.9.7"
  }
 },
 "nbformat": 4,
 "nbformat_minor": 5
}
