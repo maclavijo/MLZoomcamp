{
 "cells": [
  {
   "cell_type": "code",
   "execution_count": 11,
   "id": "deddb5e1",
   "metadata": {},
   "outputs": [],
   "source": [
    "import requests"
   ]
  },
  {
   "cell_type": "code",
   "execution_count": 12,
   "id": "7a2a9813",
   "metadata": {},
   "outputs": [],
   "source": [
    "url = 'http://localhost:9696/predict'"
   ]
  },
  {
   "cell_type": "code",
   "execution_count": 34,
   "id": "c6c1314a",
   "metadata": {},
   "outputs": [],
   "source": [
    "user = {\n",
    "    \"tenure\": 1,\n",
    "    \"monthlycharges\": 700.75,\n",
    "    \"totalcharges\": 700.75,\n",
    "    \"seniorcitizen\": 0,\n",
    "    \"gender\": \"male\",\n",
    "    \"partner\": \"no\",\n",
    "    \"dependents\": \"yes\",\n",
    "    \"phoneservice\": \"yes\",\n",
    "    \"multiplelines\": \"no\",\n",
    "    \"internetservice\": \"no\",\n",
    "    \"onlinesecurity\": \"no_internet_service\",\n",
    "    \"onlinebackup\": \"no_internet_service\",\n",
    "    \"deviceprotection\": \"no_internet_service\",\n",
    "    \"techsupport\": \"no_internet_service\",\n",
    "    \"streamingtv\": \"no_internet_service\",\n",
    "    \"streamingmovies\": \"no_internet_service\",\n",
    "    \"contract\": \"month-to-month\",\n",
    "    \"paperlessbilling\": \"no\",\n",
    "    \"paymentmethod\": \"mailed_check\"\n",
    "    }"
   ]
  },
  {
   "cell_type": "code",
   "execution_count": 37,
   "id": "56a252f0",
   "metadata": {},
   "outputs": [],
   "source": [
    "res = requests.post(url, json=user).json()"
   ]
  },
  {
   "cell_type": "code",
   "execution_count": 38,
   "id": "3d0424a4",
   "metadata": {},
   "outputs": [
    {
     "data": {
      "text/plain": [
       "{'churn': True, 'churn probability': 0.766316917982159}"
      ]
     },
     "execution_count": 38,
     "metadata": {},
     "output_type": "execute_result"
    }
   ],
   "source": [
    "res"
   ]
  },
  {
   "cell_type": "code",
   "execution_count": 39,
   "id": "2f391e11",
   "metadata": {},
   "outputs": [
    {
     "name": "stdout",
     "output_type": "stream",
     "text": [
      "Sending promo email to customer\n"
     ]
    }
   ],
   "source": [
    "if res['churn'] == True:\n",
    "    print('Sending promo email to customer')"
   ]
  },
  {
   "cell_type": "code",
   "execution_count": null,
   "id": "c4f9fea1",
   "metadata": {},
   "outputs": [],
   "source": []
  }
 ],
 "metadata": {
  "kernelspec": {
   "display_name": "Python 3 (ipykernel)",
   "language": "python",
   "name": "python3"
  },
  "language_info": {
   "codemirror_mode": {
    "name": "ipython",
    "version": 3
   },
   "file_extension": ".py",
   "mimetype": "text/x-python",
   "name": "python",
   "nbconvert_exporter": "python",
   "pygments_lexer": "ipython3",
   "version": "3.9.7"
  }
 },
 "nbformat": 4,
 "nbformat_minor": 5
}
