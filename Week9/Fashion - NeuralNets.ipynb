{
 "cells": [
  {
   "cell_type": "code",
   "execution_count": 66,
   "id": "8d264ce5",
   "metadata": {},
   "outputs": [],
   "source": [
    "import pandas as pd\n",
    "import numpy as np\n",
    "import matplotlib.pyplot as plt"
   ]
  },
  {
   "cell_type": "code",
   "execution_count": 30,
   "id": "e8b020a9",
   "metadata": {},
   "outputs": [],
   "source": [
    "import tensorflow as tf\n",
    "from tensorflow import keras\n",
    "from keras_preprocessing.image import load_img"
   ]
  },
  {
   "cell_type": "code",
   "execution_count": 3,
   "id": "dda3e490",
   "metadata": {},
   "outputs": [],
   "source": [
    "path ='./clothing-dataset-small/train/t-shirt/'\n",
    "file = '1cab0eb2-60f6-4d0a-a380-9a07b834d855.jpg'\n",
    "fullName = f'{path}/{file}'"
   ]
  },
  {
   "cell_type": "code",
   "execution_count": 4,
   "id": "ab3211c9",
   "metadata": {},
   "outputs": [],
   "source": [
    "img = load_img(fullName, target_size=(299,299))"
   ]
  },
  {
   "cell_type": "code",
   "execution_count": 5,
   "id": "e405b68a",
   "metadata": {},
   "outputs": [
    {
     "name": "stdout",
     "output_type": "stream",
     "text": [
      "<PIL.Image.Image image mode=RGB size=299x299 at 0x16BB2BEC220>\n"
     ]
    }
   ],
   "source": [
    "print(img)"
   ]
  },
  {
   "cell_type": "code",
   "execution_count": 6,
   "id": "233b9d62",
   "metadata": {},
   "outputs": [
    {
     "data": {
      "text/plain": [
       "(299, 299, 3)"
      ]
     },
     "execution_count": 6,
     "metadata": {},
     "output_type": "execute_result"
    }
   ],
   "source": [
    "x = np.array(img)\n",
    "x.shape"
   ]
  },
  {
   "cell_type": "code",
   "execution_count": 28,
   "id": "2de11076",
   "metadata": {},
   "outputs": [],
   "source": [
    "from keras.applications.xception import Xception, preprocess_input, decode_predictions"
   ]
  },
  {
   "cell_type": "code",
   "execution_count": 29,
   "id": "c57db46d",
   "metadata": {},
   "outputs": [],
   "source": [
    "model = Xception(weights='imagenet', input_shape=(299,299,3))"
   ]
  },
  {
   "cell_type": "code",
   "execution_count": 9,
   "id": "48e06521",
   "metadata": {},
   "outputs": [],
   "source": [
    "X = np.array([x])\n",
    "X = preprocess_input(X)"
   ]
  },
  {
   "cell_type": "code",
   "execution_count": 10,
   "id": "1c31c65d",
   "metadata": {},
   "outputs": [
    {
     "data": {
      "text/plain": [
       "(1, 1000)"
      ]
     },
     "execution_count": 10,
     "metadata": {},
     "output_type": "execute_result"
    }
   ],
   "source": [
    "pred = model.predict(X)\n",
    "pred.shape"
   ]
  },
  {
   "cell_type": "code",
   "execution_count": 11,
   "id": "c3b23784",
   "metadata": {},
   "outputs": [
    {
     "data": {
      "text/plain": [
       "[[('n03595614', 'jersey', 0.47058782),\n",
       "  ('n04033995', 'quilt', 0.021494234),\n",
       "  ('n04370456', 'sweatshirt', 0.016343094),\n",
       "  ('n03188531', 'diaper', 0.016156502),\n",
       "  ('n02730930', 'apron', 0.013485141)]]"
      ]
     },
     "execution_count": 11,
     "metadata": {},
     "output_type": "execute_result"
    }
   ],
   "source": [
    "decode_predictions(pred)"
   ]
  },
  {
   "cell_type": "markdown",
   "id": "c4401e88",
   "metadata": {},
   "source": [
    "### CNN - Transfer Learning"
   ]
  },
  {
   "cell_type": "code",
   "execution_count": 26,
   "id": "b53ca310",
   "metadata": {},
   "outputs": [],
   "source": [
    "from keras_preprocessing.image import ImageDataGenerator"
   ]
  },
  {
   "cell_type": "code",
   "execution_count": 27,
   "id": "e7619c8e",
   "metadata": {},
   "outputs": [],
   "source": [
    "train_gen = ImageDataGenerator(preprocessing_function=preprocess_input)"
   ]
  },
  {
   "cell_type": "code",
   "execution_count": 16,
   "id": "79f77fb8",
   "metadata": {},
   "outputs": [
    {
     "name": "stdout",
     "output_type": "stream",
     "text": [
      "Found 3068 images belonging to 10 classes.\n"
     ]
    }
   ],
   "source": [
    "train_ds = train_gen.flow_from_directory('./clothing-dataset-small/train/',\n",
    "                              target_size=(150,150),\n",
    "                              batch_size=32)"
   ]
  },
  {
   "cell_type": "code",
   "execution_count": 17,
   "id": "b565dceb",
   "metadata": {},
   "outputs": [
    {
     "data": {
      "text/plain": [
       "{'dress': 0,\n",
       " 'hat': 1,\n",
       " 'longsleeve': 2,\n",
       " 'outwear': 3,\n",
       " 'pants': 4,\n",
       " 'shirt': 5,\n",
       " 'shoes': 6,\n",
       " 'shorts': 7,\n",
       " 'skirt': 8,\n",
       " 't-shirt': 9}"
      ]
     },
     "execution_count": 17,
     "metadata": {},
     "output_type": "execute_result"
    }
   ],
   "source": [
    "train_ds.class_indices"
   ]
  },
  {
   "cell_type": "code",
   "execution_count": 19,
   "id": "0ee146e7",
   "metadata": {},
   "outputs": [],
   "source": [
    "X, y = next(train_ds)"
   ]
  },
  {
   "cell_type": "code",
   "execution_count": 22,
   "id": "c334db6a",
   "metadata": {},
   "outputs": [
    {
     "data": {
      "text/plain": [
       "array([[0., 0., 0., 0., 0., 0., 0., 1., 0., 0.],\n",
       "       [0., 0., 0., 0., 0., 0., 0., 0., 1., 0.],\n",
       "       [0., 0., 0., 0., 1., 0., 0., 0., 0., 0.],\n",
       "       [0., 0., 0., 0., 0., 1., 0., 0., 0., 0.],\n",
       "       [0., 0., 0., 0., 0., 1., 0., 0., 0., 0.]], dtype=float32)"
      ]
     },
     "execution_count": 22,
     "metadata": {},
     "output_type": "execute_result"
    }
   ],
   "source": [
    "y[:5]"
   ]
  },
  {
   "cell_type": "code",
   "execution_count": 23,
   "id": "790d67c5",
   "metadata": {},
   "outputs": [
    {
     "name": "stdout",
     "output_type": "stream",
     "text": [
      "Found 341 images belonging to 10 classes.\n"
     ]
    }
   ],
   "source": [
    "val_gen = ImageDataGenerator(preprocessing_function=preprocess_input)\n",
    "\n",
    "val_ds = val_gen.flow_from_directory('./clothing-dataset-small/validation/',\n",
    "                                     target_size=(150,150),\n",
    "                                     batch_size=32,\n",
    "                                     shuffle=False\n",
    "                                    )"
   ]
  },
  {
   "cell_type": "code",
   "execution_count": 39,
   "id": "4afbb33e",
   "metadata": {},
   "outputs": [],
   "source": [
    "base_model = tf.keras.applications.Xception(weights='imagenet',\n",
    "                                            include_top=False,\n",
    "                                            input_shape=(150, 150, 3))\n",
    "\n",
    "base_model.trainable = False\n",
    "\n",
    "inputs = keras.Input(shape=(150,150,3))\n",
    "\n",
    "base = base_model(inputs, training=False)\n",
    "\n",
    "vectors = keras.layers.GlobalAveragePooling2D()(base)\n",
    "\n",
    "outputs = keras.layers.Dense(10)(vectors)\n",
    "\n",
    "model = keras.Model(inputs, outputs)"
   ]
  },
  {
   "cell_type": "code",
   "execution_count": 55,
   "id": "18528a8e",
   "metadata": {},
   "outputs": [
    {
     "name": "stdout",
     "output_type": "stream",
     "text": [
      "WARNING:tensorflow:6 out of the last 6 calls to <function Model.make_predict_function.<locals>.predict_function at 0x0000016E83E87280> triggered tf.function retracing. Tracing is expensive and the excessive number of tracings could be due to (1) creating @tf.function repeatedly in a loop, (2) passing tensors with different shapes, (3) passing Python objects instead of tensors. For (1), please define your @tf.function outside of the loop. For (2), @tf.function has experimental_relax_shapes=True option that relaxes argument shapes that can avoid unnecessary retracing. For (3), please refer to https://www.tensorflow.org/guide/function#controlling_retracing and https://www.tensorflow.org/api_docs/python/tf/function for  more details.\n"
     ]
    }
   ],
   "source": [
    "preds = model.predict(X)"
   ]
  },
  {
   "cell_type": "code",
   "execution_count": 56,
   "id": "b81d36cd",
   "metadata": {},
   "outputs": [
    {
     "data": {
      "text/plain": [
       "(32, 10)"
      ]
     },
     "execution_count": 56,
     "metadata": {},
     "output_type": "execute_result"
    }
   ],
   "source": [
    "preds.shape"
   ]
  },
  {
   "cell_type": "code",
   "execution_count": 58,
   "id": "cfa9825e",
   "metadata": {},
   "outputs": [],
   "source": [
    "learning_rate = 0.01\n",
    "optimizer = keras.optimizers.Adam(learning_rate=learning_rate)\n",
    "loss = keras.losses.CategoricalCrossentropy(from_logits=True)\n",
    "model.compile(optimizer=optimizer, loss=loss, metrics=['accuracy'])"
   ]
  },
  {
   "cell_type": "code",
   "execution_count": 59,
   "id": "5e552a5f",
   "metadata": {},
   "outputs": [
    {
     "name": "stdout",
     "output_type": "stream",
     "text": [
      "Epoch 1/10\n",
      "96/96 [==============================] - 34s 310ms/step - loss: 1.2099 - accuracy: 0.6780 - val_loss: 0.7955 - val_accuracy: 0.7830\n",
      "Epoch 2/10\n",
      "96/96 [==============================] - 29s 303ms/step - loss: 0.6167 - accuracy: 0.8191 - val_loss: 0.8804 - val_accuracy: 0.7742\n",
      "Epoch 3/10\n",
      "96/96 [==============================] - 17s 183ms/step - loss: 0.3612 - accuracy: 0.8716 - val_loss: 0.8278 - val_accuracy: 0.7977\n",
      "Epoch 4/10\n",
      "96/96 [==============================] - 35s 369ms/step - loss: 0.2532 - accuracy: 0.9042 - val_loss: 0.7921 - val_accuracy: 0.8035\n",
      "Epoch 5/10\n",
      "96/96 [==============================] - 11s 116ms/step - loss: 0.1879 - accuracy: 0.9351 - val_loss: 0.7802 - val_accuracy: 0.8152\n",
      "Epoch 6/10\n",
      "96/96 [==============================] - 11s 114ms/step - loss: 0.1055 - accuracy: 0.9648 - val_loss: 0.8239 - val_accuracy: 0.8123\n",
      "Epoch 7/10\n",
      "96/96 [==============================] - 11s 114ms/step - loss: 0.0824 - accuracy: 0.9739 - val_loss: 0.9718 - val_accuracy: 0.8123\n",
      "Epoch 8/10\n",
      "96/96 [==============================] - 12s 127ms/step - loss: 0.0581 - accuracy: 0.9811 - val_loss: 0.8690 - val_accuracy: 0.8065\n",
      "Epoch 9/10\n",
      "96/96 [==============================] - 10s 109ms/step - loss: 0.0384 - accuracy: 0.9922 - val_loss: 0.8325 - val_accuracy: 0.8152\n",
      "Epoch 10/10\n",
      "96/96 [==============================] - 11s 109ms/step - loss: 0.0224 - accuracy: 0.9977 - val_loss: 0.8601 - val_accuracy: 0.8152\n"
     ]
    }
   ],
   "source": [
    "history = model.fit(train_ds, epochs=10, validation_data=val_ds)"
   ]
  },
  {
   "cell_type": "code",
   "execution_count": 70,
   "id": "0a6f6613",
   "metadata": {},
   "outputs": [
    {
     "data": {
      "image/png": "[encoded data removed]",
      "text/plain": [
       "<Figure size 640x480 with 1 Axes>"
      ]
     },
     "metadata": {},
     "output_type": "display_data"
    }
   ],
   "source": [
    "plt.plot(history.history['accuracy'], label='Train')\n",
    "plt.plot(history.history['val_accuracy'], label='Validation')\n",
    "plt.xticks(np.arange(10))\n",
    "plt.legend()\n",
    "plt.show()"
   ]
  },
  {
   "cell_type": "code",
   "execution_count": 61,
   "id": "18cb39b5",
   "metadata": {},
   "outputs": [
    {
     "data": {
      "text/plain": [
       "{'loss': [1.209897756576538,\n",
       "  0.6167334914207458,\n",
       "  0.3612062931060791,\n",
       "  0.253212034702301,\n",
       "  0.18785111606121063,\n",
       "  0.105523020029068,\n",
       "  0.0824485793709755,\n",
       "  0.05811534449458122,\n",
       "  0.03835832700133324,\n",
       "  0.02236611396074295],\n",
       " 'accuracy': [0.6779661178588867,\n",
       "  0.8191003799438477,\n",
       "  0.8715775609016418,\n",
       "  0.9041721224784851,\n",
       "  0.9351369142532349,\n",
       "  0.9647979140281677,\n",
       "  0.9739243984222412,\n",
       "  0.9810951948165894,\n",
       "  0.9921773076057434,\n",
       "  0.9977183938026428],\n",
       " 'val_loss': [0.7954729795455933,\n",
       "  0.8803503513336182,\n",
       "  0.827842116355896,\n",
       "  0.7920525074005127,\n",
       "  0.7801865339279175,\n",
       "  0.8239478468894958,\n",
       "  0.9717949628829956,\n",
       "  0.869010329246521,\n",
       "  0.8325257897377014,\n",
       "  0.86012202501297],\n",
       " 'val_accuracy': [0.7829912304878235,\n",
       "  0.774193525314331,\n",
       "  0.7976539731025696,\n",
       "  0.803519070148468,\n",
       "  0.8152492642402649,\n",
       "  0.8123167157173157,\n",
       "  0.8123167157173157,\n",
       "  0.8064516186714172,\n",
       "  0.8152492642402649,\n",
       "  0.8152492642402649]}"
      ]
     },
     "execution_count": 61,
     "metadata": {},
     "output_type": "execute_result"
    }
   ],
   "source": [
    "history.history"
   ]
  },
  {
   "cell_type": "markdown",
   "id": "6b339ae2",
   "metadata": {},
   "source": [
    "### Adjusting the learning rate"
   ]
  },
  {
   "cell_type": "code",
   "execution_count": 73,
   "id": "36500adb",
   "metadata": {},
   "outputs": [],
   "source": [
    "def make_model(learning_rate = 0.01):\n",
    "    \n",
    "    base_model = tf.keras.applications.Xception(weights='imagenet',\n",
    "                                            include_top=False,\n",
    "                                            input_shape=(150, 150, 3))\n",
    "\n",
    "    base_model.trainable = False\n",
    "\n",
    "    #########################################################\n",
    "\n",
    "    inputs = keras.Input(shape=(150,150,3))\n",
    "    base = base_model(inputs, training=False)\n",
    "    vectors = keras.layers.GlobalAveragePooling2D()(base)\n",
    "    outputs = keras.layers.Dense(10)(vectors)\n",
    "    model = keras.Model(inputs, outputs)\n",
    "    \n",
    "    #########################################################\n",
    "    \n",
    "    optimizer = keras.optimizers.Adam(learning_rate=learning_rate)\n",
    "    loss = keras.losses.CategoricalCrossentropy(from_logits=True)\n",
    "    model.compile(optimizer=optimizer, loss=loss, metrics=['accuracy'])\n",
    "    \n",
    "    return model"
   ]
  },
  {
   "cell_type": "code",
   "execution_count": 101,
   "id": "9efc4ff7",
   "metadata": {
    "scrolled": true
   },
   "outputs": [
    {
     "name": "stdout",
     "output_type": "stream",
     "text": [
      "0.0001\n",
      "Epoch 1/10\n",
      "96/96 [==============================] - 15s 135ms/step - loss: 1.8853 - accuracy: 0.3686 - val_loss: 1.5735 - val_accuracy: 0.5044\n",
      "Epoch 2/10\n",
      "96/96 [==============================] - 16s 162ms/step - loss: 1.3583 - accuracy: 0.5808 - val_loss: 1.2381 - val_accuracy: 0.6276\n",
      "Epoch 3/10\n",
      "96/96 [==============================] - 18s 185ms/step - loss: 1.1245 - accuracy: 0.6496 - val_loss: 1.0668 - val_accuracy: 0.6716\n",
      "Epoch 4/10\n",
      "96/96 [==============================] - 14s 146ms/step - loss: 0.9896 - accuracy: 0.6894 - val_loss: 0.9644 - val_accuracy: 0.7009\n",
      "Epoch 5/10\n",
      "96/96 [==============================] - 16s 163ms/step - loss: 0.9002 - accuracy: 0.7164 - val_loss: 0.8920 - val_accuracy: 0.7390\n",
      "Epoch 6/10\n",
      "96/96 [==============================] - 17s 180ms/step - loss: 0.8353 - accuracy: 0.7350 - val_loss: 0.8366 - val_accuracy: 0.7507\n",
      "Epoch 7/10\n",
      "96/96 [==============================] - 24s 252ms/step - loss: 0.7836 - accuracy: 0.7490 - val_loss: 0.7972 - val_accuracy: 0.7507\n",
      "Epoch 8/10\n",
      "96/96 [==============================] - 41s 427ms/step - loss: 0.7425 - accuracy: 0.7585 - val_loss: 0.7670 - val_accuracy: 0.7537\n",
      "Epoch 9/10\n",
      "96/96 [==============================] - 36s 381ms/step - loss: 0.7080 - accuracy: 0.7702 - val_loss: 0.7395 - val_accuracy: 0.7683\n",
      "Epoch 10/10\n",
      "96/96 [==============================] - 44s 462ms/step - loss: 0.6777 - accuracy: 0.7803 - val_loss: 0.7229 - val_accuracy: 0.7713\n",
      "\n",
      "\n",
      "\n",
      "0.001\n",
      "Epoch 1/10\n",
      "96/96 [==============================] - 62s 580ms/step - loss: 1.1117 - accuracy: 0.6206 - val_loss: 0.7304 - val_accuracy: 0.7683\n",
      "Epoch 2/10\n",
      "96/96 [==============================] - 90s 892ms/step - loss: 0.6432 - accuracy: 0.7764 - val_loss: 0.6407 - val_accuracy: 0.7947\n",
      "Epoch 3/10\n",
      "96/96 [==============================] - 25s 264ms/step - loss: 0.5179 - accuracy: 0.8266 - val_loss: 0.6198 - val_accuracy: 0.8123\n",
      "Epoch 4/10\n",
      "96/96 [==============================] - 56s 520ms/step - loss: 0.4358 - accuracy: 0.8572 - val_loss: 0.5906 - val_accuracy: 0.8065\n",
      "Epoch 5/10\n",
      "96/96 [==============================] - 43s 442ms/step - loss: 0.3785 - accuracy: 0.8791 - val_loss: 0.5596 - val_accuracy: 0.8240\n",
      "Epoch 6/10\n",
      "96/96 [==============================] - 38s 401ms/step - loss: 0.3320 - accuracy: 0.8999 - val_loss: 0.5389 - val_accuracy: 0.8358\n",
      "Epoch 7/10\n",
      "96/96 [==============================] - 31s 325ms/step - loss: 0.2948 - accuracy: 0.9172 - val_loss: 0.5538 - val_accuracy: 0.8094\n",
      "Epoch 8/10\n",
      "96/96 [==============================] - 25s 262ms/step - loss: 0.2637 - accuracy: 0.9348 - val_loss: 0.5420 - val_accuracy: 0.8182\n",
      "Epoch 9/10\n",
      "96/96 [==============================] - 12s 120ms/step - loss: 0.2394 - accuracy: 0.9407 - val_loss: 0.5521 - val_accuracy: 0.8211\n",
      "Epoch 10/10\n",
      "96/96 [==============================] - 11s 112ms/step - loss: 0.2157 - accuracy: 0.9527 - val_loss: 0.5386 - val_accuracy: 0.8299\n",
      "\n",
      "\n",
      "\n",
      "0.01\n",
      "Epoch 1/10\n",
      "96/96 [==============================] - 23s 202ms/step - loss: 1.2362 - accuracy: 0.6734 - val_loss: 0.8589 - val_accuracy: 0.7742\n",
      "Epoch 2/10\n",
      "96/96 [==============================] - 11s 117ms/step - loss: 0.5283 - accuracy: 0.8292 - val_loss: 0.8088 - val_accuracy: 0.7595\n",
      "Epoch 3/10\n",
      "96/96 [==============================] - 13s 136ms/step - loss: 0.3894 - accuracy: 0.8729 - val_loss: 1.0962 - val_accuracy: 0.7595\n",
      "Epoch 4/10\n",
      "96/96 [==============================] - 14s 146ms/step - loss: 0.3477 - accuracy: 0.8836 - val_loss: 0.9541 - val_accuracy: 0.7889\n",
      "Epoch 5/10\n",
      "96/96 [==============================] - 11s 118ms/step - loss: 0.1576 - accuracy: 0.9443 - val_loss: 1.0185 - val_accuracy: 0.7566\n",
      "Epoch 6/10\n",
      "96/96 [==============================] - 14s 144ms/step - loss: 0.1173 - accuracy: 0.9563 - val_loss: 0.8845 - val_accuracy: 0.7947\n",
      "Epoch 7/10\n",
      "96/96 [==============================] - 11s 113ms/step - loss: 0.0890 - accuracy: 0.9668 - val_loss: 0.8873 - val_accuracy: 0.8006\n",
      "Epoch 8/10\n",
      "96/96 [==============================] - 11s 115ms/step - loss: 0.0477 - accuracy: 0.9853 - val_loss: 0.9342 - val_accuracy: 0.8123\n",
      "Epoch 9/10\n",
      "96/96 [==============================] - 11s 113ms/step - loss: 0.0362 - accuracy: 0.9915 - val_loss: 0.9127 - val_accuracy: 0.8182\n",
      "Epoch 10/10\n",
      "96/96 [==============================] - 13s 138ms/step - loss: 0.0326 - accuracy: 0.9915 - val_loss: 0.9043 - val_accuracy: 0.7947\n",
      "\n",
      "\n",
      "\n",
      "0.1\n",
      "Epoch 1/10\n",
      "96/96 [==============================] - 18s 160ms/step - loss: 10.4188 - accuracy: 0.6349 - val_loss: 7.3568 - val_accuracy: 0.7537\n",
      "Epoch 2/10\n",
      "96/96 [==============================] - 22s 235ms/step - loss: 4.8318 - accuracy: 0.7950 - val_loss: 7.4207 - val_accuracy: 0.7214\n",
      "Epoch 3/10\n",
      "96/96 [==============================] - 38s 396ms/step - loss: 3.6258 - accuracy: 0.8289 - val_loss: 8.8923 - val_accuracy: 0.7449\n",
      "Epoch 4/10\n",
      "96/96 [==============================] - 11s 119ms/step - loss: 2.5026 - accuracy: 0.8703 - val_loss: 8.7930 - val_accuracy: 0.7419\n",
      "Epoch 5/10\n",
      "96/96 [==============================] - 13s 133ms/step - loss: 2.9062 - accuracy: 0.8664 - val_loss: 11.0885 - val_accuracy: 0.6950\n",
      "Epoch 6/10\n",
      "96/96 [==============================] - 21s 217ms/step - loss: 1.8331 - accuracy: 0.9048 - val_loss: 11.2107 - val_accuracy: 0.7478\n",
      "Epoch 7/10\n",
      "96/96 [==============================] - 11s 113ms/step - loss: 1.2932 - accuracy: 0.9283 - val_loss: 11.6947 - val_accuracy: 0.7507\n",
      "Epoch 8/10\n",
      "96/96 [==============================] - 11s 113ms/step - loss: 1.5951 - accuracy: 0.9188 - val_loss: 12.5077 - val_accuracy: 0.7302\n",
      "Epoch 9/10\n",
      "96/96 [==============================] - 11s 116ms/step - loss: 1.4268 - accuracy: 0.9309 - val_loss: 9.7666 - val_accuracy: 0.7771\n",
      "Epoch 10/10\n",
      "96/96 [==============================] - 11s 116ms/step - loss: 1.4016 - accuracy: 0.9345 - val_loss: 10.3758 - val_accuracy: 0.8123\n",
      "\n",
      "\n",
      "\n",
      "CPU times: total: 26min 57s\n",
      "Wall time: 15min 40s\n"
     ]
    }
   ],
   "source": [
    "%%time\n",
    "scores = {}\n",
    "lrs = [0.0001, 0.001, 0.01, 0.1]\n",
    "\n",
    "for lr in lrs:\n",
    "    print(lr)\n",
    "    model = make_model(learning_rate=lr)\n",
    "    history = model.fit(train_ds, epochs=10, validation_data=val_ds)\n",
    "    scores[lr] = history.history\n",
    "    print('\\n\\n')"
   ]
  },
  {
   "cell_type": "code",
   "execution_count": 103,
   "id": "830dc446",
   "metadata": {},
   "outputs": [
    {
     "data": {
      "text/plain": [
       "<matplotlib.legend.Legend at 0x16ea179e820>"
      ]
     },
     "execution_count": 103,
     "metadata": {},
     "output_type": "execute_result"
    },
    {
     "data": {
      "image/png": "[encoded data removed]",
      "text/plain": [
       "<Figure size 640x480 with 1 Axes>"
      ]
     },
     "metadata": {},
     "output_type": "display_data"
    }
   ],
   "source": [
    "for lr , hist in scores.items():\n",
    "    plt.plot(hist['val_accuracy'], label=lr)\n",
    "    \n",
    "plt.xticks(np.arange(10))    \n",
    "plt.legend()"
   ]
  },
  {
   "cell_type": "code",
   "execution_count": 80,
   "id": "9913472f",
   "metadata": {},
   "outputs": [],
   "source": [
    "model.save_weights('model_v1.h5', save_format='h5')"
   ]
  },
  {
   "cell_type": "markdown",
   "id": "1c228d3c",
   "metadata": {},
   "source": [
    "### Checkpointintg"
   ]
  },
  {
   "cell_type": "code",
   "execution_count": 83,
   "id": "a796923a",
   "metadata": {},
   "outputs": [],
   "source": [
    "checkpoint = keras.callbacks.ModelCheckpoint('xception_v1_{epoch:02d}_{val_accuracy:.3f}.h5',\n",
    "                                             save_best_only=True,\n",
    "                                             monitor='val_accuracy',\n",
    "                                             mode='max')"
   ]
  },
  {
   "cell_type": "code",
   "execution_count": 84,
   "id": "2466e251",
   "metadata": {},
   "outputs": [
    {
     "name": "stdout",
     "output_type": "stream",
     "text": [
      "0.01\n",
      "Epoch 1/10\n",
      "96/96 [==============================] - 50s 497ms/step - loss: 1.2692 - accuracy: 0.6741 - val_loss: 0.8229 - val_accuracy: 0.7859\n"
     ]
    },
    {
     "name": "stderr",
     "output_type": "stream",
     "text": [
      "C:\\Users\\MacCasa\\anaconda3\\envs\\tf-gpu\\lib\\site-packages\\keras\\utils\\generic_utils.py:494: CustomMaskWarning: Custom mask layers require a config and must override get_config. When loading, the custom mask layer must be passed to the custom_objects argument.\n",
      "  warnings.warn('Custom mask layers require a config and must override '\n"
     ]
    },
    {
     "name": "stdout",
     "output_type": "stream",
     "text": [
      "Epoch 2/10\n",
      "96/96 [==============================] - 11s 118ms/step - loss: 0.5544 - accuracy: 0.8188 - val_loss: 0.9015 - val_accuracy: 0.8123\n",
      "Epoch 3/10\n",
      "96/96 [==============================] - 24s 253ms/step - loss: 0.3846 - accuracy: 0.8739 - val_loss: 0.9560 - val_accuracy: 0.7742\n",
      "Epoch 4/10\n",
      "96/96 [==============================] - 11s 116ms/step - loss: 0.2335 - accuracy: 0.9140 - val_loss: 0.8900 - val_accuracy: 0.8035\n",
      "Epoch 5/10\n",
      "96/96 [==============================] - 13s 136ms/step - loss: 0.1705 - accuracy: 0.9374 - val_loss: 0.8382 - val_accuracy: 0.8211\n",
      "Epoch 6/10\n",
      "96/96 [==============================] - 20s 214ms/step - loss: 0.1127 - accuracy: 0.9619 - val_loss: 0.9659 - val_accuracy: 0.7889\n",
      "Epoch 7/10\n",
      "96/96 [==============================] - 11s 113ms/step - loss: 0.1032 - accuracy: 0.9612 - val_loss: 0.8804 - val_accuracy: 0.8211\n",
      "Epoch 8/10\n",
      "96/96 [==============================] - 11s 109ms/step - loss: 0.0609 - accuracy: 0.9817 - val_loss: 0.8637 - val_accuracy: 0.8270\n",
      "Epoch 9/10\n",
      "96/96 [==============================] - 11s 111ms/step - loss: 0.0344 - accuracy: 0.9915 - val_loss: 1.0926 - val_accuracy: 0.7977\n",
      "Epoch 10/10\n",
      "96/96 [==============================] - 11s 114ms/step - loss: 0.0598 - accuracy: 0.9821 - val_loss: 0.9423 - val_accuracy: 0.8182\n"
     ]
    }
   ],
   "source": [
    "lr = 0.01\n",
    "print(lr)\n",
    "model = make_model(learning_rate=lr)\n",
    "history = model.fit(train_ds, epochs=10, validation_data=val_ds, callbacks=checkpoint)"
   ]
  },
  {
   "cell_type": "code",
   "execution_count": 86,
   "id": "6331558b",
   "metadata": {},
   "outputs": [],
   "source": [
    "def make_modelv2(learning_rate = 0.001, size_inner=100):\n",
    "    \n",
    "    base_model = tf.keras.applications.Xception(weights='imagenet',\n",
    "                                            include_top=False,\n",
    "                                            input_shape=(150, 150, 3))\n",
    "\n",
    "    base_model.trainable = False\n",
    "\n",
    "    #########################################################\n",
    "\n",
    "    inputs = keras.Input(shape=(150,150,3))\n",
    "    base = base_model(inputs, training=False)\n",
    "    vectors = keras.layers.GlobalAveragePooling2D()(base)\n",
    "    \n",
    "    inner = keras.layers.Dense(size_inner, activation='relu')(vectors)\n",
    "    \n",
    "    outputs = keras.layers.Dense(10)(inner)\n",
    "    model = keras.Model(inputs, outputs)\n",
    "    \n",
    "    #########################################################\n",
    "    \n",
    "    optimizer = keras.optimizers.Adam(learning_rate=learning_rate)\n",
    "    loss = keras.losses.CategoricalCrossentropy(from_logits=True)\n",
    "    model.compile(optimizer=optimizer, loss=loss, metrics=['accuracy'])\n",
    "    \n",
    "    return model"
   ]
  },
  {
   "cell_type": "code",
   "execution_count": 99,
   "id": "2d1527bf",
   "metadata": {},
   "outputs": [
    {
     "name": "stdout",
     "output_type": "stream",
     "text": [
      "16\n",
      "Epoch 1/10\n",
      "96/96 [==============================] - 18s 157ms/step - loss: 1.2597 - accuracy: 0.5906 - val_loss: 0.8740 - val_accuracy: 0.7185\n",
      "Epoch 2/10\n",
      "96/96 [==============================] - 15s 153ms/step - loss: 0.7353 - accuracy: 0.7520 - val_loss: 0.6975 - val_accuracy: 0.7683\n",
      "Epoch 3/10\n",
      "96/96 [==============================] - 14s 141ms/step - loss: 0.5573 - accuracy: 0.8168 - val_loss: 0.6243 - val_accuracy: 0.7801\n",
      "Epoch 4/10\n",
      "96/96 [==============================] - 13s 134ms/step - loss: 0.4384 - accuracy: 0.8550 - val_loss: 0.5920 - val_accuracy: 0.7977\n",
      "Epoch 5/10\n",
      "96/96 [==============================] - 13s 131ms/step - loss: 0.3590 - accuracy: 0.8921 - val_loss: 0.5817 - val_accuracy: 0.8035\n",
      "Epoch 6/10\n",
      "96/96 [==============================] - 12s 120ms/step - loss: 0.3032 - accuracy: 0.9074 - val_loss: 0.6127 - val_accuracy: 0.8035\n",
      "Epoch 7/10\n",
      "96/96 [==============================] - 17s 177ms/step - loss: 0.2505 - accuracy: 0.9325 - val_loss: 0.5381 - val_accuracy: 0.8240\n",
      "Epoch 8/10\n",
      "96/96 [==============================] - 12s 126ms/step - loss: 0.2093 - accuracy: 0.9521 - val_loss: 0.5317 - val_accuracy: 0.8152\n",
      "Epoch 9/10\n",
      "96/96 [==============================] - 11s 115ms/step - loss: 0.1720 - accuracy: 0.9645 - val_loss: 0.5461 - val_accuracy: 0.8270\n",
      "Epoch 10/10\n",
      "96/96 [==============================] - 12s 121ms/step - loss: 0.1469 - accuracy: 0.9733 - val_loss: 0.5717 - val_accuracy: 0.8182\n",
      "\n",
      "\n",
      "\n",
      "32\n",
      "Epoch 1/10\n",
      "96/96 [==============================] - 24s 185ms/step - loss: 1.1828 - accuracy: 0.6115 - val_loss: 0.7885 - val_accuracy: 0.7507\n",
      "Epoch 2/10\n",
      "96/96 [==============================] - 17s 174ms/step - loss: 0.6385 - accuracy: 0.7894 - val_loss: 0.6415 - val_accuracy: 0.7977\n",
      "Epoch 3/10\n",
      "96/96 [==============================] - 14s 141ms/step - loss: 0.4702 - accuracy: 0.8390 - val_loss: 0.6042 - val_accuracy: 0.7918\n",
      "Epoch 4/10\n",
      "96/96 [==============================] - 15s 157ms/step - loss: 0.3718 - accuracy: 0.8856 - val_loss: 0.5753 - val_accuracy: 0.8035\n",
      "Epoch 5/10\n",
      "96/96 [==============================] - 12s 125ms/step - loss: 0.3060 - accuracy: 0.8999 - val_loss: 0.5613 - val_accuracy: 0.7947\n",
      "Epoch 6/10\n",
      "96/96 [==============================] - 11s 117ms/step - loss: 0.2421 - accuracy: 0.9377 - val_loss: 0.5272 - val_accuracy: 0.8152\n",
      "Epoch 7/10\n",
      "96/96 [==============================] - 11s 114ms/step - loss: 0.1953 - accuracy: 0.9508 - val_loss: 0.5354 - val_accuracy: 0.8123\n",
      "Epoch 8/10\n",
      "96/96 [==============================] - 15s 156ms/step - loss: 0.1599 - accuracy: 0.9645 - val_loss: 0.5648 - val_accuracy: 0.8182\n",
      "Epoch 9/10\n",
      "96/96 [==============================] - 13s 136ms/step - loss: 0.1314 - accuracy: 0.9746 - val_loss: 0.5763 - val_accuracy: 0.8240\n",
      "Epoch 10/10\n",
      "96/96 [==============================] - 13s 139ms/step - loss: 0.1077 - accuracy: 0.9834 - val_loss: 0.5688 - val_accuracy: 0.8240\n",
      "\n",
      "\n",
      "\n"
     ]
    }
   ],
   "source": [
    "tf.debugging.set_log_device_placement(True)\n",
    "\n",
    "scores = {}\n",
    "lr = 0.001\n",
    "\n",
    "#with tf.device('/GPU:0'):\n",
    "\n",
    "for size in [16, 32]:\n",
    "    print(size)\n",
    "    model = make_modelv2(learning_rate=lr, size_inner=size)\n",
    "    history = model.fit(train_ds, epochs=10, validation_data=val_ds)\n",
    "    scores[size] = history.history\n",
    "    print('\\n\\n')"
   ]
  },
  {
   "cell_type": "code",
   "execution_count": 100,
   "id": "2392179a",
   "metadata": {},
   "outputs": [
    {
     "data": {
      "image/png": "[encoded data removed]",
      "text/plain": [
       "<Figure size 640x480 with 1 Axes>"
      ]
     },
     "metadata": {},
     "output_type": "display_data"
    }
   ],
   "source": [
    "for size , hist in scores.items():\n",
    "    plt.plot(hist['val_accuracy'], label=('val=%s' % size))\n",
    "    \n",
    "plt.xticks(np.arange(10))    \n",
    "_ = plt.legend()"
   ]
  },
  {
   "cell_type": "code",
   "execution_count": 104,
   "id": "d65f8c24",
   "metadata": {},
   "outputs": [],
   "source": [
    "def make_modelv3(learning_rate = 0.001, size_inner=100, droprate=0.0):\n",
    "    \n",
    "    base_model = tf.keras.applications.Xception(weights='imagenet',\n",
    "                                            include_top=False,\n",
    "                                            input_shape=(150, 150, 3))\n",
    "\n",
    "    base_model.trainable = False\n",
    "\n",
    "    #########################################################\n",
    "\n",
    "    inputs = keras.Input(shape=(150,150,3))\n",
    "    base = base_model(inputs, training=False)\n",
    "    vectors = keras.layers.GlobalAveragePooling2D()(base)\n",
    "    \n",
    "    inner = keras.layers.Dense(size_inner, activation='relu')(vectors)\n",
    "    drop = keras.layers.Dropout(droprate)(inner)\n",
    "    \n",
    "    outputs = keras.layers.Dense(10)(drop)\n",
    "    model = keras.Model(inputs, outputs)\n",
    "    \n",
    "    #########################################################\n",
    "    \n",
    "    optimizer = keras.optimizers.Adam(learning_rate=learning_rate)\n",
    "    loss = keras.losses.CategoricalCrossentropy(from_logits=True)\n",
    "    model.compile(optimizer=optimizer, loss=loss, metrics=['accuracy'])\n",
    "    \n",
    "    return model"
   ]
  },
  {
   "cell_type": "code",
   "execution_count": null,
   "id": "0352f999",
   "metadata": {},
   "outputs": [
    {
     "name": "stdout",
     "output_type": "stream",
     "text": [
      "0.0\n",
      "Epoch 1/15\n",
      "96/96 [==============================] - 47s 469ms/step - loss: 1.1448 - accuracy: 0.6167 - val_loss: 0.6971 - val_accuracy: 0.7918\n",
      "Epoch 2/15\n",
      "96/96 [==============================] - 44s 459ms/step - loss: 0.6250 - accuracy: 0.7901 - val_loss: 0.5994 - val_accuracy: 0.8094\n",
      "Epoch 3/15\n",
      "96/96 [==============================] - 28s 294ms/step - loss: 0.4743 - accuracy: 0.8452 - val_loss: 0.5835 - val_accuracy: 0.8035\n",
      "Epoch 4/15\n",
      "96/96 [==============================] - 14s 146ms/step - loss: 0.3763 - accuracy: 0.8765 - val_loss: 0.5568 - val_accuracy: 0.8123\n",
      "Epoch 5/15\n",
      "96/96 [==============================] - 11s 113ms/step - loss: 0.3028 - accuracy: 0.9091 - val_loss: 0.5237 - val_accuracy: 0.8240\n",
      "Epoch 6/15\n",
      "96/96 [==============================] - 11s 114ms/step - loss: 0.2390 - accuracy: 0.9361 - val_loss: 0.5627 - val_accuracy: 0.8065\n",
      "Epoch 7/15\n",
      "57/96 [================>.............] - ETA: 4s - loss: 0.1983 - accuracy: 0.9402"
     ]
    }
   ],
   "source": [
    "scores = {}\n",
    "lr = 0.001\n",
    "size = 32\n",
    "\n",
    "for droprate in [0.0, 0.2, 0.4]:\n",
    "    print(droprate)\n",
    "    model = make_modelv2(learning_rate=lr, size_inner=size)\n",
    "    history = model.fit(train_ds, epochs=15, validation_data=val_ds)\n",
    "    scores[size] = history.history\n",
    "    print('\\n\\n')"
   ]
  },
  {
   "cell_type": "code",
   "execution_count": null,
   "id": "cb024aff",
   "metadata": {},
   "outputs": [],
   "source": [
    "for size , hist in scores.items():\n",
    "    plt.plot(hist['val_accuracy'], label=('DropRate=%s' % droprate))\n",
    "    \n",
    "plt.xticks(np.arange(10))    \n",
    "_ = plt.legend()"
   ]
  },
  {
   "cell_type": "code",
   "execution_count": null,
   "id": "75c99a23",
   "metadata": {},
   "outputs": [],
   "source": []
  },
  {
   "cell_type": "code",
   "execution_count": null,
   "id": "05c7ad8f",
   "metadata": {},
   "outputs": [],
   "source": []
  }
 ],
 "metadata": {
  "kernelspec": {
   "display_name": "Python 3 (ipykernel)",
   "language": "python",
   "name": "python3"
  },
  "language_info": {
   "codemirror_mode": {
    "name": "ipython",
    "version": 3
   },
   "file_extension": ".py",
   "mimetype": "text/x-python",
   "name": "python",
   "nbconvert_exporter": "python",
   "pygments_lexer": "ipython3",
   "version": "3.9.13"
  }
 },
 "nbformat": 4,
 "nbformat_minor": 5
}
