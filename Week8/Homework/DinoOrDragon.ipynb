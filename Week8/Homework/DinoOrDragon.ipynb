{
 "cells": [
  {
   "cell_type": "code",
   "execution_count": 3,
   "id": "5d3281a1",
   "metadata": {},
   "outputs": [],
   "source": [
    "import os\n",
    "import pandas as pd\n",
    "import numpy as np\n",
    "import matplotlib.pyplot as plt\n",
    "from tensorflow.keras import layers\n",
    "from tensorflow.keras import models\n",
    "from tensorflow.keras.optimizers import SGD\n",
    "from keras.preprocessing.image import ImageDataGenerator\n",
    "#from keras.preprocessing.image import img_to_array\n",
    "#from numpy import expand_dims\n",
    "#import tensorflow as tf\n",
    "#from tensorflow import keras\n",
    "#from keras_preprocessing.image import load_img"
   ]
  },
  {
   "cell_type": "code",
   "execution_count": 6,
   "id": "ce74d40a",
   "metadata": {},
   "outputs": [
    {
     "name": "stdout",
     "output_type": "stream",
     "text": [
      "Total training Dino images: 827\n",
      "Total training Dragon images: 767\n",
      "Total test Dino images: 196\n",
      "Total test Dragon images: 198\n"
     ]
    }
   ],
   "source": [
    "training_dir = './dino-dragon/train/'\n",
    "test_dir = './dino-dragon/test/'\n",
    "\n",
    "dinoTrain_dir = os.path.join(training_dir, 'dino')\n",
    "dragonTrain_dir = os.path.join(training_dir, 'dragon')\n",
    "\n",
    "dinoTest_dir = os.path.join(test_dir, 'dino')\n",
    "dragonTest_dir = os.path.join(test_dir, 'dragon')\n",
    "\n",
    "\n",
    "print('Total training Dino images:', len(os.listdir(dinoTrain_dir)))\n",
    "print('Total training Dragon images:', len(os.listdir(dragonTrain_dir)))\n",
    "\n",
    "print('Total test Dino images:', len(os.listdir(dinoTest_dir)))\n",
    "print('Total test Dragon images:', len(os.listdir(dragonTest_dir)))"
   ]
  },
  {
   "cell_type": "code",
   "execution_count": 7,
   "id": "56b42215",
   "metadata": {},
   "outputs": [
    {
     "name": "stderr",
     "output_type": "stream",
     "text": [
      "2022-11-17 23:47:57.874030: I tensorflow/compiler/jit/xla_cpu_device.cc:41] Not creating XLA devices, tf_xla_enable_xla_devices not set\n",
      "2022-11-17 23:47:57.888878: I tensorflow/stream_executor/platform/default/dso_loader.cc:49] Successfully opened dynamic library libcuda.so.1\n",
      "2022-11-17 23:47:58.065024: E tensorflow/stream_executor/cuda/cuda_gpu_executor.cc:927] could not open file to read NUMA node: /sys/bus/pci/devices/0000:01:00.0/numa_node\n",
      "Your kernel may have been built without NUMA support.\n",
      "2022-11-17 23:47:58.065060: I tensorflow/core/common_runtime/gpu/gpu_device.cc:1720] Found device 0 with properties: \n",
      "pciBusID: 0000:01:00.0 name: NVIDIA GeForce RTX 2080 Ti computeCapability: 7.5\n",
      "coreClock: 1.545GHz coreCount: 68 deviceMemorySize: 11.00GiB deviceMemoryBandwidth: 573.69GiB/s\n",
      "2022-11-17 23:47:58.065076: I tensorflow/stream_executor/platform/default/dso_loader.cc:49] Successfully opened dynamic library libcudart.so.10.1\n",
      "2022-11-17 23:47:58.066245: I tensorflow/stream_executor/platform/default/dso_loader.cc:49] Successfully opened dynamic library libcublas.so.10\n",
      "2022-11-17 23:47:58.066271: I tensorflow/stream_executor/platform/default/dso_loader.cc:49] Successfully opened dynamic library libcublasLt.so.10\n",
      "2022-11-17 23:47:58.067375: I tensorflow/stream_executor/platform/default/dso_loader.cc:49] Successfully opened dynamic library libcufft.so.10\n",
      "2022-11-17 23:47:58.067860: I tensorflow/stream_executor/platform/default/dso_loader.cc:49] Successfully opened dynamic library libcurand.so.10\n",
      "2022-11-17 23:47:58.069048: I tensorflow/stream_executor/platform/default/dso_loader.cc:49] Successfully opened dynamic library libcusolver.so.10\n",
      "2022-11-17 23:47:58.069680: I tensorflow/stream_executor/platform/default/dso_loader.cc:49] Successfully opened dynamic library libcusparse.so.10\n",
      "2022-11-17 23:47:58.072213: I tensorflow/stream_executor/platform/default/dso_loader.cc:49] Successfully opened dynamic library libcudnn.so.7\n",
      "2022-11-17 23:47:58.072999: E tensorflow/stream_executor/cuda/cuda_gpu_executor.cc:927] could not open file to read NUMA node: /sys/bus/pci/devices/0000:01:00.0/numa_node\n",
      "Your kernel may have been built without NUMA support.\n",
      "2022-11-17 23:47:58.073594: E tensorflow/stream_executor/cuda/cuda_gpu_executor.cc:927] could not open file to read NUMA node: /sys/bus/pci/devices/0000:01:00.0/numa_node\n",
      "Your kernel may have been built without NUMA support.\n",
      "2022-11-17 23:47:58.073609: I tensorflow/core/common_runtime/gpu/gpu_device.cc:1862] Adding visible gpu devices: 0\n",
      "2022-11-17 23:47:58.073985: I tensorflow/core/platform/cpu_feature_guard.cc:142] This TensorFlow binary is optimized with oneAPI Deep Neural Network Library (oneDNN) to use the following CPU instructions in performance-critical operations:  SSE4.1 SSE4.2 AVX AVX2 FMA\n",
      "To enable them in other operations, rebuild TensorFlow with the appropriate compiler flags.\n",
      "2022-11-17 23:47:58.074666: I tensorflow/compiler/jit/xla_gpu_device.cc:99] Not creating XLA devices, tf_xla_enable_xla_devices not set\n",
      "2022-11-17 23:47:58.075236: E tensorflow/stream_executor/cuda/cuda_gpu_executor.cc:927] could not open file to read NUMA node: /sys/bus/pci/devices/0000:01:00.0/numa_node\n",
      "Your kernel may have been built without NUMA support.\n",
      "2022-11-17 23:47:58.075256: I tensorflow/core/common_runtime/gpu/gpu_device.cc:1720] Found device 0 with properties: \n",
      "pciBusID: 0000:01:00.0 name: NVIDIA GeForce RTX 2080 Ti computeCapability: 7.5\n",
      "coreClock: 1.545GHz coreCount: 68 deviceMemorySize: 11.00GiB deviceMemoryBandwidth: 573.69GiB/s\n",
      "2022-11-17 23:47:58.075294: I tensorflow/stream_executor/platform/default/dso_loader.cc:49] Successfully opened dynamic library libcudart.so.10.1\n",
      "2022-11-17 23:47:58.075315: I tensorflow/stream_executor/platform/default/dso_loader.cc:49] Successfully opened dynamic library libcublas.so.10\n",
      "2022-11-17 23:47:58.075325: I tensorflow/stream_executor/platform/default/dso_loader.cc:49] Successfully opened dynamic library libcublasLt.so.10\n",
      "2022-11-17 23:47:58.075334: I tensorflow/stream_executor/platform/default/dso_loader.cc:49] Successfully opened dynamic library libcufft.so.10\n",
      "2022-11-17 23:47:58.075342: I tensorflow/stream_executor/platform/default/dso_loader.cc:49] Successfully opened dynamic library libcurand.so.10\n",
      "2022-11-17 23:47:58.075352: I tensorflow/stream_executor/platform/default/dso_loader.cc:49] Successfully opened dynamic library libcusolver.so.10\n",
      "2022-11-17 23:47:58.075361: I tensorflow/stream_executor/platform/default/dso_loader.cc:49] Successfully opened dynamic library libcusparse.so.10\n",
      "2022-11-17 23:47:58.075370: I tensorflow/stream_executor/platform/default/dso_loader.cc:49] Successfully opened dynamic library libcudnn.so.7\n",
      "2022-11-17 23:47:58.075826: E tensorflow/stream_executor/cuda/cuda_gpu_executor.cc:927] could not open file to read NUMA node: /sys/bus/pci/devices/0000:01:00.0/numa_node\n",
      "Your kernel may have been built without NUMA support.\n",
      "2022-11-17 23:47:58.076233: E tensorflow/stream_executor/cuda/cuda_gpu_executor.cc:927] could not open file to read NUMA node: /sys/bus/pci/devices/0000:01:00.0/numa_node\n",
      "Your kernel may have been built without NUMA support.\n",
      "2022-11-17 23:47:58.076245: I tensorflow/core/common_runtime/gpu/gpu_device.cc:1862] Adding visible gpu devices: 0\n",
      "2022-11-17 23:47:58.076330: I tensorflow/stream_executor/platform/default/dso_loader.cc:49] Successfully opened dynamic library libcudart.so.10.1\n",
      "2022-11-17 23:47:58.879084: I tensorflow/core/common_runtime/gpu/gpu_device.cc:1261] Device interconnect StreamExecutor with strength 1 edge matrix:\n",
      "2022-11-17 23:47:58.879109: I tensorflow/core/common_runtime/gpu/gpu_device.cc:1267]      0 \n",
      "2022-11-17 23:47:58.879113: I tensorflow/core/common_runtime/gpu/gpu_device.cc:1280] 0:   N \n",
      "2022-11-17 23:47:58.879936: E tensorflow/stream_executor/cuda/cuda_gpu_executor.cc:927] could not open file to read NUMA node: /sys/bus/pci/devices/0000:01:00.0/numa_node\n",
      "Your kernel may have been built without NUMA support.\n",
      "2022-11-17 23:47:58.879954: I tensorflow/core/common_runtime/gpu/gpu_device.cc:1489] Could not identify NUMA node of platform GPU id 0, defaulting to 0.  Your kernel may not have been built with NUMA support.\n",
      "2022-11-17 23:47:58.880403: E tensorflow/stream_executor/cuda/cuda_gpu_executor.cc:927] could not open file to read NUMA node: /sys/bus/pci/devices/0000:01:00.0/numa_node\n",
      "Your kernel may have been built without NUMA support.\n",
      "2022-11-17 23:47:58.880903: E tensorflow/stream_executor/cuda/cuda_gpu_executor.cc:927] could not open file to read NUMA node: /sys/bus/pci/devices/0000:01:00.0/numa_node\n",
      "Your kernel may have been built without NUMA support.\n",
      "2022-11-17 23:47:58.880937: I tensorflow/core/common_runtime/gpu/gpu_device.cc:1406] Created TensorFlow device (/job:localhost/replica:0/task:0/device:GPU:0 with 9376 MB memory) -> physical GPU (device: 0, name: NVIDIA GeForce RTX 2080 Ti, pci bus id: 0000:01:00.0, compute capability: 7.5)\n"
     ]
    },
    {
     "name": "stdout",
     "output_type": "stream",
     "text": [
      "Model: \"sequential\"\n",
      "_________________________________________________________________\n",
      "Layer (type)                 Output Shape              Param #   \n",
      "=================================================================\n",
      "conv2d (Conv2D)              (None, 148, 148, 32)      896       \n",
      "_________________________________________________________________\n",
      "max_pooling2d (MaxPooling2D) (None, 74, 74, 32)        0         \n",
      "_________________________________________________________________\n",
      "flatten (Flatten)            (None, 175232)            0         \n",
      "_________________________________________________________________\n",
      "dense (Dense)                (None, 64)                11214912  \n",
      "_________________________________________________________________\n",
      "dense_1 (Dense)              (None, 1)                 65        \n",
      "=================================================================\n",
      "Total params: 11,215,873\n",
      "Trainable params: 11,215,873\n",
      "Non-trainable params: 0\n",
      "_________________________________________________________________\n"
     ]
    }
   ],
   "source": [
    "optimizer = SGD(learning_rate=0.002, momentum=0.8)\n",
    "\n",
    "model = models.Sequential([\n",
    "    \n",
    "    layers.Conv2D(32, (3,3), activation='relu', input_shape=(150,150,3)),\n",
    "    layers.MaxPool2D(2,2),\n",
    "    layers.Flatten(),\n",
    "    layers.Dense(64, activation='relu'),\n",
    "    layers.Dense(1, activation='sigmoid')\n",
    "])\n",
    "\n",
    "model.summary()"
   ]
  },
  {
   "cell_type": "code",
   "execution_count": 8,
   "id": "a4fbd6b5",
   "metadata": {},
   "outputs": [],
   "source": [
    "model.compile(loss = 'binary_crossentropy', optimizer=optimizer, metrics=['accuracy'])"
   ]
  },
  {
   "cell_type": "code",
   "execution_count": 9,
   "id": "72a3bbba",
   "metadata": {},
   "outputs": [
    {
     "name": "stdout",
     "output_type": "stream",
     "text": [
      "Found 1594 images belonging to 2 classes.\n",
      "Found 1594 images belonging to 2 classes.\n"
     ]
    }
   ],
   "source": [
    "train_datagen = ImageDataGenerator(rescale=1./255)\n",
    "test_datagen = ImageDataGenerator(rescale=1./255)\n",
    "\n",
    "trainGenerator = train_datagen.flow_from_directory(training_dir,\n",
    "                                                   target_size=(150,150),\n",
    "                                                   class_mode='binary',\n",
    "                                                   batch_size=20,\n",
    "                                                   shuffle=True)\n",
    "\n",
    "testGenerator = train_datagen.flow_from_directory(training_dir,\n",
    "                                                   target_size=(150,150),\n",
    "                                                   class_mode='binary',\n",
    "                                                   batch_size=20,\n",
    "                                                   shuffle=True)"
   ]
  },
  {
   "cell_type": "code",
   "execution_count": 10,
   "id": "927d504f",
   "metadata": {},
   "outputs": [
    {
     "name": "stderr",
     "output_type": "stream",
     "text": [
      "2022-11-17 23:48:08.279243: I tensorflow/compiler/mlir/mlir_graph_optimization_pass.cc:116] None of the MLIR optimization passes are enabled (registered 2)\n",
      "2022-11-17 23:48:08.279529: I tensorflow/core/platform/profile_utils/cpu_utils.cc:112] CPU Frequency: 3999990000 Hz\n"
     ]
    },
    {
     "name": "stdout",
     "output_type": "stream",
     "text": [
      "Epoch 1/10\n"
     ]
    },
    {
     "name": "stderr",
     "output_type": "stream",
     "text": [
      "2022-11-17 23:48:08.649343: I tensorflow/stream_executor/platform/default/dso_loader.cc:49] Successfully opened dynamic library libcublas.so.10\n",
      "2022-11-17 23:48:08.915632: I tensorflow/stream_executor/platform/default/dso_loader.cc:49] Successfully opened dynamic library libcudnn.so.7\n",
      "2022-11-17 23:48:10.058303: W tensorflow/stream_executor/gpu/asm_compiler.cc:63] Running ptxas --version returned 256\n",
      "2022-11-17 23:48:10.091702: W tensorflow/stream_executor/gpu/redzone_allocator.cc:314] Internal: ptxas exited with non-zero error code 256, output: \n",
      "Relying on driver to perform ptx compilation. \n",
      "Modify $PATH to customize ptxas location.\n",
      "This message will be only logged once.\n"
     ]
    },
    {
     "name": "stdout",
     "output_type": "stream",
     "text": [
      "80/80 [==============================] - 26s 286ms/step - loss: 0.6730 - accuracy: 0.5831 - val_loss: 0.5773 - val_accuracy: 0.6242\n",
      "Epoch 2/10\n",
      "80/80 [==============================] - 19s 235ms/step - loss: 0.4793 - accuracy: 0.8013 - val_loss: 0.3908 - val_accuracy: 0.8319\n",
      "Epoch 3/10\n",
      "80/80 [==============================] - 18s 229ms/step - loss: 0.4117 - accuracy: 0.8267 - val_loss: 0.3592 - val_accuracy: 0.8519\n",
      "Epoch 4/10\n",
      "80/80 [==============================] - 19s 237ms/step - loss: 0.3555 - accuracy: 0.8607 - val_loss: 0.3008 - val_accuracy: 0.8915\n",
      "Epoch 5/10\n",
      "80/80 [==============================] - 18s 230ms/step - loss: 0.2905 - accuracy: 0.9021 - val_loss: 0.2826 - val_accuracy: 0.9009\n",
      "Epoch 6/10\n",
      "80/80 [==============================] - 18s 229ms/step - loss: 0.2803 - accuracy: 0.8946 - val_loss: 0.2317 - val_accuracy: 0.9172\n",
      "Epoch 7/10\n",
      "80/80 [==============================] - 18s 230ms/step - loss: 0.2214 - accuracy: 0.9190 - val_loss: 0.2118 - val_accuracy: 0.9260\n",
      "Epoch 8/10\n",
      "80/80 [==============================] - 19s 237ms/step - loss: 0.2172 - accuracy: 0.9097 - val_loss: 0.1873 - val_accuracy: 0.9467\n",
      "Epoch 9/10\n",
      "80/80 [==============================] - 19s 232ms/step - loss: 0.2041 - accuracy: 0.9337 - val_loss: 0.2868 - val_accuracy: 0.8632\n",
      "Epoch 10/10\n",
      "80/80 [==============================] - 19s 234ms/step - loss: 0.1926 - accuracy: 0.9348 - val_loss: 0.1613 - val_accuracy: 0.9398\n"
     ]
    }
   ],
   "source": [
    "history = model.fit( trainGenerator, epochs=10, validation_data=testGenerator)"
   ]
  },
  {
   "cell_type": "code",
   "execution_count": 11,
   "id": "2102263a",
   "metadata": {},
   "outputs": [
    {
     "data": {
      "text/plain": [
       "0.89"
      ]
     },
     "execution_count": 11,
     "metadata": {},
     "output_type": "execute_result"
    }
   ],
   "source": [
    "trainAccMedian = np.round_(np.median(history.history['accuracy']),2)\n",
    "trainAccMedian"
   ]
  },
  {
   "cell_type": "code",
   "execution_count": 12,
   "id": "09b755f6",
   "metadata": {},
   "outputs": [
    {
     "data": {
      "text/plain": [
       "0.13"
      ]
     },
     "execution_count": 12,
     "metadata": {},
     "output_type": "execute_result"
    }
   ],
   "source": [
    "trainLossStd = np.round_(np.std(history.history['loss']),2)\n",
    "trainLossStd"
   ]
  },
  {
   "cell_type": "code",
   "execution_count": 13,
   "id": "4db9607a",
   "metadata": {},
   "outputs": [
    {
     "name": "stdout",
     "output_type": "stream",
     "text": [
      "Found 1594 images belonging to 2 classes.\n"
     ]
    }
   ],
   "source": [
    "train_datagen = ImageDataGenerator(rescale=1./255, \n",
    "                                   rotation_range=40,   \n",
    "                                   width_shift_range=0.2,\n",
    "                                   height_shift_range=0.2,\n",
    "                                   shear_range=0.2,\n",
    "                                   zoom_range=0.2,\n",
    "                                   horizontal_flip=True,\n",
    "                                   fill_mode='nearest'\n",
    "                                  )\n",
    "trainGenerator = train_datagen.flow_from_directory(training_dir,\n",
    "                                                   target_size=(150,150),\n",
    "                                                   class_mode='binary',\n",
    "                                                   batch_size=20,\n",
    "                                                   shuffle=True)"
   ]
  },
  {
   "cell_type": "code",
   "execution_count": null,
   "id": "fa385028",
   "metadata": {},
   "outputs": [
    {
     "name": "stdout",
     "output_type": "stream",
     "text": [
      "Epoch 1/10\n",
      "80/80 [==============================] - 23s 294ms/step - loss: 0.4610 - accuracy: 0.7829 - val_loss: 0.1858 - val_accuracy: 0.9297\n",
      "Epoch 2/10\n",
      "80/80 [==============================] - 23s 293ms/step - loss: 0.4123 - accuracy: 0.8118 - val_loss: 0.2127 - val_accuracy: 0.9128\n",
      "Epoch 3/10\n",
      "80/80 [==============================] - 24s 295ms/step - loss: 0.3945 - accuracy: 0.8231 - val_loss: 0.3505 - val_accuracy: 0.8388\n",
      "Epoch 4/10\n",
      "80/80 [==============================] - ETA: 0s - loss: 0.4028 - accuracy: 0.8137"
     ]
    }
   ],
   "source": [
    "historyNew = model.fit( trainGenerator, epochs=10, validation_data=testGenerator)"
   ]
  },
  {
   "cell_type": "code",
   "execution_count": 47,
   "id": "ee1c4f95",
   "metadata": {},
   "outputs": [
    {
     "data": {
      "text/plain": [
       "0.34"
      ]
     },
     "execution_count": 47,
     "metadata": {},
     "output_type": "execute_result"
    }
   ],
   "source": [
    "valLossMean = np.round(np.mean(historyNew.history['val_loss']),2)\n",
    "valLossMean"
   ]
  },
  {
   "cell_type": "code",
   "execution_count": 48,
   "id": "45caac31",
   "metadata": {},
   "outputs": [
    {
     "data": {
      "text/plain": [
       "0.85"
      ]
     },
     "execution_count": 48,
     "metadata": {},
     "output_type": "execute_result"
    }
   ],
   "source": [
    "valAccAvg = np.round(np.average(historyNew.history['val_accuracy']),2)\n",
    "valAccAvg"
   ]
  }
 ],
 "metadata": {
  "kernelspec": {
   "display_name": "Python 3 (ipykernel)",
   "language": "python",
   "name": "python3"
  },
  "language_info": {
   "codemirror_mode": {
    "name": "ipython",
    "version": 3
   },
   "file_extension": ".py",
   "mimetype": "text/x-python",
   "name": "python",
   "nbconvert_exporter": "python",
   "pygments_lexer": "ipython3",
   "version": "3.9.15"
  }
 },
 "nbformat": 4,
 "nbformat_minor": 5
}
