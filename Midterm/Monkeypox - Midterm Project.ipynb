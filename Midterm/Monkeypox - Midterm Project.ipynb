{
 "cells": [
  {
   "cell_type": "code",
   "execution_count": 1,
   "id": "9b12ee7a",
   "metadata": {},
   "outputs": [],
   "source": [
    "import pandas as pd\n",
    "import numpy as np\n",
    "import matplotlib.pyplot as plt\n",
    "import seaborn as sns\n",
    "sns.set_theme()\n",
    "\n",
    "from sklearn.preprocessing import OrdinalEncoder, OneHotEncoder, StandardScaler\n",
    "\n",
    "from sklearn.model_selection import train_test_split, cross_validate,cross_val_score\n",
    "from sklearn.model_selection import StratifiedKFold, RepeatedStratifiedKFold\n",
    "from sklearn.model_selection import GridSearchCV\n",
    "\n",
    "from sklearn.compose import ColumnTransformer\n",
    "\n",
    "from sklearn.pipeline import make_pipeline, Pipeline\n",
    "\n",
    "from sklearn.tree import DecisionTreeClassifier, DecisionTreeRegressor\n",
    "\n",
    "from sklearn.linear_model import LogisticRegression\n",
    "\n",
    "from sklearn.metrics import roc_auc_score, mean_squared_error, PrecisionRecallDisplay\n",
    "from sklearn.metrics import confusion_matrix, ConfusionMatrixDisplay, classification_report\n",
    "from sklearn.metrics import brier_score_loss\n",
    "\n",
    "from imblearn.metrics import classification_report_imbalanced\n",
    "\n",
    "from sklearn.ensemble import RandomForestClassifier\n",
    "from sklearn.ensemble import HistGradientBoostingClassifier, AdaBoostClassifier\n",
    "\n",
    "import xgboost as xgb\n",
    "from xgboost import XGBClassifier\n",
    "\n"
   ]
  },
  {
   "cell_type": "code",
   "execution_count": 2,
   "id": "acbc0612",
   "metadata": {
    "scrolled": true
   },
   "outputs": [
    {
     "data": {
      "text/html": [
       "<div>\n",
       "<style scoped>\n",
       "    .dataframe tbody tr th:only-of-type {\n",
       "        vertical-align: middle;\n",
       "    }\n",
       "\n",
       "    .dataframe tbody tr th {\n",
       "        vertical-align: top;\n",
       "    }\n",
       "\n",
       "    .dataframe thead th {\n",
       "        text-align: right;\n",
       "    }\n",
       "</style>\n",
       "<table border=\"1\" class=\"dataframe\">\n",
       "  <thead>\n",
       "    <tr style=\"text-align: right;\">\n",
       "      <th></th>\n",
       "      <th>Patient_ID</th>\n",
       "      <th>Systemic Illness</th>\n",
       "      <th>Rectal Pain</th>\n",
       "      <th>Sore Throat</th>\n",
       "      <th>Penile Oedema</th>\n",
       "      <th>Oral Lesions</th>\n",
       "      <th>Solitary Lesion</th>\n",
       "      <th>Swollen Tonsils</th>\n",
       "      <th>HIV Infection</th>\n",
       "      <th>Sexually Transmitted Infection</th>\n",
       "      <th>MonkeyPox</th>\n",
       "    </tr>\n",
       "  </thead>\n",
       "  <tbody>\n",
       "    <tr>\n",
       "      <th>0</th>\n",
       "      <td>P0</td>\n",
       "      <td>None</td>\n",
       "      <td>False</td>\n",
       "      <td>True</td>\n",
       "      <td>True</td>\n",
       "      <td>True</td>\n",
       "      <td>False</td>\n",
       "      <td>True</td>\n",
       "      <td>False</td>\n",
       "      <td>False</td>\n",
       "      <td>Negative</td>\n",
       "    </tr>\n",
       "    <tr>\n",
       "      <th>1</th>\n",
       "      <td>P1</td>\n",
       "      <td>Fever</td>\n",
       "      <td>True</td>\n",
       "      <td>False</td>\n",
       "      <td>True</td>\n",
       "      <td>True</td>\n",
       "      <td>False</td>\n",
       "      <td>False</td>\n",
       "      <td>True</td>\n",
       "      <td>False</td>\n",
       "      <td>Positive</td>\n",
       "    </tr>\n",
       "    <tr>\n",
       "      <th>2</th>\n",
       "      <td>P2</td>\n",
       "      <td>Fever</td>\n",
       "      <td>False</td>\n",
       "      <td>True</td>\n",
       "      <td>True</td>\n",
       "      <td>False</td>\n",
       "      <td>False</td>\n",
       "      <td>False</td>\n",
       "      <td>True</td>\n",
       "      <td>False</td>\n",
       "      <td>Positive</td>\n",
       "    </tr>\n",
       "    <tr>\n",
       "      <th>3</th>\n",
       "      <td>P3</td>\n",
       "      <td>None</td>\n",
       "      <td>True</td>\n",
       "      <td>False</td>\n",
       "      <td>False</td>\n",
       "      <td>False</td>\n",
       "      <td>True</td>\n",
       "      <td>True</td>\n",
       "      <td>True</td>\n",
       "      <td>False</td>\n",
       "      <td>Positive</td>\n",
       "    </tr>\n",
       "    <tr>\n",
       "      <th>4</th>\n",
       "      <td>P4</td>\n",
       "      <td>Swollen Lymph Nodes</td>\n",
       "      <td>True</td>\n",
       "      <td>True</td>\n",
       "      <td>True</td>\n",
       "      <td>False</td>\n",
       "      <td>False</td>\n",
       "      <td>True</td>\n",
       "      <td>True</td>\n",
       "      <td>False</td>\n",
       "      <td>Positive</td>\n",
       "    </tr>\n",
       "  </tbody>\n",
       "</table>\n",
       "</div>"
      ],
      "text/plain": [
       "  Patient_ID     Systemic Illness  Rectal Pain  Sore Throat  Penile Oedema  \\\n",
       "0         P0                 None        False         True           True   \n",
       "1         P1                Fever         True        False           True   \n",
       "2         P2                Fever        False         True           True   \n",
       "3         P3                 None         True        False          False   \n",
       "4         P4  Swollen Lymph Nodes         True         True           True   \n",
       "\n",
       "   Oral Lesions  Solitary Lesion  Swollen Tonsils  HIV Infection  \\\n",
       "0          True            False             True          False   \n",
       "1          True            False            False           True   \n",
       "2         False            False            False           True   \n",
       "3         False             True             True           True   \n",
       "4         False            False             True           True   \n",
       "\n",
       "   Sexually Transmitted Infection MonkeyPox  \n",
       "0                           False  Negative  \n",
       "1                           False  Positive  \n",
       "2                           False  Positive  \n",
       "3                           False  Positive  \n",
       "4                           False  Positive  "
      ]
     },
     "execution_count": 2,
     "metadata": {},
     "output_type": "execute_result"
    }
   ],
   "source": [
    "monkeypox = pd.read_csv('Monkeypox.csv')\n",
    "monkeypox.head()"
   ]
  },
  {
   "cell_type": "markdown",
   "id": "002e0704",
   "metadata": {},
   "source": [
    "## Cleaning dataset"
   ]
  },
  {
   "cell_type": "markdown",
   "id": "05951ddb",
   "metadata": {},
   "source": [
    "#### Checking what kind of data we have"
   ]
  },
  {
   "cell_type": "code",
   "execution_count": 3,
   "id": "2ee40ae1",
   "metadata": {},
   "outputs": [
    {
     "name": "stdout",
     "output_type": "stream",
     "text": [
      "<class 'pandas.core.frame.DataFrame'>\n",
      "RangeIndex: 25000 entries, 0 to 24999\n",
      "Data columns (total 11 columns):\n",
      " #   Column                          Non-Null Count  Dtype \n",
      "---  ------                          --------------  ----- \n",
      " 0   Patient_ID                      25000 non-null  object\n",
      " 1   Systemic Illness                25000 non-null  object\n",
      " 2   Rectal Pain                     25000 non-null  bool  \n",
      " 3   Sore Throat                     25000 non-null  bool  \n",
      " 4   Penile Oedema                   25000 non-null  bool  \n",
      " 5   Oral Lesions                    25000 non-null  bool  \n",
      " 6   Solitary Lesion                 25000 non-null  bool  \n",
      " 7   Swollen Tonsils                 25000 non-null  bool  \n",
      " 8   HIV Infection                   25000 non-null  bool  \n",
      " 9   Sexually Transmitted Infection  25000 non-null  bool  \n",
      " 10  MonkeyPox                       25000 non-null  object\n",
      "dtypes: bool(8), object(3)\n",
      "memory usage: 781.4+ KB\n"
     ]
    }
   ],
   "source": [
    "monkeypox.info()"
   ]
  },
  {
   "cell_type": "code",
   "execution_count": 4,
   "id": "89510e82",
   "metadata": {},
   "outputs": [
    {
     "data": {
      "text/html": [
       "<div>\n",
       "<style scoped>\n",
       "    .dataframe tbody tr th:only-of-type {\n",
       "        vertical-align: middle;\n",
       "    }\n",
       "\n",
       "    .dataframe tbody tr th {\n",
       "        vertical-align: top;\n",
       "    }\n",
       "\n",
       "    .dataframe thead th {\n",
       "        text-align: right;\n",
       "    }\n",
       "</style>\n",
       "<table border=\"1\" class=\"dataframe\">\n",
       "  <thead>\n",
       "    <tr style=\"text-align: right;\">\n",
       "      <th></th>\n",
       "      <th>Patient_ID</th>\n",
       "      <th>Systemic Illness</th>\n",
       "      <th>Rectal Pain</th>\n",
       "      <th>Sore Throat</th>\n",
       "      <th>Penile Oedema</th>\n",
       "      <th>Oral Lesions</th>\n",
       "      <th>Solitary Lesion</th>\n",
       "      <th>Swollen Tonsils</th>\n",
       "      <th>HIV Infection</th>\n",
       "      <th>Sexually Transmitted Infection</th>\n",
       "      <th>MonkeyPox</th>\n",
       "    </tr>\n",
       "  </thead>\n",
       "  <tbody>\n",
       "    <tr>\n",
       "      <th>count</th>\n",
       "      <td>25000</td>\n",
       "      <td>25000</td>\n",
       "      <td>25000</td>\n",
       "      <td>25000</td>\n",
       "      <td>25000</td>\n",
       "      <td>25000</td>\n",
       "      <td>25000</td>\n",
       "      <td>25000</td>\n",
       "      <td>25000</td>\n",
       "      <td>25000</td>\n",
       "      <td>25000</td>\n",
       "    </tr>\n",
       "    <tr>\n",
       "      <th>unique</th>\n",
       "      <td>25000</td>\n",
       "      <td>4</td>\n",
       "      <td>2</td>\n",
       "      <td>2</td>\n",
       "      <td>2</td>\n",
       "      <td>2</td>\n",
       "      <td>2</td>\n",
       "      <td>2</td>\n",
       "      <td>2</td>\n",
       "      <td>2</td>\n",
       "      <td>2</td>\n",
       "    </tr>\n",
       "    <tr>\n",
       "      <th>top</th>\n",
       "      <td>P0</td>\n",
       "      <td>Fever</td>\n",
       "      <td>False</td>\n",
       "      <td>True</td>\n",
       "      <td>True</td>\n",
       "      <td>False</td>\n",
       "      <td>True</td>\n",
       "      <td>True</td>\n",
       "      <td>True</td>\n",
       "      <td>False</td>\n",
       "      <td>Positive</td>\n",
       "    </tr>\n",
       "    <tr>\n",
       "      <th>freq</th>\n",
       "      <td>1</td>\n",
       "      <td>6382</td>\n",
       "      <td>12655</td>\n",
       "      <td>12554</td>\n",
       "      <td>12612</td>\n",
       "      <td>12514</td>\n",
       "      <td>12527</td>\n",
       "      <td>12533</td>\n",
       "      <td>12584</td>\n",
       "      <td>12554</td>\n",
       "      <td>15909</td>\n",
       "    </tr>\n",
       "  </tbody>\n",
       "</table>\n",
       "</div>"
      ],
      "text/plain": [
       "       Patient_ID Systemic Illness Rectal Pain Sore Throat Penile Oedema  \\\n",
       "count       25000            25000       25000       25000         25000   \n",
       "unique      25000                4           2           2             2   \n",
       "top            P0            Fever       False        True          True   \n",
       "freq            1             6382       12655       12554         12612   \n",
       "\n",
       "       Oral Lesions Solitary Lesion Swollen Tonsils HIV Infection  \\\n",
       "count         25000           25000           25000         25000   \n",
       "unique            2               2               2             2   \n",
       "top           False            True            True          True   \n",
       "freq          12514           12527           12533         12584   \n",
       "\n",
       "       Sexually Transmitted Infection MonkeyPox  \n",
       "count                           25000     25000  \n",
       "unique                              2         2  \n",
       "top                             False  Positive  \n",
       "freq                            12554     15909  "
      ]
     },
     "execution_count": 4,
     "metadata": {},
     "output_type": "execute_result"
    }
   ],
   "source": [
    "monkeypox.describe()"
   ]
  },
  {
   "cell_type": "markdown",
   "id": "5dcea17d",
   "metadata": {},
   "source": [
    "#### Lowercase column names and data and replace \" \" with \"_\""
   ]
  },
  {
   "cell_type": "code",
   "execution_count": 5,
   "id": "ce7b79ec",
   "metadata": {},
   "outputs": [],
   "source": [
    "monkeypox.columns = monkeypox.columns.str.lower().str.replace(\" \", \"_\")"
   ]
  },
  {
   "cell_type": "code",
   "execution_count": 6,
   "id": "f596eba0",
   "metadata": {},
   "outputs": [
    {
     "data": {
      "text/html": [
       "<div>\n",
       "<style scoped>\n",
       "    .dataframe tbody tr th:only-of-type {\n",
       "        vertical-align: middle;\n",
       "    }\n",
       "\n",
       "    .dataframe tbody tr th {\n",
       "        vertical-align: top;\n",
       "    }\n",
       "\n",
       "    .dataframe thead th {\n",
       "        text-align: right;\n",
       "    }\n",
       "</style>\n",
       "<table border=\"1\" class=\"dataframe\">\n",
       "  <thead>\n",
       "    <tr style=\"text-align: right;\">\n",
       "      <th></th>\n",
       "      <th>patient_id</th>\n",
       "      <th>systemic_illness</th>\n",
       "      <th>rectal_pain</th>\n",
       "      <th>sore_throat</th>\n",
       "      <th>penile_oedema</th>\n",
       "      <th>oral_lesions</th>\n",
       "      <th>solitary_lesion</th>\n",
       "      <th>swollen_tonsils</th>\n",
       "      <th>hiv_infection</th>\n",
       "      <th>sexually_transmitted_infection</th>\n",
       "      <th>monkeypox</th>\n",
       "    </tr>\n",
       "  </thead>\n",
       "  <tbody>\n",
       "    <tr>\n",
       "      <th>0</th>\n",
       "      <td>p0</td>\n",
       "      <td>none</td>\n",
       "      <td>False</td>\n",
       "      <td>True</td>\n",
       "      <td>True</td>\n",
       "      <td>True</td>\n",
       "      <td>False</td>\n",
       "      <td>True</td>\n",
       "      <td>False</td>\n",
       "      <td>False</td>\n",
       "      <td>negative</td>\n",
       "    </tr>\n",
       "    <tr>\n",
       "      <th>1</th>\n",
       "      <td>p1</td>\n",
       "      <td>fever</td>\n",
       "      <td>True</td>\n",
       "      <td>False</td>\n",
       "      <td>True</td>\n",
       "      <td>True</td>\n",
       "      <td>False</td>\n",
       "      <td>False</td>\n",
       "      <td>True</td>\n",
       "      <td>False</td>\n",
       "      <td>positive</td>\n",
       "    </tr>\n",
       "    <tr>\n",
       "      <th>2</th>\n",
       "      <td>p2</td>\n",
       "      <td>fever</td>\n",
       "      <td>False</td>\n",
       "      <td>True</td>\n",
       "      <td>True</td>\n",
       "      <td>False</td>\n",
       "      <td>False</td>\n",
       "      <td>False</td>\n",
       "      <td>True</td>\n",
       "      <td>False</td>\n",
       "      <td>positive</td>\n",
       "    </tr>\n",
       "    <tr>\n",
       "      <th>3</th>\n",
       "      <td>p3</td>\n",
       "      <td>none</td>\n",
       "      <td>True</td>\n",
       "      <td>False</td>\n",
       "      <td>False</td>\n",
       "      <td>False</td>\n",
       "      <td>True</td>\n",
       "      <td>True</td>\n",
       "      <td>True</td>\n",
       "      <td>False</td>\n",
       "      <td>positive</td>\n",
       "    </tr>\n",
       "    <tr>\n",
       "      <th>4</th>\n",
       "      <td>p4</td>\n",
       "      <td>swollen_lymph_nodes</td>\n",
       "      <td>True</td>\n",
       "      <td>True</td>\n",
       "      <td>True</td>\n",
       "      <td>False</td>\n",
       "      <td>False</td>\n",
       "      <td>True</td>\n",
       "      <td>True</td>\n",
       "      <td>False</td>\n",
       "      <td>positive</td>\n",
       "    </tr>\n",
       "  </tbody>\n",
       "</table>\n",
       "</div>"
      ],
      "text/plain": [
       "  patient_id     systemic_illness  rectal_pain  sore_throat  penile_oedema  \\\n",
       "0         p0                 none        False         True           True   \n",
       "1         p1                fever         True        False           True   \n",
       "2         p2                fever        False         True           True   \n",
       "3         p3                 none         True        False          False   \n",
       "4         p4  swollen_lymph_nodes         True         True           True   \n",
       "\n",
       "   oral_lesions  solitary_lesion  swollen_tonsils  hiv_infection  \\\n",
       "0          True            False             True          False   \n",
       "1          True            False            False           True   \n",
       "2         False            False            False           True   \n",
       "3         False             True             True           True   \n",
       "4         False            False             True           True   \n",
       "\n",
       "   sexually_transmitted_infection monkeypox  \n",
       "0                           False  negative  \n",
       "1                           False  positive  \n",
       "2                           False  positive  \n",
       "3                           False  positive  \n",
       "4                           False  positive  "
      ]
     },
     "execution_count": 6,
     "metadata": {},
     "output_type": "execute_result"
    }
   ],
   "source": [
    "objColumns = monkeypox.select_dtypes(object).columns\n",
    "boolColumns = monkeypox.select_dtypes(bool).columns\n",
    "\n",
    "for col in objColumns:\n",
    "    monkeypox[col] = monkeypox[col].str.lower().str.replace(\" \", \"_\")\n",
    "\n",
    "monkeypox.head()"
   ]
  },
  {
   "cell_type": "code",
   "execution_count": 7,
   "id": "d246c1d3",
   "metadata": {},
   "outputs": [
    {
     "data": {
      "text/plain": [
       "Index(['patient_id', 'systemic_illness', 'monkeypox'], dtype='object')"
      ]
     },
     "execution_count": 7,
     "metadata": {},
     "output_type": "execute_result"
    }
   ],
   "source": [
    "objColumns"
   ]
  },
  {
   "cell_type": "code",
   "execution_count": 8,
   "id": "c4816e68",
   "metadata": {},
   "outputs": [],
   "source": [
    "df = monkeypox.copy()"
   ]
  },
  {
   "cell_type": "markdown",
   "id": "fbfb81c4",
   "metadata": {},
   "source": [
    "#### Converting data to 1's and 0's"
   ]
  },
  {
   "cell_type": "code",
   "execution_count": 9,
   "id": "1bf60729",
   "metadata": {},
   "outputs": [
    {
     "data": {
      "text/html": [
       "<div>\n",
       "<style scoped>\n",
       "    .dataframe tbody tr th:only-of-type {\n",
       "        vertical-align: middle;\n",
       "    }\n",
       "\n",
       "    .dataframe tbody tr th {\n",
       "        vertical-align: top;\n",
       "    }\n",
       "\n",
       "    .dataframe thead th {\n",
       "        text-align: right;\n",
       "    }\n",
       "</style>\n",
       "<table border=\"1\" class=\"dataframe\">\n",
       "  <thead>\n",
       "    <tr style=\"text-align: right;\">\n",
       "      <th></th>\n",
       "      <th>patient_id</th>\n",
       "      <th>systemic_illness</th>\n",
       "      <th>rectal_pain</th>\n",
       "      <th>sore_throat</th>\n",
       "      <th>penile_oedema</th>\n",
       "      <th>oral_lesions</th>\n",
       "      <th>solitary_lesion</th>\n",
       "      <th>swollen_tonsils</th>\n",
       "      <th>hiv_infection</th>\n",
       "      <th>sexually_transmitted_infection</th>\n",
       "      <th>monkeypox</th>\n",
       "      <th>systemic_illness_ord</th>\n",
       "      <th>monkeypox_ord</th>\n",
       "    </tr>\n",
       "  </thead>\n",
       "  <tbody>\n",
       "    <tr>\n",
       "      <th>0</th>\n",
       "      <td>p0</td>\n",
       "      <td>none</td>\n",
       "      <td>0</td>\n",
       "      <td>1</td>\n",
       "      <td>1</td>\n",
       "      <td>1</td>\n",
       "      <td>0</td>\n",
       "      <td>1</td>\n",
       "      <td>0</td>\n",
       "      <td>0</td>\n",
       "      <td>negative</td>\n",
       "      <td>2.0</td>\n",
       "      <td>0.0</td>\n",
       "    </tr>\n",
       "    <tr>\n",
       "      <th>1</th>\n",
       "      <td>p1</td>\n",
       "      <td>fever</td>\n",
       "      <td>1</td>\n",
       "      <td>0</td>\n",
       "      <td>1</td>\n",
       "      <td>1</td>\n",
       "      <td>0</td>\n",
       "      <td>0</td>\n",
       "      <td>1</td>\n",
       "      <td>0</td>\n",
       "      <td>positive</td>\n",
       "      <td>0.0</td>\n",
       "      <td>1.0</td>\n",
       "    </tr>\n",
       "    <tr>\n",
       "      <th>2</th>\n",
       "      <td>p2</td>\n",
       "      <td>fever</td>\n",
       "      <td>0</td>\n",
       "      <td>1</td>\n",
       "      <td>1</td>\n",
       "      <td>0</td>\n",
       "      <td>0</td>\n",
       "      <td>0</td>\n",
       "      <td>1</td>\n",
       "      <td>0</td>\n",
       "      <td>positive</td>\n",
       "      <td>0.0</td>\n",
       "      <td>1.0</td>\n",
       "    </tr>\n",
       "    <tr>\n",
       "      <th>3</th>\n",
       "      <td>p3</td>\n",
       "      <td>none</td>\n",
       "      <td>1</td>\n",
       "      <td>0</td>\n",
       "      <td>0</td>\n",
       "      <td>0</td>\n",
       "      <td>1</td>\n",
       "      <td>1</td>\n",
       "      <td>1</td>\n",
       "      <td>0</td>\n",
       "      <td>positive</td>\n",
       "      <td>2.0</td>\n",
       "      <td>1.0</td>\n",
       "    </tr>\n",
       "    <tr>\n",
       "      <th>4</th>\n",
       "      <td>p4</td>\n",
       "      <td>swollen_lymph_nodes</td>\n",
       "      <td>1</td>\n",
       "      <td>1</td>\n",
       "      <td>1</td>\n",
       "      <td>0</td>\n",
       "      <td>0</td>\n",
       "      <td>1</td>\n",
       "      <td>1</td>\n",
       "      <td>0</td>\n",
       "      <td>positive</td>\n",
       "      <td>3.0</td>\n",
       "      <td>1.0</td>\n",
       "    </tr>\n",
       "  </tbody>\n",
       "</table>\n",
       "</div>"
      ],
      "text/plain": [
       "  patient_id     systemic_illness  rectal_pain  sore_throat  penile_oedema  \\\n",
       "0         p0                 none            0            1              1   \n",
       "1         p1                fever            1            0              1   \n",
       "2         p2                fever            0            1              1   \n",
       "3         p3                 none            1            0              0   \n",
       "4         p4  swollen_lymph_nodes            1            1              1   \n",
       "\n",
       "   oral_lesions  solitary_lesion  swollen_tonsils  hiv_infection  \\\n",
       "0             1                0                1              0   \n",
       "1             1                0                0              1   \n",
       "2             0                0                0              1   \n",
       "3             0                1                1              1   \n",
       "4             0                0                1              1   \n",
       "\n",
       "   sexually_transmitted_infection monkeypox  systemic_illness_ord  \\\n",
       "0                               0  negative                   2.0   \n",
       "1                               0  positive                   0.0   \n",
       "2                               0  positive                   0.0   \n",
       "3                               0  positive                   2.0   \n",
       "4                               0  positive                   3.0   \n",
       "\n",
       "   monkeypox_ord  \n",
       "0            0.0  \n",
       "1            1.0  \n",
       "2            1.0  \n",
       "3            1.0  \n",
       "4            1.0  "
      ]
     },
     "execution_count": 9,
     "metadata": {},
     "output_type": "execute_result"
    }
   ],
   "source": [
    "ordEncoder = OrdinalEncoder()\n",
    "df[\"systemic_illness_ord\"] = ordEncoder.fit_transform(df[[\"systemic_illness\"]])\n",
    "df[\"monkeypox_ord\"] = ordEncoder.fit_transform(df[[\"monkeypox\"]])\n",
    "df[boolColumns] = df[boolColumns].astype(int)\n",
    "df.head()"
   ]
  },
  {
   "cell_type": "code",
   "execution_count": 10,
   "id": "c6943e5a",
   "metadata": {},
   "outputs": [
    {
     "name": "stdout",
     "output_type": "stream",
     "text": [
      "<class 'pandas.core.frame.DataFrame'>\n",
      "RangeIndex: 25000 entries, 0 to 24999\n",
      "Data columns (total 13 columns):\n",
      " #   Column                          Non-Null Count  Dtype  \n",
      "---  ------                          --------------  -----  \n",
      " 0   patient_id                      25000 non-null  object \n",
      " 1   systemic_illness                25000 non-null  object \n",
      " 2   rectal_pain                     25000 non-null  int32  \n",
      " 3   sore_throat                     25000 non-null  int32  \n",
      " 4   penile_oedema                   25000 non-null  int32  \n",
      " 5   oral_lesions                    25000 non-null  int32  \n",
      " 6   solitary_lesion                 25000 non-null  int32  \n",
      " 7   swollen_tonsils                 25000 non-null  int32  \n",
      " 8   hiv_infection                   25000 non-null  int32  \n",
      " 9   sexually_transmitted_infection  25000 non-null  int32  \n",
      " 10  monkeypox                       25000 non-null  object \n",
      " 11  systemic_illness_ord            25000 non-null  float64\n",
      " 12  monkeypox_ord                   25000 non-null  float64\n",
      "dtypes: float64(2), int32(8), object(3)\n",
      "memory usage: 1.7+ MB\n"
     ]
    }
   ],
   "source": [
    "df.info()"
   ]
  },
  {
   "cell_type": "markdown",
   "id": "b7924df6",
   "metadata": {},
   "source": [
    "## EDA"
   ]
  },
  {
   "cell_type": "markdown",
   "id": "7a177278",
   "metadata": {},
   "source": [
    "#### Checking missing values"
   ]
  },
  {
   "cell_type": "code",
   "execution_count": 11,
   "id": "bb9501a6",
   "metadata": {},
   "outputs": [
    {
     "data": {
      "text/plain": [
       "patient_id                        0\n",
       "systemic_illness                  0\n",
       "rectal_pain                       0\n",
       "sore_throat                       0\n",
       "penile_oedema                     0\n",
       "oral_lesions                      0\n",
       "solitary_lesion                   0\n",
       "swollen_tonsils                   0\n",
       "hiv_infection                     0\n",
       "sexually_transmitted_infection    0\n",
       "monkeypox                         0\n",
       "dtype: int64"
      ]
     },
     "execution_count": 11,
     "metadata": {},
     "output_type": "execute_result"
    }
   ],
   "source": [
    "monkeypox.isnull().sum()"
   ]
  },
  {
   "cell_type": "markdown",
   "id": "7be3ab9a",
   "metadata": {},
   "source": [
    "Zero missing values"
   ]
  },
  {
   "cell_type": "markdown",
   "id": "8649acdc",
   "metadata": {},
   "source": [
    "#### Checking feature values distribution.  The target class \"monkeypox\" is imbalanced."
   ]
  },
  {
   "cell_type": "code",
   "execution_count": 12,
   "id": "6fcd1d41",
   "metadata": {},
   "outputs": [
    {
     "data": {
      "image/png": "[encoded data removed]",
      "text/plain": [
       "<Figure size 1008x720 with 12 Axes>"
      ]
     },
     "metadata": {},
     "output_type": "display_data"
    }
   ],
   "source": [
    "_ = df.hist(figsize=(14,10))"
   ]
  },
  {
   "cell_type": "markdown",
   "id": "6c891846",
   "metadata": {},
   "source": [
    "#### Let's check the correlation"
   ]
  },
  {
   "cell_type": "code",
   "execution_count": 13,
   "id": "bb9e57e1",
   "metadata": {},
   "outputs": [
    {
     "data": {
      "image/png": "[encoded data removed]",
      "text/plain": [
       "<Figure size 720x576 with 2 Axes>"
      ]
     },
     "metadata": {},
     "output_type": "display_data"
    }
   ],
   "source": [
    "correlation = df.corr().abs()\n",
    "plt.figure(figsize=(10,8))\n",
    "_ = sns.heatmap(correlation, cmap=\"Blues\", annot=True)"
   ]
  },
  {
   "cell_type": "code",
   "execution_count": 14,
   "id": "5a4ab432",
   "metadata": {},
   "outputs": [
    {
     "data": {
      "image/png": "[encoded data removed]",
      "text/plain": [
       "<Figure size 720x288 with 1 Axes>"
      ]
     },
     "metadata": {},
     "output_type": "display_data"
    }
   ],
   "source": [
    "correlation = df.drop(columns='monkeypox_ord').corrwith(df.monkeypox_ord).abs()\n",
    "plt.figure(figsize=(10,4))\n",
    "_ = correlation.plot(kind='bar', grid=True)"
   ]
  },
  {
   "cell_type": "markdown",
   "id": "5147f946",
   "metadata": {},
   "source": [
    "Some features seem not to be correlated with the target.  In thiscase we will leave all the features to analize influence of all of them."
   ]
  },
  {
   "cell_type": "markdown",
   "id": "ae4e44e7",
   "metadata": {},
   "source": [
    "Let's remove the columns we added for EDA analysis"
   ]
  },
  {
   "cell_type": "code",
   "execution_count": 15,
   "id": "a2059b17",
   "metadata": {},
   "outputs": [],
   "source": [
    "df.drop(columns=['systemic_illness', 'monkeypox'], inplace=True)"
   ]
  },
  {
   "cell_type": "code",
   "execution_count": 72,
   "id": "c4570eae",
   "metadata": {},
   "outputs": [],
   "source": [
    "df.drop(columns=['patient_id'], inplace=True)"
   ]
  },
  {
   "cell_type": "markdown",
   "id": "30161ba3",
   "metadata": {},
   "source": [
    "## Data Processing"
   ]
  },
  {
   "cell_type": "markdown",
   "id": "264ae7db",
   "metadata": {},
   "source": [
    "Helper function to split dataset"
   ]
  },
  {
   "cell_type": "code",
   "execution_count": 73,
   "id": "cadff39e",
   "metadata": {},
   "outputs": [],
   "source": [
    "def splitDF(df):    \n",
    "    \n",
    "    random_state = 42\n",
    "    target = df.monkeypox_ord    \n",
    "    data = df.drop(columns = ['monkeypox_ord'])\n",
    "    \n",
    "    dfTrainFull, dfTest, yTrainFull, yTest = train_test_split(data, \n",
    "                                                              target,\n",
    "                                                              test_size = 0.2,\n",
    "                                                              random_state = random_state)\n",
    "    \n",
    "    dfTrain, dfVal, yTrain, yVal = train_test_split(dfTrainFull,\n",
    "                                                    yTrainFull,\n",
    "                                                    test_size = 0.25,\n",
    "                                                    random_state = random_state)\n",
    "    print(f'The dataset has been split in: '\n",
    "          f'Training set {len(yTrain)} samples, '\n",
    "          f'Validation: {len(yVal)} samples'\n",
    "          f' and Test set: {len(yTest)} samples')\n",
    "    \n",
    "    return dfTrainFull, yTrainFull, dfTrain, yTrain, dfVal, yVal, dfTest, yTest"
   ]
  },
  {
   "cell_type": "code",
   "execution_count": 74,
   "id": "d1cb8f9c",
   "metadata": {},
   "outputs": [
    {
     "name": "stdout",
     "output_type": "stream",
     "text": [
      "The dataset has been split in: Training set 15000 samples, Validation: 5000 samples and Test set: 5000 samples\n"
     ]
    }
   ],
   "source": [
    "dfTrainFull, yTrainFull, dfTrain, yTrain, dfVal, yVal, dfTest, yTest = splitDF(df)"
   ]
  },
  {
   "cell_type": "markdown",
   "id": "459781c4",
   "metadata": {},
   "source": [
    "#### Preprocessing"
   ]
  },
  {
   "cell_type": "code",
   "execution_count": 76,
   "id": "a4933196",
   "metadata": {},
   "outputs": [],
   "source": [
    "categColumns = ['systemic_illness_ord']\n",
    "allColumns = list(dfTrain.columns)"
   ]
  },
  {
   "cell_type": "code",
   "execution_count": 77,
   "id": "c31b523e",
   "metadata": {},
   "outputs": [],
   "source": [
    "# creating preprocesors\n",
    "categPreprocessor = OneHotEncoder(handle_unknown=\"ignore\")\n",
    "\n",
    "# Transforming the data\n",
    "preprocessor = ColumnTransformer([('one-hot-encoder', categPreprocessor, categColumns)],\n",
    "                                 remainder=\"passthrough\")\n",
    "\n",
    "    #('one-hot-encoder', catPreprocessor, categoricalCols),('standard_scaler', numPreprocessor, numericalCols)])\n",
    "    #], remainder=\"passthrough\")\n"
   ]
  },
  {
   "cell_type": "markdown",
   "id": "bdd75e3d",
   "metadata": {},
   "source": [
    "## Training Models"
   ]
  },
  {
   "cell_type": "markdown",
   "id": "84c65589",
   "metadata": {},
   "source": [
    "#### Logistic Regression"
   ]
  },
  {
   "cell_type": "code",
   "execution_count": 78,
   "id": "3eb321bc",
   "metadata": {},
   "outputs": [
    {
     "data": {
      "text/html": [
       "<style>#sk-container-id-7 {color: black;background-color: white;}#sk-container-id-7 pre{padding: 0;}#sk-container-id-7 div.sk-toggleable {background-color: white;}#sk-container-id-7 label.sk-toggleable__label {cursor: pointer;display: block;width: 100%;margin-bottom: 0;padding: 0.3em;box-sizing: border-box;text-align: center;}#sk-container-id-7 label.sk-toggleable__label-arrow:before {content: \"▸\";float: left;margin-right: 0.25em;color: #696969;}#sk-container-id-7 label.sk-toggleable__label-arrow:hover:before {color: black;}#sk-container-id-7 div.sk-estimator:hover label.sk-toggleable__label-arrow:before {color: black;}#sk-container-id-7 div.sk-toggleable__content {max-height: 0;max-width: 0;overflow: hidden;text-align: left;background-color: #f0f8ff;}#sk-container-id-7 div.sk-toggleable__content pre {margin: 0.2em;color: black;border-radius: 0.25em;background-color: #f0f8ff;}#sk-container-id-7 input.sk-toggleable__control:checked~div.sk-toggleable__content {max-height: 200px;max-width: 100%;overflow: auto;}#sk-container-id-7 input.sk-toggleable__control:checked~label.sk-toggleable__label-arrow:before {content: \"▾\";}#sk-container-id-7 div.sk-estimator input.sk-toggleable__control:checked~label.sk-toggleable__label {background-color: #d4ebff;}#sk-container-id-7 div.sk-label input.sk-toggleable__control:checked~label.sk-toggleable__label {background-color: #d4ebff;}#sk-container-id-7 input.sk-hidden--visually {border: 0;clip: rect(1px 1px 1px 1px);clip: rect(1px, 1px, 1px, 1px);height: 1px;margin: -1px;overflow: hidden;padding: 0;position: absolute;width: 1px;}#sk-container-id-7 div.sk-estimator {font-family: monospace;background-color: #f0f8ff;border: 1px dotted black;border-radius: 0.25em;box-sizing: border-box;margin-bottom: 0.5em;}#sk-container-id-7 div.sk-estimator:hover {background-color: #d4ebff;}#sk-container-id-7 div.sk-parallel-item::after {content: \"\";width: 100%;border-bottom: 1px solid gray;flex-grow: 1;}#sk-container-id-7 div.sk-label:hover label.sk-toggleable__label {background-color: #d4ebff;}#sk-container-id-7 div.sk-serial::before {content: \"\";position: absolute;border-left: 1px solid gray;box-sizing: border-box;top: 0;bottom: 0;left: 50%;z-index: 0;}#sk-container-id-7 div.sk-serial {display: flex;flex-direction: column;align-items: center;background-color: white;padding-right: 0.2em;padding-left: 0.2em;position: relative;}#sk-container-id-7 div.sk-item {position: relative;z-index: 1;}#sk-container-id-7 div.sk-parallel {display: flex;align-items: stretch;justify-content: center;background-color: white;position: relative;}#sk-container-id-7 div.sk-item::before, #sk-container-id-7 div.sk-parallel-item::before {content: \"\";position: absolute;border-left: 1px solid gray;box-sizing: border-box;top: 0;bottom: 0;left: 50%;z-index: -1;}#sk-container-id-7 div.sk-parallel-item {display: flex;flex-direction: column;z-index: 1;position: relative;background-color: white;}#sk-container-id-7 div.sk-parallel-item:first-child::after {align-self: flex-end;width: 50%;}#sk-container-id-7 div.sk-parallel-item:last-child::after {align-self: flex-start;width: 50%;}#sk-container-id-7 div.sk-parallel-item:only-child::after {width: 0;}#sk-container-id-7 div.sk-dashed-wrapped {border: 1px dashed gray;margin: 0 0.4em 0.5em 0.4em;box-sizing: border-box;padding-bottom: 0.4em;background-color: white;}#sk-container-id-7 div.sk-label label {font-family: monospace;font-weight: bold;display: inline-block;line-height: 1.2em;}#sk-container-id-7 div.sk-label-container {text-align: center;}#sk-container-id-7 div.sk-container {/* jupyter's `normalize.less` sets `[hidden] { display: none; }` but bootstrap.min.css set `[hidden] { display: none !important; }` so we also need the `!important` here to be able to override the default hidden behavior on the sphinx rendered scikit-learn.org. See: https://github.com/scikit-learn/scikit-learn/issues/21755 */display: inline-block !important;position: relative;}#sk-container-id-7 div.sk-text-repr-fallback {display: none;}</style><div id=\"sk-container-id-7\" class=\"sk-top-container\"><div class=\"sk-text-repr-fallback\"><pre>Pipeline(steps=[(&#x27;columntransformer&#x27;,\n",
       "                 ColumnTransformer(remainder=&#x27;passthrough&#x27;,\n",
       "                                   transformers=[(&#x27;one-hot-encoder&#x27;,\n",
       "                                                  OneHotEncoder(handle_unknown=&#x27;ignore&#x27;),\n",
       "                                                  [&#x27;systemic_illness_ord&#x27;])])),\n",
       "                (&#x27;logisticregression&#x27;,\n",
       "                 LogisticRegression(class_weight=&#x27;balanced&#x27;, max_iter=1000))])</pre><b>In a Jupyter environment, please rerun this cell to show the HTML representation or trust the notebook. <br />On GitHub, the HTML representation is unable to render, please try loading this page with nbviewer.org.</b></div><div class=\"sk-container\" hidden><div class=\"sk-item sk-dashed-wrapped\"><div class=\"sk-label-container\"><div class=\"sk-label sk-toggleable\"><input class=\"sk-toggleable__control sk-hidden--visually\" id=\"sk-estimator-id-28\" type=\"checkbox\" ><label for=\"sk-estimator-id-28\" class=\"sk-toggleable__label sk-toggleable__label-arrow\">Pipeline</label><div class=\"sk-toggleable__content\"><pre>Pipeline(steps=[(&#x27;columntransformer&#x27;,\n",
       "                 ColumnTransformer(remainder=&#x27;passthrough&#x27;,\n",
       "                                   transformers=[(&#x27;one-hot-encoder&#x27;,\n",
       "                                                  OneHotEncoder(handle_unknown=&#x27;ignore&#x27;),\n",
       "                                                  [&#x27;systemic_illness_ord&#x27;])])),\n",
       "                (&#x27;logisticregression&#x27;,\n",
       "                 LogisticRegression(class_weight=&#x27;balanced&#x27;, max_iter=1000))])</pre></div></div></div><div class=\"sk-serial\"><div class=\"sk-item sk-dashed-wrapped\"><div class=\"sk-label-container\"><div class=\"sk-label sk-toggleable\"><input class=\"sk-toggleable__control sk-hidden--visually\" id=\"sk-estimator-id-29\" type=\"checkbox\" ><label for=\"sk-estimator-id-29\" class=\"sk-toggleable__label sk-toggleable__label-arrow\">columntransformer: ColumnTransformer</label><div class=\"sk-toggleable__content\"><pre>ColumnTransformer(remainder=&#x27;passthrough&#x27;,\n",
       "                  transformers=[(&#x27;one-hot-encoder&#x27;,\n",
       "                                 OneHotEncoder(handle_unknown=&#x27;ignore&#x27;),\n",
       "                                 [&#x27;systemic_illness_ord&#x27;])])</pre></div></div></div><div class=\"sk-parallel\"><div class=\"sk-parallel-item\"><div class=\"sk-item\"><div class=\"sk-label-container\"><div class=\"sk-label sk-toggleable\"><input class=\"sk-toggleable__control sk-hidden--visually\" id=\"sk-estimator-id-30\" type=\"checkbox\" ><label for=\"sk-estimator-id-30\" class=\"sk-toggleable__label sk-toggleable__label-arrow\">one-hot-encoder</label><div class=\"sk-toggleable__content\"><pre>[&#x27;systemic_illness_ord&#x27;]</pre></div></div></div><div class=\"sk-serial\"><div class=\"sk-item\"><div class=\"sk-estimator sk-toggleable\"><input class=\"sk-toggleable__control sk-hidden--visually\" id=\"sk-estimator-id-31\" type=\"checkbox\" ><label for=\"sk-estimator-id-31\" class=\"sk-toggleable__label sk-toggleable__label-arrow\">OneHotEncoder</label><div class=\"sk-toggleable__content\"><pre>OneHotEncoder(handle_unknown=&#x27;ignore&#x27;)</pre></div></div></div></div></div></div><div class=\"sk-parallel-item\"><div class=\"sk-item\"><div class=\"sk-label-container\"><div class=\"sk-label sk-toggleable\"><input class=\"sk-toggleable__control sk-hidden--visually\" id=\"sk-estimator-id-32\" type=\"checkbox\" ><label for=\"sk-estimator-id-32\" class=\"sk-toggleable__label sk-toggleable__label-arrow\">remainder</label><div class=\"sk-toggleable__content\"><pre>[&#x27;rectal_pain&#x27;, &#x27;sore_throat&#x27;, &#x27;penile_oedema&#x27;, &#x27;oral_lesions&#x27;, &#x27;solitary_lesion&#x27;, &#x27;swollen_tonsils&#x27;, &#x27;hiv_infection&#x27;, &#x27;sexually_transmitted_infection&#x27;]</pre></div></div></div><div class=\"sk-serial\"><div class=\"sk-item\"><div class=\"sk-estimator sk-toggleable\"><input class=\"sk-toggleable__control sk-hidden--visually\" id=\"sk-estimator-id-33\" type=\"checkbox\" ><label for=\"sk-estimator-id-33\" class=\"sk-toggleable__label sk-toggleable__label-arrow\">passthrough</label><div class=\"sk-toggleable__content\"><pre>passthrough</pre></div></div></div></div></div></div></div></div><div class=\"sk-item\"><div class=\"sk-estimator sk-toggleable\"><input class=\"sk-toggleable__control sk-hidden--visually\" id=\"sk-estimator-id-34\" type=\"checkbox\" ><label for=\"sk-estimator-id-34\" class=\"sk-toggleable__label sk-toggleable__label-arrow\">LogisticRegression</label><div class=\"sk-toggleable__content\"><pre>LogisticRegression(class_weight=&#x27;balanced&#x27;, max_iter=1000)</pre></div></div></div></div></div></div></div>"
      ],
      "text/plain": [
       "Pipeline(steps=[('columntransformer',\n",
       "                 ColumnTransformer(remainder='passthrough',\n",
       "                                   transformers=[('one-hot-encoder',\n",
       "                                                  OneHotEncoder(handle_unknown='ignore'),\n",
       "                                                  ['systemic_illness_ord'])])),\n",
       "                ('logisticregression',\n",
       "                 LogisticRegression(class_weight='balanced', max_iter=1000))])"
      ]
     },
     "execution_count": 78,
     "metadata": {},
     "output_type": "execute_result"
    }
   ],
   "source": [
    "#model = make_pipeline(preprocessor, LogisticRegression(max_iter=1000))    \n",
    "model = make_pipeline(preprocessor, LogisticRegression(max_iter=1000, class_weight='balanced'))\n",
    "\n",
    "#model.fit(dfTrain[0:size], yTrain[0:size])\n",
    "model.fit(dfTrain, yTrain)"
   ]
  },
  {
   "cell_type": "code",
   "execution_count": 79,
   "id": "aa2f1994",
   "metadata": {},
   "outputs": [
    {
     "name": "stdout",
     "output_type": "stream",
     "text": [
      "Val AUC: 0.7000668116260674\n",
      "Train AUC: 0.7000668116260674\n",
      "Test AUC: 0.7073457130993958\n",
      "\n",
      "              precision    recall  f1-score   support\n",
      "\n",
      "         0.0       0.50      0.64      0.57      1873\n",
      "         1.0       0.74      0.62      0.68      3127\n",
      "\n",
      "    accuracy                           0.63      5000\n",
      "   macro avg       0.62      0.63      0.62      5000\n",
      "weighted avg       0.65      0.63      0.63      5000\n",
      "\n",
      "                   pre       rec       spe        f1       geo       iba       sup\n",
      "\n",
      "        0.0       0.50      0.64      0.62      0.57      0.63      0.40      1873\n",
      "        1.0       0.74      0.62      0.64      0.68      0.63      0.40      3127\n",
      "\n",
      "avg / total       0.65      0.63      0.64      0.63      0.63      0.40      5000\n",
      "\n"
     ]
    }
   ],
   "source": [
    "yValPredProba = model.predict_proba(dfVal)[:,1]\n",
    "yValPred = model.predict(dfVal)\n",
    "auc = roc_auc_score(yVal, yValPredProba)\n",
    "\n",
    "yTestpred=model.predict_proba(dfTest)[:,1]\n",
    "\n",
    "yTrainPredProba = model.predict_proba(dfTrain)[:,1]\n",
    "yTrainPred = model.predict(dfTrain)\n",
    "auc = roc_auc_score(yTrain, yTrainPredProba)\n",
    "\n",
    "print(f'Val AUC: {auc}')\n",
    "print(f'Train AUC: {auc}')\n",
    "print(f'Test AUC: {roc_auc_score(yTest, yTestpred)}\\n')\n",
    "\n",
    "print(classification_report(yVal, yValPred))\n",
    "print(classification_report_imbalanced(yVal, model.predict(dfVal)))"
   ]
  },
  {
   "cell_type": "code",
   "execution_count": 80,
   "id": "e9848a13",
   "metadata": {},
   "outputs": [
    {
     "data": {
      "text/html": [
       "<div>\n",
       "<style scoped>\n",
       "    .dataframe tbody tr th:only-of-type {\n",
       "        vertical-align: middle;\n",
       "    }\n",
       "\n",
       "    .dataframe tbody tr th {\n",
       "        vertical-align: top;\n",
       "    }\n",
       "\n",
       "    .dataframe thead th {\n",
       "        text-align: right;\n",
       "    }\n",
       "</style>\n",
       "<table border=\"1\" class=\"dataframe\">\n",
       "  <thead>\n",
       "    <tr style=\"text-align: right;\">\n",
       "      <th></th>\n",
       "      <th>fit_time</th>\n",
       "      <th>score_time</th>\n",
       "      <th>test_f1</th>\n",
       "      <th>train_f1</th>\n",
       "      <th>test_f1_weighted</th>\n",
       "      <th>train_f1_weighted</th>\n",
       "      <th>test_recall</th>\n",
       "      <th>train_recall</th>\n",
       "      <th>test_precision</th>\n",
       "      <th>train_precision</th>\n",
       "      <th>test_accuracy</th>\n",
       "      <th>train_accuracy</th>\n",
       "      <th>test_roc_auc</th>\n",
       "      <th>train_roc_auc</th>\n",
       "    </tr>\n",
       "  </thead>\n",
       "  <tbody>\n",
       "    <tr>\n",
       "      <th>0</th>\n",
       "      <td>0.019998</td>\n",
       "      <td>0.019001</td>\n",
       "      <td>0.681147</td>\n",
       "      <td>0.691912</td>\n",
       "      <td>0.639824</td>\n",
       "      <td>0.647131</td>\n",
       "      <td>0.616675</td>\n",
       "      <td>0.634683</td>\n",
       "      <td>0.760673</td>\n",
       "      <td>0.760484</td>\n",
       "      <td>0.633000</td>\n",
       "      <td>0.640667</td>\n",
       "      <td>0.698137</td>\n",
       "      <td>0.700322</td>\n",
       "    </tr>\n",
       "    <tr>\n",
       "      <th>1</th>\n",
       "      <td>0.019001</td>\n",
       "      <td>0.012002</td>\n",
       "      <td>0.702456</td>\n",
       "      <td>0.687370</td>\n",
       "      <td>0.658885</td>\n",
       "      <td>0.642502</td>\n",
       "      <td>0.644992</td>\n",
       "      <td>0.629571</td>\n",
       "      <td>0.771160</td>\n",
       "      <td>0.756855</td>\n",
       "      <td>0.652667</td>\n",
       "      <td>0.635917</td>\n",
       "      <td>0.710099</td>\n",
       "      <td>0.697382</td>\n",
       "    </tr>\n",
       "    <tr>\n",
       "      <th>2</th>\n",
       "      <td>0.025000</td>\n",
       "      <td>0.012004</td>\n",
       "      <td>0.690129</td>\n",
       "      <td>0.691670</td>\n",
       "      <td>0.645511</td>\n",
       "      <td>0.646800</td>\n",
       "      <td>0.632407</td>\n",
       "      <td>0.634552</td>\n",
       "      <td>0.759446</td>\n",
       "      <td>0.760088</td>\n",
       "      <td>0.639000</td>\n",
       "      <td>0.640333</td>\n",
       "      <td>0.705101</td>\n",
       "      <td>0.698661</td>\n",
       "    </tr>\n",
       "    <tr>\n",
       "      <th>3</th>\n",
       "      <td>0.022995</td>\n",
       "      <td>0.018003</td>\n",
       "      <td>0.681779</td>\n",
       "      <td>0.694863</td>\n",
       "      <td>0.637063</td>\n",
       "      <td>0.650485</td>\n",
       "      <td>0.622968</td>\n",
       "      <td>0.637436</td>\n",
       "      <td>0.752852</td>\n",
       "      <td>0.763662</td>\n",
       "      <td>0.630333</td>\n",
       "      <td>0.644083</td>\n",
       "      <td>0.682779</td>\n",
       "      <td>0.704215</td>\n",
       "    </tr>\n",
       "    <tr>\n",
       "      <th>4</th>\n",
       "      <td>0.019003</td>\n",
       "      <td>0.011996</td>\n",
       "      <td>0.698017</td>\n",
       "      <td>0.691559</td>\n",
       "      <td>0.650844</td>\n",
       "      <td>0.647148</td>\n",
       "      <td>0.645702</td>\n",
       "      <td>0.633718</td>\n",
       "      <td>0.759556</td>\n",
       "      <td>0.761020</td>\n",
       "      <td>0.644667</td>\n",
       "      <td>0.640667</td>\n",
       "      <td>0.699486</td>\n",
       "      <td>0.700029</td>\n",
       "    </tr>\n",
       "    <tr>\n",
       "      <th>5</th>\n",
       "      <td>0.020000</td>\n",
       "      <td>0.011999</td>\n",
       "      <td>0.693539</td>\n",
       "      <td>0.688306</td>\n",
       "      <td>0.649092</td>\n",
       "      <td>0.644086</td>\n",
       "      <td>0.636078</td>\n",
       "      <td>0.629571</td>\n",
       "      <td>0.762414</td>\n",
       "      <td>0.759128</td>\n",
       "      <td>0.642667</td>\n",
       "      <td>0.637500</td>\n",
       "      <td>0.701739</td>\n",
       "      <td>0.699570</td>\n",
       "    </tr>\n",
       "    <tr>\n",
       "      <th>6</th>\n",
       "      <td>0.022001</td>\n",
       "      <td>0.013999</td>\n",
       "      <td>0.701336</td>\n",
       "      <td>0.690517</td>\n",
       "      <td>0.655810</td>\n",
       "      <td>0.645317</td>\n",
       "      <td>0.647090</td>\n",
       "      <td>0.633766</td>\n",
       "      <td>0.765509</td>\n",
       "      <td>0.758431</td>\n",
       "      <td>0.649667</td>\n",
       "      <td>0.638833</td>\n",
       "      <td>0.709126</td>\n",
       "      <td>0.697580</td>\n",
       "    </tr>\n",
       "    <tr>\n",
       "      <th>7</th>\n",
       "      <td>0.026998</td>\n",
       "      <td>0.011999</td>\n",
       "      <td>0.687177</td>\n",
       "      <td>0.687841</td>\n",
       "      <td>0.643974</td>\n",
       "      <td>0.644633</td>\n",
       "      <td>0.626639</td>\n",
       "      <td>0.627343</td>\n",
       "      <td>0.760662</td>\n",
       "      <td>0.761253</td>\n",
       "      <td>0.637333</td>\n",
       "      <td>0.638000</td>\n",
       "      <td>0.699291</td>\n",
       "      <td>0.700202</td>\n",
       "    </tr>\n",
       "    <tr>\n",
       "      <th>8</th>\n",
       "      <td>0.024999</td>\n",
       "      <td>0.013002</td>\n",
       "      <td>0.678889</td>\n",
       "      <td>0.696334</td>\n",
       "      <td>0.633099</td>\n",
       "      <td>0.651505</td>\n",
       "      <td>0.621395</td>\n",
       "      <td>0.639927</td>\n",
       "      <td>0.748106</td>\n",
       "      <td>0.763648</td>\n",
       "      <td>0.626333</td>\n",
       "      <td>0.645167</td>\n",
       "      <td>0.677306</td>\n",
       "      <td>0.705627</td>\n",
       "    </tr>\n",
       "    <tr>\n",
       "      <th>9</th>\n",
       "      <td>0.034000</td>\n",
       "      <td>0.014997</td>\n",
       "      <td>0.692594</td>\n",
       "      <td>0.693721</td>\n",
       "      <td>0.648157</td>\n",
       "      <td>0.647848</td>\n",
       "      <td>0.634696</td>\n",
       "      <td>0.638700</td>\n",
       "      <td>0.762115</td>\n",
       "      <td>0.759115</td>\n",
       "      <td>0.641667</td>\n",
       "      <td>0.641500</td>\n",
       "      <td>0.708428</td>\n",
       "      <td>0.697777</td>\n",
       "    </tr>\n",
       "  </tbody>\n",
       "</table>\n",
       "</div>"
      ],
      "text/plain": [
       "   fit_time  score_time   test_f1  train_f1  test_f1_weighted  \\\n",
       "0  0.019998    0.019001  0.681147  0.691912          0.639824   \n",
       "1  0.019001    0.012002  0.702456  0.687370          0.658885   \n",
       "2  0.025000    0.012004  0.690129  0.691670          0.645511   \n",
       "3  0.022995    0.018003  0.681779  0.694863          0.637063   \n",
       "4  0.019003    0.011996  0.698017  0.691559          0.650844   \n",
       "5  0.020000    0.011999  0.693539  0.688306          0.649092   \n",
       "6  0.022001    0.013999  0.701336  0.690517          0.655810   \n",
       "7  0.026998    0.011999  0.687177  0.687841          0.643974   \n",
       "8  0.024999    0.013002  0.678889  0.696334          0.633099   \n",
       "9  0.034000    0.014997  0.692594  0.693721          0.648157   \n",
       "\n",
       "   train_f1_weighted  test_recall  train_recall  test_precision  \\\n",
       "0           0.647131     0.616675      0.634683        0.760673   \n",
       "1           0.642502     0.644992      0.629571        0.771160   \n",
       "2           0.646800     0.632407      0.634552        0.759446   \n",
       "3           0.650485     0.622968      0.637436        0.752852   \n",
       "4           0.647148     0.645702      0.633718        0.759556   \n",
       "5           0.644086     0.636078      0.629571        0.762414   \n",
       "6           0.645317     0.647090      0.633766        0.765509   \n",
       "7           0.644633     0.626639      0.627343        0.760662   \n",
       "8           0.651505     0.621395      0.639927        0.748106   \n",
       "9           0.647848     0.634696      0.638700        0.762115   \n",
       "\n",
       "   train_precision  test_accuracy  train_accuracy  test_roc_auc  train_roc_auc  \n",
       "0         0.760484       0.633000        0.640667      0.698137       0.700322  \n",
       "1         0.756855       0.652667        0.635917      0.710099       0.697382  \n",
       "2         0.760088       0.639000        0.640333      0.705101       0.698661  \n",
       "3         0.763662       0.630333        0.644083      0.682779       0.704215  \n",
       "4         0.761020       0.644667        0.640667      0.699486       0.700029  \n",
       "5         0.759128       0.642667        0.637500      0.701739       0.699570  \n",
       "6         0.758431       0.649667        0.638833      0.709126       0.697580  \n",
       "7         0.761253       0.637333        0.638000      0.699291       0.700202  \n",
       "8         0.763648       0.626333        0.645167      0.677306       0.705627  \n",
       "9         0.759115       0.641667        0.641500      0.708428       0.697777  "
      ]
     },
     "execution_count": 80,
     "metadata": {},
     "output_type": "execute_result"
    }
   ],
   "source": [
    "steps = [ preprocessor, ('model', LogisticRegression(max_iter=1000,class_weight='balanced'))]\n",
    "#StandardScaler().fit(dfTrainFull)\n",
    "#pipeline = make_pipeline(StandardScaler(), LogisticRegression())\n",
    "Pipeline(steps=steps)\n",
    "\n",
    "cv = RepeatedStratifiedKFold(n_splits=5, n_repeats=2)\n",
    "scores = pd.DataFrame.from_dict( cross_validate(model, dfTrain, yTrain, cv=cv,\n",
    "                         scoring=('f1', 'f1_weighted',  'recall' , 'precision', 'accuracy', 'roc_auc'),\n",
    "                         return_train_score=True))\n",
    "                                \n",
    "scores"
   ]
  },
  {
   "cell_type": "code",
   "execution_count": 81,
   "id": "0d4a8aae",
   "metadata": {},
   "outputs": [
    {
     "data": {
      "text/plain": [
       "fit_time             0.023400\n",
       "score_time           0.013900\n",
       "test_f1              0.690706\n",
       "train_f1             0.691409\n",
       "test_f1_weighted     0.646226\n",
       "train_f1_weighted    0.646745\n",
       "test_recall          0.632864\n",
       "train_recall         0.633927\n",
       "test_precision       0.760249\n",
       "train_precision      0.760368\n",
       "test_accuracy        0.639733\n",
       "train_accuracy       0.640267\n",
       "test_roc_auc         0.699149\n",
       "train_roc_auc        0.700137\n",
       "dtype: float64"
      ]
     },
     "execution_count": 81,
     "metadata": {},
     "output_type": "execute_result"
    }
   ],
   "source": [
    "scoresx = scores.mean(axis=0)     \n",
    "scoresx"
   ]
  },
  {
   "cell_type": "code",
   "execution_count": 82,
   "id": "1fdf9cb6",
   "metadata": {},
   "outputs": [
    {
     "data": {
      "text/html": [
       "<style>#sk-container-id-8 {color: black;background-color: white;}#sk-container-id-8 pre{padding: 0;}#sk-container-id-8 div.sk-toggleable {background-color: white;}#sk-container-id-8 label.sk-toggleable__label {cursor: pointer;display: block;width: 100%;margin-bottom: 0;padding: 0.3em;box-sizing: border-box;text-align: center;}#sk-container-id-8 label.sk-toggleable__label-arrow:before {content: \"▸\";float: left;margin-right: 0.25em;color: #696969;}#sk-container-id-8 label.sk-toggleable__label-arrow:hover:before {color: black;}#sk-container-id-8 div.sk-estimator:hover label.sk-toggleable__label-arrow:before {color: black;}#sk-container-id-8 div.sk-toggleable__content {max-height: 0;max-width: 0;overflow: hidden;text-align: left;background-color: #f0f8ff;}#sk-container-id-8 div.sk-toggleable__content pre {margin: 0.2em;color: black;border-radius: 0.25em;background-color: #f0f8ff;}#sk-container-id-8 input.sk-toggleable__control:checked~div.sk-toggleable__content {max-height: 200px;max-width: 100%;overflow: auto;}#sk-container-id-8 input.sk-toggleable__control:checked~label.sk-toggleable__label-arrow:before {content: \"▾\";}#sk-container-id-8 div.sk-estimator input.sk-toggleable__control:checked~label.sk-toggleable__label {background-color: #d4ebff;}#sk-container-id-8 div.sk-label input.sk-toggleable__control:checked~label.sk-toggleable__label {background-color: #d4ebff;}#sk-container-id-8 input.sk-hidden--visually {border: 0;clip: rect(1px 1px 1px 1px);clip: rect(1px, 1px, 1px, 1px);height: 1px;margin: -1px;overflow: hidden;padding: 0;position: absolute;width: 1px;}#sk-container-id-8 div.sk-estimator {font-family: monospace;background-color: #f0f8ff;border: 1px dotted black;border-radius: 0.25em;box-sizing: border-box;margin-bottom: 0.5em;}#sk-container-id-8 div.sk-estimator:hover {background-color: #d4ebff;}#sk-container-id-8 div.sk-parallel-item::after {content: \"\";width: 100%;border-bottom: 1px solid gray;flex-grow: 1;}#sk-container-id-8 div.sk-label:hover label.sk-toggleable__label {background-color: #d4ebff;}#sk-container-id-8 div.sk-serial::before {content: \"\";position: absolute;border-left: 1px solid gray;box-sizing: border-box;top: 0;bottom: 0;left: 50%;z-index: 0;}#sk-container-id-8 div.sk-serial {display: flex;flex-direction: column;align-items: center;background-color: white;padding-right: 0.2em;padding-left: 0.2em;position: relative;}#sk-container-id-8 div.sk-item {position: relative;z-index: 1;}#sk-container-id-8 div.sk-parallel {display: flex;align-items: stretch;justify-content: center;background-color: white;position: relative;}#sk-container-id-8 div.sk-item::before, #sk-container-id-8 div.sk-parallel-item::before {content: \"\";position: absolute;border-left: 1px solid gray;box-sizing: border-box;top: 0;bottom: 0;left: 50%;z-index: -1;}#sk-container-id-8 div.sk-parallel-item {display: flex;flex-direction: column;z-index: 1;position: relative;background-color: white;}#sk-container-id-8 div.sk-parallel-item:first-child::after {align-self: flex-end;width: 50%;}#sk-container-id-8 div.sk-parallel-item:last-child::after {align-self: flex-start;width: 50%;}#sk-container-id-8 div.sk-parallel-item:only-child::after {width: 0;}#sk-container-id-8 div.sk-dashed-wrapped {border: 1px dashed gray;margin: 0 0.4em 0.5em 0.4em;box-sizing: border-box;padding-bottom: 0.4em;background-color: white;}#sk-container-id-8 div.sk-label label {font-family: monospace;font-weight: bold;display: inline-block;line-height: 1.2em;}#sk-container-id-8 div.sk-label-container {text-align: center;}#sk-container-id-8 div.sk-container {/* jupyter's `normalize.less` sets `[hidden] { display: none; }` but bootstrap.min.css set `[hidden] { display: none !important; }` so we also need the `!important` here to be able to override the default hidden behavior on the sphinx rendered scikit-learn.org. See: https://github.com/scikit-learn/scikit-learn/issues/21755 */display: inline-block !important;position: relative;}#sk-container-id-8 div.sk-text-repr-fallback {display: none;}</style><div id=\"sk-container-id-8\" class=\"sk-top-container\"><div class=\"sk-text-repr-fallback\"><pre>GridSearchCV(cv=StratifiedKFold(n_splits=3, random_state=None, shuffle=False),\n",
       "             estimator=Pipeline(steps=[(&#x27;classifier&#x27;,\n",
       "                                        LogisticRegression(class_weight=&#x27;balanced&#x27;,\n",
       "                                                           max_iter=1000))]),\n",
       "             n_jobs=2,\n",
       "             param_grid={&#x27;classifier__C&#x27;: (0.001, 0.01, 0.05, 0.1, 0.05, 1)},\n",
       "             return_train_score=True, scoring=&#x27;roc_auc&#x27;)</pre><b>In a Jupyter environment, please rerun this cell to show the HTML representation or trust the notebook. <br />On GitHub, the HTML representation is unable to render, please try loading this page with nbviewer.org.</b></div><div class=\"sk-container\" hidden><div class=\"sk-item sk-dashed-wrapped\"><div class=\"sk-label-container\"><div class=\"sk-label sk-toggleable\"><input class=\"sk-toggleable__control sk-hidden--visually\" id=\"sk-estimator-id-35\" type=\"checkbox\" ><label for=\"sk-estimator-id-35\" class=\"sk-toggleable__label sk-toggleable__label-arrow\">GridSearchCV</label><div class=\"sk-toggleable__content\"><pre>GridSearchCV(cv=StratifiedKFold(n_splits=3, random_state=None, shuffle=False),\n",
       "             estimator=Pipeline(steps=[(&#x27;classifier&#x27;,\n",
       "                                        LogisticRegression(class_weight=&#x27;balanced&#x27;,\n",
       "                                                           max_iter=1000))]),\n",
       "             n_jobs=2,\n",
       "             param_grid={&#x27;classifier__C&#x27;: (0.001, 0.01, 0.05, 0.1, 0.05, 1)},\n",
       "             return_train_score=True, scoring=&#x27;roc_auc&#x27;)</pre></div></div></div><div class=\"sk-parallel\"><div class=\"sk-parallel-item\"><div class=\"sk-item\"><div class=\"sk-label-container\"><div class=\"sk-label sk-toggleable\"><input class=\"sk-toggleable__control sk-hidden--visually\" id=\"sk-estimator-id-36\" type=\"checkbox\" ><label for=\"sk-estimator-id-36\" class=\"sk-toggleable__label sk-toggleable__label-arrow\">estimator: Pipeline</label><div class=\"sk-toggleable__content\"><pre>Pipeline(steps=[(&#x27;classifier&#x27;,\n",
       "                 LogisticRegression(class_weight=&#x27;balanced&#x27;, max_iter=1000))])</pre></div></div></div><div class=\"sk-serial\"><div class=\"sk-item\"><div class=\"sk-serial\"><div class=\"sk-item\"><div class=\"sk-estimator sk-toggleable\"><input class=\"sk-toggleable__control sk-hidden--visually\" id=\"sk-estimator-id-37\" type=\"checkbox\" ><label for=\"sk-estimator-id-37\" class=\"sk-toggleable__label sk-toggleable__label-arrow\">LogisticRegression</label><div class=\"sk-toggleable__content\"><pre>LogisticRegression(class_weight=&#x27;balanced&#x27;, max_iter=1000)</pre></div></div></div></div></div></div></div></div></div></div></div></div>"
      ],
      "text/plain": [
       "GridSearchCV(cv=StratifiedKFold(n_splits=3, random_state=None, shuffle=False),\n",
       "             estimator=Pipeline(steps=[('classifier',\n",
       "                                        LogisticRegression(class_weight='balanced',\n",
       "                                                           max_iter=1000))]),\n",
       "             n_jobs=2,\n",
       "             param_grid={'classifier__C': (0.001, 0.01, 0.05, 0.1, 0.05, 1)},\n",
       "             return_train_score=True, scoring='roc_auc')"
      ]
     },
     "execution_count": 82,
     "metadata": {},
     "output_type": "execute_result"
    }
   ],
   "source": [
    "model = Pipeline([(\"classifier\", LogisticRegression(max_iter=1000,class_weight='balanced'))])\n",
    "\n",
    "param_grid = {\n",
    "    'classifier__C': (1e-3, 1e-2, 0.05, 0.1, 0.05, 1),\n",
    "    #'classifier__max_leaf_nodes': (1, 5,10,15,20),\n",
    "    #'classifier__max_features': (1,3,5,7,10)\n",
    "}\n",
    "scoring = {\"AUC\": \"roc_auc\", \"f1_weighted\": \"f1_weighted\"}\n",
    "\n",
    "cv = StratifiedKFold(n_splits=3)\n",
    "model_grid_search = GridSearchCV(model,\n",
    "                                 param_grid=param_grid,\n",
    "                                 #scoring=scoring,\n",
    "                                 #scoring=\"f1_weighted\",\n",
    "                                 scoring=\"roc_auc\",\n",
    "                                 n_jobs=2,\n",
    "                                 cv=cv,\n",
    "                                 return_train_score=True,)\n",
    "                                 #refit=False)\n",
    "model_grid_search.fit(dfTrain, yTrain)"
   ]
  },
  {
   "cell_type": "code",
   "execution_count": 83,
   "id": "bf0fddbb",
   "metadata": {},
   "outputs": [
    {
     "data": {
      "text/html": [
       "<div>\n",
       "<style scoped>\n",
       "    .dataframe tbody tr th:only-of-type {\n",
       "        vertical-align: middle;\n",
       "    }\n",
       "\n",
       "    .dataframe tbody tr th {\n",
       "        vertical-align: top;\n",
       "    }\n",
       "\n",
       "    .dataframe thead th {\n",
       "        text-align: right;\n",
       "    }\n",
       "</style>\n",
       "<table border=\"1\" class=\"dataframe\">\n",
       "  <thead>\n",
       "    <tr style=\"text-align: right;\">\n",
       "      <th></th>\n",
       "      <th>param_classifier__C</th>\n",
       "      <th>mean_test_score</th>\n",
       "      <th>std_test_score</th>\n",
       "      <th>rank_test_score</th>\n",
       "    </tr>\n",
       "  </thead>\n",
       "  <tbody>\n",
       "    <tr>\n",
       "      <th>1</th>\n",
       "      <td>0.01</td>\n",
       "      <td>0.653478</td>\n",
       "      <td>0.003829</td>\n",
       "      <td>1</td>\n",
       "    </tr>\n",
       "    <tr>\n",
       "      <th>3</th>\n",
       "      <td>0.1</td>\n",
       "      <td>0.653476</td>\n",
       "      <td>0.003891</td>\n",
       "      <td>2</td>\n",
       "    </tr>\n",
       "    <tr>\n",
       "      <th>2</th>\n",
       "      <td>0.05</td>\n",
       "      <td>0.653473</td>\n",
       "      <td>0.003878</td>\n",
       "      <td>3</td>\n",
       "    </tr>\n",
       "    <tr>\n",
       "      <th>4</th>\n",
       "      <td>0.05</td>\n",
       "      <td>0.653473</td>\n",
       "      <td>0.003878</td>\n",
       "      <td>3</td>\n",
       "    </tr>\n",
       "    <tr>\n",
       "      <th>5</th>\n",
       "      <td>1</td>\n",
       "      <td>0.653472</td>\n",
       "      <td>0.003885</td>\n",
       "      <td>5</td>\n",
       "    </tr>\n",
       "    <tr>\n",
       "      <th>0</th>\n",
       "      <td>0.001</td>\n",
       "      <td>0.652801</td>\n",
       "      <td>0.002882</td>\n",
       "      <td>6</td>\n",
       "    </tr>\n",
       "  </tbody>\n",
       "</table>\n",
       "</div>"
      ],
      "text/plain": [
       "  param_classifier__C  mean_test_score  std_test_score  rank_test_score\n",
       "1                0.01         0.653478        0.003829                1\n",
       "3                 0.1         0.653476        0.003891                2\n",
       "2                0.05         0.653473        0.003878                3\n",
       "4                0.05         0.653473        0.003878                3\n",
       "5                   1         0.653472        0.003885                5\n",
       "0               0.001         0.652801        0.002882                6"
      ]
     },
     "execution_count": 83,
     "metadata": {},
     "output_type": "execute_result"
    }
   ],
   "source": [
    "cv_results = pd.DataFrame(model_grid_search.cv_results_)\n",
    "#cv_results\n",
    "res = cv_results[[\n",
    "    \"param_classifier__C\",\n",
    "    \"mean_test_score\",\n",
    "    'std_test_score',\n",
    "    'rank_test_score'\n",
    "    #\"mean_train_AUC\",\n",
    "    #\"std_train_AUC\",\n",
    "    #\"rank_test_AUC\",\n",
    "    #\"mean_train_f1_weighted\",\n",
    "    #\"std_train_f1_weighted\",\n",
    "    #\"rank_test_f1_weighted\"\n",
    "]]\n",
    "res.sort_values(by=['rank_test_score']).head(10)"
   ]
  },
  {
   "cell_type": "code",
   "execution_count": 84,
   "id": "f8b695e9",
   "metadata": {},
   "outputs": [
    {
     "data": {
      "image/png": "[encoded data removed]",
      "text/plain": [
       "<Figure size 432x288 with 1 Axes>"
      ]
     },
     "metadata": {},
     "output_type": "display_data"
    }
   ],
   "source": [
    "display = PrecisionRecallDisplay.from_estimator(\n",
    "    model_grid_search, dfVal, yVal, name=\"Validation\", \n",
    ")\n",
    "_ = display.ax_.set_title(\"2-class Precision-Recall curve\")"
   ]
  },
  {
   "cell_type": "markdown",
   "id": "4d4e0059",
   "metadata": {},
   "source": [
    "#### DecisionTreeClassifier"
   ]
  },
  {
   "cell_type": "code",
   "execution_count": 85,
   "id": "549ee080",
   "metadata": {},
   "outputs": [
    {
     "data": {
      "text/html": [
       "<style>#sk-container-id-9 {color: black;background-color: white;}#sk-container-id-9 pre{padding: 0;}#sk-container-id-9 div.sk-toggleable {background-color: white;}#sk-container-id-9 label.sk-toggleable__label {cursor: pointer;display: block;width: 100%;margin-bottom: 0;padding: 0.3em;box-sizing: border-box;text-align: center;}#sk-container-id-9 label.sk-toggleable__label-arrow:before {content: \"▸\";float: left;margin-right: 0.25em;color: #696969;}#sk-container-id-9 label.sk-toggleable__label-arrow:hover:before {color: black;}#sk-container-id-9 div.sk-estimator:hover label.sk-toggleable__label-arrow:before {color: black;}#sk-container-id-9 div.sk-toggleable__content {max-height: 0;max-width: 0;overflow: hidden;text-align: left;background-color: #f0f8ff;}#sk-container-id-9 div.sk-toggleable__content pre {margin: 0.2em;color: black;border-radius: 0.25em;background-color: #f0f8ff;}#sk-container-id-9 input.sk-toggleable__control:checked~div.sk-toggleable__content {max-height: 200px;max-width: 100%;overflow: auto;}#sk-container-id-9 input.sk-toggleable__control:checked~label.sk-toggleable__label-arrow:before {content: \"▾\";}#sk-container-id-9 div.sk-estimator input.sk-toggleable__control:checked~label.sk-toggleable__label {background-color: #d4ebff;}#sk-container-id-9 div.sk-label input.sk-toggleable__control:checked~label.sk-toggleable__label {background-color: #d4ebff;}#sk-container-id-9 input.sk-hidden--visually {border: 0;clip: rect(1px 1px 1px 1px);clip: rect(1px, 1px, 1px, 1px);height: 1px;margin: -1px;overflow: hidden;padding: 0;position: absolute;width: 1px;}#sk-container-id-9 div.sk-estimator {font-family: monospace;background-color: #f0f8ff;border: 1px dotted black;border-radius: 0.25em;box-sizing: border-box;margin-bottom: 0.5em;}#sk-container-id-9 div.sk-estimator:hover {background-color: #d4ebff;}#sk-container-id-9 div.sk-parallel-item::after {content: \"\";width: 100%;border-bottom: 1px solid gray;flex-grow: 1;}#sk-container-id-9 div.sk-label:hover label.sk-toggleable__label {background-color: #d4ebff;}#sk-container-id-9 div.sk-serial::before {content: \"\";position: absolute;border-left: 1px solid gray;box-sizing: border-box;top: 0;bottom: 0;left: 50%;z-index: 0;}#sk-container-id-9 div.sk-serial {display: flex;flex-direction: column;align-items: center;background-color: white;padding-right: 0.2em;padding-left: 0.2em;position: relative;}#sk-container-id-9 div.sk-item {position: relative;z-index: 1;}#sk-container-id-9 div.sk-parallel {display: flex;align-items: stretch;justify-content: center;background-color: white;position: relative;}#sk-container-id-9 div.sk-item::before, #sk-container-id-9 div.sk-parallel-item::before {content: \"\";position: absolute;border-left: 1px solid gray;box-sizing: border-box;top: 0;bottom: 0;left: 50%;z-index: -1;}#sk-container-id-9 div.sk-parallel-item {display: flex;flex-direction: column;z-index: 1;position: relative;background-color: white;}#sk-container-id-9 div.sk-parallel-item:first-child::after {align-self: flex-end;width: 50%;}#sk-container-id-9 div.sk-parallel-item:last-child::after {align-self: flex-start;width: 50%;}#sk-container-id-9 div.sk-parallel-item:only-child::after {width: 0;}#sk-container-id-9 div.sk-dashed-wrapped {border: 1px dashed gray;margin: 0 0.4em 0.5em 0.4em;box-sizing: border-box;padding-bottom: 0.4em;background-color: white;}#sk-container-id-9 div.sk-label label {font-family: monospace;font-weight: bold;display: inline-block;line-height: 1.2em;}#sk-container-id-9 div.sk-label-container {text-align: center;}#sk-container-id-9 div.sk-container {/* jupyter's `normalize.less` sets `[hidden] { display: none; }` but bootstrap.min.css set `[hidden] { display: none !important; }` so we also need the `!important` here to be able to override the default hidden behavior on the sphinx rendered scikit-learn.org. See: https://github.com/scikit-learn/scikit-learn/issues/21755 */display: inline-block !important;position: relative;}#sk-container-id-9 div.sk-text-repr-fallback {display: none;}</style><div id=\"sk-container-id-9\" class=\"sk-top-container\"><div class=\"sk-text-repr-fallback\"><pre>Pipeline(steps=[(&#x27;decisiontreeclassifier&#x27;,\n",
       "                 DecisionTreeClassifier(class_weight=&#x27;balanced&#x27;, max_depth=7,\n",
       "                                        max_features=9, max_leaf_nodes=25,\n",
       "                                        random_state=1))])</pre><b>In a Jupyter environment, please rerun this cell to show the HTML representation or trust the notebook. <br />On GitHub, the HTML representation is unable to render, please try loading this page with nbviewer.org.</b></div><div class=\"sk-container\" hidden><div class=\"sk-item sk-dashed-wrapped\"><div class=\"sk-label-container\"><div class=\"sk-label sk-toggleable\"><input class=\"sk-toggleable__control sk-hidden--visually\" id=\"sk-estimator-id-38\" type=\"checkbox\" ><label for=\"sk-estimator-id-38\" class=\"sk-toggleable__label sk-toggleable__label-arrow\">Pipeline</label><div class=\"sk-toggleable__content\"><pre>Pipeline(steps=[(&#x27;decisiontreeclassifier&#x27;,\n",
       "                 DecisionTreeClassifier(class_weight=&#x27;balanced&#x27;, max_depth=7,\n",
       "                                        max_features=9, max_leaf_nodes=25,\n",
       "                                        random_state=1))])</pre></div></div></div><div class=\"sk-serial\"><div class=\"sk-item\"><div class=\"sk-estimator sk-toggleable\"><input class=\"sk-toggleable__control sk-hidden--visually\" id=\"sk-estimator-id-39\" type=\"checkbox\" ><label for=\"sk-estimator-id-39\" class=\"sk-toggleable__label sk-toggleable__label-arrow\">DecisionTreeClassifier</label><div class=\"sk-toggleable__content\"><pre>DecisionTreeClassifier(class_weight=&#x27;balanced&#x27;, max_depth=7, max_features=9,\n",
       "                       max_leaf_nodes=25, random_state=1)</pre></div></div></div></div></div></div></div>"
      ],
      "text/plain": [
       "Pipeline(steps=[('decisiontreeclassifier',\n",
       "                 DecisionTreeClassifier(class_weight='balanced', max_depth=7,\n",
       "                                        max_features=9, max_leaf_nodes=25,\n",
       "                                        random_state=1))])"
      ]
     },
     "execution_count": 85,
     "metadata": {},
     "output_type": "execute_result"
    }
   ],
   "source": [
    "# creating the model\n",
    "from sklearn.pipeline import make_pipeline\n",
    "model = make_pipeline(DecisionTreeClassifier(max_depth=7,\n",
    "                                             max_leaf_nodes=25,\n",
    "                                             class_weight='balanced',\n",
    "                                             max_features=9,\n",
    "                                             random_state=1))\n",
    "\n",
    "model.fit(dfTrain, yTrain)"
   ]
  },
  {
   "cell_type": "code",
   "execution_count": 112,
   "id": "8c51307c",
   "metadata": {},
   "outputs": [
    {
     "name": "stdout",
     "output_type": "stream",
     "text": [
      "Val AUC: 0.6866216619761645, Val Brier: 0.21955652530002942\n",
      "Test AUC: 0.6951478216150252, Val Brier: 0.22160561919549676\n",
      "Train AUC: 0.6920493589216052, Val Brier: 0.21926579855146305\n",
      "\n",
      "                   pre       rec       spe        f1       geo       iba       sup\n",
      "\n",
      "        0.0       0.51      0.64      0.63      0.57      0.63      0.40      1873\n",
      "        1.0       0.74      0.63      0.64      0.68      0.63      0.40      3127\n",
      "\n",
      "avg / total       0.66      0.63      0.64      0.64      0.63      0.40      5000\n",
      "\n"
     ]
    }
   ],
   "source": [
    "yValPred = model.predict_proba(dfVal)[:,1]\n",
    "auc = roc_auc_score(yVal, yValPred)\n",
    "print(f'Val AUC: {auc}, Val Brier: {brier}')\n",
    "brier = brier_score_loss(yVal, yValPred)\n",
    "\n",
    "yTestpred=model.predict_proba(dfTest)[:,1]\n",
    "print(f'Test AUC: {roc_auc_score(yTest, yTestpred)}, Val Brier: {brier}')\n",
    "brier = brier_score_loss(yTest, yTestpred)\n",
    "\n",
    "yTrainPred = model.predict_proba(dfTrain)[:,1]\n",
    "auc = roc_auc_score(yTrain, yTrainPred)\n",
    "print(f'Train AUC: {auc}, Val Brier: {brier}\\n')\n",
    "brier = brier_score_loss(yTrain, yTrainPred)\n",
    "\n",
    "\n",
    "#print(classification_report(yVal, model.predict(dfVal)))\n",
    "print(classification_report_imbalanced(yVal, model.predict(dfVal)))"
   ]
  },
  {
   "cell_type": "code",
   "execution_count": 97,
   "id": "83a938c1",
   "metadata": {},
   "outputs": [
    {
     "data": {
      "text/html": [
       "<div>\n",
       "<style scoped>\n",
       "    .dataframe tbody tr th:only-of-type {\n",
       "        vertical-align: middle;\n",
       "    }\n",
       "\n",
       "    .dataframe tbody tr th {\n",
       "        vertical-align: top;\n",
       "    }\n",
       "\n",
       "    .dataframe thead th {\n",
       "        text-align: right;\n",
       "    }\n",
       "</style>\n",
       "<table border=\"1\" class=\"dataframe\">\n",
       "  <thead>\n",
       "    <tr style=\"text-align: right;\">\n",
       "      <th></th>\n",
       "      <th>fit_time</th>\n",
       "      <th>score_time</th>\n",
       "      <th>test_roc_auc</th>\n",
       "      <th>test_average_precision</th>\n",
       "      <th>test_recall</th>\n",
       "      <th>test_f1_weighted</th>\n",
       "      <th>test_accuracy</th>\n",
       "      <th>test_balanced_accuracy</th>\n",
       "      <th>test_neg_brier_score</th>\n",
       "    </tr>\n",
       "  </thead>\n",
       "  <tbody>\n",
       "    <tr>\n",
       "      <th>0</th>\n",
       "      <td>0.010000</td>\n",
       "      <td>0.011011</td>\n",
       "      <td>0.674929</td>\n",
       "      <td>0.752024</td>\n",
       "      <td>0.604615</td>\n",
       "      <td>0.629722</td>\n",
       "      <td>0.622667</td>\n",
       "      <td>0.629389</td>\n",
       "      <td>-0.223382</td>\n",
       "    </tr>\n",
       "    <tr>\n",
       "      <th>1</th>\n",
       "      <td>0.009986</td>\n",
       "      <td>0.015005</td>\n",
       "      <td>0.676217</td>\n",
       "      <td>0.757414</td>\n",
       "      <td>0.656529</td>\n",
       "      <td>0.643872</td>\n",
       "      <td>0.638333</td>\n",
       "      <td>0.631558</td>\n",
       "      <td>-0.224213</td>\n",
       "    </tr>\n",
       "    <tr>\n",
       "      <th>2</th>\n",
       "      <td>0.009992</td>\n",
       "      <td>0.011019</td>\n",
       "      <td>0.708404</td>\n",
       "      <td>0.779304</td>\n",
       "      <td>0.605139</td>\n",
       "      <td>0.644447</td>\n",
       "      <td>0.637667</td>\n",
       "      <td>0.649779</td>\n",
       "      <td>-0.215926</td>\n",
       "    </tr>\n",
       "    <tr>\n",
       "      <th>3</th>\n",
       "      <td>0.010005</td>\n",
       "      <td>0.012996</td>\n",
       "      <td>0.685184</td>\n",
       "      <td>0.763452</td>\n",
       "      <td>0.667016</td>\n",
       "      <td>0.648413</td>\n",
       "      <td>0.643333</td>\n",
       "      <td>0.634515</td>\n",
       "      <td>-0.220060</td>\n",
       "    </tr>\n",
       "    <tr>\n",
       "      <th>4</th>\n",
       "      <td>0.010998</td>\n",
       "      <td>0.011002</td>\n",
       "      <td>0.679997</td>\n",
       "      <td>0.753742</td>\n",
       "      <td>0.650419</td>\n",
       "      <td>0.643877</td>\n",
       "      <td>0.638000</td>\n",
       "      <td>0.633360</td>\n",
       "      <td>-0.224678</td>\n",
       "    </tr>\n",
       "  </tbody>\n",
       "</table>\n",
       "</div>"
      ],
      "text/plain": [
       "   fit_time  score_time  test_roc_auc  test_average_precision  test_recall  \\\n",
       "0  0.010000    0.011011      0.674929                0.752024     0.604615   \n",
       "1  0.009986    0.015005      0.676217                0.757414     0.656529   \n",
       "2  0.009992    0.011019      0.708404                0.779304     0.605139   \n",
       "3  0.010005    0.012996      0.685184                0.763452     0.667016   \n",
       "4  0.010998    0.011002      0.679997                0.753742     0.650419   \n",
       "\n",
       "   test_f1_weighted  test_accuracy  test_balanced_accuracy  \\\n",
       "0          0.629722       0.622667                0.629389   \n",
       "1          0.643872       0.638333                0.631558   \n",
       "2          0.644447       0.637667                0.649779   \n",
       "3          0.648413       0.643333                0.634515   \n",
       "4          0.643877       0.638000                0.633360   \n",
       "\n",
       "   test_neg_brier_score  \n",
       "0             -0.223382  \n",
       "1             -0.224213  \n",
       "2             -0.215926  \n",
       "3             -0.220060  \n",
       "4             -0.224678  "
      ]
     },
     "execution_count": 97,
     "metadata": {},
     "output_type": "execute_result"
    }
   ],
   "source": [
    "cv = StratifiedKFold(n_splits=5)\n",
    "cv_results = cross_validate(model, dfTrain, yTrain,cv=cv,\n",
    "                            scoring=['roc_auc', 'average_precision',\n",
    "                                     'recall','f1_weighted', 'accuracy',\n",
    "                                     'balanced_accuracy','neg_brier_score' ])\n",
    "cv_results = pd.DataFrame(cv_results)\n",
    "cv_results"
   ]
  },
  {
   "cell_type": "code",
   "execution_count": 98,
   "id": "3e48cc76",
   "metadata": {},
   "outputs": [
    {
     "data": {
      "text/plain": [
       "Index(['rectal_pain', 'sore_throat', 'penile_oedema', 'oral_lesions',\n",
       "       'solitary_lesion', 'swollen_tonsils', 'hiv_infection',\n",
       "       'sexually_transmitted_infection', 'systemic_illness_ord'],\n",
       "      dtype='object')"
      ]
     },
     "execution_count": 98,
     "metadata": {},
     "output_type": "execute_result"
    }
   ],
   "source": [
    "dfTrain.columns"
   ]
  },
  {
   "cell_type": "code",
   "execution_count": 117,
   "id": "eebc00b2",
   "metadata": {},
   "outputs": [
    {
     "data": {
      "text/html": [
       "<style>#sk-container-id-11 {color: black;background-color: white;}#sk-container-id-11 pre{padding: 0;}#sk-container-id-11 div.sk-toggleable {background-color: white;}#sk-container-id-11 label.sk-toggleable__label {cursor: pointer;display: block;width: 100%;margin-bottom: 0;padding: 0.3em;box-sizing: border-box;text-align: center;}#sk-container-id-11 label.sk-toggleable__label-arrow:before {content: \"▸\";float: left;margin-right: 0.25em;color: #696969;}#sk-container-id-11 label.sk-toggleable__label-arrow:hover:before {color: black;}#sk-container-id-11 div.sk-estimator:hover label.sk-toggleable__label-arrow:before {color: black;}#sk-container-id-11 div.sk-toggleable__content {max-height: 0;max-width: 0;overflow: hidden;text-align: left;background-color: #f0f8ff;}#sk-container-id-11 div.sk-toggleable__content pre {margin: 0.2em;color: black;border-radius: 0.25em;background-color: #f0f8ff;}#sk-container-id-11 input.sk-toggleable__control:checked~div.sk-toggleable__content {max-height: 200px;max-width: 100%;overflow: auto;}#sk-container-id-11 input.sk-toggleable__control:checked~label.sk-toggleable__label-arrow:before {content: \"▾\";}#sk-container-id-11 div.sk-estimator input.sk-toggleable__control:checked~label.sk-toggleable__label {background-color: #d4ebff;}#sk-container-id-11 div.sk-label input.sk-toggleable__control:checked~label.sk-toggleable__label {background-color: #d4ebff;}#sk-container-id-11 input.sk-hidden--visually {border: 0;clip: rect(1px 1px 1px 1px);clip: rect(1px, 1px, 1px, 1px);height: 1px;margin: -1px;overflow: hidden;padding: 0;position: absolute;width: 1px;}#sk-container-id-11 div.sk-estimator {font-family: monospace;background-color: #f0f8ff;border: 1px dotted black;border-radius: 0.25em;box-sizing: border-box;margin-bottom: 0.5em;}#sk-container-id-11 div.sk-estimator:hover {background-color: #d4ebff;}#sk-container-id-11 div.sk-parallel-item::after {content: \"\";width: 100%;border-bottom: 1px solid gray;flex-grow: 1;}#sk-container-id-11 div.sk-label:hover label.sk-toggleable__label {background-color: #d4ebff;}#sk-container-id-11 div.sk-serial::before {content: \"\";position: absolute;border-left: 1px solid gray;box-sizing: border-box;top: 0;bottom: 0;left: 50%;z-index: 0;}#sk-container-id-11 div.sk-serial {display: flex;flex-direction: column;align-items: center;background-color: white;padding-right: 0.2em;padding-left: 0.2em;position: relative;}#sk-container-id-11 div.sk-item {position: relative;z-index: 1;}#sk-container-id-11 div.sk-parallel {display: flex;align-items: stretch;justify-content: center;background-color: white;position: relative;}#sk-container-id-11 div.sk-item::before, #sk-container-id-11 div.sk-parallel-item::before {content: \"\";position: absolute;border-left: 1px solid gray;box-sizing: border-box;top: 0;bottom: 0;left: 50%;z-index: -1;}#sk-container-id-11 div.sk-parallel-item {display: flex;flex-direction: column;z-index: 1;position: relative;background-color: white;}#sk-container-id-11 div.sk-parallel-item:first-child::after {align-self: flex-end;width: 50%;}#sk-container-id-11 div.sk-parallel-item:last-child::after {align-self: flex-start;width: 50%;}#sk-container-id-11 div.sk-parallel-item:only-child::after {width: 0;}#sk-container-id-11 div.sk-dashed-wrapped {border: 1px dashed gray;margin: 0 0.4em 0.5em 0.4em;box-sizing: border-box;padding-bottom: 0.4em;background-color: white;}#sk-container-id-11 div.sk-label label {font-family: monospace;font-weight: bold;display: inline-block;line-height: 1.2em;}#sk-container-id-11 div.sk-label-container {text-align: center;}#sk-container-id-11 div.sk-container {/* jupyter's `normalize.less` sets `[hidden] { display: none; }` but bootstrap.min.css set `[hidden] { display: none !important; }` so we also need the `!important` here to be able to override the default hidden behavior on the sphinx rendered scikit-learn.org. See: https://github.com/scikit-learn/scikit-learn/issues/21755 */display: inline-block !important;position: relative;}#sk-container-id-11 div.sk-text-repr-fallback {display: none;}</style><div id=\"sk-container-id-11\" class=\"sk-top-container\"><div class=\"sk-text-repr-fallback\"><pre>GridSearchCV(cv=StratifiedKFold(n_splits=3, random_state=None, shuffle=False),\n",
       "             estimator=Pipeline(steps=[(&#x27;classifier&#x27;,\n",
       "                                        DecisionTreeClassifier(class_weight=&#x27;balanced&#x27;,\n",
       "                                                               random_state=1))]),\n",
       "             n_jobs=2,\n",
       "             param_grid={&#x27;classifier__max_depth&#x27;: (1, 3, 5, 7, 10),\n",
       "                         &#x27;classifier__max_features&#x27;: (1, 3, 5, 7, 10),\n",
       "                         &#x27;classifier__max_leaf_nodes&#x27;: (1, 5, 10, 15, 20)},\n",
       "             return_train_score=True, scoring=&#x27;roc_auc&#x27;)</pre><b>In a Jupyter environment, please rerun this cell to show the HTML representation or trust the notebook. <br />On GitHub, the HTML representation is unable to render, please try loading this page with nbviewer.org.</b></div><div class=\"sk-container\" hidden><div class=\"sk-item sk-dashed-wrapped\"><div class=\"sk-label-container\"><div class=\"sk-label sk-toggleable\"><input class=\"sk-toggleable__control sk-hidden--visually\" id=\"sk-estimator-id-43\" type=\"checkbox\" ><label for=\"sk-estimator-id-43\" class=\"sk-toggleable__label sk-toggleable__label-arrow\">GridSearchCV</label><div class=\"sk-toggleable__content\"><pre>GridSearchCV(cv=StratifiedKFold(n_splits=3, random_state=None, shuffle=False),\n",
       "             estimator=Pipeline(steps=[(&#x27;classifier&#x27;,\n",
       "                                        DecisionTreeClassifier(class_weight=&#x27;balanced&#x27;,\n",
       "                                                               random_state=1))]),\n",
       "             n_jobs=2,\n",
       "             param_grid={&#x27;classifier__max_depth&#x27;: (1, 3, 5, 7, 10),\n",
       "                         &#x27;classifier__max_features&#x27;: (1, 3, 5, 7, 10),\n",
       "                         &#x27;classifier__max_leaf_nodes&#x27;: (1, 5, 10, 15, 20)},\n",
       "             return_train_score=True, scoring=&#x27;roc_auc&#x27;)</pre></div></div></div><div class=\"sk-parallel\"><div class=\"sk-parallel-item\"><div class=\"sk-item\"><div class=\"sk-label-container\"><div class=\"sk-label sk-toggleable\"><input class=\"sk-toggleable__control sk-hidden--visually\" id=\"sk-estimator-id-44\" type=\"checkbox\" ><label for=\"sk-estimator-id-44\" class=\"sk-toggleable__label sk-toggleable__label-arrow\">estimator: Pipeline</label><div class=\"sk-toggleable__content\"><pre>Pipeline(steps=[(&#x27;classifier&#x27;,\n",
       "                 DecisionTreeClassifier(class_weight=&#x27;balanced&#x27;,\n",
       "                                        random_state=1))])</pre></div></div></div><div class=\"sk-serial\"><div class=\"sk-item\"><div class=\"sk-serial\"><div class=\"sk-item\"><div class=\"sk-estimator sk-toggleable\"><input class=\"sk-toggleable__control sk-hidden--visually\" id=\"sk-estimator-id-45\" type=\"checkbox\" ><label for=\"sk-estimator-id-45\" class=\"sk-toggleable__label sk-toggleable__label-arrow\">DecisionTreeClassifier</label><div class=\"sk-toggleable__content\"><pre>DecisionTreeClassifier(class_weight=&#x27;balanced&#x27;, random_state=1)</pre></div></div></div></div></div></div></div></div></div></div></div></div>"
      ],
      "text/plain": [
       "GridSearchCV(cv=StratifiedKFold(n_splits=3, random_state=None, shuffle=False),\n",
       "             estimator=Pipeline(steps=[('classifier',\n",
       "                                        DecisionTreeClassifier(class_weight='balanced',\n",
       "                                                               random_state=1))]),\n",
       "             n_jobs=2,\n",
       "             param_grid={'classifier__max_depth': (1, 3, 5, 7, 10),\n",
       "                         'classifier__max_features': (1, 3, 5, 7, 10),\n",
       "                         'classifier__max_leaf_nodes': (1, 5, 10, 15, 20)},\n",
       "             return_train_score=True, scoring='roc_auc')"
      ]
     },
     "execution_count": 117,
     "metadata": {},
     "output_type": "execute_result"
    }
   ],
   "source": [
    "from sklearn.model_selection import GridSearchCV\n",
    "\n",
    "model = Pipeline([(\"classifier\", DecisionTreeClassifier(class_weight='balanced', random_state=1))])\n",
    "param_grid = {\n",
    "    'classifier__max_depth': (1,3,5,7,10),\n",
    "    'classifier__max_leaf_nodes': (1, 5,10,15,20),\n",
    "    'classifier__max_features': (1,3,5,7,10)\n",
    "}\n",
    "scoring = {\"AUC\": \"roc_auc\"}#, \"f1_weighted\": \"f1_weighted\"}\n",
    "\n",
    "cv = StratifiedKFold(n_splits=3)\n",
    "model_grid_search = GridSearchCV(model,\n",
    "                                 param_grid=param_grid,\n",
    "                                 #scoring=scoring,\n",
    "                                 #scoring=\"f1_weighted\",\n",
    "                                 #scoring=\"neg_brier_score\",\n",
    "                                 scoring=\"roc_auc\",\n",
    "                                 n_jobs=2,\n",
    "                                 cv=cv,\n",
    "                                 return_train_score=True,)\n",
    "                                 #refit=False)\n",
    "model_grid_search.fit(dfTrain, yTrain)"
   ]
  },
  {
   "cell_type": "code",
   "execution_count": 118,
   "id": "62d8ba6b",
   "metadata": {},
   "outputs": [
    {
     "name": "stdout",
     "output_type": "stream",
     "text": [
      "dict_keys(['mean_fit_time', 'std_fit_time', 'mean_score_time', 'std_score_time', 'param_classifier__max_depth', 'param_classifier__max_features', 'param_classifier__max_leaf_nodes', 'params', 'split0_test_score', 'split1_test_score', 'split2_test_score', 'mean_test_score', 'std_test_score', 'rank_test_score', 'split0_train_score', 'split1_train_score', 'split2_train_score', 'mean_train_score', 'std_train_score'])\n"
     ]
    }
   ],
   "source": [
    "print(model_grid_search.cv_results_.keys())\n",
    "\n",
    "cv_results = pd.DataFrame(model_grid_search.cv_results_)\n",
    "#cv_results\n",
    "res = cv_results[[\n",
    "    \"param_classifier__max_depth\",\n",
    "    'param_classifier__max_leaf_nodes',\n",
    "    \"param_classifier__max_features\",\n",
    "    \"mean_test_score\",'std_test_score', 'rank_test_score'\n",
    "    #\"mean_train_AUC\",\n",
    "    #\"std_train_AUC\",\n",
    "    #\"rank_test_AUC\",\n",
    "    #\"mean_train_f1_weighted\",\n",
    "    #\"std_train_f1_weighted\",\n",
    "    #\"rank_test_f1_weighted\"\n",
    "]]"
   ]
  },
  {
   "cell_type": "code",
   "execution_count": 119,
   "id": "a51d9ed6",
   "metadata": {},
   "outputs": [
    {
     "data": {
      "text/html": [
       "<div>\n",
       "<style scoped>\n",
       "    .dataframe tbody tr th:only-of-type {\n",
       "        vertical-align: middle;\n",
       "    }\n",
       "\n",
       "    .dataframe tbody tr th {\n",
       "        vertical-align: top;\n",
       "    }\n",
       "\n",
       "    .dataframe thead th {\n",
       "        text-align: right;\n",
       "    }\n",
       "</style>\n",
       "<table border=\"1\" class=\"dataframe\">\n",
       "  <thead>\n",
       "    <tr style=\"text-align: right;\">\n",
       "      <th></th>\n",
       "      <th>param_classifier__max_depth</th>\n",
       "      <th>param_classifier__max_leaf_nodes</th>\n",
       "      <th>param_classifier__max_features</th>\n",
       "      <th>mean_test_score</th>\n",
       "      <th>std_test_score</th>\n",
       "      <th>rank_test_score</th>\n",
       "    </tr>\n",
       "  </thead>\n",
       "  <tbody>\n",
       "    <tr>\n",
       "      <th>74</th>\n",
       "      <td>5</td>\n",
       "      <td>20</td>\n",
       "      <td>10</td>\n",
       "      <td>0.69</td>\n",
       "      <td>0.01</td>\n",
       "      <td>1</td>\n",
       "    </tr>\n",
       "    <tr>\n",
       "      <th>69</th>\n",
       "      <td>5</td>\n",
       "      <td>20</td>\n",
       "      <td>7</td>\n",
       "      <td>0.69</td>\n",
       "      <td>0.01</td>\n",
       "      <td>2</td>\n",
       "    </tr>\n",
       "    <tr>\n",
       "      <th>114</th>\n",
       "      <td>10</td>\n",
       "      <td>20</td>\n",
       "      <td>5</td>\n",
       "      <td>0.69</td>\n",
       "      <td>0.01</td>\n",
       "      <td>3</td>\n",
       "    </tr>\n",
       "    <tr>\n",
       "      <th>89</th>\n",
       "      <td>7</td>\n",
       "      <td>20</td>\n",
       "      <td>5</td>\n",
       "      <td>0.69</td>\n",
       "      <td>0.01</td>\n",
       "      <td>3</td>\n",
       "    </tr>\n",
       "    <tr>\n",
       "      <th>119</th>\n",
       "      <td>10</td>\n",
       "      <td>20</td>\n",
       "      <td>7</td>\n",
       "      <td>0.68</td>\n",
       "      <td>0.01</td>\n",
       "      <td>5</td>\n",
       "    </tr>\n",
       "    <tr>\n",
       "      <th>94</th>\n",
       "      <td>7</td>\n",
       "      <td>20</td>\n",
       "      <td>7</td>\n",
       "      <td>0.68</td>\n",
       "      <td>0.01</td>\n",
       "      <td>5</td>\n",
       "    </tr>\n",
       "    <tr>\n",
       "      <th>124</th>\n",
       "      <td>10</td>\n",
       "      <td>20</td>\n",
       "      <td>10</td>\n",
       "      <td>0.68</td>\n",
       "      <td>0.01</td>\n",
       "      <td>7</td>\n",
       "    </tr>\n",
       "    <tr>\n",
       "      <th>99</th>\n",
       "      <td>7</td>\n",
       "      <td>20</td>\n",
       "      <td>10</td>\n",
       "      <td>0.68</td>\n",
       "      <td>0.01</td>\n",
       "      <td>7</td>\n",
       "    </tr>\n",
       "    <tr>\n",
       "      <th>64</th>\n",
       "      <td>5</td>\n",
       "      <td>20</td>\n",
       "      <td>5</td>\n",
       "      <td>0.68</td>\n",
       "      <td>0.01</td>\n",
       "      <td>9</td>\n",
       "    </tr>\n",
       "    <tr>\n",
       "      <th>68</th>\n",
       "      <td>5</td>\n",
       "      <td>15</td>\n",
       "      <td>7</td>\n",
       "      <td>0.68</td>\n",
       "      <td>0.01</td>\n",
       "      <td>10</td>\n",
       "    </tr>\n",
       "  </tbody>\n",
       "</table>\n",
       "</div>"
      ],
      "text/plain": [
       "    param_classifier__max_depth param_classifier__max_leaf_nodes  \\\n",
       "74                            5                               20   \n",
       "69                            5                               20   \n",
       "114                          10                               20   \n",
       "89                            7                               20   \n",
       "119                          10                               20   \n",
       "94                            7                               20   \n",
       "124                          10                               20   \n",
       "99                            7                               20   \n",
       "64                            5                               20   \n",
       "68                            5                               15   \n",
       "\n",
       "    param_classifier__max_features  mean_test_score  std_test_score  \\\n",
       "74                              10             0.69            0.01   \n",
       "69                               7             0.69            0.01   \n",
       "114                              5             0.69            0.01   \n",
       "89                               5             0.69            0.01   \n",
       "119                              7             0.68            0.01   \n",
       "94                               7             0.68            0.01   \n",
       "124                             10             0.68            0.01   \n",
       "99                              10             0.68            0.01   \n",
       "64                               5             0.68            0.01   \n",
       "68                               7             0.68            0.01   \n",
       "\n",
       "     rank_test_score  \n",
       "74                 1  \n",
       "69                 2  \n",
       "114                3  \n",
       "89                 3  \n",
       "119                5  \n",
       "94                 5  \n",
       "124                7  \n",
       "99                 7  \n",
       "64                 9  \n",
       "68                10  "
      ]
     },
     "execution_count": 119,
     "metadata": {},
     "output_type": "execute_result"
    }
   ],
   "source": [
    "res.sort_values(by='rank_test_score').head(10)"
   ]
  },
  {
   "cell_type": "code",
   "execution_count": 120,
   "id": "2efe5c7d",
   "metadata": {},
   "outputs": [
    {
     "data": {
      "image/png": "[encoded data removed]",
      "text/plain": [
       "<Figure size 432x288 with 1 Axes>"
      ]
     },
     "metadata": {},
     "output_type": "display_data"
    }
   ],
   "source": [
    "from sklearn.metrics import PrecisionRecallDisplay\n",
    "\n",
    "display = PrecisionRecallDisplay.from_estimator(\n",
    "    model_grid_search, dfVal, yVal, name=\"Test\", \n",
    ")\n",
    "_ = display.ax_.set_title(\"2-class Precision-Recall curve\")"
   ]
  },
  {
   "cell_type": "code",
   "execution_count": 121,
   "id": "f5d9cf52",
   "metadata": {},
   "outputs": [
    {
     "data": {
      "text/plain": [
       "{'classifier__max_depth': 5,\n",
       " 'classifier__max_features': 10,\n",
       " 'classifier__max_leaf_nodes': 20}"
      ]
     },
     "execution_count": 121,
     "metadata": {},
     "output_type": "execute_result"
    }
   ],
   "source": [
    "model_grid_search.best_params_"
   ]
  },
  {
   "cell_type": "code",
   "execution_count": 126,
   "id": "a0b5b5ce",
   "metadata": {},
   "outputs": [
    {
     "name": "stdout",
     "output_type": "stream",
     "text": [
      "Val AUC: 0.6855863822167161, Val Brier: 0.22066931038570953\n",
      "Test AUC: 0.6922379161862929, Val Brier: 0.2216044173621709\n",
      "Train AUC: 0.6875926403880924, Val Brier: 0.21977332282721473\n",
      "\n",
      "              precision    recall  f1-score   support\n",
      "\n",
      "         0.0       0.49      0.63      0.55      1754\n",
      "         1.0       0.76      0.64      0.70      3246\n",
      "\n",
      "    accuracy                           0.64      5000\n",
      "   macro avg       0.62      0.64      0.62      5000\n",
      "weighted avg       0.67      0.64      0.65      5000\n",
      "\n",
      "                   pre       rec       spe        f1       geo       iba       sup\n",
      "\n",
      "        0.0       0.49      0.63      0.64      0.55      0.64      0.40      1754\n",
      "        1.0       0.76      0.64      0.63      0.70      0.64      0.40      3246\n",
      "\n",
      "avg / total       0.67      0.64      0.63      0.65      0.64      0.40      5000\n",
      "\n"
     ]
    }
   ],
   "source": [
    "model = Pipeline([(\"classifier\", DecisionTreeClassifier(class_weight='balanced',\n",
    "                                                        max_depth=5,\n",
    "                                                        max_features=10,\n",
    "                                                        max_leaf_nodes=20))])\n",
    "\n",
    "model.fit(dfTrainFull, yTrainFull)\n",
    "\n",
    "yValPred = model.predict_proba(dfVal)[:,1]\n",
    "auc = roc_auc_score(yVal, yValPred)\n",
    "print(f'Val AUC: {auc}, Val Brier: {brier}')\n",
    "brier = brier_score_loss(yVal, yValPred)\n",
    "\n",
    "yTestpred=model.predict_proba(dfTest)[:,1]\n",
    "print(f'Test AUC: {roc_auc_score(yTest, yTestpred)}, Val Brier: {brier}')\n",
    "brier = brier_score_loss(yTest, yTestpred)\n",
    "\n",
    "yTrainPred = model.predict_proba(dfTrain)[:,1]\n",
    "auc = roc_auc_score(yTrain, yTrainPred)\n",
    "print(f'Train AUC: {auc}, Val Brier: {brier}\\n')\n",
    "brier = brier_score_loss(yTrain, yTrainPred)\n",
    "\n",
    "\n",
    "#print(classification_report(yVal, model.predict(dfVal)))\n",
    "print(classification_report(yTest, model.predict(dfTest)))\n",
    "print(classification_report_imbalanced(yTest, model.predict(dfTest)))"
   ]
  },
  {
   "cell_type": "code",
   "execution_count": 129,
   "id": "d595fe40",
   "metadata": {},
   "outputs": [
    {
     "name": "stdout",
     "output_type": "stream",
     "text": [
      "Generalization score with hyperparameters tuning:\n",
      "0.683 ± 0.009\n"
     ]
    }
   ],
   "source": [
    "cv = StratifiedKFold(n_splits=5)\n",
    "cv_results = cross_validate(\n",
    "    model_grid_search, dfTrainFull, yTrainFull, cv=cv, n_jobs=-1, return_estimator=True\n",
    ")\n",
    "cv_results = pd.DataFrame(cv_results)\n",
    "cv_test_scores = cv_results['test_score']\n",
    "print(\n",
    "    \"Generalization score with hyperparameters tuning:\\n\"\n",
    "    f\"{cv_test_scores.mean():.3f} ± {cv_test_scores.std():.3f}\"\n",
    ")"
   ]
  },
  {
   "cell_type": "code",
   "execution_count": 130,
   "id": "a9404064",
   "metadata": {},
   "outputs": [
    {
     "name": "stdout",
     "output_type": "stream",
     "text": [
      "Best hyperparameters for fold #1:\n",
      "{'classifier__max_depth': 7, 'classifier__max_features': 5, 'classifier__max_leaf_nodes': 20}\n",
      "Best hyperparameters for fold #2:\n",
      "{'classifier__max_depth': 5, 'classifier__max_features': 10, 'classifier__max_leaf_nodes': 20}\n",
      "Best hyperparameters for fold #3:\n",
      "{'classifier__max_depth': 5, 'classifier__max_features': 10, 'classifier__max_leaf_nodes': 20}\n",
      "Best hyperparameters for fold #4:\n",
      "{'classifier__max_depth': 5, 'classifier__max_features': 7, 'classifier__max_leaf_nodes': 20}\n",
      "Best hyperparameters for fold #5:\n",
      "{'classifier__max_depth': 5, 'classifier__max_features': 7, 'classifier__max_leaf_nodes': 20}\n"
     ]
    }
   ],
   "source": [
    "for cv_fold, estimator_in_fold in enumerate(cv_results[\"estimator\"]):\n",
    "    print(\n",
    "        f\"Best hyperparameters for fold #{cv_fold + 1}:\\n\"\n",
    "        f\"{estimator_in_fold.best_params_}\"\n",
    "    )"
   ]
  },
  {
   "cell_type": "code",
   "execution_count": 134,
   "id": "52f27f53",
   "metadata": {},
   "outputs": [
    {
     "name": "stdout",
     "output_type": "stream",
     "text": [
      "R2 score obtained by cross-validation: 0.065 ± 0.013\n"
     ]
    }
   ],
   "source": [
    "from sklearn.model_selection import cross_validate\n",
    "from sklearn.tree import DecisionTreeRegressor\n",
    "\n",
    "tree = DecisionTreeRegressor(random_state=0)\n",
    "cv_results = cross_validate(tree, dfTrainFull, yTrainFull, n_jobs=2)\n",
    "scores = cv_results[\"test_score\"]\n",
    "\n",
    "print(f\"R2 score obtained by cross-validation: \"\n",
    "      f\"{scores.mean():.3f} ± {scores.std():.3f}\")"
   ]
  },
  {
   "cell_type": "code",
   "execution_count": 139,
   "id": "e5e1994a",
   "metadata": {},
   "outputs": [
    {
     "name": "stdout",
     "output_type": "stream",
     "text": [
      "AUC score obtained by cross-validation: 0.685 ± 0.009\n",
      "Wall time: 1.5 s\n"
     ]
    }
   ],
   "source": [
    "%%time\n",
    "from sklearn.model_selection import GridSearchCV\n",
    "from sklearn.tree import DecisionTreeRegressor\n",
    "\n",
    "param_grid = {\n",
    "    \"max_depth\": [5, 8, None],\n",
    "    \"min_samples_split\": [2, 10, 30, 50],\n",
    "    \"min_samples_leaf\": [0.01, 0.05, 0.1, 1]}\n",
    "\n",
    "#cv = StratifiedKFold(n_splits=3)\n",
    "cv = 3\n",
    "\n",
    "tree = GridSearchCV(DecisionTreeRegressor(),\n",
    "                    param_grid=param_grid, cv=cv, n_jobs=2)\n",
    "cv_results = cross_validate(tree, dfTrainFull, yTrainFull, scoring=\"roc_auc\", n_jobs=-1,\n",
    "                            return_estimator=True)\n",
    "scores = cv_results[\"test_score\"]\n",
    "\n",
    "print(f\"AUC score obtained by cross-validation: \"\n",
    "      f\"{scores.mean():.3f} ± {scores.std():.3f}\")"
   ]
  },
  {
   "cell_type": "markdown",
   "id": "23de5aca",
   "metadata": {},
   "source": [
    "#### Random Forest"
   ]
  },
  {
   "cell_type": "code",
   "execution_count": 142,
   "id": "ad2f9e90",
   "metadata": {},
   "outputs": [
    {
     "data": {
      "text/html": [
       "<style>#sk-container-id-12 {color: black;background-color: white;}#sk-container-id-12 pre{padding: 0;}#sk-container-id-12 div.sk-toggleable {background-color: white;}#sk-container-id-12 label.sk-toggleable__label {cursor: pointer;display: block;width: 100%;margin-bottom: 0;padding: 0.3em;box-sizing: border-box;text-align: center;}#sk-container-id-12 label.sk-toggleable__label-arrow:before {content: \"▸\";float: left;margin-right: 0.25em;color: #696969;}#sk-container-id-12 label.sk-toggleable__label-arrow:hover:before {color: black;}#sk-container-id-12 div.sk-estimator:hover label.sk-toggleable__label-arrow:before {color: black;}#sk-container-id-12 div.sk-toggleable__content {max-height: 0;max-width: 0;overflow: hidden;text-align: left;background-color: #f0f8ff;}#sk-container-id-12 div.sk-toggleable__content pre {margin: 0.2em;color: black;border-radius: 0.25em;background-color: #f0f8ff;}#sk-container-id-12 input.sk-toggleable__control:checked~div.sk-toggleable__content {max-height: 200px;max-width: 100%;overflow: auto;}#sk-container-id-12 input.sk-toggleable__control:checked~label.sk-toggleable__label-arrow:before {content: \"▾\";}#sk-container-id-12 div.sk-estimator input.sk-toggleable__control:checked~label.sk-toggleable__label {background-color: #d4ebff;}#sk-container-id-12 div.sk-label input.sk-toggleable__control:checked~label.sk-toggleable__label {background-color: #d4ebff;}#sk-container-id-12 input.sk-hidden--visually {border: 0;clip: rect(1px 1px 1px 1px);clip: rect(1px, 1px, 1px, 1px);height: 1px;margin: -1px;overflow: hidden;padding: 0;position: absolute;width: 1px;}#sk-container-id-12 div.sk-estimator {font-family: monospace;background-color: #f0f8ff;border: 1px dotted black;border-radius: 0.25em;box-sizing: border-box;margin-bottom: 0.5em;}#sk-container-id-12 div.sk-estimator:hover {background-color: #d4ebff;}#sk-container-id-12 div.sk-parallel-item::after {content: \"\";width: 100%;border-bottom: 1px solid gray;flex-grow: 1;}#sk-container-id-12 div.sk-label:hover label.sk-toggleable__label {background-color: #d4ebff;}#sk-container-id-12 div.sk-serial::before {content: \"\";position: absolute;border-left: 1px solid gray;box-sizing: border-box;top: 0;bottom: 0;left: 50%;z-index: 0;}#sk-container-id-12 div.sk-serial {display: flex;flex-direction: column;align-items: center;background-color: white;padding-right: 0.2em;padding-left: 0.2em;position: relative;}#sk-container-id-12 div.sk-item {position: relative;z-index: 1;}#sk-container-id-12 div.sk-parallel {display: flex;align-items: stretch;justify-content: center;background-color: white;position: relative;}#sk-container-id-12 div.sk-item::before, #sk-container-id-12 div.sk-parallel-item::before {content: \"\";position: absolute;border-left: 1px solid gray;box-sizing: border-box;top: 0;bottom: 0;left: 50%;z-index: -1;}#sk-container-id-12 div.sk-parallel-item {display: flex;flex-direction: column;z-index: 1;position: relative;background-color: white;}#sk-container-id-12 div.sk-parallel-item:first-child::after {align-self: flex-end;width: 50%;}#sk-container-id-12 div.sk-parallel-item:last-child::after {align-self: flex-start;width: 50%;}#sk-container-id-12 div.sk-parallel-item:only-child::after {width: 0;}#sk-container-id-12 div.sk-dashed-wrapped {border: 1px dashed gray;margin: 0 0.4em 0.5em 0.4em;box-sizing: border-box;padding-bottom: 0.4em;background-color: white;}#sk-container-id-12 div.sk-label label {font-family: monospace;font-weight: bold;display: inline-block;line-height: 1.2em;}#sk-container-id-12 div.sk-label-container {text-align: center;}#sk-container-id-12 div.sk-container {/* jupyter's `normalize.less` sets `[hidden] { display: none; }` but bootstrap.min.css set `[hidden] { display: none !important; }` so we also need the `!important` here to be able to override the default hidden behavior on the sphinx rendered scikit-learn.org. See: https://github.com/scikit-learn/scikit-learn/issues/21755 */display: inline-block !important;position: relative;}#sk-container-id-12 div.sk-text-repr-fallback {display: none;}</style><div id=\"sk-container-id-12\" class=\"sk-top-container\"><div class=\"sk-text-repr-fallback\"><pre>Pipeline(steps=[(&#x27;randomforestclassifier&#x27;,\n",
       "                 RandomForestClassifier(class_weight=&#x27;balanced&#x27;, max_depth=6,\n",
       "                                        max_features=7, n_estimators=10,\n",
       "                                        random_state=1))])</pre><b>In a Jupyter environment, please rerun this cell to show the HTML representation or trust the notebook. <br />On GitHub, the HTML representation is unable to render, please try loading this page with nbviewer.org.</b></div><div class=\"sk-container\" hidden><div class=\"sk-item sk-dashed-wrapped\"><div class=\"sk-label-container\"><div class=\"sk-label sk-toggleable\"><input class=\"sk-toggleable__control sk-hidden--visually\" id=\"sk-estimator-id-46\" type=\"checkbox\" ><label for=\"sk-estimator-id-46\" class=\"sk-toggleable__label sk-toggleable__label-arrow\">Pipeline</label><div class=\"sk-toggleable__content\"><pre>Pipeline(steps=[(&#x27;randomforestclassifier&#x27;,\n",
       "                 RandomForestClassifier(class_weight=&#x27;balanced&#x27;, max_depth=6,\n",
       "                                        max_features=7, n_estimators=10,\n",
       "                                        random_state=1))])</pre></div></div></div><div class=\"sk-serial\"><div class=\"sk-item\"><div class=\"sk-estimator sk-toggleable\"><input class=\"sk-toggleable__control sk-hidden--visually\" id=\"sk-estimator-id-47\" type=\"checkbox\" ><label for=\"sk-estimator-id-47\" class=\"sk-toggleable__label sk-toggleable__label-arrow\">RandomForestClassifier</label><div class=\"sk-toggleable__content\"><pre>RandomForestClassifier(class_weight=&#x27;balanced&#x27;, max_depth=6, max_features=7,\n",
       "                       n_estimators=10, random_state=1)</pre></div></div></div></div></div></div></div>"
      ],
      "text/plain": [
       "Pipeline(steps=[('randomforestclassifier',\n",
       "                 RandomForestClassifier(class_weight='balanced', max_depth=6,\n",
       "                                        max_features=7, n_estimators=10,\n",
       "                                        random_state=1))])"
      ]
     },
     "execution_count": 142,
     "metadata": {},
     "output_type": "execute_result"
    }
   ],
   "source": [
    "model = make_pipeline(RandomForestClassifier(n_estimators=10,\n",
    "                                             random_state=1,\n",
    "                                             max_depth=6,\n",
    "                                             max_features=7,\n",
    "                                             class_weight='balanced'))\n",
    "model.fit(dfTrain, yTrain)"
   ]
  },
  {
   "cell_type": "code",
   "execution_count": 144,
   "id": "6bfbee77",
   "metadata": {},
   "outputs": [
    {
     "name": "stdout",
     "output_type": "stream",
     "text": [
      "Val AUC: 0.6896703888475604\n",
      "Test AUC: 0.7013449936804952\n",
      "Train AUC: 0.6896703888475604\n",
      "              precision    recall  f1-score   support\n",
      "\n",
      "         0.0       0.52      0.61      0.56      1873\n",
      "         1.0       0.74      0.66      0.70      3127\n",
      "\n",
      "    accuracy                           0.64      5000\n",
      "   macro avg       0.63      0.64      0.63      5000\n",
      "weighted avg       0.66      0.64      0.65      5000\n",
      "\n",
      "                   pre       rec       spe        f1       geo       iba       sup\n",
      "\n",
      "        0.0       0.52      0.61      0.66      0.56      0.64      0.40      1873\n",
      "        1.0       0.74      0.66      0.61      0.70      0.64      0.41      3127\n",
      "\n",
      "avg / total       0.66      0.64      0.63      0.65      0.64      0.40      5000\n",
      "\n"
     ]
    }
   ],
   "source": [
    "#yValPred = RF.predict_proba(dfVal)[:,1]\n",
    "\n",
    "#roc_auc_score(yVal, yValPred)\n",
    "\n",
    "yValPredProba = model.predict_proba(dfVal)[:,1]\n",
    "yValPred = model.predict(dfVal)\n",
    "auc = roc_auc_score(yVal, yValPredProba)\n",
    "print(f'Val AUC: {auc}')\n",
    "\n",
    "yTestpred=model.predict_proba(dfTest)[:,1]\n",
    "print(f'Test AUC: {roc_auc_score(yTest, yTestpred)}')\n",
    "\n",
    "yTrainPredProba = model.predict_proba(dfTrain)[:,1]\n",
    "yTrainPred = model.predict(dfTrain)\n",
    "print(f'Train AUC: {auc}')\n",
    "\n",
    "\n",
    "\n",
    "print(classification_report(yVal, model.predict(dfVal)))\n",
    "print(classification_report_imbalanced(yVal, model.predict(dfVal)))"
   ]
  },
  {
   "cell_type": "markdown",
   "id": "7ac35536",
   "metadata": {},
   "source": [
    "#### AdaBoostClassifier"
   ]
  },
  {
   "cell_type": "code",
   "execution_count": 170,
   "id": "0e9e94de",
   "metadata": {},
   "outputs": [
    {
     "data": {
      "text/html": [
       "<style>#sk-container-id-15 {color: black;background-color: white;}#sk-container-id-15 pre{padding: 0;}#sk-container-id-15 div.sk-toggleable {background-color: white;}#sk-container-id-15 label.sk-toggleable__label {cursor: pointer;display: block;width: 100%;margin-bottom: 0;padding: 0.3em;box-sizing: border-box;text-align: center;}#sk-container-id-15 label.sk-toggleable__label-arrow:before {content: \"▸\";float: left;margin-right: 0.25em;color: #696969;}#sk-container-id-15 label.sk-toggleable__label-arrow:hover:before {color: black;}#sk-container-id-15 div.sk-estimator:hover label.sk-toggleable__label-arrow:before {color: black;}#sk-container-id-15 div.sk-toggleable__content {max-height: 0;max-width: 0;overflow: hidden;text-align: left;background-color: #f0f8ff;}#sk-container-id-15 div.sk-toggleable__content pre {margin: 0.2em;color: black;border-radius: 0.25em;background-color: #f0f8ff;}#sk-container-id-15 input.sk-toggleable__control:checked~div.sk-toggleable__content {max-height: 200px;max-width: 100%;overflow: auto;}#sk-container-id-15 input.sk-toggleable__control:checked~label.sk-toggleable__label-arrow:before {content: \"▾\";}#sk-container-id-15 div.sk-estimator input.sk-toggleable__control:checked~label.sk-toggleable__label {background-color: #d4ebff;}#sk-container-id-15 div.sk-label input.sk-toggleable__control:checked~label.sk-toggleable__label {background-color: #d4ebff;}#sk-container-id-15 input.sk-hidden--visually {border: 0;clip: rect(1px 1px 1px 1px);clip: rect(1px, 1px, 1px, 1px);height: 1px;margin: -1px;overflow: hidden;padding: 0;position: absolute;width: 1px;}#sk-container-id-15 div.sk-estimator {font-family: monospace;background-color: #f0f8ff;border: 1px dotted black;border-radius: 0.25em;box-sizing: border-box;margin-bottom: 0.5em;}#sk-container-id-15 div.sk-estimator:hover {background-color: #d4ebff;}#sk-container-id-15 div.sk-parallel-item::after {content: \"\";width: 100%;border-bottom: 1px solid gray;flex-grow: 1;}#sk-container-id-15 div.sk-label:hover label.sk-toggleable__label {background-color: #d4ebff;}#sk-container-id-15 div.sk-serial::before {content: \"\";position: absolute;border-left: 1px solid gray;box-sizing: border-box;top: 0;bottom: 0;left: 50%;z-index: 0;}#sk-container-id-15 div.sk-serial {display: flex;flex-direction: column;align-items: center;background-color: white;padding-right: 0.2em;padding-left: 0.2em;position: relative;}#sk-container-id-15 div.sk-item {position: relative;z-index: 1;}#sk-container-id-15 div.sk-parallel {display: flex;align-items: stretch;justify-content: center;background-color: white;position: relative;}#sk-container-id-15 div.sk-item::before, #sk-container-id-15 div.sk-parallel-item::before {content: \"\";position: absolute;border-left: 1px solid gray;box-sizing: border-box;top: 0;bottom: 0;left: 50%;z-index: -1;}#sk-container-id-15 div.sk-parallel-item {display: flex;flex-direction: column;z-index: 1;position: relative;background-color: white;}#sk-container-id-15 div.sk-parallel-item:first-child::after {align-self: flex-end;width: 50%;}#sk-container-id-15 div.sk-parallel-item:last-child::after {align-self: flex-start;width: 50%;}#sk-container-id-15 div.sk-parallel-item:only-child::after {width: 0;}#sk-container-id-15 div.sk-dashed-wrapped {border: 1px dashed gray;margin: 0 0.4em 0.5em 0.4em;box-sizing: border-box;padding-bottom: 0.4em;background-color: white;}#sk-container-id-15 div.sk-label label {font-family: monospace;font-weight: bold;display: inline-block;line-height: 1.2em;}#sk-container-id-15 div.sk-label-container {text-align: center;}#sk-container-id-15 div.sk-container {/* jupyter's `normalize.less` sets `[hidden] { display: none; }` but bootstrap.min.css set `[hidden] { display: none !important; }` so we also need the `!important` here to be able to override the default hidden behavior on the sphinx rendered scikit-learn.org. See: https://github.com/scikit-learn/scikit-learn/issues/21755 */display: inline-block !important;position: relative;}#sk-container-id-15 div.sk-text-repr-fallback {display: none;}</style><div id=\"sk-container-id-15\" class=\"sk-top-container\"><div class=\"sk-text-repr-fallback\"><pre>Pipeline(steps=[(&#x27;columntransformer&#x27;,\n",
       "                 ColumnTransformer(remainder=&#x27;passthrough&#x27;,\n",
       "                                   transformers=[(&#x27;one-hot-encoder&#x27;,\n",
       "                                                  OneHotEncoder(handle_unknown=&#x27;ignore&#x27;),\n",
       "                                                  [&#x27;systemic_illness_ord&#x27;])])),\n",
       "                (&#x27;adaboostclassifier&#x27;, AdaBoostClassifier())])</pre><b>In a Jupyter environment, please rerun this cell to show the HTML representation or trust the notebook. <br />On GitHub, the HTML representation is unable to render, please try loading this page with nbviewer.org.</b></div><div class=\"sk-container\" hidden><div class=\"sk-item sk-dashed-wrapped\"><div class=\"sk-label-container\"><div class=\"sk-label sk-toggleable\"><input class=\"sk-toggleable__control sk-hidden--visually\" id=\"sk-estimator-id-62\" type=\"checkbox\" ><label for=\"sk-estimator-id-62\" class=\"sk-toggleable__label sk-toggleable__label-arrow\">Pipeline</label><div class=\"sk-toggleable__content\"><pre>Pipeline(steps=[(&#x27;columntransformer&#x27;,\n",
       "                 ColumnTransformer(remainder=&#x27;passthrough&#x27;,\n",
       "                                   transformers=[(&#x27;one-hot-encoder&#x27;,\n",
       "                                                  OneHotEncoder(handle_unknown=&#x27;ignore&#x27;),\n",
       "                                                  [&#x27;systemic_illness_ord&#x27;])])),\n",
       "                (&#x27;adaboostclassifier&#x27;, AdaBoostClassifier())])</pre></div></div></div><div class=\"sk-serial\"><div class=\"sk-item sk-dashed-wrapped\"><div class=\"sk-label-container\"><div class=\"sk-label sk-toggleable\"><input class=\"sk-toggleable__control sk-hidden--visually\" id=\"sk-estimator-id-63\" type=\"checkbox\" ><label for=\"sk-estimator-id-63\" class=\"sk-toggleable__label sk-toggleable__label-arrow\">columntransformer: ColumnTransformer</label><div class=\"sk-toggleable__content\"><pre>ColumnTransformer(remainder=&#x27;passthrough&#x27;,\n",
       "                  transformers=[(&#x27;one-hot-encoder&#x27;,\n",
       "                                 OneHotEncoder(handle_unknown=&#x27;ignore&#x27;),\n",
       "                                 [&#x27;systemic_illness_ord&#x27;])])</pre></div></div></div><div class=\"sk-parallel\"><div class=\"sk-parallel-item\"><div class=\"sk-item\"><div class=\"sk-label-container\"><div class=\"sk-label sk-toggleable\"><input class=\"sk-toggleable__control sk-hidden--visually\" id=\"sk-estimator-id-64\" type=\"checkbox\" ><label for=\"sk-estimator-id-64\" class=\"sk-toggleable__label sk-toggleable__label-arrow\">one-hot-encoder</label><div class=\"sk-toggleable__content\"><pre>[&#x27;systemic_illness_ord&#x27;]</pre></div></div></div><div class=\"sk-serial\"><div class=\"sk-item\"><div class=\"sk-estimator sk-toggleable\"><input class=\"sk-toggleable__control sk-hidden--visually\" id=\"sk-estimator-id-65\" type=\"checkbox\" ><label for=\"sk-estimator-id-65\" class=\"sk-toggleable__label sk-toggleable__label-arrow\">OneHotEncoder</label><div class=\"sk-toggleable__content\"><pre>OneHotEncoder(handle_unknown=&#x27;ignore&#x27;)</pre></div></div></div></div></div></div><div class=\"sk-parallel-item\"><div class=\"sk-item\"><div class=\"sk-label-container\"><div class=\"sk-label sk-toggleable\"><input class=\"sk-toggleable__control sk-hidden--visually\" id=\"sk-estimator-id-66\" type=\"checkbox\" ><label for=\"sk-estimator-id-66\" class=\"sk-toggleable__label sk-toggleable__label-arrow\">remainder</label><div class=\"sk-toggleable__content\"><pre>[&#x27;rectal_pain&#x27;, &#x27;sore_throat&#x27;, &#x27;penile_oedema&#x27;, &#x27;oral_lesions&#x27;, &#x27;solitary_lesion&#x27;, &#x27;swollen_tonsils&#x27;, &#x27;hiv_infection&#x27;, &#x27;sexually_transmitted_infection&#x27;]</pre></div></div></div><div class=\"sk-serial\"><div class=\"sk-item\"><div class=\"sk-estimator sk-toggleable\"><input class=\"sk-toggleable__control sk-hidden--visually\" id=\"sk-estimator-id-67\" type=\"checkbox\" ><label for=\"sk-estimator-id-67\" class=\"sk-toggleable__label sk-toggleable__label-arrow\">passthrough</label><div class=\"sk-toggleable__content\"><pre>passthrough</pre></div></div></div></div></div></div></div></div><div class=\"sk-item\"><div class=\"sk-estimator sk-toggleable\"><input class=\"sk-toggleable__control sk-hidden--visually\" id=\"sk-estimator-id-68\" type=\"checkbox\" ><label for=\"sk-estimator-id-68\" class=\"sk-toggleable__label sk-toggleable__label-arrow\">AdaBoostClassifier</label><div class=\"sk-toggleable__content\"><pre>AdaBoostClassifier()</pre></div></div></div></div></div></div></div>"
      ],
      "text/plain": [
       "Pipeline(steps=[('columntransformer',\n",
       "                 ColumnTransformer(remainder='passthrough',\n",
       "                                   transformers=[('one-hot-encoder',\n",
       "                                                  OneHotEncoder(handle_unknown='ignore'),\n",
       "                                                  ['systemic_illness_ord'])])),\n",
       "                ('adaboostclassifier', AdaBoostClassifier())])"
      ]
     },
     "execution_count": 170,
     "metadata": {},
     "output_type": "execute_result"
    }
   ],
   "source": [
    "model = make_pipeline(preprocessor, AdaBoostClassifier())\n",
    "\n",
    "model.fit(dfTrain, yTrain)"
   ]
  },
  {
   "cell_type": "code",
   "execution_count": 173,
   "id": "9a2bee26",
   "metadata": {},
   "outputs": [
    {
     "name": "stdout",
     "output_type": "stream",
     "text": [
      "Val AUC: 0.6936688549227052\n",
      "Test AUC: 0.7073393900817144\n",
      "Train AUC: 0.6936688549227052\n",
      "\n",
      "              precision    recall  f1-score   support\n",
      "\n",
      "         0.0       0.62      0.38      0.47      1873\n",
      "         1.0       0.70      0.86      0.77      3127\n",
      "\n",
      "    accuracy                           0.68      5000\n",
      "   macro avg       0.66      0.62      0.62      5000\n",
      "weighted avg       0.67      0.68      0.66      5000\n",
      "\n",
      "                   pre       rec       spe        f1       geo       iba       sup\n",
      "\n",
      "        0.0       0.62      0.38      0.86      0.47      0.57      0.31      1873\n",
      "        1.0       0.70      0.86      0.38      0.77      0.57      0.35      3127\n",
      "\n",
      "avg / total       0.67      0.68      0.56      0.66      0.57      0.33      5000\n",
      "\n"
     ]
    }
   ],
   "source": [
    "yValPredProba = model.predict_proba(dfVal)[:,1]\n",
    "yValPred = model.predict(dfVal)\n",
    "auc = roc_auc_score(yVal, yValPredProba)\n",
    "print(f'Val AUC: {auc}')\n",
    "\n",
    "yTestpred=model.predict_proba(dfTest)[:,1]\n",
    "print(f'Test AUC: {roc_auc_score(yTest, yTestpred)}')\n",
    "\n",
    "yTrainPredProba = model.predict_proba(dfTrain)[:,1]\n",
    "print(f'Train AUC: {auc}\\n')\n",
    "\n",
    "print(classification_report(yVal, model.predict(dfVal), ))\n",
    "print(classification_report_imbalanced(yVal, model.predict(dfVal)))"
   ]
  },
  {
   "cell_type": "markdown",
   "id": "6947a473",
   "metadata": {},
   "source": [
    "#### XGBoost"
   ]
  },
  {
   "cell_type": "code",
   "execution_count": 178,
   "id": "f6267eb0",
   "metadata": {},
   "outputs": [
    {
     "name": "stdout",
     "output_type": "stream",
     "text": [
      "[23:48:03] WARNING: C:/Users/administrator/workspace/xgboost-win64_release_1.6.0/src/learner.cc:627: \n",
      "Parameters: { \"nthreads\" } might not be used.\n",
      "\n",
      "  This could be a false alarm, with some parameters getting used by language bindings but\n",
      "  then being mistakenly passed down to XGBoost core, or some parameter actually being used\n",
      "  but getting flagged wrongly here. Please open an issue if you find any such cases.\n",
      "\n",
      "\n",
      "Val AUC: 0.6703835546318162\n",
      "Test AUC: 0.6823473114177541\n",
      "Train AUC: 0.7347568945022698\n",
      "\n",
      "              precision    recall  f1-score   support\n",
      "\n",
      "         0.0       0.58      0.40      0.47      1873\n",
      "         1.0       0.70      0.83      0.76      3127\n",
      "\n",
      "    accuracy                           0.67      5000\n",
      "   macro avg       0.64      0.61      0.61      5000\n",
      "weighted avg       0.65      0.67      0.65      5000\n",
      "\n",
      "                   pre       rec       spe        f1       geo       iba       sup\n",
      "\n",
      "        0.0       0.58      0.40      0.83      0.47      0.57      0.31      1873\n",
      "        1.0       0.70      0.83      0.40      0.76      0.57      0.34      3127\n",
      "\n",
      "avg / total       0.65      0.67      0.56      0.65      0.57      0.33      5000\n",
      "\n"
     ]
    }
   ],
   "source": [
    "dTrain = xgb.DMatrix(dfTrain, yTrain)#, enable_categorical=True)\n",
    "dVal = xgb.DMatrix(dfVal, yVal)#, enable_categorical=True)\n",
    "dTest = xgb.DMatrix(dfTest, yTest)#, enable_categorical=True)\n",
    "xgbParams = {\n",
    "'eta': 0.05,\n",
    "'max_depth': 10,\n",
    "'min_child_weight': 1,\n",
    "\n",
    "'objective': 'binary:logistic',\n",
    "'nthreads': 8,\n",
    "\n",
    "'seed': 1,\n",
    "'verbosity': 1,\n",
    "}\n",
    "\n",
    "model = xgb.train(xgbParams, dTrain, num_boost_round=10, )\n",
    "\n",
    "yValPred = model.predict(dVal)\n",
    "\n",
    "print(f'Val AUC: {roc_auc_score(yVal,yValPred)}')\n",
    "\n",
    "yTestpred = model.predict(dTest)\n",
    "print(f'Test AUC: {roc_auc_score(yTest, yTestpred)}')\n",
    "\n",
    "yTrainPred = model.predict(dTrain)\n",
    "print(f'Train AUC: {roc_auc_score(yTrain,yTrainPred)}\\n')\n",
    "\n",
    "print(classification_report(yVal, (yValPred > 0.5).astype(int)))\n",
    "print(classification_report_imbalanced(yVal, (yValPred > 0.5).astype(int)))"
   ]
  },
  {
   "cell_type": "code",
   "execution_count": 179,
   "id": "b2fe0a38",
   "metadata": {},
   "outputs": [
    {
     "data": {
      "image/png": "[encoded data removed]",
      "text/plain": [
       "<Figure size 432x288 with 2 Axes>"
      ]
     },
     "metadata": {},
     "output_type": "display_data"
    },
    {
     "data": {
      "image/png": "[encoded data removed]",
      "text/plain": [
       "<Figure size 432x288 with 2 Axes>"
      ]
     },
     "metadata": {},
     "output_type": "display_data"
    }
   ],
   "source": [
    "cm = confusion_matrix(yVal, (yValPred > 0.5).astype(int))\n",
    "cmprob = np.round(100 * cm / len(yVal), 1)\n",
    "cm_display = ConfusionMatrixDisplay(cm, display_labels=['0', '1']).plot()\n",
    "cm_display = ConfusionMatrixDisplay(cmprob, display_labels=['0', '1']).plot()"
   ]
  },
  {
   "cell_type": "code",
   "execution_count": 180,
   "id": "5076b1f8",
   "metadata": {},
   "outputs": [],
   "source": [
    "# define model\n",
    "model = XGBClassifier()\n",
    "# define evaluation procedure\n",
    "cv = RepeatedStratifiedKFold(n_splits=10, n_repeats=3, random_state=1)\n",
    "# evaluate model\n",
    "scores = cross_validate (model, dfTrain, yTrain, scoring=['roc_auc','f1_weighted'], cv=cv, n_jobs=-1)"
   ]
  },
  {
   "cell_type": "code",
   "execution_count": 188,
   "id": "625b8c3f",
   "metadata": {},
   "outputs": [
    {
     "name": "stdout",
     "output_type": "stream",
     "text": [
      "Mean ROC AUC: 0.67333\n",
      "Weighted F1: 0.65067\n"
     ]
    }
   ],
   "source": [
    "# summarize performance\n",
    "print('Mean ROC AUC: %.5f' % scores['test_roc_auc'].mean())\n",
    "print('Weighted F1: %.5f' % scores['test_f1_weighted'].mean())"
   ]
  },
  {
   "cell_type": "code",
   "execution_count": null,
   "id": "b64b6cb2",
   "metadata": {},
   "outputs": [],
   "source": []
  },
  {
   "cell_type": "code",
   "execution_count": null,
   "id": "06a2ce03",
   "metadata": {},
   "outputs": [],
   "source": []
  },
  {
   "cell_type": "code",
   "execution_count": null,
   "id": "f7fe7e84",
   "metadata": {},
   "outputs": [],
   "source": []
  },
  {
   "cell_type": "code",
   "execution_count": null,
   "id": "2a78a112",
   "metadata": {},
   "outputs": [],
   "source": []
  },
  {
   "cell_type": "code",
   "execution_count": null,
   "id": "ba390437",
   "metadata": {},
   "outputs": [],
   "source": []
  },
  {
   "cell_type": "code",
   "execution_count": null,
   "id": "d1b78179",
   "metadata": {},
   "outputs": [],
   "source": []
  },
  {
   "cell_type": "code",
   "execution_count": null,
   "id": "13949646",
   "metadata": {},
   "outputs": [],
   "source": []
  },
  {
   "cell_type": "code",
   "execution_count": null,
   "id": "c150176a",
   "metadata": {},
   "outputs": [],
   "source": []
  },
  {
   "cell_type": "code",
   "execution_count": null,
   "id": "5c4c0d4f",
   "metadata": {},
   "outputs": [],
   "source": []
  },
  {
   "cell_type": "code",
   "execution_count": null,
   "id": "82b9445d",
   "metadata": {},
   "outputs": [],
   "source": []
  },
  {
   "cell_type": "code",
   "execution_count": null,
   "id": "d8abf1bb",
   "metadata": {},
   "outputs": [],
   "source": []
  }
 ],
 "metadata": {
  "kernelspec": {
   "display_name": "Python 3 (ipykernel)",
   "language": "python",
   "name": "python3"
  },
  "language_info": {
   "codemirror_mode": {
    "name": "ipython",
    "version": 3
   },
   "file_extension": ".py",
   "mimetype": "text/x-python",
   "name": "python",
   "nbconvert_exporter": "python",
   "pygments_lexer": "ipython3",
   "version": "3.9.7"
  }
 },
 "nbformat": 4,
 "nbformat_minor": 5
}
