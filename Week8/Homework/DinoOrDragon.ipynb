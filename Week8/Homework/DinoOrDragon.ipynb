{
 "cells": [
  {
   "cell_type": "code",
   "execution_count": 11,
   "id": "5d3281a1",
   "metadata": {},
   "outputs": [],
   "source": [
    "import os\n",
    "import pandas as pd\n",
    "import numpy as np\n",
    "import matplotlib.pyplot as plt\n",
    "from tensorflow.keras import layers\n",
    "from tensorflow.keras import models\n",
    "from tensorflow.keras.optimizers import SGD\n",
    "from keras.preprocessing.image import ImageDataGenerator\n",
    "#from keras.preprocessing.image import img_to_array\n",
    "#from numpy import expand_dims\n",
    "#import tensorflow as tf\n",
    "#from tensorflow import keras\n",
    "#from keras_preprocessing.image import load_img"
   ]
  },
  {
   "cell_type": "code",
   "execution_count": 12,
   "id": "ce74d40a",
   "metadata": {},
   "outputs": [
    {
     "name": "stdout",
     "output_type": "stream",
     "text": [
      "Total training Dino images: 827\n",
      "Total training Dragon images: 767\n",
      "Total test Dino images: 196\n",
      "Total test Dragon images: 198\n"
     ]
    }
   ],
   "source": [
    "training_dir = 'dino-dragon/train/'\n",
    "test_dir = 'dino-dragon/test/'\n",
    "\n",
    "dinoTrain_dir = os.path.join(training_dir, 'dino')\n",
    "dragonTrain_dir = os.path.join(training_dir, 'dragon')\n",
    "\n",
    "dinoTest_dir = os.path.join(test_dir, 'dino')\n",
    "dragonTest_dir = os.path.join(test_dir, 'dragon')\n",
    "\n",
    "\n",
    "print('Total training Dino images:', len(os.listdir(dino_dir)))\n",
    "print('Total training Dragon images:', len(os.listdir(dragon_dir)))\n",
    "\n",
    "print('Total test Dino images:', len(os.listdir(dinoTest_dir)))\n",
    "print('Total test Dragon images:', len(os.listdir(dragonTest_dir)))"
   ]
  },
  {
   "cell_type": "code",
   "execution_count": 53,
   "id": "56b42215",
   "metadata": {},
   "outputs": [
    {
     "name": "stdout",
     "output_type": "stream",
     "text": [
      "Model: \"sequential_3\"\n",
      "_________________________________________________________________\n",
      "Layer (type)                 Output Shape              Param #   \n",
      "=================================================================\n",
      "conv2d_4 (Conv2D)            (None, 148, 148, 32)      896       \n",
      "_________________________________________________________________\n",
      "max_pooling2d_2 (MaxPooling2 (None, 74, 74, 32)        0         \n",
      "_________________________________________________________________\n",
      "flatten_2 (Flatten)          (None, 175232)            0         \n",
      "_________________________________________________________________\n",
      "dense_4 (Dense)              (None, 64)                11214912  \n",
      "_________________________________________________________________\n",
      "dense_5 (Dense)              (None, 1)                 65        \n",
      "=================================================================\n",
      "Total params: 11,215,873\n",
      "Trainable params: 11,215,873\n",
      "Non-trainable params: 0\n",
      "_________________________________________________________________\n"
     ]
    }
   ],
   "source": [
    "optimizer = SGD(learning_rate=0.002, momentum=0.8)\n",
    "\n",
    "model = models.Sequential([\n",
    "    \n",
    "    layers.Conv2D(32, (3,3), activation='relu', input_shape=(150,150,3)),\n",
    "    layers.MaxPool2D(2,2),\n",
    "    layers.Flatten(),\n",
    "    layers.Dense(64, activation='relu'),\n",
    "    layers.Dense(1, activation='sigmoid')\n",
    "])\n",
    "\n",
    "model.summary()"
   ]
  },
  {
   "cell_type": "code",
   "execution_count": 54,
   "id": "a4fbd6b5",
   "metadata": {},
   "outputs": [],
   "source": [
    "model.compile(loss = 'binary_crossentropy', optimizer=optimizer, metrics=['accuracy'])"
   ]
  },
  {
   "cell_type": "code",
   "execution_count": 14,
   "id": "72a3bbba",
   "metadata": {},
   "outputs": [
    {
     "name": "stdout",
     "output_type": "stream",
     "text": [
      "Found 1594 images belonging to 2 classes.\n",
      "Found 1594 images belonging to 2 classes.\n"
     ]
    }
   ],
   "source": [
    "train_datagen = ImageDataGenerator(rescale=1./255)\n",
    "test_datagen = ImageDataGenerator(rescale=1./255)\n",
    "\n",
    "trainGenerator = train_datagen.flow_from_directory(training_dir,\n",
    "                                                   target_size=(150,150),\n",
    "                                                   class_mode='binary',\n",
    "                                                   batch_size=20,\n",
    "                                                   shuffle=True)\n",
    "\n",
    "testGenerator = train_datagen.flow_from_directory(training_dir,\n",
    "                                                   target_size=(150,150),\n",
    "                                                   class_mode='binary',\n",
    "                                                   batch_size=20,\n",
    "                                                   shuffle=True)"
   ]
  },
  {
   "cell_type": "code",
   "execution_count": 17,
   "id": "927d504f",
   "metadata": {},
   "outputs": [
    {
     "name": "stdout",
     "output_type": "stream",
     "text": [
      "Epoch 1/10\n",
      "80/80 [==============================] - 18s 166ms/step - loss: 0.6225 - accuracy: 0.6499 - val_loss: 0.5435 - val_accuracy: 0.7114\n",
      "Epoch 2/10\n",
      "80/80 [==============================] - 13s 158ms/step - loss: 0.4649 - accuracy: 0.7949 - val_loss: 0.5018 - val_accuracy: 0.7390\n",
      "Epoch 3/10\n",
      "80/80 [==============================] - 13s 162ms/step - loss: 0.3896 - accuracy: 0.8375 - val_loss: 0.3714 - val_accuracy: 0.8231\n",
      "Epoch 4/10\n",
      "80/80 [==============================] - 13s 161ms/step - loss: 0.3449 - accuracy: 0.8651 - val_loss: 0.3062 - val_accuracy: 0.8821\n",
      "Epoch 5/10\n",
      "80/80 [==============================] - 13s 165ms/step - loss: 0.3014 - accuracy: 0.8814 - val_loss: 0.2472 - val_accuracy: 0.9260\n",
      "Epoch 6/10\n",
      "80/80 [==============================] - 12s 151ms/step - loss: 0.2530 - accuracy: 0.9090 - val_loss: 0.2147 - val_accuracy: 0.9260\n",
      "Epoch 7/10\n",
      "80/80 [==============================] - 16s 198ms/step - loss: 0.2311 - accuracy: 0.9197 - val_loss: 0.1821 - val_accuracy: 0.9448\n",
      "Epoch 8/10\n",
      "80/80 [==============================] - 14s 170ms/step - loss: 0.1973 - accuracy: 0.9379 - val_loss: 0.2140 - val_accuracy: 0.9122\n",
      "Epoch 9/10\n",
      "80/80 [==============================] - 12s 149ms/step - loss: 0.1725 - accuracy: 0.9473 - val_loss: 0.1499 - val_accuracy: 0.9498\n",
      "Epoch 10/10\n",
      "80/80 [==============================] - 12s 152ms/step - loss: 0.1556 - accuracy: 0.9448 - val_loss: 0.1124 - val_accuracy: 0.9749\n"
     ]
    }
   ],
   "source": [
    "history = model.fit( trainGenerator, epochs=10, validation_data=testGenerator)"
   ]
  },
  {
   "cell_type": "code",
   "execution_count": 33,
   "id": "2102263a",
   "metadata": {},
   "outputs": [
    {
     "data": {
      "text/plain": [
       "0.9"
      ]
     },
     "execution_count": 33,
     "metadata": {},
     "output_type": "execute_result"
    }
   ],
   "source": [
    "trainAccMedian = np.round_(np.median(history.history['accuracy']),2)\n",
    "trainAccMedian"
   ]
  },
  {
   "cell_type": "code",
   "execution_count": 34,
   "id": "09b755f6",
   "metadata": {},
   "outputs": [
    {
     "data": {
      "text/plain": [
       "0.14"
      ]
     },
     "execution_count": 34,
     "metadata": {},
     "output_type": "execute_result"
    }
   ],
   "source": [
    "trainLossStd = np.round_(np.std(history.history['loss']),2)\n",
    "trainLossStd"
   ]
  },
  {
   "cell_type": "code",
   "execution_count": 36,
   "id": "4db9607a",
   "metadata": {},
   "outputs": [
    {
     "name": "stdout",
     "output_type": "stream",
     "text": [
      "Found 1594 images belonging to 2 classes.\n"
     ]
    }
   ],
   "source": [
    "train_datagen = ImageDataGenerator(rescale=1./255, \n",
    "                                   rotation_range=40,   \n",
    "                                   width_shift_range=0.2,\n",
    "                                   height_shift_range=0.2,\n",
    "                                   shear_range=0.2,\n",
    "                                   zoom_range=0.2,\n",
    "                                   horizontal_flip=True,\n",
    "                                   fill_mode='nearest'\n",
    "                                  )\n",
    "trainGenerator = train_datagen.flow_from_directory(training_dir,\n",
    "                                                   target_size=(150,150),\n",
    "                                                   class_mode='binary',\n",
    "                                                   batch_size=20,\n",
    "                                                   shuffle=True)"
   ]
  },
  {
   "cell_type": "code",
   "execution_count": 37,
   "id": "fa385028",
   "metadata": {},
   "outputs": [
    {
     "name": "stdout",
     "output_type": "stream",
     "text": [
      "Epoch 1/10\n",
      "80/80 [==============================] - 18s 222ms/step - loss: 0.4439 - accuracy: 0.7961 - val_loss: 0.2893 - val_accuracy: 0.8683\n",
      "Epoch 2/10\n",
      "80/80 [==============================] - 18s 228ms/step - loss: 0.4389 - accuracy: 0.7917 - val_loss: 0.1815 - val_accuracy: 0.9366\n",
      "Epoch 3/10\n",
      "80/80 [==============================] - 19s 241ms/step - loss: 0.3997 - accuracy: 0.8256 - val_loss: 0.2480 - val_accuracy: 0.8921\n",
      "Epoch 4/10\n",
      "80/80 [==============================] - 18s 231ms/step - loss: 0.3814 - accuracy: 0.8199 - val_loss: 0.2313 - val_accuracy: 0.8965\n",
      "Epoch 5/10\n",
      "80/80 [==============================] - 18s 231ms/step - loss: 0.4006 - accuracy: 0.8250 - val_loss: 0.1727 - val_accuracy: 0.9373\n",
      "Epoch 6/10\n",
      "80/80 [==============================] - 19s 243ms/step - loss: 0.3789 - accuracy: 0.8294 - val_loss: 0.3909 - val_accuracy: 0.8055\n",
      "Epoch 7/10\n",
      "80/80 [==============================] - 18s 228ms/step - loss: 0.3581 - accuracy: 0.8419 - val_loss: 0.5785 - val_accuracy: 0.7378\n",
      "Epoch 8/10\n",
      "80/80 [==============================] - 18s 227ms/step - loss: 0.3653 - accuracy: 0.8425 - val_loss: 0.2758 - val_accuracy: 0.8770\n",
      "Epoch 9/10\n",
      "80/80 [==============================] - 18s 230ms/step - loss: 0.3669 - accuracy: 0.8344 - val_loss: 0.5815 - val_accuracy: 0.7597\n",
      "Epoch 10/10\n",
      "80/80 [==============================] - 18s 225ms/step - loss: 0.3494 - accuracy: 0.8457 - val_loss: 0.4337 - val_accuracy: 0.8149\n"
     ]
    }
   ],
   "source": [
    "historyNew = model.fit( trainGenerator, epochs=10, validation_data=testGenerator)"
   ]
  },
  {
   "cell_type": "code",
   "execution_count": 47,
   "id": "ee1c4f95",
   "metadata": {},
   "outputs": [
    {
     "data": {
      "text/plain": [
       "0.34"
      ]
     },
     "execution_count": 47,
     "metadata": {},
     "output_type": "execute_result"
    }
   ],
   "source": [
    "valLossMean = np.round(np.mean(historyNew.history['val_loss']),2)\n",
    "valLossMean"
   ]
  },
  {
   "cell_type": "code",
   "execution_count": 48,
   "id": "45caac31",
   "metadata": {},
   "outputs": [
    {
     "data": {
      "text/plain": [
       "0.85"
      ]
     },
     "execution_count": 48,
     "metadata": {},
     "output_type": "execute_result"
    }
   ],
   "source": [
    "valAccAvg = np.round(np.average(historyNew.history['val_accuracy']),2)\n",
    "valAccAvg"
   ]
  }
 ],
 "metadata": {
  "kernelspec": {
   "display_name": "Python 3 (ipykernel)",
   "language": "python",
   "name": "python3"
  },
  "language_info": {
   "codemirror_mode": {
    "name": "ipython",
    "version": 3
   },
   "file_extension": ".py",
   "mimetype": "text/x-python",
   "name": "python",
   "nbconvert_exporter": "python",
   "pygments_lexer": "ipython3",
   "version": "3.9.13"
  }
 },
 "nbformat": 4,
 "nbformat_minor": 5
}
