{
 "cells": [
  {
   "cell_type": "code",
   "execution_count": 66,
   "id": "8d264ce5",
   "metadata": {},
   "outputs": [],
   "source": [
    "import pandas as pd\n",
    "import numpy as np\n",
    "import matplotlib.pyplot as plt"
   ]
  },
  {
   "cell_type": "code",
   "execution_count": 30,
   "id": "e8b020a9",
   "metadata": {},
   "outputs": [],
   "source": [
    "import tensorflow as tf\n",
    "from tensorflow import keras\n",
    "from keras_preprocessing.image import load_img"
   ]
  },
  {
   "cell_type": "code",
   "execution_count": 3,
   "id": "dda3e490",
   "metadata": {},
   "outputs": [],
   "source": [
    "path ='./clothing-dataset-small/train/t-shirt/'\n",
    "file = '1cab0eb2-60f6-4d0a-a380-9a07b834d855.jpg'\n",
    "fullName = f'{path}/{file}'"
   ]
  },
  {
   "cell_type": "code",
   "execution_count": 4,
   "id": "ab3211c9",
   "metadata": {},
   "outputs": [],
   "source": [
    "img = load_img(fullName, target_size=(299,299))"
   ]
  },
  {
   "cell_type": "code",
   "execution_count": 5,
   "id": "e405b68a",
   "metadata": {},
   "outputs": [
    {
     "name": "stdout",
     "output_type": "stream",
     "text": [
      "<PIL.Image.Image image mode=RGB size=299x299 at 0x16BB2BEC220>\n"
     ]
    }
   ],
   "source": [
    "print(img)"
   ]
  },
  {
   "cell_type": "code",
   "execution_count": 6,
   "id": "233b9d62",
   "metadata": {},
   "outputs": [
    {
     "data": {
      "text/plain": [
       "(299, 299, 3)"
      ]
     },
     "execution_count": 6,
     "metadata": {},
     "output_type": "execute_result"
    }
   ],
   "source": [
    "x = np.array(img)\n",
    "x.shape"
   ]
  },
  {
   "cell_type": "code",
   "execution_count": 28,
   "id": "2de11076",
   "metadata": {},
   "outputs": [],
   "source": [
    "from keras.applications.xception import Xception, preprocess_input, decode_predictions"
   ]
  },
  {
   "cell_type": "code",
   "execution_count": 29,
   "id": "c57db46d",
   "metadata": {},
   "outputs": [],
   "source": [
    "model = Xception(weights='imagenet', input_shape=(299,299,3))"
   ]
  },
  {
   "cell_type": "code",
   "execution_count": 9,
   "id": "48e06521",
   "metadata": {},
   "outputs": [],
   "source": [
    "X = np.array([x])\n",
    "X = preprocess_input(X)"
   ]
  },
  {
   "cell_type": "code",
   "execution_count": 10,
   "id": "1c31c65d",
   "metadata": {},
   "outputs": [
    {
     "data": {
      "text/plain": [
       "(1, 1000)"
      ]
     },
     "execution_count": 10,
     "metadata": {},
     "output_type": "execute_result"
    }
   ],
   "source": [
    "pred = model.predict(X)\n",
    "pred.shape"
   ]
  },
  {
   "cell_type": "code",
   "execution_count": 11,
   "id": "c3b23784",
   "metadata": {},
   "outputs": [
    {
     "data": {
      "text/plain": [
       "[[('n03595614', 'jersey', 0.47058782),\n",
       "  ('n04033995', 'quilt', 0.021494234),\n",
       "  ('n04370456', 'sweatshirt', 0.016343094),\n",
       "  ('n03188531', 'diaper', 0.016156502),\n",
       "  ('n02730930', 'apron', 0.013485141)]]"
      ]
     },
     "execution_count": 11,
     "metadata": {},
     "output_type": "execute_result"
    }
   ],
   "source": [
    "decode_predictions(pred)"
   ]
  },
  {
   "cell_type": "markdown",
   "id": "9dc7d7d4",
   "metadata": {},
   "source": [
    "### CNN - Transfer Learning"
   ]
  },
  {
   "cell_type": "code",
   "execution_count": 26,
   "id": "f94e618c",
   "metadata": {},
   "outputs": [],
   "source": [
    "from keras_preprocessing.image import ImageDataGenerator"
   ]
  },
  {
   "cell_type": "code",
   "execution_count": 27,
   "id": "21ffd8f7",
   "metadata": {},
   "outputs": [],
   "source": [
    "train_gen = ImageDataGenerator(preprocessing_function=preprocess_input)"
   ]
  },
  {
   "cell_type": "code",
   "execution_count": 16,
   "id": "26e4c36b",
   "metadata": {},
   "outputs": [
    {
     "name": "stdout",
     "output_type": "stream",
     "text": [
      "Found 3068 images belonging to 10 classes.\n"
     ]
    }
   ],
   "source": [
    "train_ds = train_gen.flow_from_directory('./clothing-dataset-small/train/',\n",
    "                              target_size=(150,150),\n",
    "                              batch_size=32)"
   ]
  },
  {
   "cell_type": "code",
   "execution_count": 17,
   "id": "992cc40f",
   "metadata": {},
   "outputs": [
    {
     "data": {
      "text/plain": [
       "{'dress': 0,\n",
       " 'hat': 1,\n",
       " 'longsleeve': 2,\n",
       " 'outwear': 3,\n",
       " 'pants': 4,\n",
       " 'shirt': 5,\n",
       " 'shoes': 6,\n",
       " 'shorts': 7,\n",
       " 'skirt': 8,\n",
       " 't-shirt': 9}"
      ]
     },
     "execution_count": 17,
     "metadata": {},
     "output_type": "execute_result"
    }
   ],
   "source": [
    "train_ds.class_indices"
   ]
  },
  {
   "cell_type": "code",
   "execution_count": 19,
   "id": "c2aed579",
   "metadata": {},
   "outputs": [],
   "source": [
    "X, y = next(train_ds)"
   ]
  },
  {
   "cell_type": "code",
   "execution_count": 22,
   "id": "b89efa06",
   "metadata": {},
   "outputs": [
    {
     "data": {
      "text/plain": [
       "array([[0., 0., 0., 0., 0., 0., 0., 1., 0., 0.],\n",
       "       [0., 0., 0., 0., 0., 0., 0., 0., 1., 0.],\n",
       "       [0., 0., 0., 0., 1., 0., 0., 0., 0., 0.],\n",
       "       [0., 0., 0., 0., 0., 1., 0., 0., 0., 0.],\n",
       "       [0., 0., 0., 0., 0., 1., 0., 0., 0., 0.]], dtype=float32)"
      ]
     },
     "execution_count": 22,
     "metadata": {},
     "output_type": "execute_result"
    }
   ],
   "source": [
    "y[:5]"
   ]
  },
  {
   "cell_type": "code",
   "execution_count": 23,
   "id": "602be920",
   "metadata": {},
   "outputs": [
    {
     "name": "stdout",
     "output_type": "stream",
     "text": [
      "Found 341 images belonging to 10 classes.\n"
     ]
    }
   ],
   "source": [
    "val_gen = ImageDataGenerator(preprocessing_function=preprocess_input)\n",
    "\n",
    "val_ds = val_gen.flow_from_directory('./clothing-dataset-small/validation/',\n",
    "                                     target_size=(150,150),\n",
    "                                     batch_size=32,\n",
    "                                     shuffle=False\n",
    "                                    )"
   ]
  },
  {
   "cell_type": "code",
   "execution_count": 39,
   "id": "56787afc",
   "metadata": {},
   "outputs": [],
   "source": [
    "base_model = tf.keras.applications.Xception(weights='imagenet',\n",
    "                                            include_top=False,\n",
    "                                            input_shape=(150, 150, 3))\n",
    "\n",
    "base_model.trainable = False\n",
    "\n",
    "inputs = keras.Input(shape=(150,150,3))\n",
    "\n",
    "base = base_model(inputs, training=False)\n",
    "\n",
    "vectors = keras.layers.GlobalAveragePooling2D()(base)\n",
    "\n",
    "outputs = keras.layers.Dense(10)(vectors)\n",
    "\n",
    "model = keras.Model(inputs, outputs)"
   ]
  },
  {
   "cell_type": "code",
   "execution_count": 55,
   "id": "5e7402e3",
   "metadata": {},
   "outputs": [
    {
     "name": "stdout",
     "output_type": "stream",
     "text": [
      "WARNING:tensorflow:6 out of the last 6 calls to <function Model.make_predict_function.<locals>.predict_function at 0x0000016E83E87280> triggered tf.function retracing. Tracing is expensive and the excessive number of tracings could be due to (1) creating @tf.function repeatedly in a loop, (2) passing tensors with different shapes, (3) passing Python objects instead of tensors. For (1), please define your @tf.function outside of the loop. For (2), @tf.function has experimental_relax_shapes=True option that relaxes argument shapes that can avoid unnecessary retracing. For (3), please refer to https://www.tensorflow.org/guide/function#controlling_retracing and https://www.tensorflow.org/api_docs/python/tf/function for  more details.\n"
     ]
    }
   ],
   "source": [
    "preds = model.predict(X)"
   ]
  },
  {
   "cell_type": "code",
   "execution_count": 56,
   "id": "fe7117aa",
   "metadata": {},
   "outputs": [
    {
     "data": {
      "text/plain": [
       "(32, 10)"
      ]
     },
     "execution_count": 56,
     "metadata": {},
     "output_type": "execute_result"
    }
   ],
   "source": [
    "preds.shape"
   ]
  },
  {
   "cell_type": "code",
   "execution_count": 58,
   "id": "0789c9a2",
   "metadata": {},
   "outputs": [],
   "source": [
    "learning_rate = 0.01\n",
    "optimizer = keras.optimizers.Adam(learning_rate=learning_rate)\n",
    "loss = keras.losses.CategoricalCrossentropy(from_logits=True)\n",
    "model.compile(optimizer=optimizer, loss=loss, metrics=['accuracy'])"
   ]
  },
  {
   "cell_type": "code",
   "execution_count": 59,
   "id": "a0258208",
   "metadata": {},
   "outputs": [
    {
     "name": "stdout",
     "output_type": "stream",
     "text": [
      "Epoch 1/10\n",
      "96/96 [==============================] - 34s 310ms/step - loss: 1.2099 - accuracy: 0.6780 - val_loss: 0.7955 - val_accuracy: 0.7830\n",
      "Epoch 2/10\n",
      "96/96 [==============================] - 29s 303ms/step - loss: 0.6167 - accuracy: 0.8191 - val_loss: 0.8804 - val_accuracy: 0.7742\n",
      "Epoch 3/10\n",
      "96/96 [==============================] - 17s 183ms/step - loss: 0.3612 - accuracy: 0.8716 - val_loss: 0.8278 - val_accuracy: 0.7977\n",
      "Epoch 4/10\n",
      "96/96 [==============================] - 35s 369ms/step - loss: 0.2532 - accuracy: 0.9042 - val_loss: 0.7921 - val_accuracy: 0.8035\n",
      "Epoch 5/10\n",
      "96/96 [==============================] - 11s 116ms/step - loss: 0.1879 - accuracy: 0.9351 - val_loss: 0.7802 - val_accuracy: 0.8152\n",
      "Epoch 6/10\n",
      "96/96 [==============================] - 11s 114ms/step - loss: 0.1055 - accuracy: 0.9648 - val_loss: 0.8239 - val_accuracy: 0.8123\n",
      "Epoch 7/10\n",
      "96/96 [==============================] - 11s 114ms/step - loss: 0.0824 - accuracy: 0.9739 - val_loss: 0.9718 - val_accuracy: 0.8123\n",
      "Epoch 8/10\n",
      "96/96 [==============================] - 12s 127ms/step - loss: 0.0581 - accuracy: 0.9811 - val_loss: 0.8690 - val_accuracy: 0.8065\n",
      "Epoch 9/10\n",
      "96/96 [==============================] - 10s 109ms/step - loss: 0.0384 - accuracy: 0.9922 - val_loss: 0.8325 - val_accuracy: 0.8152\n",
      "Epoch 10/10\n",
      "96/96 [==============================] - 11s 109ms/step - loss: 0.0224 - accuracy: 0.9977 - val_loss: 0.8601 - val_accuracy: 0.8152\n"
     ]
    }
   ],
   "source": [
    "history = model.fit(train_ds, epochs=10, validation_data=val_ds)"
   ]
  },
  {
   "cell_type": "code",
   "execution_count": 70,
   "id": "d588308b",
   "metadata": {},
   "outputs": [
    {
     "data": {
      "image/png": "[encoded data removed]",
      "text/plain": [
       "<Figure size 640x480 with 1 Axes>"
      ]
     },
     "metadata": {},
     "output_type": "display_data"
    }
   ],
   "source": [
    "plt.plot(history.history['accuracy'], label='Train')\n",
    "plt.plot(history.history['val_accuracy'], label='Validation')\n",
    "plt.xticks(np.arange(10))\n",
    "plt.legend()\n",
    "plt.show()"
   ]
  },
  {
   "cell_type": "code",
   "execution_count": 61,
   "id": "1a776ff0",
   "metadata": {},
   "outputs": [
    {
     "data": {
      "text/plain": [
       "{'loss': [1.209897756576538,\n",
       "  0.6167334914207458,\n",
       "  0.3612062931060791,\n",
       "  0.253212034702301,\n",
       "  0.18785111606121063,\n",
       "  0.105523020029068,\n",
       "  0.0824485793709755,\n",
       "  0.05811534449458122,\n",
       "  0.03835832700133324,\n",
       "  0.02236611396074295],\n",
       " 'accuracy': [0.6779661178588867,\n",
       "  0.8191003799438477,\n",
       "  0.8715775609016418,\n",
       "  0.9041721224784851,\n",
       "  0.9351369142532349,\n",
       "  0.9647979140281677,\n",
       "  0.9739243984222412,\n",
       "  0.9810951948165894,\n",
       "  0.9921773076057434,\n",
       "  0.9977183938026428],\n",
       " 'val_loss': [0.7954729795455933,\n",
       "  0.8803503513336182,\n",
       "  0.827842116355896,\n",
       "  0.7920525074005127,\n",
       "  0.7801865339279175,\n",
       "  0.8239478468894958,\n",
       "  0.9717949628829956,\n",
       "  0.869010329246521,\n",
       "  0.8325257897377014,\n",
       "  0.86012202501297],\n",
       " 'val_accuracy': [0.7829912304878235,\n",
       "  0.774193525314331,\n",
       "  0.7976539731025696,\n",
       "  0.803519070148468,\n",
       "  0.8152492642402649,\n",
       "  0.8123167157173157,\n",
       "  0.8123167157173157,\n",
       "  0.8064516186714172,\n",
       "  0.8152492642402649,\n",
       "  0.8152492642402649]}"
      ]
     },
     "execution_count": 61,
     "metadata": {},
     "output_type": "execute_result"
    }
   ],
   "source": [
    "history.history"
   ]
  },
  {
   "cell_type": "markdown",
   "id": "8c94446f",
   "metadata": {},
   "source": [
    "### Adjusting the learning rate"
   ]
  },
  {
   "cell_type": "code",
   "execution_count": 73,
   "id": "faa42255",
   "metadata": {},
   "outputs": [],
   "source": [
    "def make_model(learning_rate = 0.01):\n",
    "    \n",
    "    base_model = tf.keras.applications.Xception(weights='imagenet',\n",
    "                                            include_top=False,\n",
    "                                            input_shape=(150, 150, 3))\n",
    "\n",
    "    base_model.trainable = False\n",
    "\n",
    "    #########################################################\n",
    "\n",
    "    inputs = keras.Input(shape=(150,150,3))\n",
    "    base = base_model(inputs, training=False)\n",
    "    vectors = keras.layers.GlobalAveragePooling2D()(base)\n",
    "    outputs = keras.layers.Dense(10)(vectors)\n",
    "    model = keras.Model(inputs, outputs)\n",
    "    \n",
    "    #########################################################\n",
    "    \n",
    "    optimizer = keras.optimizers.Adam(learning_rate=learning_rate)\n",
    "    loss = keras.losses.CategoricalCrossentropy(from_logits=True)\n",
    "    model.compile(optimizer=optimizer, loss=loss, metrics=['accuracy'])\n",
    "    \n",
    "    return model"
   ]
  },
  {
   "cell_type": "code",
   "execution_count": 75,
   "id": "7c601969",
   "metadata": {
    "scrolled": true
   },
   "outputs": [
    {
     "name": "stdout",
     "output_type": "stream",
     "text": [
      "0.0001\n",
      "Epoch 1/10\n",
      "96/96 [==============================] - 16s 137ms/step - loss: 1.9937 - accuracy: 0.3220 - val_loss: 1.6639 - val_accuracy: 0.4751\n",
      "Epoch 2/10\n",
      "96/96 [==============================] - 13s 140ms/step - loss: 1.4208 - accuracy: 0.5593 - val_loss: 1.2900 - val_accuracy: 0.6217\n",
      "Epoch 3/10\n",
      "96/96 [==============================] - 17s 181ms/step - loss: 1.1621 - accuracy: 0.6402 - val_loss: 1.0988 - val_accuracy: 0.6569\n",
      "Epoch 4/10\n",
      "96/96 [==============================] - 11s 115ms/step - loss: 1.0156 - accuracy: 0.6835 - val_loss: 0.9779 - val_accuracy: 0.6979\n",
      "Epoch 5/10\n",
      "96/96 [==============================] - 19s 200ms/step - loss: 0.9193 - accuracy: 0.7154 - val_loss: 0.9035 - val_accuracy: 0.7185\n",
      "Epoch 6/10\n",
      "96/96 [==============================] - 11s 113ms/step - loss: 0.8489 - accuracy: 0.7311 - val_loss: 0.8432 - val_accuracy: 0.7302\n",
      "Epoch 7/10\n",
      "96/96 [==============================] - 13s 132ms/step - loss: 0.7934 - accuracy: 0.7432 - val_loss: 0.8022 - val_accuracy: 0.7537\n",
      "Epoch 8/10\n",
      "96/96 [==============================] - 11s 111ms/step - loss: 0.7497 - accuracy: 0.7595 - val_loss: 0.7670 - val_accuracy: 0.7566\n",
      "Epoch 9/10\n",
      "96/96 [==============================] - 13s 137ms/step - loss: 0.7129 - accuracy: 0.7689 - val_loss: 0.7390 - val_accuracy: 0.7625\n",
      "Epoch 10/10\n",
      "96/96 [==============================] - 11s 115ms/step - loss: 0.6821 - accuracy: 0.7774 - val_loss: 0.7166 - val_accuracy: 0.7654\n",
      "\n",
      "\n",
      "\n",
      "0.001\n",
      "Epoch 1/10\n",
      "96/96 [==============================] - 14s 116ms/step - loss: 1.1101 - accuracy: 0.6255 - val_loss: 0.7009 - val_accuracy: 0.7683\n",
      "Epoch 2/10\n",
      "96/96 [==============================] - 11s 118ms/step - loss: 0.6292 - accuracy: 0.7924 - val_loss: 0.6425 - val_accuracy: 0.7859\n",
      "Epoch 3/10\n",
      "96/96 [==============================] - 10s 109ms/step - loss: 0.5090 - accuracy: 0.8292 - val_loss: 0.5914 - val_accuracy: 0.8065\n",
      "Epoch 4/10\n",
      "96/96 [==============================] - 12s 128ms/step - loss: 0.4297 - accuracy: 0.8595 - val_loss: 0.5431 - val_accuracy: 0.8211\n",
      "Epoch 5/10\n",
      "96/96 [==============================] - 12s 125ms/step - loss: 0.3690 - accuracy: 0.8882 - val_loss: 0.5409 - val_accuracy: 0.8182\n",
      "Epoch 6/10\n",
      "96/96 [==============================] - 15s 158ms/step - loss: 0.3291 - accuracy: 0.9065 - val_loss: 0.5468 - val_accuracy: 0.8328\n",
      "Epoch 7/10\n",
      "96/96 [==============================] - 12s 121ms/step - loss: 0.2914 - accuracy: 0.9201 - val_loss: 0.5358 - val_accuracy: 0.8182\n",
      "Epoch 8/10\n",
      "96/96 [==============================] - 11s 113ms/step - loss: 0.2623 - accuracy: 0.9325 - val_loss: 0.5278 - val_accuracy: 0.8152\n",
      "Epoch 9/10\n",
      "96/96 [==============================] - 11s 117ms/step - loss: 0.2321 - accuracy: 0.9433 - val_loss: 0.5147 - val_accuracy: 0.8387\n",
      "Epoch 10/10\n",
      "96/96 [==============================] - 12s 122ms/step - loss: 0.2128 - accuracy: 0.9511 - val_loss: 0.5170 - val_accuracy: 0.8358\n",
      "\n",
      "\n",
      "\n",
      "0.01\n",
      "Epoch 1/10\n",
      "96/96 [==============================] - 19s 168ms/step - loss: 1.2309 - accuracy: 0.6649 - val_loss: 0.7859 - val_accuracy: 0.7977\n",
      "Epoch 2/10\n",
      "96/96 [==============================] - 15s 160ms/step - loss: 0.5543 - accuracy: 0.8243 - val_loss: 0.7833 - val_accuracy: 0.8094\n",
      "Epoch 3/10\n",
      "96/96 [==============================] - 22s 235ms/step - loss: 0.3374 - accuracy: 0.8820 - val_loss: 0.8265 - val_accuracy: 0.7859\n",
      "Epoch 4/10\n",
      "96/96 [==============================] - 13s 132ms/step - loss: 0.2911 - accuracy: 0.8999 - val_loss: 0.9160 - val_accuracy: 0.7859\n",
      "Epoch 5/10\n",
      "96/96 [==============================] - 16s 169ms/step - loss: 0.1791 - accuracy: 0.9361 - val_loss: 0.9807 - val_accuracy: 0.7625\n",
      "Epoch 6/10\n",
      "96/96 [==============================] - 67s 704ms/step - loss: 0.1157 - accuracy: 0.9596 - val_loss: 0.7759 - val_accuracy: 0.8240\n",
      "Epoch 7/10\n",
      "96/96 [==============================] - 11s 117ms/step - loss: 0.0857 - accuracy: 0.9700 - val_loss: 0.7785 - val_accuracy: 0.8182\n",
      "Epoch 8/10\n",
      "96/96 [==============================] - 12s 123ms/step - loss: 0.0445 - accuracy: 0.9886 - val_loss: 0.8949 - val_accuracy: 0.8006\n",
      "Epoch 9/10\n",
      "96/96 [==============================] - 14s 145ms/step - loss: 0.0604 - accuracy: 0.9811 - val_loss: 0.8546 - val_accuracy: 0.8065\n",
      "Epoch 10/10\n",
      "96/96 [==============================] - 11s 116ms/step - loss: 0.0305 - accuracy: 0.9932 - val_loss: 0.8984 - val_accuracy: 0.8182\n",
      "\n",
      "\n",
      "\n",
      "0.1\n",
      "Epoch 1/10\n",
      "96/96 [==============================] - 14s 122ms/step - loss: 9.9301 - accuracy: 0.6411 - val_loss: 9.9428 - val_accuracy: 0.7038\n",
      "Epoch 2/10\n",
      "96/96 [==============================] - 11s 118ms/step - loss: 5.2100 - accuracy: 0.7826 - val_loss: 6.3617 - val_accuracy: 0.7918\n",
      "Epoch 3/10\n",
      "96/96 [==============================] - 11s 113ms/step - loss: 3.7214 - accuracy: 0.8354 - val_loss: 7.9257 - val_accuracy: 0.7478\n",
      "Epoch 4/10\n",
      "96/96 [==============================] - 12s 120ms/step - loss: 3.6865 - accuracy: 0.8449 - val_loss: 10.1121 - val_accuracy: 0.7478\n",
      "Epoch 5/10\n",
      "96/96 [==============================] - 11s 116ms/step - loss: 2.7716 - accuracy: 0.8761 - val_loss: 10.3359 - val_accuracy: 0.7595\n",
      "Epoch 6/10\n",
      "96/96 [==============================] - 11s 114ms/step - loss: 2.4149 - accuracy: 0.8957 - val_loss: 11.1762 - val_accuracy: 0.7302\n",
      "Epoch 7/10\n",
      "96/96 [==============================] - 11s 114ms/step - loss: 1.4023 - accuracy: 0.9267 - val_loss: 9.2148 - val_accuracy: 0.7507\n",
      "Epoch 8/10\n",
      "96/96 [==============================] - 11s 115ms/step - loss: 1.4695 - accuracy: 0.9280 - val_loss: 10.4407 - val_accuracy: 0.8152\n",
      "Epoch 9/10\n",
      "96/96 [==============================] - 11s 117ms/step - loss: 1.1555 - accuracy: 0.9364 - val_loss: 10.5434 - val_accuracy: 0.7771\n",
      "Epoch 10/10\n",
      "96/96 [==============================] - 11s 114ms/step - loss: 1.0020 - accuracy: 0.9472 - val_loss: 12.3818 - val_accuracy: 0.7683\n",
      "\n",
      "\n",
      "\n"
     ]
    }
   ],
   "source": [
    "%%time\n",
    "scores = {}\n",
    "lrs = [0.0001, 0.001, 0.01, 0.1]\n",
    "\n",
    "for lr in lrs:\n",
    "    print(lr)\n",
    "    model = make_model(learning_rate=lr)\n",
    "    history = model.fit(train_ds, epochs=10, validation_data=val_ds)\n",
    "    scores[lr] = history.history\n",
    "    print('\\n\\n')"
   ]
  },
  {
   "cell_type": "code",
   "execution_count": 78,
   "id": "ab115dc2",
   "metadata": {},
   "outputs": [
    {
     "data": {
      "text/plain": [
       "<matplotlib.legend.Legend at 0x16e9600a160>"
      ]
     },
     "execution_count": 78,
     "metadata": {},
     "output_type": "execute_result"
    },
    {
     "data": {
      "image/png": "[encoded data removed]",
      "text/plain": [
       "<Figure size 640x480 with 1 Axes>"
      ]
     },
     "metadata": {},
     "output_type": "display_data"
    }
   ],
   "source": [
    "for lr , hist in scores.items():\n",
    "    plt.plot(hist['val_accuracy'], label=lr)\n",
    "    \n",
    "plt.xticks(np.arange(10))    \n",
    "plt.legend()"
   ]
  },
  {
   "cell_type": "code",
   "execution_count": 79,
   "id": "0e511c6d",
   "metadata": {},
   "outputs": [
    {
     "data": {
      "text/plain": [
       "<matplotlib.legend.Legend at 0x16e9608e430>"
      ]
     },
     "execution_count": 79,
     "metadata": {},
     "output_type": "execute_result"
    },
    {
     "data": {
      "image/png": "[encoded data removed]",
      "text/plain": [
       "<Figure size 640x480 with 1 Axes>"
      ]
     },
     "metadata": {},
     "output_type": "display_data"
    }
   ],
   "source": [
    "for lr , hist in scores.items():\n",
    "    plt.plot(hist['accuracy'], label=lr)\n",
    "    \n",
    "plt.xticks(np.arange(10))    \n",
    "plt.legend()"
   ]
  },
  {
   "cell_type": "code",
   "execution_count": null,
   "id": "0b076582",
   "metadata": {},
   "outputs": [],
   "source": []
  }
 ],
 "metadata": {
  "kernelspec": {
   "display_name": "Python 3 (ipykernel)",
   "language": "python",
   "name": "python3"
  },
  "language_info": {
   "codemirror_mode": {
    "name": "ipython",
    "version": 3
   },
   "file_extension": ".py",
   "mimetype": "text/x-python",
   "name": "python",
   "nbconvert_exporter": "python",
   "pygments_lexer": "ipython3",
   "version": "3.9.13"
  }
 },
 "nbformat": 4,
 "nbformat_minor": 5
}
