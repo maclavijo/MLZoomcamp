{
 "cells": [
  {
   "cell_type": "code",
   "execution_count": null,
   "id": "d48f96fa",
   "metadata": {},
   "outputs": [],
   "source": [
    "import pandas as pd\n",
    "import numpy as np\n",
    "import seaborn as sns\n",
    "from IPython.display import display\n",
    "import matplotlib.pyplot as plt\n",
    "\n",
    "from sklearn.model_selection import train_test_split\n",
    "from sklearn.tree import DecisionTreeClassifier\n",
    "from sklearn.linear_model import LogisticRegression\n",
    "from sklearn.pipeline import make_pipeline\n",
    "from sklearn.metrics import roc_auc_score, mean_squared_error\n",
    "\n",
    "from sklearn.metrics import confusion_matrix, ConfusionMatrixDisplay, classification_report\n",
    "\n"
   ]
  },
  {
   "cell_type": "code",
   "execution_count": null,
   "id": "93f28e86",
   "metadata": {},
   "outputs": [],
   "source": [
    "file = 'Datasets/diabetes_BRFSS2015/diabetes_012_health_indicators_BRFSS2015.csv'\n",
    "df = pd.read_csv(file)\n",
    "df"
   ]
  },
  {
   "cell_type": "code",
   "execution_count": null,
   "id": "dd1333ae",
   "metadata": {},
   "outputs": [],
   "source": [
    "df.columns = df.columns.str.lower().str.replace('_012','')"
   ]
  },
  {
   "cell_type": "code",
   "execution_count": null,
   "id": "a187c2b7",
   "metadata": {},
   "outputs": [],
   "source": [
    "df.columns"
   ]
  },
  {
   "cell_type": "code",
   "execution_count": null,
   "id": "7f51a35d",
   "metadata": {},
   "outputs": [],
   "source": [
    "df.info()"
   ]
  },
  {
   "cell_type": "markdown",
   "id": "f7c813d6",
   "metadata": {},
   "source": [
    "### Tree"
   ]
  },
  {
   "cell_type": "code",
   "execution_count": null,
   "id": "ea51cbb3",
   "metadata": {},
   "outputs": [],
   "source": [
    "def getRandomDF(df, value, n, state):\n",
    "    return df[df.diabetes==value].sample(n=n, random_state=state)"
   ]
  },
  {
   "cell_type": "code",
   "execution_count": null,
   "id": "fb40a569",
   "metadata": {},
   "outputs": [],
   "source": [
    "dfs = {}\n",
    "size = df.diabetes.value_counts()[1.0]\n",
    "\n",
    "# Data for diabetes == 1\n",
    "df1 = df[df.diabetes==1].sample(n=size)\n",
    "\n",
    "# Get 10 random balanced dataframes. \n",
    "# The most imbalanced class (1) determines the total number of samples 4,361 * 3 = 13,893\n",
    "for i in range(0,10):\n",
    "    df0 = getRandomDF(df, 0, size, i)\n",
    "    #df2 = getRandomDF(df, 2, size, i)\n",
    "    dfs[i] = pd.concat([df0, df1])"
   ]
  },
  {
   "cell_type": "code",
   "execution_count": null,
   "id": "7e713f76",
   "metadata": {},
   "outputs": [],
   "source": [
    "for i,j in dfs.items():\n",
    "    model = make_pipeline(DecisionTreeClassifier(max_depth=10))\n",
    "    \n",
    "    target = j.diabetes\n",
    "    data = j.drop(columns=['diabetes'])\n",
    "    \n",
    "    dfTrainFull, dfTest, yTrainFull, yTest = train_test_split(data, target, test_size=0.2, random_state=i)\n",
    "    dfTrain, dfVal, yTrain, yVal = train_test_split(data, target, test_size=0.25, random_state=i)\n",
    "    model.fit(dfTrain, yTrain)\n",
    "    resdfVal = model.predict_proba(dfVal)#[:,1]\n",
    "    yValPred = np.argmax(resdfVal, axis=1)\n",
    "    print(f'Val prediction: {yValPred}')\n",
    "    print(f'Val RMSE: {mean_squared_error(yVal, yValPred,squared=False)}')\n",
    "\n",
    "    resdfValPred = model.predict_proba(dfTrain)#[:,1]\n",
    "    yTrainPred = np.argmax(resdfValPred, axis=1)\n",
    "    print(f'Train prediction: {yTrainPred}')\n",
    "    print(f'Val RMSE: {mean_squared_error(yTrain, yTrainPred,squared=False)}')\n",
    "    \n",
    "    cm = confusion_matrix(yVal, yValPred)\n",
    "    cmprob = np.round(100 * cm / len(yVal), 1)\n",
    "    cm_display = ConfusionMatrixDisplay(cm, display_labels=['0', '1']).plot()\n",
    "    cm_display = ConfusionMatrixDisplay(cmprob, display_labels=['0', '1']).plot()\n",
    "    \n",
    "    print(classification_report(yVal, yValPred))"
   ]
  },
  {
   "cell_type": "code",
   "execution_count": null,
   "id": "bf9fc133",
   "metadata": {},
   "outputs": [],
   "source": [
    "for param in model.get_params():\n",
    "    print(param)"
   ]
  },
  {
   "cell_type": "code",
   "execution_count": null,
   "id": "3974b368",
   "metadata": {},
   "outputs": [],
   "source": []
  },
  {
   "cell_type": "code",
   "execution_count": null,
   "id": "f4193bdd",
   "metadata": {},
   "outputs": [],
   "source": [
    "\n",
    "model = make_pipeline(DecisionTreeClassifier())\n",
    "    "
   ]
  },
  {
   "cell_type": "code",
   "execution_count": null,
   "id": "8ffc696d",
   "metadata": {},
   "outputs": [],
   "source": [
    "dfTrainFull, dfTest, yTrainFull, yTest = train_test_split(data, target, test_size=0.2, random_state=11)\n",
    "dfTrain, dfVal, yTrain, yVal = train_test_split(data, target, test_size=0.25, random_state=11)"
   ]
  },
  {
   "cell_type": "code",
   "execution_count": null,
   "id": "ff67f716",
   "metadata": {},
   "outputs": [],
   "source": [
    "categoricalCols = ['highbp', 'highchol', 'cholcheck','smoker',\n",
    "       'stroke', 'heartdiseaseorattack', 'physactivity', 'fruits', 'veggies',\n",
    "       'hvyalcoholconsump', 'anyhealthcare', 'nodocbccost', 'genhlth','diffwalk', 'sex', 'education']\n",
    "\n",
    "numericalCols = ['bmi', 'menthlth', 'physhlth', 'income']"
   ]
  },
  {
   "cell_type": "code",
   "execution_count": null,
   "id": "c4912030",
   "metadata": {},
   "outputs": [],
   "source": [
    "# creating preprocesors\n",
    "from sklearn.preprocessing import OneHotEncoder, StandardScaler\n",
    "catPreprocessor = OneHotEncoder(handle_unknown=\"ignore\")\n",
    "numPreprocessor = StandardScaler()\n",
    "\n",
    "# Transforming the data\n",
    "from sklearn.compose import ColumnTransformer\n",
    "preprocessor = ColumnTransformer([\n",
    "    ('one-hot-encoder', catPreprocessor, categoricalCols)],remainder=\"passthrough\")\n",
    "    #('one-hot-encoder', catPreprocessor, categoricalCols),\n",
    "    #('standard_scaler', numPreprocessor, numericalCols)])\n",
    "    \n"
   ]
  },
  {
   "cell_type": "code",
   "execution_count": null,
   "id": "7d85fbd7",
   "metadata": {},
   "outputs": [],
   "source": [
    "# creating the model\n",
    "from sklearn.pipeline import make_pipeline\n",
    "model = make_pipeline(preprocessor, DecisionTreeClassifier(max_depth=10, max_leaf_nodes=30))\n",
    "\n",
    "model.fit(dfTrain, yTrain)"
   ]
  },
  {
   "cell_type": "code",
   "execution_count": null,
   "id": "6d20deff",
   "metadata": {},
   "outputs": [],
   "source": [
    "\n",
    "\n",
    "resdfVal = model.predict_proba(dfVal)#[:,1]\n",
    "yValPred = np.argmax(resdfVal, axis=1)\n",
    "print(f'Val prediction: {yValPred}')\n",
    "print(f'Val RMSE: {mean_squared_error(yVal, yValPred,squared=False)}')\n",
    "\n",
    "resdfValPred = model.predict_proba(dfTrain)#[:,1]\n",
    "yTrainPred = np.argmax(resdfValPred, axis=1)\n",
    "print(f'Train prediction: {yTrainPred}')\n",
    "print(f'Val RMSE: {mean_squared_error(yTrain, yTrainPred,squared=False)}')"
   ]
  },
  {
   "cell_type": "code",
   "execution_count": null,
   "id": "4408ed26",
   "metadata": {},
   "outputs": [],
   "source": [
    "(yValPred == yVal).mean()"
   ]
  },
  {
   "cell_type": "code",
   "execution_count": null,
   "id": "ee4d3a11",
   "metadata": {},
   "outputs": [],
   "source": []
  },
  {
   "cell_type": "code",
   "execution_count": null,
   "id": "4ab5b6f1",
   "metadata": {},
   "outputs": [],
   "source": [
    "cm = confusion_matrix(yVal, yValPred)\n",
    "cmprob = np.round(100 * cm / len(yVal), 1)\n",
    "cm_display = ConfusionMatrixDisplay(cm, display_labels=['0', '1']).plot()\n",
    "cm_display = ConfusionMatrixDisplay(cmprob, display_labels=['0', '1']).plot()\n",
    "#tn, fp, fn, tp = cm.ravel()\n",
    "#print(tn, fp, fn, tp)\n",
    "#print(cm)"
   ]
  },
  {
   "cell_type": "code",
   "execution_count": null,
   "id": "121f6cc5",
   "metadata": {},
   "outputs": [],
   "source": [
    "print(classification_report(yVal, yValPred))"
   ]
  },
  {
   "cell_type": "code",
   "execution_count": null,
   "id": "a6ed866d",
   "metadata": {},
   "outputs": [],
   "source": [
    "import seaborn as sns\n",
    "corr = df.corr()\n",
    "#sns.set_theme()\n",
    "plt.figure(figsize=(20,20))\n",
    "sns.heatmap(corr, cmap=\"Blues\", annot=True)"
   ]
  },
  {
   "cell_type": "code",
   "execution_count": null,
   "id": "f5e4a9f7",
   "metadata": {},
   "outputs": [],
   "source": [
    "corr = df[numericalCols + ['diabetes']].corr()\n",
    "#sns.set_theme()\n",
    "plt.figure(figsize=(20,20))\n",
    "sns.heatmap(corr, cmap=\"Blues\", annot=True)"
   ]
  },
  {
   "cell_type": "code",
   "execution_count": null,
   "id": "a45f85c9",
   "metadata": {},
   "outputs": [],
   "source": []
  },
  {
   "cell_type": "markdown",
   "id": "9d9566f5",
   "metadata": {},
   "source": [
    "### Binary"
   ]
  },
  {
   "cell_type": "code",
   "execution_count": null,
   "id": "ac3c8514",
   "metadata": {},
   "outputs": [],
   "source": [
    "file = 'Datasets/diabetes_binary_health_indicators_BRFSS2015.csv'\n",
    "df = pd.read_csv(file)\n",
    "df"
   ]
  },
  {
   "cell_type": "code",
   "execution_count": null,
   "id": "4f426a32",
   "metadata": {},
   "outputs": [],
   "source": [
    "df.columns = df.columns.str.lower().str.replace('diabetes_binary','diabetes')\n",
    "df.columns"
   ]
  },
  {
   "cell_type": "code",
   "execution_count": null,
   "id": "74e42e27",
   "metadata": {},
   "outputs": [],
   "source": [
    "target = df.diabetes\n",
    "data = df.drop(columns=['diabetes'])"
   ]
  },
  {
   "cell_type": "code",
   "execution_count": null,
   "id": "ed3bf1f7",
   "metadata": {},
   "outputs": [],
   "source": [
    "dfTrainFull, dfTest, yTrainFull, yTest = train_test_split(data, target, test_size=0.2, random_state=11)\n",
    "dfTrain, dfVal, yTrain, yVal = train_test_split(data, target, test_size=0.25, random_state=11)"
   ]
  },
  {
   "cell_type": "code",
   "execution_count": null,
   "id": "502afe46",
   "metadata": {},
   "outputs": [],
   "source": [
    "# creating the model\n",
    "from sklearn.pipeline import make_pipeline\n",
    "model = make_pipeline(DecisionTreeClassifier(max_depth=10, max_leaf_nodes=30))\n",
    "\n",
    "model.fit(dfTrain, yTrain)"
   ]
  },
  {
   "cell_type": "code",
   "execution_count": null,
   "id": "ad15e85a",
   "metadata": {},
   "outputs": [],
   "source": [
    "\n",
    "yValPred = model.predict(dfVal)\n",
    "print(f'Val prediction: {yValPred}')\n",
    "print(f'Val RMSE: {mean_squared_error(yVal, yValPred,squared=False)}')\n",
    "auc = roc_auc_score(yVal, yValPred)\n",
    "print(auc)\n",
    "\n",
    "yTrainPred = model.predict(dfTrain)\n",
    "print(f'Train prediction: {yTrainPred}')\n",
    "print(f'Val RMSE: {mean_squared_error(yTrain, yTrainPred,squared=False)}')\n",
    "auc = roc_auc_score(yTrain, yTrainPred)\n",
    "print(auc)\n"
   ]
  },
  {
   "cell_type": "code",
   "execution_count": null,
   "id": "581b6d3f",
   "metadata": {},
   "outputs": [],
   "source": [
    "yValPred"
   ]
  },
  {
   "cell_type": "code",
   "execution_count": null,
   "id": "d5cc988d",
   "metadata": {},
   "outputs": [],
   "source": [
    "print(classification_report(yVal, yValPred))"
   ]
  },
  {
   "cell_type": "code",
   "execution_count": null,
   "id": "30481499",
   "metadata": {},
   "outputs": [],
   "source": [
    "yValPred = model.predict_proba(dfVal)#[:,1]\n",
    "yValPred"
   ]
  },
  {
   "cell_type": "code",
   "execution_count": null,
   "id": "694059b8",
   "metadata": {},
   "outputs": [],
   "source": [
    "roc_auc_score(yVal,yValPred[:,1])"
   ]
  },
  {
   "cell_type": "code",
   "execution_count": null,
   "id": "dc59295f",
   "metadata": {},
   "outputs": [],
   "source": [
    "model = make_pipeline(LogisticRegression(max_iter=1000))    "
   ]
  },
  {
   "cell_type": "code",
   "execution_count": null,
   "id": "2cc2aeea",
   "metadata": {},
   "outputs": [],
   "source": [
    "model.fit(dfTrain, yTrain)"
   ]
  },
  {
   "cell_type": "code",
   "execution_count": null,
   "id": "2f0193e0",
   "metadata": {},
   "outputs": [],
   "source": [
    "yValPred = model.predict(dfVal)"
   ]
  },
  {
   "cell_type": "code",
   "execution_count": null,
   "id": "58310fc7",
   "metadata": {},
   "outputs": [],
   "source": [
    "print(f'Val prediction: {yValPred}')\n",
    "print(f'Val RMSE: {mean_squared_error(yVal, yValPred,squared=False)}')\n",
    "auc = roc_auc_score(yVal, yValPred)\n",
    "print(auc)\n",
    "\n",
    "yTrainPred = model.predict(dfTrain)\n",
    "print(f'Train prediction: {yTrainPred}')\n",
    "print(f'Val RMSE: {mean_squared_error(yTrain, yTrainPred,squared=False)}')\n",
    "auc = roc_auc_score(yTrain, yTrainPred)\n",
    "print(auc)"
   ]
  },
  {
   "cell_type": "code",
   "execution_count": null,
   "id": "3c250715",
   "metadata": {},
   "outputs": [],
   "source": [
    "print(classification_report(yVal, yValPred))"
   ]
  },
  {
   "cell_type": "code",
   "execution_count": null,
   "id": "d3e01935",
   "metadata": {},
   "outputs": [],
   "source": [
    "roc_auc_score(yVal,yValPred)"
   ]
  },
  {
   "cell_type": "code",
   "execution_count": null,
   "id": "37dcdcd3",
   "metadata": {},
   "outputs": [],
   "source": []
  },
  {
   "cell_type": "code",
   "execution_count": null,
   "id": "916adb62",
   "metadata": {},
   "outputs": [],
   "source": []
  },
  {
   "cell_type": "code",
   "execution_count": null,
   "id": "f1a906e2",
   "metadata": {},
   "outputs": [],
   "source": []
  },
  {
   "cell_type": "code",
   "execution_count": null,
   "id": "3c38782f",
   "metadata": {},
   "outputs": [],
   "source": []
  },
  {
   "cell_type": "code",
   "execution_count": null,
   "id": "64b5bb31",
   "metadata": {},
   "outputs": [],
   "source": []
  },
  {
   "cell_type": "code",
   "execution_count": null,
   "id": "8cee2d9a",
   "metadata": {},
   "outputs": [],
   "source": []
  },
  {
   "cell_type": "code",
   "execution_count": null,
   "id": "0ac9e340",
   "metadata": {},
   "outputs": [],
   "source": []
  },
  {
   "cell_type": "code",
   "execution_count": null,
   "id": "92ca2e1a",
   "metadata": {},
   "outputs": [],
   "source": []
  },
  {
   "cell_type": "code",
   "execution_count": null,
   "id": "421df87e",
   "metadata": {},
   "outputs": [],
   "source": []
  },
  {
   "cell_type": "code",
   "execution_count": null,
   "id": "283b834c",
   "metadata": {},
   "outputs": [],
   "source": []
  },
  {
   "cell_type": "code",
   "execution_count": null,
   "id": "03eef9ca",
   "metadata": {},
   "outputs": [],
   "source": []
  },
  {
   "cell_type": "code",
   "execution_count": null,
   "id": "f3e4cc78",
   "metadata": {},
   "outputs": [],
   "source": []
  },
  {
   "cell_type": "code",
   "execution_count": null,
   "id": "bc1642cc",
   "metadata": {},
   "outputs": [],
   "source": []
  },
  {
   "cell_type": "code",
   "execution_count": null,
   "id": "6d9d6c29",
   "metadata": {},
   "outputs": [],
   "source": [
    "# creating preprocesors\n",
    "from sklearn.preprocessing import OneHotEncoder, StandardScaler\n",
    "catPreprocessor = OneHotEncoder(handle_unknown=\"ignore\")\n",
    "numPreprocessor = StandardScaler()\n",
    "\n",
    "# Transforming the data\n",
    "from sklearn.compose import ColumnTransformer\n",
    "preprocessor = ColumnTransformer([\n",
    "    ('one-hot-encoder', catPreprocessor, categoricalCols)],remainder=\"passthrough\")\n",
    "    #('one-hot-encoder', catPreprocessor, categoricalCols),\n",
    "    #('standard_scaler', numPreprocessor, numericalCols)])\n",
    "    \n"
   ]
  },
  {
   "cell_type": "code",
   "execution_count": null,
   "id": "7de27dc9",
   "metadata": {},
   "outputs": [],
   "source": [
    "# creating the model\n",
    "from sklearn.pipeline import make_pipeline\n",
    "model = make_pipeline(preprocessor, DecisionTreeClassifier(max_depth=10, max_leaf_nodes=30))\n",
    "\n",
    "model.fit(dfTrain, yTrain)"
   ]
  }
 ],
 "metadata": {
  "kernelspec": {
   "display_name": "Python 3 (ipykernel)",
   "language": "python",
   "name": "python3"
  },
  "language_info": {
   "codemirror_mode": {
    "name": "ipython",
    "version": 3
   },
   "file_extension": ".py",
   "mimetype": "text/x-python",
   "name": "python",
   "nbconvert_exporter": "python",
   "pygments_lexer": "ipython3",
   "version": "3.9.7"
  }
 },
 "nbformat": 4,
 "nbformat_minor": 5
}
