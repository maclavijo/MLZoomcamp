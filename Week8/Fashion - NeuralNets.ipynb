{
 "cells": [
  {
   "cell_type": "code",
   "execution_count": 9,
   "id": "8d264ce5",
   "metadata": {},
   "outputs": [],
   "source": [
    "import pandas as pd\n",
    "import numpy as np\n",
    "import matplotlib.pyplot as plt\n",
    "\n",
    "import tensorflow as tf\n",
    "from tensorflow import keras\n",
    "from keras_preprocessing.image import load_img\n",
    "from keras_preprocessing.image import ImageDataGenerator\n",
    "from keras.applications.xception import Xception, preprocess_input, decode_predictions"
   ]
  },
  {
   "cell_type": "code",
   "execution_count": 2,
   "id": "dda3e490",
   "metadata": {},
   "outputs": [],
   "source": [
    "path ='./clothing-dataset-small/train/t-shirt/'\n",
    "file = '1cab0eb2-60f6-4d0a-a380-9a07b834d855.jpg'\n",
    "fullName = f'{path}/{file}'"
   ]
  },
  {
   "cell_type": "code",
   "execution_count": null,
   "id": "ab3211c9",
   "metadata": {},
   "outputs": [],
   "source": [
    "img = load_img(fullName, target_size=(299,299))\n",
    "\n",
    "print(img)\n",
    "\n",
    "x = np.array(img)\n",
    "x.shape"
   ]
  },
  {
   "cell_type": "code",
   "execution_count": null,
   "id": "c57db46d",
   "metadata": {},
   "outputs": [],
   "source": [
    "model = Xception(weights='imagenet', input_shape=(299,299,3))\n",
    "\n",
    "X = np.array([x])\n",
    "X = preprocess_input(X)\n",
    "\n",
    "pred = model.predict(X)\n",
    "\n",
    "decode_predictions(pred)"
   ]
  },
  {
   "cell_type": "markdown",
   "id": "def27684",
   "metadata": {},
   "source": [
    "### CNN - Transfer Learning"
   ]
  },
  {
   "cell_type": "code",
   "execution_count": null,
   "id": "3fac4a92",
   "metadata": {},
   "outputs": [],
   "source": [
    "train_gen = ImageDataGenerator(preprocessing_function=preprocess_input)\n",
    "\n",
    "train_ds = train_gen.flow_from_directory('./clothing-dataset-small/train/',\n",
    "                                         target_size=(150,150),                              \n",
    "                                         batch_size=32)\n",
    "\n",
    "val_gen = ImageDataGenerator(preprocessing_function=preprocess_input)\n",
    "\n",
    "val_ds = val_gen.flow_from_directory('./clothing-dataset-small/validation/',\n",
    "                                     target_size=(150,150),\n",
    "                                     batch_size=32,\n",
    "                                     shuffle=False\n",
    "                                    )"
   ]
  },
  {
   "cell_type": "code",
   "execution_count": null,
   "id": "c7bd5a7d",
   "metadata": {},
   "outputs": [],
   "source": [
    "print(train_ds.class_indices)\n",
    "\n",
    "X, y = next(train_ds)\n",
    "\n",
    "print(y[:5])"
   ]
  },
  {
   "cell_type": "code",
   "execution_count": null,
   "id": "fe2affc4",
   "metadata": {},
   "outputs": [],
   "source": [
    "base_model = tf.keras.applications.Xception(weights='imagenet',\n",
    "                                            include_top=False,\n",
    "                                            input_shape=(150, 150, 3))\n",
    "\n",
    "base_model.trainable = False\n",
    "\n",
    "inputs = keras.Input(shape=(150,150,3))\n",
    "\n",
    "base = base_model(inputs, training=False)\n",
    "\n",
    "vectors = keras.layers.GlobalAveragePooling2D()(base)\n",
    "\n",
    "outputs = keras.layers.Dense(10)(vectors)\n",
    "\n",
    "model = keras.Model(inputs, outputs)"
   ]
  },
  {
   "cell_type": "code",
   "execution_count": null,
   "id": "33a3a167",
   "metadata": {},
   "outputs": [],
   "source": [
    "preds = model.predict(X)"
   ]
  },
  {
   "cell_type": "code",
   "execution_count": null,
   "id": "14526b0a",
   "metadata": {},
   "outputs": [],
   "source": [
    "preds.shape"
   ]
  },
  {
   "cell_type": "code",
   "execution_count": null,
   "id": "71ce1bb8",
   "metadata": {},
   "outputs": [],
   "source": [
    "learning_rate = 0.01\n",
    "optimizer = keras.optimizers.Adam(learning_rate=learning_rate)\n",
    "loss = keras.losses.CategoricalCrossentropy(from_logits=True)\n",
    "model.compile(optimizer=optimizer, loss=loss, metrics=['accuracy'])"
   ]
  },
  {
   "cell_type": "code",
   "execution_count": null,
   "id": "bf8cdea1",
   "metadata": {},
   "outputs": [],
   "source": [
    "%%time\n",
    "history = model.fit(train_ds, epochs=10, validation_data=val_ds)"
   ]
  },
  {
   "cell_type": "code",
   "execution_count": null,
   "id": "c1b4f38b",
   "metadata": {},
   "outputs": [],
   "source": [
    "plt.plot(history.history['accuracy'], label='Train')\n",
    "plt.plot(history.history['val_accuracy'], label='Validation')\n",
    "plt.xticks(np.arange(10))\n",
    "plt.legend()\n",
    "plt.show()"
   ]
  },
  {
   "cell_type": "code",
   "execution_count": null,
   "id": "620fdbb4",
   "metadata": {},
   "outputs": [],
   "source": [
    "history.history"
   ]
  },
  {
   "cell_type": "markdown",
   "id": "24b6e4e3",
   "metadata": {},
   "source": [
    "### Adjusting the learning rate"
   ]
  },
  {
   "cell_type": "code",
   "execution_count": null,
   "id": "cddb38f0",
   "metadata": {},
   "outputs": [],
   "source": [
    "def make_model(learning_rate = 0.01):\n",
    "    \n",
    "    base_model = tf.keras.applications.Xception(weights='imagenet',\n",
    "                                            include_top=False,\n",
    "                                            input_shape=(150, 150, 3))\n",
    "\n",
    "    base_model.trainable = False\n",
    "\n",
    "    #########################################################\n",
    "\n",
    "    inputs = keras.Input(shape=(150,150,3))\n",
    "    base = base_model(inputs, training=False)\n",
    "    vectors = keras.layers.GlobalAveragePooling2D()(base)\n",
    "    outputs = keras.layers.Dense(10)(vectors)\n",
    "    model = keras.Model(inputs, outputs)\n",
    "    \n",
    "    #########################################################\n",
    "    \n",
    "    optimizer = keras.optimizers.Adam(learning_rate=learning_rate)\n",
    "    loss = keras.losses.CategoricalCrossentropy(from_logits=True)\n",
    "    model.compile(optimizer=optimizer, loss=loss, metrics=['accuracy'])\n",
    "    \n",
    "    return model"
   ]
  },
  {
   "cell_type": "code",
   "execution_count": null,
   "id": "31082ff5",
   "metadata": {
    "scrolled": true
   },
   "outputs": [],
   "source": [
    "%%time\n",
    "scores = {}\n",
    "lrs = [0.0001, 0.001, 0.01, 0.1]\n",
    "\n",
    "for lr in lrs:\n",
    "    print(lr)\n",
    "    model = make_model(learning_rate=lr)\n",
    "    history = model.fit(train_ds, epochs=10, validation_data=val_ds)\n",
    "    scores[lr] = history.history\n",
    "    print('\\n\\n')"
   ]
  },
  {
   "cell_type": "code",
   "execution_count": null,
   "id": "3cc8493d",
   "metadata": {},
   "outputs": [],
   "source": [
    "for lr , hist in scores.items():\n",
    "    plt.plot(hist['val_accuracy'], label=lr)\n",
    "    \n",
    "plt.xticks(np.arange(10))    \n",
    "plt.legend()"
   ]
  },
  {
   "cell_type": "code",
   "execution_count": null,
   "id": "a7e52689",
   "metadata": {},
   "outputs": [],
   "source": [
    "model.save_weights('model_v1.h5', save_format='h5')"
   ]
  },
  {
   "cell_type": "markdown",
   "id": "df591ff9",
   "metadata": {},
   "source": [
    "### Checkpointintg"
   ]
  },
  {
   "cell_type": "code",
   "execution_count": null,
   "id": "942275af",
   "metadata": {},
   "outputs": [],
   "source": [
    "checkpoint = keras.callbacks.ModelCheckpoint('xception_v1_{epoch:02d}_{val_accuracy:.3f}.h5',\n",
    "                                             save_best_only=True,\n",
    "                                             monitor='val_accuracy',\n",
    "                                             mode='max')"
   ]
  },
  {
   "cell_type": "code",
   "execution_count": null,
   "id": "67c4baa6",
   "metadata": {},
   "outputs": [],
   "source": [
    "lr = 0.01\n",
    "print(lr)\n",
    "model = make_model(learning_rate=lr)\n",
    "history = model.fit(train_ds, epochs=10, validation_data=val_ds, callbacks=checkpoint)"
   ]
  },
  {
   "cell_type": "code",
   "execution_count": null,
   "id": "c7677b5a",
   "metadata": {},
   "outputs": [],
   "source": [
    "def make_modelv2(learning_rate = 0.001, size_inner=100):\n",
    "    \n",
    "    base_model = tf.keras.applications.Xception(weights='imagenet',\n",
    "                                            include_top=False,\n",
    "                                            input_shape=(150, 150, 3))\n",
    "\n",
    "    base_model.trainable = False\n",
    "\n",
    "    #########################################################\n",
    "\n",
    "    inputs = keras.Input(shape=(150,150,3))\n",
    "    base = base_model(inputs, training=False)\n",
    "    vectors = keras.layers.GlobalAveragePooling2D()(base)\n",
    "    \n",
    "    inner = keras.layers.Dense(size_inner, activation='relu')(vectors)\n",
    "    \n",
    "    outputs = keras.layers.Dense(10)(inner)\n",
    "    model = keras.Model(inputs, outputs)\n",
    "    \n",
    "    #########################################################\n",
    "    \n",
    "    optimizer = keras.optimizers.Adam(learning_rate=learning_rate)\n",
    "    loss = keras.losses.CategoricalCrossentropy(from_logits=True)\n",
    "    model.compile(optimizer=optimizer, loss=loss, metrics=['accuracy'])\n",
    "    \n",
    "    return model"
   ]
  },
  {
   "cell_type": "code",
   "execution_count": null,
   "id": "ebc77838",
   "metadata": {},
   "outputs": [],
   "source": [
    "tf.debugging.set_log_device_placement(True)\n",
    "\n",
    "scores = {}\n",
    "lr = 0.001\n",
    "\n",
    "#with tf.device('/GPU:0'):\n",
    "\n",
    "for size in [16, 32]:\n",
    "    print(size)\n",
    "    model = make_modelv2(learning_rate=lr, size_inner=size)\n",
    "    history = model.fit(train_ds, epochs=10, validation_data=val_ds)\n",
    "    scores[size] = history.history\n",
    "    print('\\n\\n')"
   ]
  },
  {
   "cell_type": "code",
   "execution_count": null,
   "id": "3e5b4b21",
   "metadata": {},
   "outputs": [],
   "source": [
    "for size , hist in scores.items():\n",
    "    plt.plot(hist['val_accuracy'], label=('val=%s' % size))\n",
    "    \n",
    "plt.xticks(np.arange(10))    \n",
    "_ = plt.legend()"
   ]
  },
  {
   "cell_type": "code",
   "execution_count": null,
   "id": "d5cb2c9e",
   "metadata": {},
   "outputs": [],
   "source": [
    "def make_modelv3(learning_rate = 0.001, size_inner=100, droprate=0.0):\n",
    "    \n",
    "    base_model = tf.keras.applications.Xception(weights='imagenet',\n",
    "                                            include_top=False,\n",
    "                                            input_shape=(150, 150, 3))\n",
    "\n",
    "    base_model.trainable = False\n",
    "\n",
    "    #########################################################\n",
    "\n",
    "    inputs = keras.Input(shape=(150,150,3))\n",
    "    base = base_model(inputs, training=False)\n",
    "    vectors = keras.layers.GlobalAveragePooling2D()(base)\n",
    "    \n",
    "    inner = keras.layers.Dense(size_inner, activation='relu')(vectors)\n",
    "    drop = keras.layers.Dropout(droprate)(inner)\n",
    "    \n",
    "    outputs = keras.layers.Dense(10)(drop)\n",
    "    model = keras.Model(inputs, outputs)\n",
    "    \n",
    "    #########################################################\n",
    "    \n",
    "    optimizer = keras.optimizers.Adam(learning_rate=learning_rate)\n",
    "    loss = keras.losses.CategoricalCrossentropy(from_logits=True)\n",
    "    model.compile(optimizer=optimizer, loss=loss, metrics=['accuracy'])\n",
    "    \n",
    "    return model"
   ]
  },
  {
   "cell_type": "code",
   "execution_count": null,
   "id": "731ed14c",
   "metadata": {
    "scrolled": true
   },
   "outputs": [],
   "source": [
    "scores = {}\n",
    "lr = 0.001\n",
    "size = 32\n",
    "\n",
    "for droprate in [0.0, 0.2, 0.4]:\n",
    "    print(droprate)\n",
    "    model = make_modelv2(learning_rate=lr, size_inner=size)\n",
    "    history = model.fit(train_ds, epochs=20, validation_data=val_ds)\n",
    "    scores[droprate] = history.history\n",
    "    print('\\n\\n')"
   ]
  },
  {
   "cell_type": "code",
   "execution_count": null,
   "id": "7c80e9d1",
   "metadata": {},
   "outputs": [],
   "source": [
    "for droprate , hist in scores.items():\n",
    "    plt.plot(hist['val_accuracy'], label=('DropRate=%s' % droprate))\n",
    "    \n",
    "plt.xticks(np.arange(20))    \n",
    "_ = plt.legend()"
   ]
  },
  {
   "cell_type": "code",
   "execution_count": null,
   "id": "60581468",
   "metadata": {},
   "outputs": [],
   "source": [
    "fig, ax = plt.subplots(figsize=(5, 5))\n",
    "\n",
    "ax = plt.plot(scores[0.2]['val_accuracy'], label='Val')\n",
    "ax = plt.plot(scores[0.2]['accuracy'], label='Train')\n",
    "    \n",
    "    \n",
    "#fig.tight_layout()\n",
    "plt.show()       \n"
   ]
  },
  {
   "cell_type": "markdown",
   "id": "2dd2bc49",
   "metadata": {},
   "source": [
    "### Data Augmentation"
   ]
  },
  {
   "cell_type": "code",
   "execution_count": null,
   "id": "d691b10c",
   "metadata": {},
   "outputs": [],
   "source": [
    "train_gen = ImageDataGenerator(preprocessing_function=preprocess_input,\n",
    "                               shear_range=10,\n",
    "                               zoom_range=0.1,\n",
    "                               vertical_flip=True)\n",
    "\n",
    "train_ds = train_gen.flow_from_directory('./clothing-dataset-small/train/',\n",
    "                              target_size=(150,150),\n",
    "                              batch_size=32)\n",
    "\n",
    "val_gen = ImageDataGenerator(preprocessing_function=preprocess_input)\n",
    "\n",
    "val_ds = val_gen.flow_from_directory('./clothing-dataset-small/validation/',\n",
    "                                     target_size=(150,150),\n",
    "                                     batch_size=32,\n",
    "                                     shuffle=False\n",
    "                                    )"
   ]
  },
  {
   "cell_type": "code",
   "execution_count": null,
   "id": "7dd89621",
   "metadata": {},
   "outputs": [],
   "source": [
    "lr = 0.001\n",
    "size = 32\n",
    "dr = 0.2\n",
    "\n",
    "model = make_modelv3(learning_rate=lr, size_inner=size, droprate=dr)\n",
    "history = model.fit(train_ds, epochs=30, validation_data=val_ds)"
   ]
  },
  {
   "cell_type": "code",
   "execution_count": null,
   "id": "b57d9c39",
   "metadata": {},
   "outputs": [],
   "source": [
    "fig, ax = plt.subplots(figsize=(5, 5))\n",
    "\n",
    "ax = plt.plot(history.history['val_accuracy'], label='Val')\n",
    "ax = plt.plot(history.history['accuracy'], label='Train')\n",
    "    \n",
    "plt.show()       \n"
   ]
  },
  {
   "cell_type": "code",
   "execution_count": null,
   "id": "725d8a4a",
   "metadata": {},
   "outputs": [],
   "source": [
    "history.history"
   ]
  },
  {
   "cell_type": "code",
   "execution_count": null,
   "id": "c8bc6c40",
   "metadata": {},
   "outputs": [],
   "source": [
    "img2 = load_img('clothing-dataset-small/test/shoes/20209905-0830-4a6d-a1cf-7382051f8f18.jpg', target_size=(150,150))\n",
    "\n",
    "x = np.array(img2)\n",
    "X = np.array([x])\n",
    "X.shape\n",
    "\n",
    "X = preprocess_input(X)\n",
    "\n",
    "pred = model.predict(X)\n",
    "\n",
    "values = ['dress', 'hat', 'longsleeve',  'outwear', 'pants', 'shirt', 'shoes', 'shorts', 'skirt', 't-shirt']\n",
    "\n",
    "list(zip(values, pred[0]))"
   ]
  },
  {
   "cell_type": "code",
   "execution_count": null,
   "id": "8bd1fc5d",
   "metadata": {},
   "outputs": [],
   "source": [
    "img2"
   ]
  },
  {
   "cell_type": "markdown",
   "id": "ed7d5c2f",
   "metadata": {},
   "source": [
    "#### Another way to do it - Practice"
   ]
  },
  {
   "cell_type": "code",
   "execution_count": 3,
   "id": "8412c1ed",
   "metadata": {},
   "outputs": [],
   "source": [
    "import pandas as pd\n",
    "import numpy as np\n",
    "import matplotlib.pyplot as plt\n",
    "import tensorflow as tf\n",
    "from tensorflow import keras\n",
    "from keras_preprocessing.image import load_img, ImageDataGenerator\n",
    "from keras.applications.xception import Xception, preprocess_input, decode_predictions\n",
    "from keras.applications.inception_v3 import InceptionV3,preprocess_input\n",
    "from tensorflow.keras import layers, models\n",
    "from tensorflow.keras.optimizers import Adam"
   ]
  },
  {
   "cell_type": "code",
   "execution_count": 5,
   "id": "41a1b314",
   "metadata": {},
   "outputs": [],
   "source": [
    "base_model = tf.keras.applications.Xception(weights='imagenet',\n",
    "                                            include_top=False,\n",
    "                                            input_shape=(300, 300, 3))\n",
    "\n",
    "#base_model = InceptionV3(include_top=False,\n",
    "#                         input_shape=(150, 150, 3),\n",
    "#                        weights = 'imagenet')\n",
    "#\n",
    "base_model.trainable = False\n",
    "\n",
    "base_model.summary()"
   ]
  },
  {
   "cell_type": "code",
   "execution_count": 7,
   "id": "9edef35c",
   "metadata": {},
   "outputs": [],
   "source": [
    "path ='./clothing-dataset-small/train/t-shirt/'\n",
    "file = '1cab0eb2-60f6-4d0a-a380-9a07b834d855.jpg'\n",
    "fullName = f'{path}/{file}'\n",
    "\n",
    "#train_gen = ImageDataGenerator(preprocessing_function=preprocess_input,\n",
    "                               #rotation_range=30,\n",
    "                               #shear_range=0.2,\n",
    "                               #zoom_range=0.2,\n",
    "                               #horizontal_flip=True,\n",
    "                               #width_shift_range=0.2,\n",
    "                               #height_shift_range=0.2\n",
    "#                              )\n",
    "train_gen = ImageDataGenerator(preprocessing_function=preprocess_input,\n",
    "                               \n",
    "                               shear_range=0.2,\n",
    "                               zoom_range=0.2,\n",
    "                               horizontal_flip=True\n",
    "                              )\n",
    "#rescale=1/255.)\n",
    "\n",
    "train_ds = train_gen.flow_from_directory('./clothing-dataset-small/train/',\n",
    "                                         target_size=(300,300),                              \n",
    "                                         batch_size=20)\n",
    "\n",
    "#val_gen = ImageDataGenerator(preprocessing_function=preprocess_input)\n",
    "val_gen = ImageDataGenerator(preprocessing_function=preprocess_input)#rescale=1/255.)\n",
    "\n",
    "val_ds = val_gen.flow_from_directory('./clothing-dataset-small/validation/',\n",
    "                                     target_size=(300,300),\n",
    "                                     batch_size=20)"
   ]
  },
  {
   "cell_type": "code",
   "execution_count": 11,
   "id": "4fdd1751",
   "metadata": {},
   "outputs": [],
   "source": [
    "inputs = keras.Input(shape=(300,300,3))\n",
    "base = base_model(inputs, training=False)\n",
    "\n",
    "#last_layer_out = base_model.get_layer('mixed7')\n",
    "#last_layer_out = base_model.get_layer('add_70')\n",
    "#base = last_layer_out.output\n",
    "#x = layers.Flatten()(base_model.output)\n",
    "vectors = keras.layers.GlobalAveragePooling2D()(base)\n",
    "\n",
    "#x = layers.Dense(16, activation='relu')(x)\n",
    "inner = keras.layers.Dense(128, activation='relu')(vectors)\n",
    "drop = keras.layers.Dropout(0.2)(inner)\n",
    "outputs = keras.layers.Dense(10)(drop)\n",
    "#model = keras.Model(inputs, outputs)\n",
    "\n",
    "from tensorflow.keras import Model\n",
    "\n",
    "#modelx = Model(base_model.input, x)\n",
    "modelx = Model(inputs, outputs)\n",
    "\n",
    "optimizer = keras.optimizers.Adam(learning_rate=0.001)\n",
    "loss = keras.losses.CategoricalCrossentropy(from_logits=True)\n",
    "\n",
    "modelx.compile(optimizer=optimizer, loss=loss, metrics=['accuracy'])\n"
   ]
  },
  {
   "cell_type": "code",
   "execution_count": 13,
   "id": "316c399f",
   "metadata": {},
   "outputs": [
    {
     "name": "stdout",
     "output_type": "stream",
     "text": [
      "Epoch 1/15\n",
      "50/50 [==============================] - 23s 456ms/step - loss: 0.6901 - accuracy: 0.7650 - val_loss: 0.4976 - val_accuracy: 0.8328\n",
      "Epoch 2/15\n",
      "50/50 [==============================] - 21s 412ms/step - loss: 0.5296 - accuracy: 0.8067 - val_loss: 0.4266 - val_accuracy: 0.8475\n",
      "Epoch 3/15\n",
      "50/50 [==============================] - 20s 403ms/step - loss: 0.4784 - accuracy: 0.8400 - val_loss: 0.4036 - val_accuracy: 0.8563\n",
      "Epoch 4/15\n",
      "50/50 [==============================] - 21s 428ms/step - loss: 0.4341 - accuracy: 0.8550 - val_loss: 0.4176 - val_accuracy: 0.8534\n",
      "Epoch 5/15\n",
      "50/50 [==============================] - 20s 408ms/step - loss: 0.3851 - accuracy: 0.8660 - val_loss: 0.4229 - val_accuracy: 0.8563\n",
      "Epoch 6/15\n",
      "50/50 [==============================] - 20s 404ms/step - loss: 0.4069 - accuracy: 0.8530 - val_loss: 0.4079 - val_accuracy: 0.8710\n",
      "Epoch 7/15\n",
      "18/50 [=========>....................] - ETA: 12s - loss: 0.3357 - accuracy: 0.8806"
     ]
    },
    {
     "ename": "KeyboardInterrupt",
     "evalue": "",
     "output_type": "error",
     "traceback": [
      "\u001b[1;31m---------------------------------------------------------------------------\u001b[0m",
      "\u001b[1;31mKeyboardInterrupt\u001b[0m                         Traceback (most recent call last)",
      "Input \u001b[1;32mIn [13]\u001b[0m, in \u001b[0;36m<cell line: 1>\u001b[1;34m()\u001b[0m\n\u001b[1;32m----> 1\u001b[0m history \u001b[38;5;241m=\u001b[39m \u001b[43mmodelx\u001b[49m\u001b[38;5;241;43m.\u001b[39;49m\u001b[43mfit\u001b[49m\u001b[43m(\u001b[49m\u001b[43mtrain_ds\u001b[49m\u001b[43m,\u001b[49m\n\u001b[0;32m      2\u001b[0m \u001b[43m                     \u001b[49m\u001b[43mvalidation_data\u001b[49m\u001b[38;5;241;43m=\u001b[39;49m\u001b[43mval_ds\u001b[49m\u001b[43m,\u001b[49m\n\u001b[0;32m      3\u001b[0m \u001b[43m                     \u001b[49m\u001b[43msteps_per_epoch\u001b[49m\u001b[38;5;241;43m=\u001b[39;49m\u001b[38;5;241;43m50\u001b[39;49m\u001b[43m,\u001b[49m\n\u001b[0;32m      4\u001b[0m \u001b[43m                     \u001b[49m\u001b[43mepochs\u001b[49m\u001b[38;5;241;43m=\u001b[39;49m\u001b[38;5;241;43m15\u001b[39;49m\u001b[43m,\u001b[49m\n\u001b[0;32m      5\u001b[0m \u001b[43m                     \u001b[49m\u001b[38;5;66;43;03m#validation_steps=5,\u001b[39;49;00m\n\u001b[0;32m      6\u001b[0m \u001b[43m                     \u001b[49m\u001b[38;5;66;43;03m#verbose=2\u001b[39;49;00m\n\u001b[0;32m      7\u001b[0m \u001b[43m                    \u001b[49m\u001b[43m)\u001b[49m\n",
      "File \u001b[1;32m~\\anaconda3\\envs\\tf-gpu\\lib\\site-packages\\keras\\engine\\training.py:1184\u001b[0m, in \u001b[0;36mModel.fit\u001b[1;34m(self, x, y, batch_size, epochs, verbose, callbacks, validation_split, validation_data, shuffle, class_weight, sample_weight, initial_epoch, steps_per_epoch, validation_steps, validation_batch_size, validation_freq, max_queue_size, workers, use_multiprocessing)\u001b[0m\n\u001b[0;32m   1177\u001b[0m \u001b[38;5;28;01mwith\u001b[39;00m tf\u001b[38;5;241m.\u001b[39mprofiler\u001b[38;5;241m.\u001b[39mexperimental\u001b[38;5;241m.\u001b[39mTrace(\n\u001b[0;32m   1178\u001b[0m     \u001b[38;5;124m'\u001b[39m\u001b[38;5;124mtrain\u001b[39m\u001b[38;5;124m'\u001b[39m,\n\u001b[0;32m   1179\u001b[0m     epoch_num\u001b[38;5;241m=\u001b[39mepoch,\n\u001b[0;32m   1180\u001b[0m     step_num\u001b[38;5;241m=\u001b[39mstep,\n\u001b[0;32m   1181\u001b[0m     batch_size\u001b[38;5;241m=\u001b[39mbatch_size,\n\u001b[0;32m   1182\u001b[0m     _r\u001b[38;5;241m=\u001b[39m\u001b[38;5;241m1\u001b[39m):\n\u001b[0;32m   1183\u001b[0m   callbacks\u001b[38;5;241m.\u001b[39mon_train_batch_begin(step)\n\u001b[1;32m-> 1184\u001b[0m   tmp_logs \u001b[38;5;241m=\u001b[39m \u001b[38;5;28;43mself\u001b[39;49m\u001b[38;5;241;43m.\u001b[39;49m\u001b[43mtrain_function\u001b[49m\u001b[43m(\u001b[49m\u001b[43miterator\u001b[49m\u001b[43m)\u001b[49m\n\u001b[0;32m   1185\u001b[0m   \u001b[38;5;28;01mif\u001b[39;00m data_handler\u001b[38;5;241m.\u001b[39mshould_sync:\n\u001b[0;32m   1186\u001b[0m     context\u001b[38;5;241m.\u001b[39masync_wait()\n",
      "File \u001b[1;32m~\\anaconda3\\envs\\tf-gpu\\lib\\site-packages\\tensorflow\\python\\eager\\def_function.py:885\u001b[0m, in \u001b[0;36mFunction.__call__\u001b[1;34m(self, *args, **kwds)\u001b[0m\n\u001b[0;32m    882\u001b[0m compiler \u001b[38;5;241m=\u001b[39m \u001b[38;5;124m\"\u001b[39m\u001b[38;5;124mxla\u001b[39m\u001b[38;5;124m\"\u001b[39m \u001b[38;5;28;01mif\u001b[39;00m \u001b[38;5;28mself\u001b[39m\u001b[38;5;241m.\u001b[39m_jit_compile \u001b[38;5;28;01melse\u001b[39;00m \u001b[38;5;124m\"\u001b[39m\u001b[38;5;124mnonXla\u001b[39m\u001b[38;5;124m\"\u001b[39m\n\u001b[0;32m    884\u001b[0m \u001b[38;5;28;01mwith\u001b[39;00m OptionalXlaContext(\u001b[38;5;28mself\u001b[39m\u001b[38;5;241m.\u001b[39m_jit_compile):\n\u001b[1;32m--> 885\u001b[0m   result \u001b[38;5;241m=\u001b[39m \u001b[38;5;28mself\u001b[39m\u001b[38;5;241m.\u001b[39m_call(\u001b[38;5;241m*\u001b[39margs, \u001b[38;5;241m*\u001b[39m\u001b[38;5;241m*\u001b[39mkwds)\n\u001b[0;32m    887\u001b[0m new_tracing_count \u001b[38;5;241m=\u001b[39m \u001b[38;5;28mself\u001b[39m\u001b[38;5;241m.\u001b[39mexperimental_get_tracing_count()\n\u001b[0;32m    888\u001b[0m without_tracing \u001b[38;5;241m=\u001b[39m (tracing_count \u001b[38;5;241m==\u001b[39m new_tracing_count)\n",
      "File \u001b[1;32m~\\anaconda3\\envs\\tf-gpu\\lib\\site-packages\\tensorflow\\python\\eager\\def_function.py:917\u001b[0m, in \u001b[0;36mFunction._call\u001b[1;34m(self, *args, **kwds)\u001b[0m\n\u001b[0;32m    914\u001b[0m   \u001b[38;5;28mself\u001b[39m\u001b[38;5;241m.\u001b[39m_lock\u001b[38;5;241m.\u001b[39mrelease()\n\u001b[0;32m    915\u001b[0m   \u001b[38;5;66;03m# In this case we have created variables on the first call, so we run the\u001b[39;00m\n\u001b[0;32m    916\u001b[0m   \u001b[38;5;66;03m# defunned version which is guaranteed to never create variables.\u001b[39;00m\n\u001b[1;32m--> 917\u001b[0m   \u001b[38;5;28;01mreturn\u001b[39;00m \u001b[38;5;28mself\u001b[39m\u001b[38;5;241m.\u001b[39m_stateless_fn(\u001b[38;5;241m*\u001b[39margs, \u001b[38;5;241m*\u001b[39m\u001b[38;5;241m*\u001b[39mkwds)  \u001b[38;5;66;03m# pylint: disable=not-callable\u001b[39;00m\n\u001b[0;32m    918\u001b[0m \u001b[38;5;28;01melif\u001b[39;00m \u001b[38;5;28mself\u001b[39m\u001b[38;5;241m.\u001b[39m_stateful_fn \u001b[38;5;129;01mis\u001b[39;00m \u001b[38;5;129;01mnot\u001b[39;00m \u001b[38;5;28;01mNone\u001b[39;00m:\n\u001b[0;32m    919\u001b[0m   \u001b[38;5;66;03m# Release the lock early so that multiple threads can perform the call\u001b[39;00m\n\u001b[0;32m    920\u001b[0m   \u001b[38;5;66;03m# in parallel.\u001b[39;00m\n\u001b[0;32m    921\u001b[0m   \u001b[38;5;28mself\u001b[39m\u001b[38;5;241m.\u001b[39m_lock\u001b[38;5;241m.\u001b[39mrelease()\n",
      "File \u001b[1;32m~\\anaconda3\\envs\\tf-gpu\\lib\\site-packages\\tensorflow\\python\\eager\\function.py:3039\u001b[0m, in \u001b[0;36mFunction.__call__\u001b[1;34m(self, *args, **kwargs)\u001b[0m\n\u001b[0;32m   3036\u001b[0m \u001b[38;5;28;01mwith\u001b[39;00m \u001b[38;5;28mself\u001b[39m\u001b[38;5;241m.\u001b[39m_lock:\n\u001b[0;32m   3037\u001b[0m   (graph_function,\n\u001b[0;32m   3038\u001b[0m    filtered_flat_args) \u001b[38;5;241m=\u001b[39m \u001b[38;5;28mself\u001b[39m\u001b[38;5;241m.\u001b[39m_maybe_define_function(args, kwargs)\n\u001b[1;32m-> 3039\u001b[0m \u001b[38;5;28;01mreturn\u001b[39;00m \u001b[43mgraph_function\u001b[49m\u001b[38;5;241;43m.\u001b[39;49m\u001b[43m_call_flat\u001b[49m\u001b[43m(\u001b[49m\n\u001b[0;32m   3040\u001b[0m \u001b[43m    \u001b[49m\u001b[43mfiltered_flat_args\u001b[49m\u001b[43m,\u001b[49m\u001b[43m \u001b[49m\u001b[43mcaptured_inputs\u001b[49m\u001b[38;5;241;43m=\u001b[39;49m\u001b[43mgraph_function\u001b[49m\u001b[38;5;241;43m.\u001b[39;49m\u001b[43mcaptured_inputs\u001b[49m\u001b[43m)\u001b[49m\n",
      "File \u001b[1;32m~\\anaconda3\\envs\\tf-gpu\\lib\\site-packages\\tensorflow\\python\\eager\\function.py:1963\u001b[0m, in \u001b[0;36mConcreteFunction._call_flat\u001b[1;34m(self, args, captured_inputs, cancellation_manager)\u001b[0m\n\u001b[0;32m   1959\u001b[0m possible_gradient_type \u001b[38;5;241m=\u001b[39m gradients_util\u001b[38;5;241m.\u001b[39mPossibleTapeGradientTypes(args)\n\u001b[0;32m   1960\u001b[0m \u001b[38;5;28;01mif\u001b[39;00m (possible_gradient_type \u001b[38;5;241m==\u001b[39m gradients_util\u001b[38;5;241m.\u001b[39mPOSSIBLE_GRADIENT_TYPES_NONE\n\u001b[0;32m   1961\u001b[0m     \u001b[38;5;129;01mand\u001b[39;00m executing_eagerly):\n\u001b[0;32m   1962\u001b[0m   \u001b[38;5;66;03m# No tape is watching; skip to running the function.\u001b[39;00m\n\u001b[1;32m-> 1963\u001b[0m   \u001b[38;5;28;01mreturn\u001b[39;00m \u001b[38;5;28mself\u001b[39m\u001b[38;5;241m.\u001b[39m_build_call_outputs(\u001b[38;5;28;43mself\u001b[39;49m\u001b[38;5;241;43m.\u001b[39;49m\u001b[43m_inference_function\u001b[49m\u001b[38;5;241;43m.\u001b[39;49m\u001b[43mcall\u001b[49m\u001b[43m(\u001b[49m\n\u001b[0;32m   1964\u001b[0m \u001b[43m      \u001b[49m\u001b[43mctx\u001b[49m\u001b[43m,\u001b[49m\u001b[43m \u001b[49m\u001b[43margs\u001b[49m\u001b[43m,\u001b[49m\u001b[43m \u001b[49m\u001b[43mcancellation_manager\u001b[49m\u001b[38;5;241;43m=\u001b[39;49m\u001b[43mcancellation_manager\u001b[49m\u001b[43m)\u001b[49m)\n\u001b[0;32m   1965\u001b[0m forward_backward \u001b[38;5;241m=\u001b[39m \u001b[38;5;28mself\u001b[39m\u001b[38;5;241m.\u001b[39m_select_forward_and_backward_functions(\n\u001b[0;32m   1966\u001b[0m     args,\n\u001b[0;32m   1967\u001b[0m     possible_gradient_type,\n\u001b[0;32m   1968\u001b[0m     executing_eagerly)\n\u001b[0;32m   1969\u001b[0m forward_function, args_with_tangents \u001b[38;5;241m=\u001b[39m forward_backward\u001b[38;5;241m.\u001b[39mforward()\n",
      "File \u001b[1;32m~\\anaconda3\\envs\\tf-gpu\\lib\\site-packages\\tensorflow\\python\\eager\\function.py:591\u001b[0m, in \u001b[0;36m_EagerDefinedFunction.call\u001b[1;34m(self, ctx, args, cancellation_manager)\u001b[0m\n\u001b[0;32m    589\u001b[0m \u001b[38;5;28;01mwith\u001b[39;00m _InterpolateFunctionError(\u001b[38;5;28mself\u001b[39m):\n\u001b[0;32m    590\u001b[0m   \u001b[38;5;28;01mif\u001b[39;00m cancellation_manager \u001b[38;5;129;01mis\u001b[39;00m \u001b[38;5;28;01mNone\u001b[39;00m:\n\u001b[1;32m--> 591\u001b[0m     outputs \u001b[38;5;241m=\u001b[39m \u001b[43mexecute\u001b[49m\u001b[38;5;241;43m.\u001b[39;49m\u001b[43mexecute\u001b[49m\u001b[43m(\u001b[49m\n\u001b[0;32m    592\u001b[0m \u001b[43m        \u001b[49m\u001b[38;5;28;43mstr\u001b[39;49m\u001b[43m(\u001b[49m\u001b[38;5;28;43mself\u001b[39;49m\u001b[38;5;241;43m.\u001b[39;49m\u001b[43msignature\u001b[49m\u001b[38;5;241;43m.\u001b[39;49m\u001b[43mname\u001b[49m\u001b[43m)\u001b[49m\u001b[43m,\u001b[49m\n\u001b[0;32m    593\u001b[0m \u001b[43m        \u001b[49m\u001b[43mnum_outputs\u001b[49m\u001b[38;5;241;43m=\u001b[39;49m\u001b[38;5;28;43mself\u001b[39;49m\u001b[38;5;241;43m.\u001b[39;49m\u001b[43m_num_outputs\u001b[49m\u001b[43m,\u001b[49m\n\u001b[0;32m    594\u001b[0m \u001b[43m        \u001b[49m\u001b[43minputs\u001b[49m\u001b[38;5;241;43m=\u001b[39;49m\u001b[43margs\u001b[49m\u001b[43m,\u001b[49m\n\u001b[0;32m    595\u001b[0m \u001b[43m        \u001b[49m\u001b[43mattrs\u001b[49m\u001b[38;5;241;43m=\u001b[39;49m\u001b[43mattrs\u001b[49m\u001b[43m,\u001b[49m\n\u001b[0;32m    596\u001b[0m \u001b[43m        \u001b[49m\u001b[43mctx\u001b[49m\u001b[38;5;241;43m=\u001b[39;49m\u001b[43mctx\u001b[49m\u001b[43m)\u001b[49m\n\u001b[0;32m    597\u001b[0m   \u001b[38;5;28;01melse\u001b[39;00m:\n\u001b[0;32m    598\u001b[0m     outputs \u001b[38;5;241m=\u001b[39m execute\u001b[38;5;241m.\u001b[39mexecute_with_cancellation(\n\u001b[0;32m    599\u001b[0m         \u001b[38;5;28mstr\u001b[39m(\u001b[38;5;28mself\u001b[39m\u001b[38;5;241m.\u001b[39msignature\u001b[38;5;241m.\u001b[39mname),\n\u001b[0;32m    600\u001b[0m         num_outputs\u001b[38;5;241m=\u001b[39m\u001b[38;5;28mself\u001b[39m\u001b[38;5;241m.\u001b[39m_num_outputs,\n\u001b[1;32m   (...)\u001b[0m\n\u001b[0;32m    603\u001b[0m         ctx\u001b[38;5;241m=\u001b[39mctx,\n\u001b[0;32m    604\u001b[0m         cancellation_manager\u001b[38;5;241m=\u001b[39mcancellation_manager)\n",
      "File \u001b[1;32m~\\anaconda3\\envs\\tf-gpu\\lib\\site-packages\\tensorflow\\python\\eager\\execute.py:59\u001b[0m, in \u001b[0;36mquick_execute\u001b[1;34m(op_name, num_outputs, inputs, attrs, ctx, name)\u001b[0m\n\u001b[0;32m     57\u001b[0m \u001b[38;5;28;01mtry\u001b[39;00m:\n\u001b[0;32m     58\u001b[0m   ctx\u001b[38;5;241m.\u001b[39mensure_initialized()\n\u001b[1;32m---> 59\u001b[0m   tensors \u001b[38;5;241m=\u001b[39m \u001b[43mpywrap_tfe\u001b[49m\u001b[38;5;241;43m.\u001b[39;49m\u001b[43mTFE_Py_Execute\u001b[49m\u001b[43m(\u001b[49m\u001b[43mctx\u001b[49m\u001b[38;5;241;43m.\u001b[39;49m\u001b[43m_handle\u001b[49m\u001b[43m,\u001b[49m\u001b[43m \u001b[49m\u001b[43mdevice_name\u001b[49m\u001b[43m,\u001b[49m\u001b[43m \u001b[49m\u001b[43mop_name\u001b[49m\u001b[43m,\u001b[49m\n\u001b[0;32m     60\u001b[0m \u001b[43m                                      \u001b[49m\u001b[43minputs\u001b[49m\u001b[43m,\u001b[49m\u001b[43m \u001b[49m\u001b[43mattrs\u001b[49m\u001b[43m,\u001b[49m\u001b[43m \u001b[49m\u001b[43mnum_outputs\u001b[49m\u001b[43m)\u001b[49m\n\u001b[0;32m     61\u001b[0m \u001b[38;5;28;01mexcept\u001b[39;00m core\u001b[38;5;241m.\u001b[39m_NotOkStatusException \u001b[38;5;28;01mas\u001b[39;00m e:\n\u001b[0;32m     62\u001b[0m   \u001b[38;5;28;01mif\u001b[39;00m name \u001b[38;5;129;01mis\u001b[39;00m \u001b[38;5;129;01mnot\u001b[39;00m \u001b[38;5;28;01mNone\u001b[39;00m:\n",
      "\u001b[1;31mKeyboardInterrupt\u001b[0m: "
     ]
    }
   ],
   "source": [
    "history = modelx.fit(train_ds,\n",
    "                     validation_data=val_ds,\n",
    "                     steps_per_epoch=50,\n",
    "                     epochs=15,\n",
    "                     #validation_steps=5,\n",
    "                     #verbose=2\n",
    "                    )"
   ]
  },
  {
   "cell_type": "code",
   "execution_count": null,
   "id": "ed07ed7c",
   "metadata": {},
   "outputs": [],
   "source": [
    "fig, ax = plt.subplots(figsize=(5, 5))\n",
    "\n",
    "ax = plt.plot(history.history['val_accuracy'], label='Val')\n",
    "ax = plt.plot(history.history['accuracy'], label='Train')\n",
    "    \n",
    "plt.show()    "
   ]
  },
  {
   "cell_type": "code",
   "execution_count": null,
   "id": "837bd43d",
   "metadata": {},
   "outputs": [],
   "source": [
    "img2 = load_img('clothing-dataset-small/test/shoes/20209905-0830-4a6d-a1cf-7382051f8f18.jpg', target_size=(300,300))\n",
    "\n",
    "x = np.array(img2)\n",
    "X = np.array([x])\n",
    "X = preprocess_input(X)\n",
    "\n",
    "pred = modelx.predict(X)\n",
    "\n",
    "values = ['dress', 'hat', 'longsleeve',  'outwear', 'pants', 'shirt', 'shoes', 'shorts', 'skirt', 't-shirt']\n",
    "\n",
    "list(zip(values, pred[0]))"
   ]
  },
  {
   "cell_type": "code",
   "execution_count": null,
   "id": "a672f67f",
   "metadata": {},
   "outputs": [],
   "source": [
    "img2"
   ]
  },
  {
   "cell_type": "code",
   "execution_count": null,
   "id": "2eba3d53",
   "metadata": {},
   "outputs": [],
   "source": [
    "img3 = load_img('clothing-dataset-small/test/shirt/4758e641-df13-4b3a-93a2-a9e232561c95.jpg', target_size=(300,300))\n",
    "\n",
    "x = np.array(img2)\n",
    "X = np.array([x])\n",
    "X = preprocess_input(X)\n",
    "\n",
    "pred = modelx.predict(X)\n",
    "\n",
    "values = ['dress', 'hat', 'longsleeve',  'outwear', 'pants', 'shirt', 'shoes', 'shorts', 'skirt', 't-shirt']\n",
    "\n",
    "list(zip(values, pred[0]))"
   ]
  },
  {
   "cell_type": "code",
   "execution_count": null,
   "id": "f636d050",
   "metadata": {},
   "outputs": [],
   "source": [
    "img3"
   ]
  },
  {
   "cell_type": "code",
   "execution_count": null,
   "id": "aea16465",
   "metadata": {},
   "outputs": [],
   "source": [
    "img2 = load_img('clothing-dataset-small/test/hat/31ae3916-c352-45fe-9866-a8947fc74991.jpg', target_size=(300,300))\n",
    "\n",
    "x = np.array(img2)\n",
    "X = np.array([x])\n",
    "X = preprocess_input(X)\n",
    "\n",
    "pred = modelx.predict(X)\n",
    "\n",
    "values = ['dress', 'hat', 'longsleeve',  'outwear', 'pants', 'shirt', 'shoes', 'shorts', 'skirt', 't-shirt']\n",
    "\n",
    "list(zip(values, pred[0]))"
   ]
  },
  {
   "cell_type": "code",
   "execution_count": null,
   "id": "674975fb",
   "metadata": {},
   "outputs": [],
   "source": [
    "img2"
   ]
  },
  {
   "cell_type": "code",
   "execution_count": null,
   "id": "6e21b4b2",
   "metadata": {},
   "outputs": [],
   "source": [
    "from keras.preprocessing.image import img_to_array\n",
    "from numpy import expand_dims\n",
    "Image = img_to_array(img3)\n",
    "\n",
    "New = expand_dims(Image, 0)\n",
    "ImgGen = ImageDataGenerator(vertical_flip=True)\n",
    "\n",
    "\n",
    "results = ImgGen.flow(New, batch_size=1)\n",
    "\n",
    "batch = results.next()\n",
    "image = batch[0].astype('uint8')\n",
    "plt.imshow(image)\n",
    "plt.show()"
   ]
  },
  {
   "cell_type": "code",
   "execution_count": null,
   "id": "9bf25bd9",
   "metadata": {},
   "outputs": [],
   "source": []
  }
 ],
 "metadata": {
  "kernelspec": {
   "display_name": "Python 3 (ipykernel)",
   "language": "python",
   "name": "python3"
  },
  "language_info": {
   "codemirror_mode": {
    "name": "ipython",
    "version": 3
   },
   "file_extension": ".py",
   "mimetype": "text/x-python",
   "name": "python",
   "nbconvert_exporter": "python",
   "pygments_lexer": "ipython3",
   "version": "3.9.13"
  }
 },
 "nbformat": 4,
 "nbformat_minor": 5
}
