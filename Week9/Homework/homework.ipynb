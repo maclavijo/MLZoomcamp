{
 "cells": [
  {
   "cell_type": "code",
   "execution_count": 18,
   "id": "c0c00571",
   "metadata": {},
   "outputs": [],
   "source": [
    "import tensorflow.lite as tflite\n",
    "from keras.models import load_model\n",
    "import numpy as np"
   ]
  },
  {
   "cell_type": "code",
   "execution_count": 5,
   "id": "006d09dc",
   "metadata": {},
   "outputs": [],
   "source": [
    " model = load_model('dino_dragon_10_0.899.h5')"
   ]
  },
  {
   "cell_type": "code",
   "execution_count": 8,
   "id": "c2b0dfc1",
   "metadata": {},
   "outputs": [
    {
     "name": "stdout",
     "output_type": "stream",
     "text": [
      "INFO:tensorflow:Assets written to: C:\\Users\\clavi\\AppData\\Local\\Temp\\tmpuj_m82hi\\assets\n"
     ]
    },
    {
     "name": "stderr",
     "output_type": "stream",
     "text": [
      "INFO:tensorflow:Assets written to: C:\\Users\\clavi\\AppData\\Local\\Temp\\tmpuj_m82hi\\assets\n"
     ]
    }
   ],
   "source": [
    "converter = tflite.TFLiteConverter.from_keras_model(model)\n",
    "tfLiteModel = converter.convert()\n",
    "\n",
    "with open('dinodragon_model.tflite', 'wb') as f:\n",
    "    f.write(tfLiteModel)"
   ]
  },
  {
   "cell_type": "code",
   "execution_count": 9,
   "id": "0cff3b0e",
   "metadata": {},
   "outputs": [
    {
     "name": "stdout",
     "output_type": "stream",
     "text": [
      " Volume in drive E is Data\n",
      " Volume Serial Number is 168D-18A7\n",
      "\n",
      " Directory of E:\\Coding\\MLZoomcamp\\Week9\\Homework\n",
      "\n",
      "11/26/2022  03:08 PM    <DIR>          .\n",
      "11/26/2022  03:06 PM    <DIR>          ..\n",
      "11/26/2022  03:07 PM    <DIR>          .ipynb_checkpoints\n",
      "11/26/2022  03:08 PM        44,865,888 dinodragon_model.tflite\n",
      "11/26/2022  03:06 PM        89,759,168 dino_dragon_10_0.899.h5\n",
      "11/26/2022  03:07 PM                72 homework.ipynb\n",
      "               3 File(s)    134,625,128 bytes\n",
      "               3 Dir(s)  937,225,326,592 bytes free\n"
     ]
    }
   ],
   "source": [
    "!dir"
   ]
  },
  {
   "cell_type": "code",
   "execution_count": 10,
   "id": "ab322a4a",
   "metadata": {},
   "outputs": [],
   "source": [
    "interpreter = tflite.Interpreter(model_path='dinodragon_model.tflite')\n",
    "interpreter.allocate_tensors()\n",
    "\n",
    "inputIdx = interpreter.get_input_details()[0]['index']\n",
    "\n",
    "outputIdx = interpreter.get_output_details()[0]['index']"
   ]
  },
  {
   "cell_type": "code",
   "execution_count": 11,
   "id": "1f772595",
   "metadata": {},
   "outputs": [
    {
     "data": {
      "text/plain": [
       "13"
      ]
     },
     "execution_count": 11,
     "metadata": {},
     "output_type": "execute_result"
    }
   ],
   "source": [
    "outputIdx"
   ]
  },
  {
   "cell_type": "code",
   "execution_count": 13,
   "id": "eb18fb19",
   "metadata": {},
   "outputs": [],
   "source": [
    "from io import BytesIO\n",
    "from urllib import request\n",
    "\n",
    "from PIL import Image\n",
    "\n",
    "def download_image(url):\n",
    "    with request.urlopen(url) as resp:\n",
    "        buffer = resp.read()\n",
    "    stream = BytesIO(buffer)\n",
    "    img = Image.open(stream)\n",
    "    return img\n",
    "\n",
    "\n",
    "def prepare_image(img, target_size):\n",
    "    if img.mode != 'RGB':\n",
    "        img = img.convert('RGB')\n",
    "    img = img.resize(target_size, Image.NEAREST)\n",
    "    return img"
   ]
  },
  {
   "cell_type": "code",
   "execution_count": 14,
   "id": "3f355ed4",
   "metadata": {},
   "outputs": [],
   "source": [
    "img = '1280px-Smaug_par_David_Demaret.jpg'"
   ]
  },
  {
   "cell_type": "code",
   "execution_count": 15,
   "id": "4f1b6b7c",
   "metadata": {},
   "outputs": [],
   "source": [
    "dnl = download_image('https://upload.wikimedia.org/wikipedia/commons/thumb/d/df/Smaug_par_David_Demaret.jpg/1280px-Smaug_par_David_Demaret.jpg')"
   ]
  },
  {
   "cell_type": "code",
   "execution_count": 16,
   "id": "622edac7",
   "metadata": {},
   "outputs": [
    {
     "name": "stderr",
     "output_type": "stream",
     "text": [
      "C:\\Users\\clavi\\AppData\\Local\\Temp\\ipykernel_26412\\2487457277.py:17: DeprecationWarning: NEAREST is deprecated and will be removed in Pillow 10 (2023-07-01). Use Resampling.NEAREST or Dither.NONE instead.\n",
      "  img = img.resize(target_size, Image.NEAREST)\n"
     ]
    }
   ],
   "source": [
    "dnl = prepare_image(dnl, (150,150))"
   ]
  },
  {
   "cell_type": "code",
   "execution_count": 32,
   "id": "18c2a2ce",
   "metadata": {},
   "outputs": [],
   "source": [
    "def preprocess_input(x):\n",
    "    x /= 255\n",
    "    return x\n",
    "\n",
    "x = np.array(dnl, dtype='float32')\n",
    "X = np.array([x])\n",
    "X = preprocess_input(X)"
   ]
  },
  {
   "cell_type": "code",
   "execution_count": 33,
   "id": "9f260738",
   "metadata": {},
   "outputs": [
    {
     "data": {
      "text/plain": [
       "(1, 150, 150, 3)"
      ]
     },
     "execution_count": 33,
     "metadata": {},
     "output_type": "execute_result"
    }
   ],
   "source": [
    "X.shape"
   ]
  },
  {
   "cell_type": "code",
   "execution_count": 35,
   "id": "a949d820",
   "metadata": {},
   "outputs": [
    {
     "data": {
      "text/plain": [
       "array([[0.82448506]], dtype=float32)"
      ]
     },
     "execution_count": 35,
     "metadata": {},
     "output_type": "execute_result"
    }
   ],
   "source": [
    "interpreter.set_tensor(inputIdx, X)\n",
    "\n",
    "interpreter.invoke()\n",
    "\n",
    "pred = interpreter.get_tensor(outputIdx)\n",
    "\n",
    "#values = ['dress', 'hat', 'longsleeve',  'outwear', 'pants', 'shirt', 'shoes', 'shorts', 'skirt', 't-shirt']\n",
    "\n",
    "#list(zip(values, pred[0]))\n",
    "pred"
   ]
  },
  {
   "cell_type": "code",
   "execution_count": null,
   "id": "35b33f08",
   "metadata": {},
   "outputs": [],
   "source": []
  },
  {
   "cell_type": "code",
   "execution_count": null,
   "id": "55920ee8",
   "metadata": {},
   "outputs": [],
   "source": []
  },
  {
   "cell_type": "code",
   "execution_count": null,
   "id": "0188dc5a",
   "metadata": {},
   "outputs": [],
   "source": []
  }
 ],
 "metadata": {
  "kernelspec": {
   "display_name": "Python 3 (ipykernel)",
   "language": "python",
   "name": "python3"
  },
  "language_info": {
   "codemirror_mode": {
    "name": "ipython",
    "version": 3
   },
   "file_extension": ".py",
   "mimetype": "text/x-python",
   "name": "python",
   "nbconvert_exporter": "python",
   "pygments_lexer": "ipython3",
   "version": "3.9.15"
  }
 },
 "nbformat": 4,
 "nbformat_minor": 5
}
