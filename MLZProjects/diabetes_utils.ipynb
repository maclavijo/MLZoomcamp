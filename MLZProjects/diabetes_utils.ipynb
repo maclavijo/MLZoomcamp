{
 "cells": [
  {
   "cell_type": "code",
   "execution_count": null,
   "id": "d48f96fa",
   "metadata": {},
   "outputs": [],
   "source": [
    "import warnings\n",
    "warnings.filterwarnings(\"ignore\")\n",
    "\n",
    "from IPython.display import display\n",
    "import pandas as pd\n",
    "import numpy as np\n",
    "import seaborn as sns\n",
    "from IPython.display import display\n",
    "import matplotlib.pyplot as plt\n",
    "\n",
    "from sklearn.model_selection import train_test_split\n",
    "from sklearn.model_selection import RepeatedStratifiedKFold\n",
    "from sklearn.model_selection import cross_validate\n",
    "from sklearn.model_selection import StratifiedKFold\n",
    "from sklearn.model_selection import cross_val_score\n",
    "\n",
    "from sklearn.ensemble import HistGradientBoostingClassifier, AdaBoostClassifier\n",
    "\n",
    "from sklearn.tree import DecisionTreeClassifier, DecisionTreeRegressor\n",
    "from sklearn.linear_model import LogisticRegression\n",
    "from sklearn.pipeline import make_pipeline\n",
    "from sklearn.metrics import roc_auc_score, mean_squared_error\n",
    "from sklearn.metrics import brier_score_loss\n",
    "from sklearn.preprocessing import OneHotEncoder, StandardScaler\n",
    "\n",
    "from sklearn.metrics import confusion_matrix, ConfusionMatrixDisplay, classification_report\n",
    "from imblearn.metrics import classification_report_imbalanced\n",
    "#from imblearn.pipeline import Pipeline\n",
    "from sklearn.pipeline import Pipeline\n",
    "\n",
    "from sklearn.ensemble import RandomForestClassifier\n",
    "\n",
    "import xgboost as xgb\n",
    "from xgboost import XGBClassifier\n",
    "from imblearn.under_sampling import NearMiss"
   ]
  },
  {
   "cell_type": "markdown",
   "id": "7093cf25",
   "metadata": {},
   "source": [
    "### Load binary unbalanced data"
   ]
  },
  {
   "cell_type": "code",
   "execution_count": null,
   "id": "ada4e074",
   "metadata": {},
   "outputs": [],
   "source": [
    "def binaryBalancedData():\n",
    "    file = 'Datasets/diabetes_binary_health_indicators_BRFSS2015.csv'\n",
    "    df = pd.read_csv(file)\n",
    "    \n",
    "    #Drop duplicates\n",
    "    df.drop_duplicates(inplace=True)\n",
    "    \n",
    "    #Change all column names to lower case\n",
    "    df.columns = df.columns.str.lower().str.replace('diabetes_binary','diabetes')\n",
    "\n",
    "    return df\n",
    "\n",
    "def splitDF(df):    \n",
    "    target = df.diabetes\n",
    "    data = df.drop(columns=['diabetes'])\n",
    "    dfTrainFull, dfTest, yTrainFull, yTest = train_test_split(data, target, test_size=0.2, random_state=11)\n",
    "    dfTrain, dfVal, yTrain, yVal = train_test_split(data, target, test_size=0.25, random_state=11)\n",
    "    return dfTrainFull, yTrainFull, dfTrain, yTrain, dfVal, yVal, dfTest, yTest\n"
   ]
  },
  {
   "cell_type": "code",
   "execution_count": null,
   "id": "53f1631a",
   "metadata": {},
   "outputs": [],
   "source": [
    "df = binaryBalancedData()\n",
    "#dfTrainFull, yTrainFull, dfTrain, yTrain, dfVal,yVal, dfTest, yTest = splitDF(df)\n",
    "df.head()"
   ]
  },
  {
   "cell_type": "code",
   "execution_count": null,
   "id": "eeb9acbc",
   "metadata": {},
   "outputs": [],
   "source": [
    "# newdf = df.drop(columns=['nodocbccost', 'fruits', 'anyhealthcare', 'sex', 'veggies', 'smoker', 'menthlth','physhlth'])"
   ]
  },
  {
   "cell_type": "code",
   "execution_count": null,
   "id": "69c1345b",
   "metadata": {},
   "outputs": [],
   "source": [
    "dfTrainFull, yTrainFull, dfTrain, yTrain, dfVal, yVal, dfTest, yTest = splitDF(newdf)"
   ]
  },
  {
   "cell_type": "markdown",
   "id": "61434576",
   "metadata": {},
   "source": [
    "### Preprocessing"
   ]
  },
  {
   "cell_type": "code",
   "execution_count": null,
   "id": "a18645d3",
   "metadata": {},
   "outputs": [],
   "source": [
    "categoricalCols = ['highbp', 'highchol', 'cholcheck','smoker',\n",
    "       'stroke', 'heartdiseaseorattack', 'physactivity', 'fruits', 'veggies',\n",
    "       'hvyalcoholconsump', 'anyhealthcare', 'nodocbccost', 'genhlth','diffwalk', 'sex', 'education']\n",
    "\n",
    "numericalCols = ['bmi', 'menthlth', 'physhlth', 'income']"
   ]
  },
  {
   "cell_type": "code",
   "execution_count": null,
   "id": "cbf2502d",
   "metadata": {},
   "outputs": [],
   "source": [
    "#dfTrain.income = np.log1p(dfTrain.income)"
   ]
  },
  {
   "cell_type": "code",
   "execution_count": null,
   "id": "0f5b826e",
   "metadata": {},
   "outputs": [],
   "source": [
    "# creating preprocesors\n",
    "from sklearn.preprocessing import OneHotEncoder, StandardScaler\n",
    "catPreprocessor = OneHotEncoder(handle_unknown=\"ignore\")\n",
    "numPreprocessor = StandardScaler()\n",
    "\n",
    "# Transforming the data\n",
    "from sklearn.compose import ColumnTransformer\n",
    "preprocessor = ColumnTransformer([\n",
    "    #('one-hot-encoder', catPreprocessor, categoricalCols)],remainder=\"passthrough\")\n",
    "    #('one-hot-encoder', catPreprocessor, categoricalCols),('standard_scaler', numPreprocessor, numericalCols)])\n",
    "    ], remainder=\"passthrough\")\n"
   ]
  },
  {
   "cell_type": "code",
   "execution_count": null,
   "id": "cde62b5b",
   "metadata": {},
   "outputs": [],
   "source": []
  },
  {
   "cell_type": "code",
   "execution_count": null,
   "id": "7b1eab7b",
   "metadata": {},
   "outputs": [],
   "source": []
  },
  {
   "cell_type": "markdown",
   "id": "236118d1",
   "metadata": {},
   "source": [
    "### KNN"
   ]
  },
  {
   "cell_type": "code",
   "execution_count": null,
   "id": "00604d35",
   "metadata": {},
   "outputs": [],
   "source": [
    "from sklearn.neighbors import KNeighborsClassifier"
   ]
  },
  {
   "cell_type": "code",
   "execution_count": null,
   "id": "6753d384",
   "metadata": {},
   "outputs": [],
   "source": [
    "model = KNeighborsClassifier(n_neighbors=3)\n",
    "model.fit(dfTrain, yTrain)"
   ]
  },
  {
   "cell_type": "code",
   "execution_count": null,
   "id": "c4a7ba26",
   "metadata": {},
   "outputs": [],
   "source": [
    "yValPredProba = model.predict_proba(dfVal)[:,1]\n",
    "yValPred = model.predict(dfVal)\n",
    "auc = roc_auc_score(yVal, yValPredProba)\n",
    "print(f'Val AUC: {auc}')\n",
    "\n",
    "yTestpred=model.predict_proba(dfTest)[:,1]\n",
    "print(f'Test AUC: {roc_auc_score(yTest, yTestpred)}')\n",
    "\n",
    "yTrainPredProba = model.predict_proba(dfTrain)[:,1]\n",
    "yTrainPred = model.predict(dfTrain)\n",
    "print(f'Train AUC: {auc}')\n",
    "\n",
    "print(classification_report(yVal, model.predict(dfVal), ))\n",
    "print(classification_report_imbalanced(yVal, model.predict(dfVal)))"
   ]
  },
  {
   "cell_type": "code",
   "execution_count": null,
   "id": "9e1203a1",
   "metadata": {},
   "outputs": [],
   "source": [
    "for p in model.get_params():\n",
    "    print(p)"
   ]
  },
  {
   "cell_type": "code",
   "execution_count": null,
   "id": "7b3e27cf",
   "metadata": {},
   "outputs": [],
   "source": [
    "model = Pipeline([(\"classifier\", KNeighborsClassifier())])\n",
    "param_grid = {\n",
    "    'classifier__n_neighbors': (7,10,12,15) }\n",
    "scoring = {\"AUC\": \"roc_auc\"}#, \"f1_weighted\": \"f1_weighted\"}\n",
    "\n",
    "cv = StratifiedKFold(n_splits=3)\n",
    "model_grid_search = GridSearchCV(model,\n",
    "                                 param_grid=param_grid,\n",
    "                                 #scoring=scoring,\n",
    "                                 #scoring=\"f1_weighted\",\n",
    "                                 scoring=\"roc_auc\",\n",
    "                                 n_jobs=2,\n",
    "                                 cv=cv,\n",
    "                                 return_train_score=True,)\n",
    "                                 #refit=False)\n",
    "model_grid_search.fit(dfTrain, yTrain)"
   ]
  },
  {
   "cell_type": "code",
   "execution_count": null,
   "id": "550f46b2",
   "metadata": {},
   "outputs": [],
   "source": [
    "print(model_grid_search.cv_results_.keys())\n",
    "\n",
    "cv_results = pd.DataFrame(model_grid_search.cv_results_)\n",
    "#cv_results\n",
    "res = cv_results[[\n",
    "    \"param_classifier__n_neighbors\",\n",
    "    \"mean_test_score\",\n",
    "    'std_test_score',\n",
    "    'rank_test_score'\n",
    "    #\"mean_train_AUC\", \n",
    "    #\"std_train_AUC\",\n",
    "    #\"rank_test_AUC\",\n",
    "    #\"mean_train_f1_weighted\",\n",
    "    #\"std_train_f1_weighted\",\n",
    "    #\"rank_test_f1_weighted\"\n",
    "]]\n",
    "\n",
    "res.sort_values(by=['rank_test_score']).head(10)"
   ]
  },
  {
   "cell_type": "code",
   "execution_count": null,
   "id": "769ec431",
   "metadata": {},
   "outputs": [],
   "source": [
    "display = PrecisionRecallDisplay.from_estimator(\n",
    "    model_grid_search, dfVal, yVal, name=\"Validation\", \n",
    ")\n",
    "_ = display.ax_.set_title(\"2-class Precision-Recall curve\")"
   ]
  },
  {
   "cell_type": "code",
   "execution_count": null,
   "id": "6fbd8cac",
   "metadata": {},
   "outputs": [],
   "source": [
    "model = Pipeline([(\"classifier\", KNeighborsClassifier())])\n",
    "param_grid = {\n",
    "    'classifier__n_neighbors': (3, 5,7,10,12) }\n",
    "scoring = {\"AUC\": \"roc_auc\", \"f1_weighted\": \"f1_weighted\"}\n",
    "\n",
    "cv = StratifiedKFold(n_splits=3)\n",
    "model_grid_search = GridSearchCV(model,\n",
    "                                 param_grid=param_grid,\n",
    "                                 scoring=scoring,\n",
    "                                 #scoring=\"f1_weighted\",\n",
    "                                 #scoring=\"roc_auc\",\n",
    "                                 n_jobs=2,\n",
    "                                 cv=cv,\n",
    "                                 return_train_score=True,\n",
    "                                 refit=False)\n",
    "model_grid_search.fit(dfTrainFull, yTrainFull)"
   ]
  },
  {
   "cell_type": "code",
   "execution_count": null,
   "id": "987bc693",
   "metadata": {},
   "outputs": [],
   "source": [
    "print(model_grid_search.cv_results_.keys())\n",
    "\n",
    "cv_results = pd.DataFrame(model_grid_search.cv_results_)\n",
    "#cv_results\n",
    "res = cv_results[[\n",
    "    \"param_classifier__n_neighbors\",\n",
    "    #\"mean_test_score\",\n",
    "    #'std_test_score',\n",
    "    #'rank_test_score'\n",
    "    \"mean_train_AUC\", \n",
    "    \"std_train_AUC\",\n",
    "    \"rank_test_AUC\",\n",
    "    \"mean_train_f1_weighted\",\n",
    "    \"std_train_f1_weighted\",\n",
    "    \"rank_test_f1_weighted\"\n",
    "]]\n",
    "\n",
    "res.sort_values(by=['rank_test_AUC','rank_test_f1_weighted']).head(10)"
   ]
  },
  {
   "cell_type": "code",
   "execution_count": null,
   "id": "de7f65bc",
   "metadata": {},
   "outputs": [],
   "source": [
    "model = Pipeline([(\"classifier\", KNeighborsClassifier(n_neighbors=7))])\n",
    "scoring = {\"AUC\": \"roc_auc\", \"f1_weighted\": \"f1_weighted\"}\n",
    "cv = StratifiedKFold(n_splits=3)\n",
    "#model_grid_search = cr(model,\n",
    "#                                  param_grid=param_grid,\n",
    "#                                 scoring=scoring,\n",
    "#                                 #scoring=\"f1_weighted\",\n",
    "#                                 #scoring=\"roc_auc\",\n",
    "#                                 n_jobs=2,\n",
    "#                                 cv=cv,\n",
    "#                                 return_train_score=True,\n",
    "#                                 refit=False)\n",
    "#model_grid_search.fit(dfTrainFull, yTrainFull)\n",
    "\n",
    "\n",
    "cv = StratifiedKFold(n_splits=3)\n",
    "cv_results = cross_validate(model, dfTrainFull, yTrainFull,cv=cv,\n",
    "                            scoring=['roc_auc', 'average_precision',\n",
    "                                     'recall','f1_weighted'])\n",
    "cv_results = pd.DataFrame(cv_results)\n",
    "cv_results"
   ]
  },
  {
   "cell_type": "code",
   "execution_count": null,
   "id": "650511cd",
   "metadata": {},
   "outputs": [],
   "source": [
    "scoresMean = cv_results.mean(axis=0)     \n",
    "scoresStd = cv_results.std(axis=0)    \n",
    "for k, i,j in list(zip(cv_results.columns.values,scoresMean, scoresStd)):\n",
    "    print(f'{k} - {i} +/- {j}')"
   ]
  },
  {
   "cell_type": "code",
   "execution_count": null,
   "id": "23be78c2",
   "metadata": {},
   "outputs": [],
   "source": [
    "\n",
    "\n",
    "fig, ax = plt.subplots(figsize=(6, 4))\n",
    "fpr, tpr, _ = roc_curve(yVal.values, yValPredProba)\n",
    "roc_display1 = RocCurveDisplay(fpr=fpr, tpr=tpr).plot(ax=ax)\n",
    "#fpr2, tpr2, _ = roc_curve(yVal, targetRand)\n",
    "#roc_display2 = RocCurveDisplay(fpr=fpr2, tpr=tpr2).plot(ax=ax)\n",
    "\n",
    "plt.show()"
   ]
  },
  {
   "cell_type": "code",
   "execution_count": null,
   "id": "29795eed",
   "metadata": {},
   "outputs": [],
   "source": []
  },
  {
   "cell_type": "code",
   "execution_count": null,
   "id": "a2e8ffa4",
   "metadata": {},
   "outputs": [],
   "source": []
  },
  {
   "cell_type": "code",
   "execution_count": null,
   "id": "5bca1c5d",
   "metadata": {},
   "outputs": [],
   "source": []
  },
  {
   "cell_type": "code",
   "execution_count": null,
   "id": "e0744fa0",
   "metadata": {},
   "outputs": [],
   "source": [
    "from sklearn.model_selection import cross_validate\n",
    "from sklearn.tree import DecisionTreeRegressor\n",
    "\n",
    "tree = DecisionTreeClassifier(random_state=0)\n",
    "cv_results = cross_validate(tree, dfTrainFull, yTrainFull, n_jobs=2)\n",
    "scores = cv_results[\"test_score\"]\n",
    "\n",
    "print(f\"R2 score obtained by cross-validation: \"\n",
    "      f\"{scores.mean():.3f} ± {scores.std():.3f}\")"
   ]
  },
  {
   "cell_type": "code",
   "execution_count": null,
   "id": "df69b0d6",
   "metadata": {},
   "outputs": [],
   "source": [
    "from sklearn.ensemble import BaggingRegressor\n",
    "\n",
    "base_estimator = DecisionTreeClassifier(random_state=0, max_depth=7, max_features=9, max_leaf_nodes=20)\n",
    "bagging_regressor = BaggingRegressor(base_estimator=base_estimator, n_estimators=20, random_state=0)\n",
    "\n",
    "cv_results = cross_validate(bagging_regressor, dfTrain, yTrain, n_jobs=-1)\n",
    "scores = cv_results[\"test_score\"]\n",
    "\n",
    "print(f\"R2 score obtained by cross-validation: \"\n",
    "      f\"{scores.mean():.3f} ± {scores.std():.3f}\")"
   ]
  },
  {
   "cell_type": "code",
   "execution_count": null,
   "id": "ae0937c8",
   "metadata": {},
   "outputs": [],
   "source": [
    "from sklearn.model_selection import GridSearchCV\n",
    "from sklearn.tree import DecisionTreeRegressor\n",
    "\n",
    "param_grid = {\n",
    "    \"max_depth\": [5, 8, None],\n",
    "    \"min_samples_split\": [2, 10, 30, 50],\n",
    "    \"min_samples_leaf\": [0.01, 0.05, 0.1, 1]}\n",
    "\n",
    "#cv = StratifiedKFold(n_splits=3)\n",
    "cv = 3\n",
    "\n",
    "tree = GridSearchCV(DecisionTreeClassifier(random_state=0),\n",
    "                    param_grid=param_grid, cv=cv, n_jobs=2)\n",
    "cv_results = cross_validate(tree, dfTrainFull, yTrainFull, n_jobs=-1,\n",
    "                            return_estimator=True)\n",
    "scores = cv_results[\"test_score\"]\n",
    "\n",
    "print(f\"R2 score obtained by cross-validation: \"\n",
    "      f\"{scores.mean():.3f} ± {scores.std():.3f}\")"
   ]
  },
  {
   "cell_type": "code",
   "execution_count": null,
   "id": "8cb08604",
   "metadata": {},
   "outputs": [],
   "source": []
  },
  {
   "cell_type": "code",
   "execution_count": null,
   "id": "120deb78",
   "metadata": {},
   "outputs": [],
   "source": []
  }
 ],
 "metadata": {
  "kernelspec": {
   "display_name": "Python 3 (ipykernel)",
   "language": "python",
   "name": "python3"
  },
  "language_info": {
   "codemirror_mode": {
    "name": "ipython",
    "version": 3
   },
   "file_extension": ".py",
   "mimetype": "text/x-python",
   "name": "python",
   "nbconvert_exporter": "python",
   "pygments_lexer": "ipython3",
   "version": "3.9.7"
  }
 },
 "nbformat": 4,
 "nbformat_minor": 5
}
