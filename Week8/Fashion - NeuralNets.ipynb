{
 "cells": [
  {
   "cell_type": "code",
   "execution_count": null,
   "id": "8d264ce5",
   "metadata": {},
   "outputs": [],
   "source": [
    "import pandas as pd\n",
    "import numpy as np\n",
    "import matplotlib.pyplot as plt\n",
    "\n",
    "import tensorflow as tf\n",
    "from tensorflow import keras\n",
    "from keras_preprocessing.image import load_img"
   ]
  },
  {
   "cell_type": "code",
   "execution_count": null,
   "id": "dda3e490",
   "metadata": {},
   "outputs": [],
   "source": [
    "path ='./clothing-dataset-small/train/t-shirt/'\n",
    "file = '1cab0eb2-60f6-4d0a-a380-9a07b834d855.jpg'\n",
    "fullName = f'{path}/{file}'"
   ]
  },
  {
   "cell_type": "code",
   "execution_count": null,
   "id": "ab3211c9",
   "metadata": {},
   "outputs": [],
   "source": [
    "img = load_img(fullName, target_size=(299,299))"
   ]
  },
  {
   "cell_type": "code",
   "execution_count": null,
   "id": "e405b68a",
   "metadata": {},
   "outputs": [],
   "source": [
    "print(img)"
   ]
  },
  {
   "cell_type": "code",
   "execution_count": null,
   "id": "233b9d62",
   "metadata": {},
   "outputs": [],
   "source": [
    "x = np.array(img)\n",
    "x.shape"
   ]
  },
  {
   "cell_type": "code",
   "execution_count": null,
   "id": "2de11076",
   "metadata": {},
   "outputs": [],
   "source": [
    "from keras.applications.xception import Xception, preprocess_input, decode_predictions"
   ]
  },
  {
   "cell_type": "code",
   "execution_count": null,
   "id": "c57db46d",
   "metadata": {},
   "outputs": [],
   "source": [
    "model = Xception(weights='imagenet', input_shape=(299,299,3))"
   ]
  },
  {
   "cell_type": "code",
   "execution_count": null,
   "id": "48e06521",
   "metadata": {},
   "outputs": [],
   "source": [
    "X = np.array([x])\n",
    "X = preprocess_input(X)"
   ]
  },
  {
   "cell_type": "code",
   "execution_count": null,
   "id": "1c31c65d",
   "metadata": {},
   "outputs": [],
   "source": [
    "pred = model.predict(X)\n",
    "pred.shape"
   ]
  },
  {
   "cell_type": "code",
   "execution_count": null,
   "id": "c3b23784",
   "metadata": {},
   "outputs": [],
   "source": [
    "decode_predictions(pred)"
   ]
  },
  {
   "cell_type": "markdown",
   "id": "def27684",
   "metadata": {},
   "source": [
    "### CNN - Transfer Learning"
   ]
  },
  {
   "cell_type": "code",
   "execution_count": null,
   "id": "92229c34",
   "metadata": {},
   "outputs": [],
   "source": [
    "from keras_preprocessing.image import ImageDataGenerator"
   ]
  },
  {
   "cell_type": "code",
   "execution_count": null,
   "id": "3fac4a92",
   "metadata": {},
   "outputs": [],
   "source": [
    "train_gen = ImageDataGenerator(preprocessing_function=preprocess_input)\n",
    "\n",
    "train_ds = train_gen.flow_from_directory('./clothing-dataset-small/train/',\n",
    "                                         target_size=(150,150),                              \n",
    "                                         batch_size=32)\n",
    "\n",
    "val_gen = ImageDataGenerator(preprocessing_function=preprocess_input)\n",
    "\n",
    "val_ds = val_gen.flow_from_directory('./clothing-dataset-small/validation/',\n",
    "                                     target_size=(150,150),\n",
    "                                     batch_size=32,\n",
    "                                     shuffle=False\n",
    "                                    )"
   ]
  },
  {
   "cell_type": "code",
   "execution_count": null,
   "id": "c7bd5a7d",
   "metadata": {},
   "outputs": [],
   "source": [
    "train_ds.class_indices"
   ]
  },
  {
   "cell_type": "code",
   "execution_count": null,
   "id": "5d73cd5b",
   "metadata": {},
   "outputs": [],
   "source": [
    "X, y = next(train_ds)"
   ]
  },
  {
   "cell_type": "code",
   "execution_count": null,
   "id": "b3c626de",
   "metadata": {},
   "outputs": [],
   "source": [
    "y[:5]"
   ]
  },
  {
   "cell_type": "code",
   "execution_count": null,
   "id": "fe2affc4",
   "metadata": {},
   "outputs": [],
   "source": [
    "base_model = tf.keras.applications.Xception(weights='imagenet',\n",
    "                                            include_top=False,\n",
    "                                            input_shape=(150, 150, 3))\n",
    "\n",
    "base_model.trainable = False\n",
    "\n",
    "inputs = keras.Input(shape=(150,150,3))\n",
    "\n",
    "base = base_model(inputs, training=False)\n",
    "\n",
    "vectors = keras.layers.GlobalAveragePooling2D()(base)\n",
    "\n",
    "outputs = keras.layers.Dense(10)(vectors)\n",
    "\n",
    "model = keras.Model(inputs, outputs)"
   ]
  },
  {
   "cell_type": "code",
   "execution_count": null,
   "id": "33a3a167",
   "metadata": {},
   "outputs": [],
   "source": [
    "preds = model.predict(X)"
   ]
  },
  {
   "cell_type": "code",
   "execution_count": null,
   "id": "14526b0a",
   "metadata": {},
   "outputs": [],
   "source": [
    "preds.shape"
   ]
  },
  {
   "cell_type": "code",
   "execution_count": null,
   "id": "71ce1bb8",
   "metadata": {},
   "outputs": [],
   "source": [
    "learning_rate = 0.01\n",
    "optimizer = keras.optimizers.Adam(learning_rate=learning_rate)\n",
    "loss = keras.losses.CategoricalCrossentropy(from_logits=True)\n",
    "model.compile(optimizer=optimizer, loss=loss, metrics=['accuracy'])"
   ]
  },
  {
   "cell_type": "code",
   "execution_count": null,
   "id": "bf8cdea1",
   "metadata": {},
   "outputs": [],
   "source": [
    "%%time\n",
    "history = model.fit(train_ds, epochs=10, validation_data=val_ds)"
   ]
  },
  {
   "cell_type": "code",
   "execution_count": null,
   "id": "c1b4f38b",
   "metadata": {},
   "outputs": [],
   "source": [
    "plt.plot(history.history['accuracy'], label='Train')\n",
    "plt.plot(history.history['val_accuracy'], label='Validation')\n",
    "plt.xticks(np.arange(10))\n",
    "plt.legend()\n",
    "plt.show()"
   ]
  },
  {
   "cell_type": "code",
   "execution_count": null,
   "id": "620fdbb4",
   "metadata": {},
   "outputs": [],
   "source": [
    "history.history"
   ]
  },
  {
   "cell_type": "markdown",
   "id": "24b6e4e3",
   "metadata": {},
   "source": [
    "### Adjusting the learning rate"
   ]
  },
  {
   "cell_type": "code",
   "execution_count": null,
   "id": "cddb38f0",
   "metadata": {},
   "outputs": [],
   "source": [
    "def make_model(learning_rate = 0.01):\n",
    "    \n",
    "    base_model = tf.keras.applications.Xception(weights='imagenet',\n",
    "                                            include_top=False,\n",
    "                                            input_shape=(150, 150, 3))\n",
    "\n",
    "    base_model.trainable = False\n",
    "\n",
    "    #########################################################\n",
    "\n",
    "    inputs = keras.Input(shape=(150,150,3))\n",
    "    base = base_model(inputs, training=False)\n",
    "    vectors = keras.layers.GlobalAveragePooling2D()(base)\n",
    "    outputs = keras.layers.Dense(10)(vectors)\n",
    "    model = keras.Model(inputs, outputs)\n",
    "    \n",
    "    #########################################################\n",
    "    \n",
    "    optimizer = keras.optimizers.Adam(learning_rate=learning_rate)\n",
    "    loss = keras.losses.CategoricalCrossentropy(from_logits=True)\n",
    "    model.compile(optimizer=optimizer, loss=loss, metrics=['accuracy'])\n",
    "    \n",
    "    return model"
   ]
  },
  {
   "cell_type": "code",
   "execution_count": null,
   "id": "31082ff5",
   "metadata": {
    "scrolled": true
   },
   "outputs": [],
   "source": [
    "%%time\n",
    "scores = {}\n",
    "lrs = [0.0001, 0.001, 0.01, 0.1]\n",
    "\n",
    "for lr in lrs:\n",
    "    print(lr)\n",
    "    model = make_model(learning_rate=lr)\n",
    "    history = model.fit(train_ds, epochs=10, validation_data=val_ds)\n",
    "    scores[lr] = history.history\n",
    "    print('\\n\\n')"
   ]
  },
  {
   "cell_type": "code",
   "execution_count": null,
   "id": "3cc8493d",
   "metadata": {},
   "outputs": [],
   "source": [
    "for lr , hist in scores.items():\n",
    "    plt.plot(hist['val_accuracy'], label=lr)\n",
    "    \n",
    "plt.xticks(np.arange(10))    \n",
    "plt.legend()"
   ]
  },
  {
   "cell_type": "code",
   "execution_count": null,
   "id": "a7e52689",
   "metadata": {},
   "outputs": [],
   "source": [
    "model.save_weights('model_v1.h5', save_format='h5')"
   ]
  },
  {
   "cell_type": "markdown",
   "id": "df591ff9",
   "metadata": {},
   "source": [
    "### Checkpointintg"
   ]
  },
  {
   "cell_type": "code",
   "execution_count": null,
   "id": "942275af",
   "metadata": {},
   "outputs": [],
   "source": [
    "checkpoint = keras.callbacks.ModelCheckpoint('xception_v1_{epoch:02d}_{val_accuracy:.3f}.h5',\n",
    "                                             save_best_only=True,\n",
    "                                             monitor='val_accuracy',\n",
    "                                             mode='max')"
   ]
  },
  {
   "cell_type": "code",
   "execution_count": null,
   "id": "67c4baa6",
   "metadata": {},
   "outputs": [],
   "source": [
    "lr = 0.01\n",
    "print(lr)\n",
    "model = make_model(learning_rate=lr)\n",
    "history = model.fit(train_ds, epochs=10, validation_data=val_ds, callbacks=checkpoint)"
   ]
  },
  {
   "cell_type": "code",
   "execution_count": null,
   "id": "c7677b5a",
   "metadata": {},
   "outputs": [],
   "source": [
    "def make_modelv2(learning_rate = 0.001, size_inner=100):\n",
    "    \n",
    "    base_model = tf.keras.applications.Xception(weights='imagenet',\n",
    "                                            include_top=False,\n",
    "                                            input_shape=(150, 150, 3))\n",
    "\n",
    "    base_model.trainable = False\n",
    "\n",
    "    #########################################################\n",
    "\n",
    "    inputs = keras.Input(shape=(150,150,3))\n",
    "    base = base_model(inputs, training=False)\n",
    "    vectors = keras.layers.GlobalAveragePooling2D()(base)\n",
    "    \n",
    "    inner = keras.layers.Dense(size_inner, activation='relu')(vectors)\n",
    "    \n",
    "    outputs = keras.layers.Dense(10)(inner)\n",
    "    model = keras.Model(inputs, outputs)\n",
    "    \n",
    "    #########################################################\n",
    "    \n",
    "    optimizer = keras.optimizers.Adam(learning_rate=learning_rate)\n",
    "    loss = keras.losses.CategoricalCrossentropy(from_logits=True)\n",
    "    model.compile(optimizer=optimizer, loss=loss, metrics=['accuracy'])\n",
    "    \n",
    "    return model"
   ]
  },
  {
   "cell_type": "code",
   "execution_count": null,
   "id": "ebc77838",
   "metadata": {},
   "outputs": [],
   "source": [
    "tf.debugging.set_log_device_placement(True)\n",
    "\n",
    "scores = {}\n",
    "lr = 0.001\n",
    "\n",
    "#with tf.device('/GPU:0'):\n",
    "\n",
    "for size in [16, 32]:\n",
    "    print(size)\n",
    "    model = make_modelv2(learning_rate=lr, size_inner=size)\n",
    "    history = model.fit(train_ds, epochs=10, validation_data=val_ds)\n",
    "    scores[size] = history.history\n",
    "    print('\\n\\n')"
   ]
  },
  {
   "cell_type": "code",
   "execution_count": null,
   "id": "3e5b4b21",
   "metadata": {},
   "outputs": [],
   "source": [
    "for size , hist in scores.items():\n",
    "    plt.plot(hist['val_accuracy'], label=('val=%s' % size))\n",
    "    \n",
    "plt.xticks(np.arange(10))    \n",
    "_ = plt.legend()"
   ]
  },
  {
   "cell_type": "code",
   "execution_count": null,
   "id": "d5cb2c9e",
   "metadata": {},
   "outputs": [],
   "source": [
    "def make_modelv3(learning_rate = 0.001, size_inner=100, droprate=0.0):\n",
    "    \n",
    "    base_model = tf.keras.applications.Xception(weights='imagenet',\n",
    "                                            include_top=False,\n",
    "                                            input_shape=(150, 150, 3))\n",
    "\n",
    "    base_model.trainable = False\n",
    "\n",
    "    #########################################################\n",
    "\n",
    "    inputs = keras.Input(shape=(150,150,3))\n",
    "    base = base_model(inputs, training=False)\n",
    "    vectors = keras.layers.GlobalAveragePooling2D()(base)\n",
    "    \n",
    "    inner = keras.layers.Dense(size_inner, activation='relu')(vectors)\n",
    "    drop = keras.layers.Dropout(droprate)(inner)\n",
    "    \n",
    "    outputs = keras.layers.Dense(10)(drop)\n",
    "    model = keras.Model(inputs, outputs)\n",
    "    \n",
    "    #########################################################\n",
    "    \n",
    "    optimizer = keras.optimizers.Adam(learning_rate=learning_rate)\n",
    "    loss = keras.losses.CategoricalCrossentropy(from_logits=True)\n",
    "    model.compile(optimizer=optimizer, loss=loss, metrics=['accuracy'])\n",
    "    \n",
    "    return model"
   ]
  },
  {
   "cell_type": "code",
   "execution_count": null,
   "id": "731ed14c",
   "metadata": {
    "scrolled": true
   },
   "outputs": [],
   "source": [
    "scores = {}\n",
    "lr = 0.001\n",
    "size = 32\n",
    "\n",
    "for droprate in [0.0, 0.2, 0.4]:\n",
    "    print(droprate)\n",
    "    model = make_modelv2(learning_rate=lr, size_inner=size)\n",
    "    history = model.fit(train_ds, epochs=20, validation_data=val_ds)\n",
    "    scores[droprate] = history.history\n",
    "    print('\\n\\n')"
   ]
  },
  {
   "cell_type": "code",
   "execution_count": null,
   "id": "7c80e9d1",
   "metadata": {},
   "outputs": [],
   "source": [
    "for droprate , hist in scores.items():\n",
    "    plt.plot(hist['val_accuracy'], label=('DropRate=%s' % droprate))\n",
    "    \n",
    "plt.xticks(np.arange(20))    \n",
    "_ = plt.legend()"
   ]
  },
  {
   "cell_type": "code",
   "execution_count": null,
   "id": "60581468",
   "metadata": {},
   "outputs": [],
   "source": [
    "fig, ax = plt.subplots(figsize=(5, 5))\n",
    "\n",
    "ax = plt.plot(scores[0.2]['val_accuracy'], label='Val')\n",
    "ax = plt.plot(scores[0.2]['accuracy'], label='Train')\n",
    "    \n",
    "    \n",
    "#fig.tight_layout()\n",
    "plt.show()       \n"
   ]
  },
  {
   "cell_type": "markdown",
   "id": "2dd2bc49",
   "metadata": {},
   "source": [
    "### Data Augmentation"
   ]
  },
  {
   "cell_type": "code",
   "execution_count": null,
   "id": "d691b10c",
   "metadata": {},
   "outputs": [],
   "source": [
    "train_gen = ImageDataGenerator(preprocessing_function=preprocess_input,\n",
    "                               shear_range=10,\n",
    "                               zoom_range=0.1,\n",
    "                               vertical_flip=True)\n",
    "\n",
    "train_ds = train_gen.flow_from_directory('./clothing-dataset-small/train/',\n",
    "                              target_size=(150,150),\n",
    "                              batch_size=32)\n",
    "\n",
    "val_gen = ImageDataGenerator(preprocessing_function=preprocess_input)\n",
    "\n",
    "val_ds = val_gen.flow_from_directory('./clothing-dataset-small/validation/',\n",
    "                                     target_size=(150,150),\n",
    "                                     batch_size=32,\n",
    "                                     shuffle=False\n",
    "                                    )"
   ]
  },
  {
   "cell_type": "code",
   "execution_count": null,
   "id": "7dd89621",
   "metadata": {},
   "outputs": [],
   "source": [
    "lr = 0.001\n",
    "size = 32\n",
    "dr = 0.2\n",
    "\n",
    "model = make_modelv3(learning_rate=lr, size_inner=size, droprate=dr)\n",
    "history = model.fit(train_ds, epochs=30, validation_data=val_ds)"
   ]
  },
  {
   "cell_type": "code",
   "execution_count": null,
   "id": "b57d9c39",
   "metadata": {},
   "outputs": [],
   "source": [
    "fig, ax = plt.subplots(figsize=(5, 5))\n",
    "\n",
    "ax = plt.plot(history.history['val_accuracy'], label='Val')\n",
    "ax = plt.plot(history.history['accuracy'], label='Train')\n",
    "    \n",
    "plt.show()       \n"
   ]
  },
  {
   "cell_type": "code",
   "execution_count": null,
   "id": "725d8a4a",
   "metadata": {},
   "outputs": [],
   "source": [
    "history.history"
   ]
  },
  {
   "cell_type": "code",
   "execution_count": null,
   "id": "c8bc6c40",
   "metadata": {},
   "outputs": [],
   "source": [
    "img2 = load_img('clothing-dataset-small/test/shoes/20209905-0830-4a6d-a1cf-7382051f8f18.jpg', target_size=(150,150))\n",
    "\n",
    "x = np.array(img2)\n",
    "X = np.array([x])\n",
    "X.shape\n",
    "\n",
    "X = preprocess_input(X)\n",
    "\n",
    "pred = model.predict(X)\n",
    "\n",
    "values = ['dress', 'hat', 'longsleeve',  'outwear', 'pants', 'shirt', 'shoes', 'shorts', 'skirt', 't-shirt']\n",
    "\n",
    "list(zip(values, pred[0]))"
   ]
  },
  {
   "cell_type": "code",
   "execution_count": null,
   "id": "8bd1fc5d",
   "metadata": {},
   "outputs": [],
   "source": [
    "img2"
   ]
  },
  {
   "cell_type": "markdown",
   "id": "ed7d5c2f",
   "metadata": {},
   "source": [
    "#### Another way to do it - Practice"
   ]
  },
  {
   "cell_type": "code",
   "execution_count": null,
   "id": "8412c1ed",
   "metadata": {},
   "outputs": [],
   "source": [
    "from tensorflow.keras import layers\n",
    "from tensorflow.keras import models"
   ]
  },
  {
   "cell_type": "code",
   "execution_count": null,
   "id": "d3e34a0a",
   "metadata": {},
   "outputs": [],
   "source": [
    "from keras.applications.xception import Xception, preprocess_input, decode_predictions\n",
    "from keras.applications.inception_v3 import InceptionV3,preprocess_input"
   ]
  },
  {
   "cell_type": "code",
   "execution_count": null,
   "id": "41a1b314",
   "metadata": {},
   "outputs": [],
   "source": [
    "base_model = tf.keras.applications.Xception(weights='imagenet',\n",
    "                                            include_top=False,\n",
    "                                            input_shape=(300, 300, 3))\n",
    "\n",
    "#base_model = InceptionV3(include_top=False,\n",
    "#                         input_shape=(150, 150, 3),\n",
    "#                        weights = 'imagenet')\n",
    "#\n",
    "base_model.trainable = False"
   ]
  },
  {
   "cell_type": "code",
   "execution_count": null,
   "id": "8f9c562c",
   "metadata": {},
   "outputs": [],
   "source": [
    "base_model.summary()"
   ]
  },
  {
   "cell_type": "code",
   "execution_count": null,
   "id": "9edef35c",
   "metadata": {},
   "outputs": [],
   "source": [
    "from tensorflow.keras.optimizers import Adam"
   ]
  },
  {
   "cell_type": "code",
   "execution_count": null,
   "id": "f7e6e7b6",
   "metadata": {},
   "outputs": [],
   "source": [
    "#train_gen = ImageDataGenerator(preprocessing_function=preprocess_input,\n",
    "                               #rotation_range=30,\n",
    "                               #shear_range=0.2,\n",
    "                               #zoom_range=0.2,\n",
    "                               #horizontal_flip=True,\n",
    "                               #width_shift_range=0.2,\n",
    "                               #height_shift_range=0.2\n",
    "#                              )\n",
    "train_gen = ImageDataGenerator(preprocessing_function=preprocess_input,\n",
    "                               \n",
    "                               shear_range=0.2,\n",
    "                               zoom_range=0.2,\n",
    "                               horizontal_flip=True\n",
    "                              )\n",
    "#rescale=1/255.)\n",
    "\n",
    "train_ds = train_gen.flow_from_directory('./clothing-dataset-small/train/',\n",
    "                                         target_size=(300,300),                              \n",
    "                                         batch_size=20)\n",
    "\n",
    "#val_gen = ImageDataGenerator(preprocessing_function=preprocess_input)\n",
    "val_gen = ImageDataGenerator(preprocessing_function=preprocess_input)#rescale=1/255.)\n",
    "\n",
    "val_ds = val_gen.flow_from_directory('./clothing-dataset-small/validation/',\n",
    "                                     target_size=(300,300),\n",
    "                                     batch_size=20)"
   ]
  },
  {
   "cell_type": "code",
   "execution_count": null,
   "id": "4fdd1751",
   "metadata": {},
   "outputs": [],
   "source": [
    "inputs = keras.Input(shape=(300,300,3))\n",
    "base = base_model(inputs, training=False)\n",
    "\n",
    "#last_layer_out = base_model.get_layer('mixed7')\n",
    "#last_layer_out = base_model.get_layer('add_70')\n",
    "#base = last_layer_out.output\n",
    "#x = layers.Flatten()(base_model.output)\n",
    "vectors = keras.layers.GlobalAveragePooling2D()(base)\n",
    "\n",
    "#x = layers.Dense(16, activation='relu')(x)\n",
    "inner = keras.layers.Dense(128, activation='relu')(vectors)\n",
    "drop = keras.layers.Dropout(0.2)(inner)\n",
    "outputs = keras.layers.Dense(10)(drop)\n",
    "#model = keras.Model(inputs, outputs)\n",
    "\n",
    "from tensorflow.keras import Model\n",
    "\n",
    "#modelx = Model(base_model.input, x)\n",
    "modelx = Model(inputs, outputs)\n",
    "\n",
    "optimizer = keras.optimizers.Adam(learning_rate=0.001)\n",
    "loss = keras.losses.CategoricalCrossentropy(from_logits=True)\n",
    "\n",
    "modelx.compile(optimizer=optimizer, loss=loss, metrics=['accuracy'])\n"
   ]
  },
  {
   "cell_type": "code",
   "execution_count": null,
   "id": "316c399f",
   "metadata": {},
   "outputs": [],
   "source": [
    "history = modelx.fit(train_ds,\n",
    "                     validation_data=val_ds,\n",
    "                     steps_per_epoch=50,\n",
    "                     epochs=20,\n",
    "                     #validation_steps=5,\n",
    "                     #verbose=2\n",
    "                    )"
   ]
  },
  {
   "cell_type": "code",
   "execution_count": null,
   "id": "ed07ed7c",
   "metadata": {},
   "outputs": [],
   "source": [
    "fig, ax = plt.subplots(figsize=(5, 5))\n",
    "\n",
    "ax = plt.plot(history.history['val_accuracy'], label='Val')\n",
    "ax = plt.plot(history.history['accuracy'], label='Train')\n",
    "    \n",
    "plt.show()    "
   ]
  },
  {
   "cell_type": "code",
   "execution_count": null,
   "id": "837bd43d",
   "metadata": {},
   "outputs": [],
   "source": [
    "img2 = load_img('clothing-dataset-small/test/shoes/20209905-0830-4a6d-a1cf-7382051f8f18.jpg', target_size=(300,300))\n",
    "\n",
    "x = np.array(img2)\n",
    "X = np.array([x])\n",
    "X = preprocess_input(X)\n",
    "\n",
    "pred = modelx.predict(X)\n",
    "\n",
    "values = ['dress', 'hat', 'longsleeve',  'outwear', 'pants', 'shirt', 'shoes', 'shorts', 'skirt', 't-shirt']\n",
    "\n",
    "list(zip(values, pred[0]))"
   ]
  },
  {
   "cell_type": "code",
   "execution_count": null,
   "id": "a672f67f",
   "metadata": {},
   "outputs": [],
   "source": [
    "img2"
   ]
  },
  {
   "cell_type": "code",
   "execution_count": null,
   "id": "2eba3d53",
   "metadata": {},
   "outputs": [],
   "source": [
    "img3 = load_img('clothing-dataset-small/test/shirt/4758e641-df13-4b3a-93a2-a9e232561c95.jpg', target_size=(300,300))\n",
    "\n",
    "x = np.array(img2)\n",
    "X = np.array([x])\n",
    "X = preprocess_input(X)\n",
    "\n",
    "pred = modelx.predict(X)\n",
    "\n",
    "values = ['dress', 'hat', 'longsleeve',  'outwear', 'pants', 'shirt', 'shoes', 'shorts', 'skirt', 't-shirt']\n",
    "\n",
    "list(zip(values, pred[0]))"
   ]
  },
  {
   "cell_type": "code",
   "execution_count": null,
   "id": "f636d050",
   "metadata": {},
   "outputs": [],
   "source": [
    "img3"
   ]
  },
  {
   "cell_type": "code",
   "execution_count": null,
   "id": "aea16465",
   "metadata": {},
   "outputs": [],
   "source": [
    "img2 = load_img('clothing-dataset-small/test/hat/31ae3916-c352-45fe-9866-a8947fc74991.jpg', target_size=(300,300))\n",
    "\n",
    "x = np.array(img2)\n",
    "X = np.array([x])\n",
    "X = preprocess_input(X)\n",
    "\n",
    "pred = modelx.predict(X)\n",
    "\n",
    "values = ['dress', 'hat', 'longsleeve',  'outwear', 'pants', 'shirt', 'shoes', 'shorts', 'skirt', 't-shirt']\n",
    "\n",
    "list(zip(values, pred[0]))"
   ]
  },
  {
   "cell_type": "code",
   "execution_count": null,
   "id": "674975fb",
   "metadata": {},
   "outputs": [],
   "source": [
    "img2"
   ]
  },
  {
   "cell_type": "code",
   "execution_count": null,
   "id": "6e21b4b2",
   "metadata": {},
   "outputs": [],
   "source": [
    "from keras.preprocessing.image import img_to_array\n",
    "from numpy import expand_dims\n",
    "Image = img_to_array(img3)\n",
    "\n",
    "New = expand_dims(Image, 0)\n",
    "ImgGen = ImageDataGenerator(vertical_flip=True)\n",
    "\n",
    "\n",
    "results = ImgGen.flow(New, batch_size=1)\n",
    "\n",
    "batch = results.next()\n",
    "image = batch[0].astype('uint8')\n",
    "plt.imshow(image)\n",
    "plt.show()"
   ]
  },
  {
   "cell_type": "code",
   "execution_count": null,
   "id": "9bf25bd9",
   "metadata": {},
   "outputs": [],
   "source": []
  }
 ],
 "metadata": {
  "kernelspec": {
   "display_name": "Python 3 (ipykernel)",
   "language": "python",
   "name": "python3"
  },
  "language_info": {
   "codemirror_mode": {
    "name": "ipython",
    "version": 3
   },
   "file_extension": ".py",
   "mimetype": "text/x-python",
   "name": "python",
   "nbconvert_exporter": "python",
   "pygments_lexer": "ipython3",
   "version": "3.9.13"
  }
 },
 "nbformat": 4,
 "nbformat_minor": 5
}
