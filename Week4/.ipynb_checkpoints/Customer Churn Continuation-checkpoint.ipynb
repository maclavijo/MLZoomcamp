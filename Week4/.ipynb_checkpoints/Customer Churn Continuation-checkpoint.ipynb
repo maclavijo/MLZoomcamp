{
 "cells": [
  {
   "cell_type": "code",
   "execution_count": 1,
   "id": "6c37952d",
   "metadata": {},
   "outputs": [],
   "source": [
    "import pandas as pd\n",
    "import numpy as np\n",
    "import matplotlib.pyplot as plt\n",
    "from IPython.display import display, Latex\n",
    "import seaborn as sns\n",
    "from sklearn import set_config\n",
    "set_config(display='diagram')\n",
    "\n",
    "%matplotlib inline"
   ]
  },
  {
   "cell_type": "markdown",
   "id": "67a89df6",
   "metadata": {},
   "source": [
    "#### Prepare the data"
   ]
  },
  {
   "cell_type": "code",
   "execution_count": 2,
   "id": "f1d9dce9",
   "metadata": {},
   "outputs": [
    {
     "data": {
      "text/html": [
       "<div>\n",
       "<style scoped>\n",
       "    .dataframe tbody tr th:only-of-type {\n",
       "        vertical-align: middle;\n",
       "    }\n",
       "\n",
       "    .dataframe tbody tr th {\n",
       "        vertical-align: top;\n",
       "    }\n",
       "\n",
       "    .dataframe thead th {\n",
       "        text-align: right;\n",
       "    }\n",
       "</style>\n",
       "<table border=\"1\" class=\"dataframe\">\n",
       "  <thead>\n",
       "    <tr style=\"text-align: right;\">\n",
       "      <th></th>\n",
       "      <th>customerid</th>\n",
       "      <th>gender</th>\n",
       "      <th>seniorcitizen</th>\n",
       "      <th>partner</th>\n",
       "      <th>dependents</th>\n",
       "      <th>tenure</th>\n",
       "      <th>phoneservice</th>\n",
       "      <th>multiplelines</th>\n",
       "      <th>internetservice</th>\n",
       "      <th>onlinesecurity</th>\n",
       "      <th>...</th>\n",
       "      <th>deviceprotection</th>\n",
       "      <th>techsupport</th>\n",
       "      <th>streamingtv</th>\n",
       "      <th>streamingmovies</th>\n",
       "      <th>contract</th>\n",
       "      <th>paperlessbilling</th>\n",
       "      <th>paymentmethod</th>\n",
       "      <th>monthlycharges</th>\n",
       "      <th>totalcharges</th>\n",
       "      <th>churn</th>\n",
       "    </tr>\n",
       "  </thead>\n",
       "  <tbody>\n",
       "    <tr>\n",
       "      <th>0</th>\n",
       "      <td>7590-vhveg</td>\n",
       "      <td>female</td>\n",
       "      <td>False</td>\n",
       "      <td>yes</td>\n",
       "      <td>no</td>\n",
       "      <td>1</td>\n",
       "      <td>no</td>\n",
       "      <td>no_phone_service</td>\n",
       "      <td>dsl</td>\n",
       "      <td>no</td>\n",
       "      <td>...</td>\n",
       "      <td>no</td>\n",
       "      <td>no</td>\n",
       "      <td>no</td>\n",
       "      <td>no</td>\n",
       "      <td>month-to-month</td>\n",
       "      <td>yes</td>\n",
       "      <td>electronic_check</td>\n",
       "      <td>29.85</td>\n",
       "      <td>29.85</td>\n",
       "      <td>0</td>\n",
       "    </tr>\n",
       "    <tr>\n",
       "      <th>1</th>\n",
       "      <td>5575-gnvde</td>\n",
       "      <td>male</td>\n",
       "      <td>False</td>\n",
       "      <td>no</td>\n",
       "      <td>no</td>\n",
       "      <td>34</td>\n",
       "      <td>yes</td>\n",
       "      <td>no</td>\n",
       "      <td>dsl</td>\n",
       "      <td>yes</td>\n",
       "      <td>...</td>\n",
       "      <td>yes</td>\n",
       "      <td>no</td>\n",
       "      <td>no</td>\n",
       "      <td>no</td>\n",
       "      <td>one_year</td>\n",
       "      <td>no</td>\n",
       "      <td>mailed_check</td>\n",
       "      <td>56.95</td>\n",
       "      <td>1889.50</td>\n",
       "      <td>0</td>\n",
       "    </tr>\n",
       "    <tr>\n",
       "      <th>2</th>\n",
       "      <td>3668-qpybk</td>\n",
       "      <td>male</td>\n",
       "      <td>False</td>\n",
       "      <td>no</td>\n",
       "      <td>no</td>\n",
       "      <td>2</td>\n",
       "      <td>yes</td>\n",
       "      <td>no</td>\n",
       "      <td>dsl</td>\n",
       "      <td>yes</td>\n",
       "      <td>...</td>\n",
       "      <td>no</td>\n",
       "      <td>no</td>\n",
       "      <td>no</td>\n",
       "      <td>no</td>\n",
       "      <td>month-to-month</td>\n",
       "      <td>yes</td>\n",
       "      <td>mailed_check</td>\n",
       "      <td>53.85</td>\n",
       "      <td>108.15</td>\n",
       "      <td>1</td>\n",
       "    </tr>\n",
       "    <tr>\n",
       "      <th>3</th>\n",
       "      <td>7795-cfocw</td>\n",
       "      <td>male</td>\n",
       "      <td>False</td>\n",
       "      <td>no</td>\n",
       "      <td>no</td>\n",
       "      <td>45</td>\n",
       "      <td>no</td>\n",
       "      <td>no_phone_service</td>\n",
       "      <td>dsl</td>\n",
       "      <td>yes</td>\n",
       "      <td>...</td>\n",
       "      <td>yes</td>\n",
       "      <td>yes</td>\n",
       "      <td>no</td>\n",
       "      <td>no</td>\n",
       "      <td>one_year</td>\n",
       "      <td>no</td>\n",
       "      <td>bank_transfer_(automatic)</td>\n",
       "      <td>42.30</td>\n",
       "      <td>1840.75</td>\n",
       "      <td>0</td>\n",
       "    </tr>\n",
       "    <tr>\n",
       "      <th>4</th>\n",
       "      <td>9237-hqitu</td>\n",
       "      <td>female</td>\n",
       "      <td>False</td>\n",
       "      <td>no</td>\n",
       "      <td>no</td>\n",
       "      <td>2</td>\n",
       "      <td>yes</td>\n",
       "      <td>no</td>\n",
       "      <td>fiber_optic</td>\n",
       "      <td>no</td>\n",
       "      <td>...</td>\n",
       "      <td>no</td>\n",
       "      <td>no</td>\n",
       "      <td>no</td>\n",
       "      <td>no</td>\n",
       "      <td>month-to-month</td>\n",
       "      <td>yes</td>\n",
       "      <td>electronic_check</td>\n",
       "      <td>70.70</td>\n",
       "      <td>151.65</td>\n",
       "      <td>1</td>\n",
       "    </tr>\n",
       "  </tbody>\n",
       "</table>\n",
       "<p>5 rows × 21 columns</p>\n",
       "</div>"
      ],
      "text/plain": [
       "   customerid  gender seniorcitizen partner dependents  tenure phoneservice  \\\n",
       "0  7590-vhveg  female         False     yes         no       1           no   \n",
       "1  5575-gnvde    male         False      no         no      34          yes   \n",
       "2  3668-qpybk    male         False      no         no       2          yes   \n",
       "3  7795-cfocw    male         False      no         no      45           no   \n",
       "4  9237-hqitu  female         False      no         no       2          yes   \n",
       "\n",
       "      multiplelines internetservice onlinesecurity  ... deviceprotection  \\\n",
       "0  no_phone_service             dsl             no  ...               no   \n",
       "1                no             dsl            yes  ...              yes   \n",
       "2                no             dsl            yes  ...               no   \n",
       "3  no_phone_service             dsl            yes  ...              yes   \n",
       "4                no     fiber_optic             no  ...               no   \n",
       "\n",
       "  techsupport streamingtv streamingmovies        contract paperlessbilling  \\\n",
       "0          no          no              no  month-to-month              yes   \n",
       "1          no          no              no        one_year               no   \n",
       "2          no          no              no  month-to-month              yes   \n",
       "3         yes          no              no        one_year               no   \n",
       "4          no          no              no  month-to-month              yes   \n",
       "\n",
       "               paymentmethod monthlycharges  totalcharges  churn  \n",
       "0           electronic_check          29.85         29.85      0  \n",
       "1               mailed_check          56.95       1889.50      0  \n",
       "2               mailed_check          53.85        108.15      1  \n",
       "3  bank_transfer_(automatic)          42.30       1840.75      0  \n",
       "4           electronic_check          70.70        151.65      1  \n",
       "\n",
       "[5 rows x 21 columns]"
      ]
     },
     "execution_count": 2,
     "metadata": {},
     "output_type": "execute_result"
    }
   ],
   "source": [
    "# Read the data\n",
    "df = pd.read_csv('WA_Fn-UseC_-Telco-Customer-Churn.csv')\n",
    "\n",
    "# Standarize data formats\n",
    "df.columns = df.columns.str.lower().str.replace(' ','_')\n",
    "categCols = df.select_dtypes('object').columns.to_list()\n",
    "for col in categCols:\n",
    "    df[col] = df[col].str.lower().str.replace(' ','_')\n",
    "    \n",
    "# Correct values and type of variable totalcharges\n",
    "df.totalcharges = pd.to_numeric(df.totalcharges, errors='coerce')\n",
    "\n",
    "# Filling missing values with zero\n",
    "df.totalcharges.fillna(0, inplace=True)\n",
    "\n",
    "# Make seniorcitizen an object type variable\n",
    "df.seniorcitizen = df.seniorcitizen.astype(bool).astype(object)\n",
    "\n",
    "# Converting the target variable to binary values, no=0 or yes=1.\n",
    "df.churn = (df.churn == 'yes').astype(int)\n",
    "df.churn.head()\n",
    "\n",
    "df.head()"
   ]
  },
  {
   "cell_type": "markdown",
   "id": "680a7790",
   "metadata": {},
   "source": [
    "#### Data processing and model"
   ]
  },
  {
   "cell_type": "code",
   "execution_count": 3,
   "id": "ce6d4faa",
   "metadata": {},
   "outputs": [],
   "source": [
    "targetCol = 'churn'\n",
    "target = df[targetCol]\n",
    "data = df.drop(columns=[targetCol])"
   ]
  },
  {
   "cell_type": "code",
   "execution_count": 4,
   "id": "70ba7aed",
   "metadata": {},
   "outputs": [],
   "source": [
    "# Getting numerical and categorical columns\n",
    "from sklearn.compose import make_column_selector as selector\n",
    "numColSelector = selector(dtype_exclude=object)\n",
    "ctgColSelector = selector(dtype_include=object)\n",
    "numericalCols = numColSelector(data)\n",
    "categoricalCols = ctgColSelector(data)\n",
    "categoricalCols.remove('customerid')\n",
    "\n",
    "# creating preprocesors\n",
    "from sklearn.preprocessing import OneHotEncoder, StandardScaler\n",
    "catPreprocessor = OneHotEncoder(handle_unknown=\"ignore\")\n",
    "numPreprocessor = StandardScaler()\n",
    "\n",
    "# Transforming the data\n",
    "from sklearn.compose import ColumnTransformer\n",
    "preprocessor = ColumnTransformer([\n",
    "    ('one-hot-encoder', catPreprocessor, categoricalCols)],remainder=\"passthrough\")\n",
    "    #('one-hot-encoder', catPreprocessor, categoricalCols),\n",
    "    #('standard_scaler', numPreprocessor, numericalCols)])\n",
    "    \n",
    "# creating the model\n",
    "from sklearn.linear_model import LogisticRegression\n",
    "from sklearn.pipeline import make_pipeline\n",
    "model = make_pipeline(preprocessor, LogisticRegression(max_iter=500))    \n",
    "\n",
    "# Splitting the data\n",
    "from sklearn.model_selection import train_test_split\n",
    "allColumns = numericalCols + categoricalCols\n",
    "dataTrainFull, dataTest, targetTrainFull, targetTest = train_test_split(\n",
    "    data[allColumns], target, test_size=0.2, random_state=1)\n",
    "dataTrain, dataVal, targetTrain, targetVal = train_test_split(\n",
    "    dataTrainFull, targetTrainFull, test_size=0.25, random_state=1)\n",
    "#print(len(dataTrain), len(dataVal), len(dataTest))"
   ]
  },
  {
   "cell_type": "code",
   "execution_count": 5,
   "id": "a5c3e9da",
   "metadata": {},
   "outputs": [
    {
     "name": "stdout",
     "output_type": "stream",
     "text": [
      "Accuracy of base model: 0.803\n"
     ]
    }
   ],
   "source": [
    "_ = model.fit(dataTrain, targetTrain)\n",
    "acc = round(model.score(dataVal, targetVal),3)\n",
    "print(f'Accuracy of base model: {acc}')"
   ]
  },
  {
   "cell_type": "code",
   "execution_count": 6,
   "id": "353f8ccd",
   "metadata": {},
   "outputs": [
    {
     "data": {
      "text/plain": [
       "array([0.00775403, 0.2055377 , 0.22004259, ..., 0.14923791, 0.7831508 ,\n",
       "       0.81251385])"
      ]
     },
     "execution_count": 6,
     "metadata": {},
     "output_type": "execute_result"
    }
   ],
   "source": [
    "valPred = model.predict_proba(dataVal)[:,1]\n",
    "valPred"
   ]
  },
  {
   "cell_type": "code",
   "execution_count": 7,
   "id": "0d39c0cf",
   "metadata": {},
   "outputs": [
    {
     "data": {
      "text/plain": [
       "0.8034066713981547"
      ]
     },
     "execution_count": 7,
     "metadata": {},
     "output_type": "execute_result"
    }
   ],
   "source": [
    "from sklearn.metrics import accuracy_score\n",
    "binaryPred = model.predict(dataVal)\n",
    "accuracy_score(targetVal, binaryPred)"
   ]
  },
  {
   "cell_type": "code",
   "execution_count": 8,
   "id": "ac0cac2b",
   "metadata": {},
   "outputs": [
    {
     "name": "stdout",
     "output_type": "stream",
     "text": [
      "Threshold: 0.00, Score: 0.2740\n",
      "Threshold: 0.05, Score: 0.5082\n",
      "Threshold: 0.10, Score: 0.6011\n",
      "Threshold: 0.15, Score: 0.6636\n",
      "Threshold: 0.20, Score: 0.7069\n",
      "Threshold: 0.25, Score: 0.7388\n",
      "Threshold: 0.30, Score: 0.7601\n",
      "Threshold: 0.35, Score: 0.7665\n",
      "Threshold: 0.40, Score: 0.7828\n",
      "Threshold: 0.45, Score: 0.7942\n",
      "Threshold: 0.50, Score: 0.8034\n",
      "Threshold: 0.55, Score: 0.8020\n",
      "Threshold: 0.60, Score: 0.7977\n",
      "Threshold: 0.65, Score: 0.7864\n",
      "Threshold: 0.70, Score: 0.7658\n",
      "Threshold: 0.75, Score: 0.7431\n",
      "Threshold: 0.80, Score: 0.7289\n",
      "Threshold: 0.85, Score: 0.7260\n",
      "Threshold: 0.90, Score: 0.7260\n",
      "Threshold: 0.95, Score: 0.7260\n",
      "Threshold: 1.00, Score: 0.7260\n"
     ]
    }
   ],
   "source": [
    "thresholds = np.linspace(0, 1, 21)\n",
    "\n",
    "scores = []\n",
    "\n",
    "for t in thresholds:\n",
    "    churnPred = (valPred >= t)\n",
    "    score = (targetVal == churnPred).mean()\n",
    "    print(f'Threshold: {t:.2f}, Score: {score:.4f}')\n",
    "    scores.append(score)"
   ]
  },
  {
   "cell_type": "code",
   "execution_count": 9,
   "id": "f0893b20",
   "metadata": {},
   "outputs": [
    {
     "data": {
      "image/png": "[encoded data removed]",
      "text/plain": [
       "<Figure size 576x288 with 1 Axes>"
      ]
     },
     "metadata": {
      "needs_background": "light"
     },
     "output_type": "display_data"
    }
   ],
   "source": [
    "font = {'family': 'serif',\n",
    "        'color':  'blue',\n",
    "        'weight': 'normal',\n",
    "        'size': 16,\n",
    "        }\n",
    "\n",
    "fig, ax = plt.subplots(figsize=(8, 4))\n",
    "ax.plot(thresholds, scores, label='Score')  # Plot some data on the axes.\n",
    "ax.set_xlabel('Threshold')  # Add an x-label to the axes.\n",
    "ax.set_ylabel('Score')  # Add a y-label to the axes.\n",
    "ax.set_title(\"Score vs Threshold\")  # Add a title to the axes.\n",
    "plt.axvline(x=0.5, linestyle='dashed', color='green', label='Max Score')\n",
    "plt.axvline(x=1.0, linestyle='dashed', color='red', label='100% Churn')\n",
    "plt.axvline(x=0, linestyle='dashed', color='darkred', label='0% Churn')\n",
    "\n",
    "ax.legend();  # Add a legend.\n",
    "_ = plt.show()"
   ]
  },
  {
   "cell_type": "code",
   "execution_count": 10,
   "id": "2bfa2184",
   "metadata": {},
   "outputs": [
    {
     "name": "stdout",
     "output_type": "stream",
     "text": [
      "target: 0, count: 1023\n",
      "target: 1, count: 386\n",
      "Target 0 has almost 3 times as much samples as target 1 Total t0/t1 = 2.65\n",
      "Total mean of targetVal data is the same as the predicted by dummy predictor(when threshold == 1) = 0.7260468417317246\n"
     ]
    }
   ],
   "source": [
    "from collections import Counter\n",
    "count = Counter(targetVal)\n",
    "for i,j in count.items():\n",
    "    print(f'target: {i}, count: {j}')\n",
    "print(f'Target 0 has almost 3 times as much samples as target 1 Total t0/t1 = {round(count[0]/count[1],2)}')\n",
    "print(f'Total mean of targetVal data is the same as the predicted by dummy predictor'\n",
    "      f'(when threshold == 1) = {1 - targetVal.mean()}')"
   ]
  },
  {
   "cell_type": "markdown",
   "id": "735e71f9",
   "metadata": {},
   "source": [
    "There is class imbalace in the target values. It's almost 3 to 1. So accuracy here is not a good measure."
   ]
  },
  {
   "cell_type": "markdown",
   "id": "0cc27000",
   "metadata": {},
   "source": [
    "#### Confusion table"
   ]
  },
  {
   "cell_type": "code",
   "execution_count": 20,
   "id": "aa1513d8",
   "metadata": {},
   "outputs": [],
   "source": [
    "from sklearn.metrics import confusion_matrix, ConfusionMatrixDisplay, classification_report\n",
    "\n",
    "targetValPred = model.predict(dataVal)"
   ]
  },
  {
   "cell_type": "code",
   "execution_count": 21,
   "id": "8db89566",
   "metadata": {},
   "outputs": [
    {
     "name": "stdout",
     "output_type": "stream",
     "text": [
      "920 103 174 212\n"
     ]
    },
    {
     "data": {
      "image/png": "[encoded data removed]",
      "text/plain": [
       "<Figure size 432x288 with 2 Axes>"
      ]
     },
     "metadata": {
      "needs_background": "light"
     },
     "output_type": "display_data"
    },
    {
     "data": {
      "image/png": "[encoded data removed]",
      "text/plain": [
       "<Figure size 432x288 with 2 Axes>"
      ]
     },
     "metadata": {
      "needs_background": "light"
     },
     "output_type": "display_data"
    }
   ],
   "source": [
    "cm = confusion_matrix(targetVal, targetValPred)\n",
    "cmprob = np.round(100 * cm / len(targetVal), 1)\n",
    "cm_display = ConfusionMatrixDisplay(cm, display_labels=['No-churn', 'Churn']).plot()\n",
    "cm_display = ConfusionMatrixDisplay(cmprob, display_labels=['No-churn', 'Churn']).plot()\n",
    "tn, fp, fn, tp = cm.ravel()\n",
    "print(tn, fp, fn, tp)"
   ]
  },
  {
   "cell_type": "code",
   "execution_count": 22,
   "id": "1f6d8a2f",
   "metadata": {},
   "outputs": [
    {
     "data": {
      "text/plain": [
       "'Confusion matrix:'"
      ]
     },
     "metadata": {},
     "output_type": "display_data"
    },
    {
     "data": {
      "text/plain": [
       "array([[920, 103],\n",
       "       [174, 212]], dtype=int64)"
      ]
     },
     "metadata": {},
     "output_type": "display_data"
    },
    {
     "data": {
      "text/plain": [
       "'Percentages:'"
      ]
     },
     "metadata": {},
     "output_type": "display_data"
    },
    {
     "data": {
      "text/plain": [
       "array([[0.65, 0.07],\n",
       "       [0.12, 0.15]])"
      ]
     },
     "metadata": {},
     "output_type": "display_data"
    }
   ],
   "source": [
    "# Another way\n",
    "\n",
    "threshold = 0.5\n",
    "\n",
    "actualPos = targetVal == 1\n",
    "actualNeg = targetVal == 0\n",
    "predictPos = targetValPred >= threshold\n",
    "predictNeg = targetValPred < threshold\n",
    "\n",
    "tp = (actualPos & predictPos).sum()\n",
    "fp = (predictPos & actualNeg).sum()\n",
    "tn = (actualNeg & predictNeg).sum()\n",
    "fn = (actualPos & predictNeg).sum()\n",
    "\n",
    "confMatrix = np.array([[tn, fp],[fn, tp]])\n",
    "display('Confusion matrix:', confMatrix)\n",
    "display('Percentages:', (confMatrix/confMatrix.sum()).round(2))"
   ]
  },
  {
   "cell_type": "code",
   "execution_count": 30,
   "id": "5e896b1d",
   "metadata": {},
   "outputs": [
    {
     "name": "stdout",
     "output_type": "stream",
     "text": [
      "1409\n"
     ]
    }
   ],
   "source": [
    "targetValPred2 = (model.predict_proba(dataVal)[0:,1] > 0.5) * 1\n",
    "print((targetValPred2 == targetValPred).sum())"
   ]
  },
  {
   "cell_type": "markdown",
   "id": "751ff2cc",
   "metadata": {},
   "source": [
    "#### Precision and Recall"
   ]
  },
  {
   "cell_type": "code",
   "execution_count": 31,
   "id": "5b075d6d",
   "metadata": {},
   "outputs": [
    {
     "name": "stdout",
     "output_type": "stream",
     "text": [
      "0.67\n"
     ]
    }
   ],
   "source": [
    "# Precision: calculates the part of the predictions that was correct p = tp / (fp + tp)\n",
    "\n",
    "p = tp / (fp + tp)\n",
    "print(round(p,2))"
   ]
  },
  {
   "cell_type": "code",
   "execution_count": 32,
   "id": "65e6dd98",
   "metadata": {},
   "outputs": [
    {
     "name": "stdout",
     "output_type": "stream",
     "text": [
      "0.55\n"
     ]
    }
   ],
   "source": [
    "# Recall: calculates the part of the actual values that was predicted correct r = tp / (tp + fn)\n",
    "\n",
    "r = tp / (tp + fn)\n",
    "print(round(r,2))"
   ]
  },
  {
   "cell_type": "code",
   "execution_count": 33,
   "id": "f302cc1b",
   "metadata": {},
   "outputs": [
    {
     "name": "stdout",
     "output_type": "stream",
     "text": [
      "              precision    recall  f1-score   support\n",
      "\n",
      "           0       0.84      0.90      0.87      1023\n",
      "           1       0.67      0.55      0.60       386\n",
      "\n",
      "    accuracy                           0.80      1409\n",
      "   macro avg       0.76      0.72      0.74      1409\n",
      "weighted avg       0.79      0.80      0.80      1409\n",
      "\n"
     ]
    }
   ],
   "source": [
    "# Another way, with sklearn\n",
    "print(classification_report(targetVal, targetValPred))"
   ]
  },
  {
   "cell_type": "markdown",
   "id": "a72b9274",
   "metadata": {},
   "source": [
    "#### ROC Curves"
   ]
  },
  {
   "cell_type": "code",
   "execution_count": 34,
   "id": "ec6f63aa",
   "metadata": {},
   "outputs": [
    {
     "data": {
      "text/plain": [
       "0.5492227979274611"
      ]
     },
     "execution_count": 34,
     "metadata": {},
     "output_type": "execute_result"
    }
   ],
   "source": [
    "tpr = tp / (tp + fn)\n",
    "tpr"
   ]
  },
  {
   "cell_type": "code",
   "execution_count": 35,
   "id": "08108c5e",
   "metadata": {},
   "outputs": [
    {
     "data": {
      "text/plain": [
       "0.10068426197458455"
      ]
     },
     "execution_count": 35,
     "metadata": {},
     "output_type": "execute_result"
    }
   ],
   "source": [
    "fpr = fp / (fp + tn)\n",
    "fpr"
   ]
  },
  {
   "cell_type": "code",
   "execution_count": 39,
   "id": "a6e4a970",
   "metadata": {},
   "outputs": [],
   "source": [
    "thresholds = np.linspace(0, 1, 101)\n",
    "\n",
    "scores = []\n",
    "targetValPredProba = model.predict_proba(dataVal)[0:,1]\n",
    "\n",
    "for t in thresholds:\n",
    "    actualPos = (targetVal == 1)\n",
    "    actualNeg = (targetVal == 0)\n",
    "    predictPos = (targetValPredProba >= t)\n",
    "    predictNeg = (targetValPredProba < t)\n",
    "\n",
    "    tp = (actualPos & predictPos).sum()\n",
    "    tn = (actualNeg & predictNeg).sum()\n",
    "    \n",
    "    fp = (predictPos & actualNeg).sum()\n",
    "    fn = (actualPos & predictNeg).sum()\n",
    "    \n",
    "    scores.append((t, tp, fp, fn, tn))"
   ]
  },
  {
   "cell_type": "code",
   "execution_count": 43,
   "id": "1dc27adc",
   "metadata": {},
   "outputs": [],
   "source": [
    "columns = ['threshold', 'tp', 'fp', 'fn', 'tn']\n",
    "dfScores = pd.DataFrame(scores, columns=columns)"
   ]
  },
  {
   "cell_type": "code",
   "execution_count": 46,
   "id": "7b5a18bf",
   "metadata": {},
   "outputs": [],
   "source": [
    "dfScores['tpr'] = dfScores.tp / (dfScores.tp + dfScores.fn)\n",
    "dfScores['fpr'] = dfScores.fp / (dfScores.fp + dfScores.tn)"
   ]
  },
  {
   "cell_type": "code",
   "execution_count": 49,
   "id": "343a0859",
   "metadata": {},
   "outputs": [
    {
     "data": {
      "image/png": "[encoded data removed]",
      "text/plain": [
       "<Figure size 432x288 with 1 Axes>"
      ]
     },
     "metadata": {
      "needs_background": "light"
     },
     "output_type": "display_data"
    }
   ],
   "source": [
    "plt.plot(dfScores.threshold, dfScores.tpr, label='TPR')\n",
    "plt.plot(dfScores.threshold, dfScores.fpr, label='FPR')\n",
    "plt.legend()\n",
    "_ = plt.show()"
   ]
  },
  {
   "cell_type": "code",
   "execution_count": null,
   "id": "49db8aa6",
   "metadata": {},
   "outputs": [],
   "source": []
  }
 ],
 "metadata": {
  "kernelspec": {
   "display_name": "Python 3 (ipykernel)",
   "language": "python",
   "name": "python3"
  },
  "language_info": {
   "codemirror_mode": {
    "name": "ipython",
    "version": 3
   },
   "file_extension": ".py",
   "mimetype": "text/x-python",
   "name": "python",
   "nbconvert_exporter": "python",
   "pygments_lexer": "ipython3",
   "version": "3.9.7"
  }
 },
 "nbformat": 4,
 "nbformat_minor": 5
}
